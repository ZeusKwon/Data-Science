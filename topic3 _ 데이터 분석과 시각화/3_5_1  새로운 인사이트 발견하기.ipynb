{
 "cells": [
  {
   "cell_type": "markdown",
   "metadata": {},
   "source": [
    "# 새로운 인사이트, 연관성 발견하기"
   ]
  },
  {
   "cell_type": "code",
   "execution_count": 3,
   "metadata": {},
   "outputs": [
    {
     "data": {
      "text/html": [
       "<div>\n",
       "<style scoped>\n",
       "    .dataframe tbody tr th:only-of-type {\n",
       "        vertical-align: middle;\n",
       "    }\n",
       "\n",
       "    .dataframe tbody tr th {\n",
       "        vertical-align: top;\n",
       "    }\n",
       "\n",
       "    .dataframe thead th {\n",
       "        text-align: right;\n",
       "    }\n",
       "</style>\n",
       "<table border=\"1\" class=\"dataframe\">\n",
       "  <thead>\n",
       "    <tr style=\"text-align: right;\">\n",
       "      <th></th>\n",
       "      <th>KBS</th>\n",
       "      <th>MBC</th>\n",
       "      <th>SBS</th>\n",
       "      <th>TV CHOSUN</th>\n",
       "      <th>JTBC</th>\n",
       "      <th>Channel A</th>\n",
       "      <th>MBN</th>\n",
       "    </tr>\n",
       "  </thead>\n",
       "  <tbody>\n",
       "    <tr>\n",
       "      <th>2011</th>\n",
       "      <td>35.951</td>\n",
       "      <td>18.374</td>\n",
       "      <td>11.173</td>\n",
       "      <td>9.102</td>\n",
       "      <td>7.380</td>\n",
       "      <td>3.771</td>\n",
       "      <td>2.809</td>\n",
       "    </tr>\n",
       "    <tr>\n",
       "      <th>2012</th>\n",
       "      <td>36.163</td>\n",
       "      <td>16.022</td>\n",
       "      <td>11.408</td>\n",
       "      <td>8.785</td>\n",
       "      <td>7.878</td>\n",
       "      <td>5.874</td>\n",
       "      <td>3.310</td>\n",
       "    </tr>\n",
       "    <tr>\n",
       "      <th>2013</th>\n",
       "      <td>31.989</td>\n",
       "      <td>16.778</td>\n",
       "      <td>9.673</td>\n",
       "      <td>9.026</td>\n",
       "      <td>7.810</td>\n",
       "      <td>5.350</td>\n",
       "      <td>3.825</td>\n",
       "    </tr>\n",
       "    <tr>\n",
       "      <th>2014</th>\n",
       "      <td>31.210</td>\n",
       "      <td>15.663</td>\n",
       "      <td>9.108</td>\n",
       "      <td>9.440</td>\n",
       "      <td>7.490</td>\n",
       "      <td>5.776</td>\n",
       "      <td>4.572</td>\n",
       "    </tr>\n",
       "    <tr>\n",
       "      <th>2015</th>\n",
       "      <td>27.777</td>\n",
       "      <td>16.573</td>\n",
       "      <td>9.099</td>\n",
       "      <td>9.940</td>\n",
       "      <td>7.267</td>\n",
       "      <td>6.678</td>\n",
       "      <td>5.520</td>\n",
       "    </tr>\n",
       "    <tr>\n",
       "      <th>2016</th>\n",
       "      <td>27.583</td>\n",
       "      <td>14.982</td>\n",
       "      <td>8.669</td>\n",
       "      <td>9.829</td>\n",
       "      <td>7.727</td>\n",
       "      <td>6.624</td>\n",
       "      <td>5.477</td>\n",
       "    </tr>\n",
       "    <tr>\n",
       "      <th>2017</th>\n",
       "      <td>26.890</td>\n",
       "      <td>12.465</td>\n",
       "      <td>8.661</td>\n",
       "      <td>8.886</td>\n",
       "      <td>9.453</td>\n",
       "      <td>6.056</td>\n",
       "      <td>5.215</td>\n",
       "    </tr>\n",
       "  </tbody>\n",
       "</table>\n",
       "</div>"
      ],
      "text/plain": [
       "         KBS     MBC     SBS  TV CHOSUN   JTBC  Channel A    MBN\n",
       "2011  35.951  18.374  11.173      9.102  7.380      3.771  2.809\n",
       "2012  36.163  16.022  11.408      8.785  7.878      5.874  3.310\n",
       "2013  31.989  16.778   9.673      9.026  7.810      5.350  3.825\n",
       "2014  31.210  15.663   9.108      9.440  7.490      5.776  4.572\n",
       "2015  27.777  16.573   9.099      9.940  7.267      6.678  5.520\n",
       "2016  27.583  14.982   8.669      9.829  7.727      6.624  5.477\n",
       "2017  26.890  12.465   8.661      8.886  9.453      6.056  5.215"
      ]
     },
     "execution_count": 3,
     "metadata": {},
     "output_type": "execute_result"
    }
   ],
   "source": [
    "%matplotlib inline\n",
    "import pandas as pd\n",
    "import seaborn as sns\n",
    "\n",
    "df = pd.read_csv('C:/Users/jaewoo/Desktop/data science/data/broadcast.csv', index_col = 0)\n",
    "\n",
    "df"
   ]
  },
  {
   "cell_type": "code",
   "execution_count": 4,
   "metadata": {},
   "outputs": [
    {
     "data": {
      "text/plain": [
       "<AxesSubplot:>"
      ]
     },
     "execution_count": 4,
     "metadata": {},
     "output_type": "execute_result"
    },
    {
     "data": {
      "image/png": "[encoded data removed]",
      "text/plain": [
       "<Figure size 432x288 with 1 Axes>"
      ]
     },
     "metadata": {
      "needs_background": "light"
     },
     "output_type": "display_data"
    }
   ],
   "source": [
    "df.plot()"
   ]
  },
  {
   "cell_type": "code",
   "execution_count": 7,
   "metadata": {},
   "outputs": [
    {
     "data": {
      "text/plain": [
       "2011    88.560\n",
       "2012    89.440\n",
       "2013    84.451\n",
       "2014    83.259\n",
       "2015    82.854\n",
       "2016    80.891\n",
       "2017    77.626\n",
       "dtype: float64"
      ]
     },
     "execution_count": 7,
     "metadata": {},
     "output_type": "execute_result"
    }
   ],
   "source": [
    "df['KBS'] + df['MBC'] + df['SBS'] + df['TV CHOSUN'] + df['JTBC'] + df['Channel A'] + df['MBN']"
   ]
  },
  {
   "cell_type": "code",
   "execution_count": 8,
   "metadata": {},
   "outputs": [
    {
     "data": {
      "text/plain": [
       "2011    88.560\n",
       "2012    89.440\n",
       "2013    84.451\n",
       "2014    83.259\n",
       "2015    82.854\n",
       "2016    80.891\n",
       "2017    77.626\n",
       "dtype: float64"
      ]
     },
     "execution_count": 8,
     "metadata": {},
     "output_type": "execute_result"
    }
   ],
   "source": [
    "df.sum(axis = 'columns')"
   ]
  },
  {
   "cell_type": "code",
   "execution_count": 10,
   "metadata": {},
   "outputs": [
    {
     "data": {
      "text/html": [
       "<div>\n",
       "<style scoped>\n",
       "    .dataframe tbody tr th:only-of-type {\n",
       "        vertical-align: middle;\n",
       "    }\n",
       "\n",
       "    .dataframe tbody tr th {\n",
       "        vertical-align: top;\n",
       "    }\n",
       "\n",
       "    .dataframe thead th {\n",
       "        text-align: right;\n",
       "    }\n",
       "</style>\n",
       "<table border=\"1\" class=\"dataframe\">\n",
       "  <thead>\n",
       "    <tr style=\"text-align: right;\">\n",
       "      <th></th>\n",
       "      <th>KBS</th>\n",
       "      <th>MBC</th>\n",
       "      <th>SBS</th>\n",
       "      <th>TV CHOSUN</th>\n",
       "      <th>JTBC</th>\n",
       "      <th>Channel A</th>\n",
       "      <th>MBN</th>\n",
       "      <th>Total</th>\n",
       "    </tr>\n",
       "  </thead>\n",
       "  <tbody>\n",
       "    <tr>\n",
       "      <th>2011</th>\n",
       "      <td>35.951</td>\n",
       "      <td>18.374</td>\n",
       "      <td>11.173</td>\n",
       "      <td>9.102</td>\n",
       "      <td>7.380</td>\n",
       "      <td>3.771</td>\n",
       "      <td>2.809</td>\n",
       "      <td>177.120</td>\n",
       "    </tr>\n",
       "    <tr>\n",
       "      <th>2012</th>\n",
       "      <td>36.163</td>\n",
       "      <td>16.022</td>\n",
       "      <td>11.408</td>\n",
       "      <td>8.785</td>\n",
       "      <td>7.878</td>\n",
       "      <td>5.874</td>\n",
       "      <td>3.310</td>\n",
       "      <td>178.880</td>\n",
       "    </tr>\n",
       "    <tr>\n",
       "      <th>2013</th>\n",
       "      <td>31.989</td>\n",
       "      <td>16.778</td>\n",
       "      <td>9.673</td>\n",
       "      <td>9.026</td>\n",
       "      <td>7.810</td>\n",
       "      <td>5.350</td>\n",
       "      <td>3.825</td>\n",
       "      <td>168.902</td>\n",
       "    </tr>\n",
       "    <tr>\n",
       "      <th>2014</th>\n",
       "      <td>31.210</td>\n",
       "      <td>15.663</td>\n",
       "      <td>9.108</td>\n",
       "      <td>9.440</td>\n",
       "      <td>7.490</td>\n",
       "      <td>5.776</td>\n",
       "      <td>4.572</td>\n",
       "      <td>166.518</td>\n",
       "    </tr>\n",
       "    <tr>\n",
       "      <th>2015</th>\n",
       "      <td>27.777</td>\n",
       "      <td>16.573</td>\n",
       "      <td>9.099</td>\n",
       "      <td>9.940</td>\n",
       "      <td>7.267</td>\n",
       "      <td>6.678</td>\n",
       "      <td>5.520</td>\n",
       "      <td>165.708</td>\n",
       "    </tr>\n",
       "    <tr>\n",
       "      <th>2016</th>\n",
       "      <td>27.583</td>\n",
       "      <td>14.982</td>\n",
       "      <td>8.669</td>\n",
       "      <td>9.829</td>\n",
       "      <td>7.727</td>\n",
       "      <td>6.624</td>\n",
       "      <td>5.477</td>\n",
       "      <td>161.782</td>\n",
       "    </tr>\n",
       "    <tr>\n",
       "      <th>2017</th>\n",
       "      <td>26.890</td>\n",
       "      <td>12.465</td>\n",
       "      <td>8.661</td>\n",
       "      <td>8.886</td>\n",
       "      <td>9.453</td>\n",
       "      <td>6.056</td>\n",
       "      <td>5.215</td>\n",
       "      <td>155.252</td>\n",
       "    </tr>\n",
       "  </tbody>\n",
       "</table>\n",
       "</div>"
      ],
      "text/plain": [
       "         KBS     MBC     SBS  TV CHOSUN   JTBC  Channel A    MBN    Total\n",
       "2011  35.951  18.374  11.173      9.102  7.380      3.771  2.809  177.120\n",
       "2012  36.163  16.022  11.408      8.785  7.878      5.874  3.310  178.880\n",
       "2013  31.989  16.778   9.673      9.026  7.810      5.350  3.825  168.902\n",
       "2014  31.210  15.663   9.108      9.440  7.490      5.776  4.572  166.518\n",
       "2015  27.777  16.573   9.099      9.940  7.267      6.678  5.520  165.708\n",
       "2016  27.583  14.982   8.669      9.829  7.727      6.624  5.477  161.782\n",
       "2017  26.890  12.465   8.661      8.886  9.453      6.056  5.215  155.252"
      ]
     },
     "execution_count": 10,
     "metadata": {},
     "output_type": "execute_result"
    }
   ],
   "source": [
    "df['Total'] = df.sum(axis = 'columns')\n",
    "df"
   ]
  },
  {
   "cell_type": "code",
   "execution_count": 11,
   "metadata": {},
   "outputs": [
    {
     "data": {
      "text/plain": [
       "<AxesSubplot:>"
      ]
     },
     "execution_count": 11,
     "metadata": {},
     "output_type": "execute_result"
    },
    {
     "data": {
      "image/png": "[encoded data removed]",
      "text/plain": [
       "<Figure size 432x288 with 1 Axes>"
      ]
     },
     "metadata": {
      "needs_background": "light"
     },
     "output_type": "display_data"
    }
   ],
   "source": [
    "df.plot(y = 'Total')"
   ]
  },
  {
   "cell_type": "markdown",
   "metadata": {},
   "source": [
    "- 새로운 데이터 Total을 활용해서 총 시청율이 계속 떨어진다는 것을 알 수 있음"
   ]
  },
  {
   "cell_type": "code",
   "execution_count": 16,
   "metadata": {},
   "outputs": [
    {
     "data": {
      "text/html": [
       "<div>\n",
       "<style scoped>\n",
       "    .dataframe tbody tr th:only-of-type {\n",
       "        vertical-align: middle;\n",
       "    }\n",
       "\n",
       "    .dataframe tbody tr th {\n",
       "        vertical-align: top;\n",
       "    }\n",
       "\n",
       "    .dataframe thead th {\n",
       "        text-align: right;\n",
       "    }\n",
       "</style>\n",
       "<table border=\"1\" class=\"dataframe\">\n",
       "  <thead>\n",
       "    <tr style=\"text-align: right;\">\n",
       "      <th></th>\n",
       "      <th>KBS</th>\n",
       "      <th>MBC</th>\n",
       "      <th>SBS</th>\n",
       "      <th>TV CHOSUN</th>\n",
       "      <th>JTBC</th>\n",
       "      <th>Channel A</th>\n",
       "      <th>MBN</th>\n",
       "      <th>Total</th>\n",
       "      <th>Group 1</th>\n",
       "      <th>Group 2</th>\n",
       "    </tr>\n",
       "  </thead>\n",
       "  <tbody>\n",
       "    <tr>\n",
       "      <th>2011</th>\n",
       "      <td>35.951</td>\n",
       "      <td>18.374</td>\n",
       "      <td>11.173</td>\n",
       "      <td>9.102</td>\n",
       "      <td>7.380</td>\n",
       "      <td>3.771</td>\n",
       "      <td>2.809</td>\n",
       "      <td>177.120</td>\n",
       "      <td>65.498</td>\n",
       "      <td>23.062</td>\n",
       "    </tr>\n",
       "    <tr>\n",
       "      <th>2012</th>\n",
       "      <td>36.163</td>\n",
       "      <td>16.022</td>\n",
       "      <td>11.408</td>\n",
       "      <td>8.785</td>\n",
       "      <td>7.878</td>\n",
       "      <td>5.874</td>\n",
       "      <td>3.310</td>\n",
       "      <td>178.880</td>\n",
       "      <td>63.593</td>\n",
       "      <td>25.847</td>\n",
       "    </tr>\n",
       "    <tr>\n",
       "      <th>2013</th>\n",
       "      <td>31.989</td>\n",
       "      <td>16.778</td>\n",
       "      <td>9.673</td>\n",
       "      <td>9.026</td>\n",
       "      <td>7.810</td>\n",
       "      <td>5.350</td>\n",
       "      <td>3.825</td>\n",
       "      <td>168.902</td>\n",
       "      <td>58.440</td>\n",
       "      <td>26.011</td>\n",
       "    </tr>\n",
       "    <tr>\n",
       "      <th>2014</th>\n",
       "      <td>31.210</td>\n",
       "      <td>15.663</td>\n",
       "      <td>9.108</td>\n",
       "      <td>9.440</td>\n",
       "      <td>7.490</td>\n",
       "      <td>5.776</td>\n",
       "      <td>4.572</td>\n",
       "      <td>166.518</td>\n",
       "      <td>55.981</td>\n",
       "      <td>27.278</td>\n",
       "    </tr>\n",
       "    <tr>\n",
       "      <th>2015</th>\n",
       "      <td>27.777</td>\n",
       "      <td>16.573</td>\n",
       "      <td>9.099</td>\n",
       "      <td>9.940</td>\n",
       "      <td>7.267</td>\n",
       "      <td>6.678</td>\n",
       "      <td>5.520</td>\n",
       "      <td>165.708</td>\n",
       "      <td>53.449</td>\n",
       "      <td>29.405</td>\n",
       "    </tr>\n",
       "    <tr>\n",
       "      <th>2016</th>\n",
       "      <td>27.583</td>\n",
       "      <td>14.982</td>\n",
       "      <td>8.669</td>\n",
       "      <td>9.829</td>\n",
       "      <td>7.727</td>\n",
       "      <td>6.624</td>\n",
       "      <td>5.477</td>\n",
       "      <td>161.782</td>\n",
       "      <td>51.234</td>\n",
       "      <td>29.657</td>\n",
       "    </tr>\n",
       "    <tr>\n",
       "      <th>2017</th>\n",
       "      <td>26.890</td>\n",
       "      <td>12.465</td>\n",
       "      <td>8.661</td>\n",
       "      <td>8.886</td>\n",
       "      <td>9.453</td>\n",
       "      <td>6.056</td>\n",
       "      <td>5.215</td>\n",
       "      <td>155.252</td>\n",
       "      <td>48.016</td>\n",
       "      <td>29.610</td>\n",
       "    </tr>\n",
       "  </tbody>\n",
       "</table>\n",
       "</div>"
      ],
      "text/plain": [
       "         KBS     MBC     SBS  TV CHOSUN   JTBC  Channel A    MBN    Total  \\\n",
       "2011  35.951  18.374  11.173      9.102  7.380      3.771  2.809  177.120   \n",
       "2012  36.163  16.022  11.408      8.785  7.878      5.874  3.310  178.880   \n",
       "2013  31.989  16.778   9.673      9.026  7.810      5.350  3.825  168.902   \n",
       "2014  31.210  15.663   9.108      9.440  7.490      5.776  4.572  166.518   \n",
       "2015  27.777  16.573   9.099      9.940  7.267      6.678  5.520  165.708   \n",
       "2016  27.583  14.982   8.669      9.829  7.727      6.624  5.477  161.782   \n",
       "2017  26.890  12.465   8.661      8.886  9.453      6.056  5.215  155.252   \n",
       "\n",
       "      Group 1  Group 2  \n",
       "2011   65.498   23.062  \n",
       "2012   63.593   25.847  \n",
       "2013   58.440   26.011  \n",
       "2014   55.981   27.278  \n",
       "2015   53.449   29.405  \n",
       "2016   51.234   29.657  \n",
       "2017   48.016   29.610  "
      ]
     },
     "execution_count": 16,
     "metadata": {},
     "output_type": "execute_result"
    }
   ],
   "source": [
    "df['Group 1'] = df.loc[:, 'KBS':'SBS'].sum(axis='columns')\n",
    "df['Group 2'] = df.loc[:, 'TV CHOSUN':'MBN'].sum(axis='columns')\n",
    "df"
   ]
  },
  {
   "cell_type": "code",
   "execution_count": 17,
   "metadata": {},
   "outputs": [
    {
     "data": {
      "text/plain": [
       "<AxesSubplot:>"
      ]
     },
     "execution_count": 17,
     "metadata": {},
     "output_type": "execute_result"
    },
    {
     "data": {
      "image/png": "[encoded data removed]",
      "text/plain": [
       "<Figure size 432x288 with 1 Axes>"
      ]
     },
     "metadata": {
      "needs_background": "light"
     },
     "output_type": "display_data"
    }
   ],
   "source": [
    "df.plot(y = ['Group 1', 'Group 2'])"
   ]
  },
  {
   "cell_type": "markdown",
   "metadata": {},
   "source": [
    "- 전체 시청률은 떨어지지만 종편은 오히려 시청률이 올라가고 있음"
   ]
  }
 ],
 "metadata": {
  "kernelspec": {
   "display_name": "Python 3",
   "language": "python",
   "name": "python3"
  },
  "language_info": {
   "codemirror_mode": {
    "name": "ipython",
    "version": 3
   },
   "file_extension": ".py",
   "mimetype": "text/x-python",
   "name": "python",
   "nbconvert_exporter": "python",
   "pygments_lexer": "ipython3",
   "version": "3.8.5"
  }
 },
 "nbformat": 4,
 "nbformat_minor": 4
}
