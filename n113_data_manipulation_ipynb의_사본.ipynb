{
  "nbformat": 4,
  "nbformat_minor": 0,
  "metadata": {
    "colab": {
      "name": "n113_data-manipulation.ipynb의 사본",
      "provenance": [],
      "collapsed_sections": [
        "edtsS3OAsjxo",
        "apckmuWOtsVq",
        "6o70ZcVzvNvI",
        "l4MtnLXQxG4n",
        "eFKLqye1yPS_",
        "85tBOB1Dy2Ym",
        "aROPEtieidav",
        "u2Gony2zjNrs",
        "levwXOBKjx6V",
        "pNWeb-NPlD8C",
        "B4rXf0kflr19",
        "83E3jEB9mZPT",
        "ZiJ0lgUInTxw",
        "CU0SnlTYniD_",
        "UQqT5ie4vdDS",
        "b_gXHprXvqVx",
        "mPVHZevR04pV",
        "J6ej2dp8OwTd",
        "1CdRaWn7PGoK",
        "QIgxXomn7iHC",
        "s4HJtFKBcFlk",
        "AdIvZpXPWqR1",
        "k8YGJ8Wm1AG3",
        "1SuPP5b0D2u1",
        "17PV3bEtz449",
        "259BJMJ43Ka5",
        "_txzKDIWEUoN",
        "1Bs_N9QnjBhz",
        "UchPLXt8G_tp",
        "_2C7qFHrJ7DH",
        "xTz5WPngz5BA",
        "rUL61OCE06Dd",
        "QcT6AXXIN6Dl",
        "9H9XAmbTz5D6",
        "9s42XuCqBN86",
        "UuFviZYbBebc",
        "346ZYlh7vsbx"
      ],
      "include_colab_link": true
    },
    "kernelspec": {
      "display_name": "Python 3",
      "language": "python",
      "name": "python3"
    },
    "language_info": {
      "codemirror_mode": {
        "name": "ipython",
        "version": 3
      },
      "file_extension": ".py",
      "mimetype": "text/x-python",
      "name": "python",
      "nbconvert_exporter": "python",
      "pygments_lexer": "ipython3",
      "version": "3.8.5"
    }
  },
  "cells": [
    {
      "cell_type": "markdown",
      "metadata": {
        "id": "view-in-github",
        "colab_type": "text"
      },
      "source": [
        "<a href=\"https://colab.research.google.com/github/ZeusKwon/Data-Science/blob/main/n113_data_manipulation_ipynb%EC%9D%98_%EC%82%AC%EB%B3%B8.ipynb\" target=\"_parent\"><img src=\"https://colab.research.google.com/assets/colab-badge.svg\" alt=\"Open In Colab\"/></a>"
      ]
    },
    {
      "cell_type": "markdown",
      "metadata": {
        "id": "D1eUl_TCpeRi"
      },
      "source": [
        "# **[warm-up] 자주사용하는 pandas tricks 정리**"
      ]
    },
    {
      "cell_type": "code",
      "metadata": {
        "id": "LT8236lmpdE3"
      },
      "source": [
        "import pandas as pd\n",
        "import numpy as np"
      ],
      "execution_count": 39,
      "outputs": []
    },
    {
      "cell_type": "code",
      "metadata": {
        "id": "pkAcA-GXksmv"
      },
      "source": [
        "drinks = pd.read_csv('http://bit.ly/drinksbycountry')\n",
        "movies = pd.read_csv('http://bit.ly/imdbratings')\n",
        "orders = pd.read_csv('http://bit.ly/chiporders', sep='\\t')\n",
        "orders['item_price'] = orders.item_price.str.replace('$', '').astype('float')\n",
        "stocks = pd.read_csv('http://bit.ly/smallstocks', parse_dates=['Date'])\n",
        "titanic = pd.read_csv('http://bit.ly/kaggletrain')\n",
        "ufo = pd.read_csv('http://bit.ly/uforeports', parse_dates=['Time'])"
      ],
      "execution_count": 40,
      "outputs": []
    },
    {
      "cell_type": "code",
      "metadata": {
        "colab": {
          "base_uri": "https://localhost:8080/",
          "height": 343
        },
        "id": "hLmy3Sews7nb",
        "outputId": "5a738141-49a1-450a-883f-d485d6fb6918"
      },
      "source": [
        "url = 'https://ds-lecture-data.s3.ap-northeast-2.amazonaws.com/kt%26g/kt%26g_0.csv'\n",
        "headers = ['분기', '매출액', '영업이익', '영업이익(발표기준)', '세전계속사업이익',\n",
        "           '당기순이익', '당기순이익(지배)', '당기순이익(비지배)', '자산총계', '부채총계',\n",
        "           '자본총계', '자본총계(지배)', '자본총계(비지배)', '자본금', '영업활동현금흐름',\n",
        "           '투자활동현금흐름', '재무활동현금흐름', '영업이익률', '순이익률', 'ROE(%)',\n",
        "           'ROA(%)', '부채비율', '자본유보율', 'EPS(원)', 'PER(배)']\n",
        "import pandas as pd\n",
        "\n",
        "df_test = pd.read_csv(url, names = headers)\n",
        "\n",
        "df_test"
      ],
      "execution_count": 41,
      "outputs": [
        {
          "output_type": "execute_result",
          "data": {
            "text/html": [
              "<div>\n",
              "<style scoped>\n",
              "    .dataframe tbody tr th:only-of-type {\n",
              "        vertical-align: middle;\n",
              "    }\n",
              "\n",
              "    .dataframe tbody tr th {\n",
              "        vertical-align: top;\n",
              "    }\n",
              "\n",
              "    .dataframe thead th {\n",
              "        text-align: right;\n",
              "    }\n",
              "</style>\n",
              "<table border=\"1\" class=\"dataframe\">\n",
              "  <thead>\n",
              "    <tr style=\"text-align: right;\">\n",
              "      <th></th>\n",
              "      <th>분기</th>\n",
              "      <th>매출액</th>\n",
              "      <th>영업이익</th>\n",
              "      <th>영업이익(발표기준)</th>\n",
              "      <th>세전계속사업이익</th>\n",
              "      <th>당기순이익</th>\n",
              "      <th>당기순이익(지배)</th>\n",
              "      <th>당기순이익(비지배)</th>\n",
              "      <th>자산총계</th>\n",
              "      <th>부채총계</th>\n",
              "      <th>자본총계</th>\n",
              "      <th>자본총계(지배)</th>\n",
              "      <th>자본총계(비지배)</th>\n",
              "      <th>자본금</th>\n",
              "      <th>영업활동현금흐름</th>\n",
              "      <th>투자활동현금흐름</th>\n",
              "      <th>재무활동현금흐름</th>\n",
              "      <th>영업이익률</th>\n",
              "      <th>순이익률</th>\n",
              "      <th>ROE(%)</th>\n",
              "      <th>ROA(%)</th>\n",
              "      <th>부채비율</th>\n",
              "      <th>자본유보율</th>\n",
              "      <th>EPS(원)</th>\n",
              "      <th>PER(배)</th>\n",
              "    </tr>\n",
              "  </thead>\n",
              "  <tbody>\n",
              "    <tr>\n",
              "      <th>0</th>\n",
              "      <td>19/6</td>\n",
              "      <td>12,578</td>\n",
              "      <td>3,991</td>\n",
              "      <td>3,991</td>\n",
              "      <td>4,452</td>\n",
              "      <td>3,245</td>\n",
              "      <td>3,228</td>\n",
              "      <td>17</td>\n",
              "      <td>108,464</td>\n",
              "      <td>25,940</td>\n",
              "      <td>82,524</td>\n",
              "      <td>81,965</td>\n",
              "      <td>NaN</td>\n",
              "      <td>9,550</td>\n",
              "      <td>4,641</td>\n",
              "      <td>-1,878</td>\n",
              "      <td>-4,919</td>\n",
              "      <td>31.73</td>\n",
              "      <td>25.80</td>\n",
              "      <td>12.35</td>\n",
              "      <td>9.37</td>\n",
              "      <td>31.43</td>\n",
              "      <td>803.22</td>\n",
              "      <td>2,351</td>\n",
              "      <td>13.77</td>\n",
              "    </tr>\n",
              "    <tr>\n",
              "      <th>1</th>\n",
              "      <td>19/9</td>\n",
              "      <td>13,222</td>\n",
              "      <td>3,825</td>\n",
              "      <td>3,825</td>\n",
              "      <td>4,503</td>\n",
              "      <td>3,221</td>\n",
              "      <td>3,208</td>\n",
              "      <td>13</td>\n",
              "      <td>106,314</td>\n",
              "      <td>20,691</td>\n",
              "      <td>85,623</td>\n",
              "      <td>85,049</td>\n",
              "      <td>NaN</td>\n",
              "      <td>9,550</td>\n",
              "      <td>-2,278</td>\n",
              "      <td>-83</td>\n",
              "      <td>-329</td>\n",
              "      <td>28.93</td>\n",
              "      <td>24.36</td>\n",
              "      <td>12.67</td>\n",
              "      <td>9.95</td>\n",
              "      <td>24.17</td>\n",
              "      <td>836.86</td>\n",
              "      <td>2,337</td>\n",
              "      <td>13.87</td>\n",
              "    </tr>\n",
              "    <tr>\n",
              "      <th>2</th>\n",
              "      <td>19/12</td>\n",
              "      <td>11,982</td>\n",
              "      <td>2,523</td>\n",
              "      <td>2,523</td>\n",
              "      <td>1,794</td>\n",
              "      <td>1,183</td>\n",
              "      <td>1,198</td>\n",
              "      <td>-15</td>\n",
              "      <td>107,121</td>\n",
              "      <td>20,062</td>\n",
              "      <td>87,059</td>\n",
              "      <td>86,506</td>\n",
              "      <td>NaN</td>\n",
              "      <td>9,550</td>\n",
              "      <td>837</td>\n",
              "      <td>-501</td>\n",
              "      <td>-129</td>\n",
              "      <td>21.06</td>\n",
              "      <td>9.87</td>\n",
              "      <td>12.39</td>\n",
              "      <td>9.96</td>\n",
              "      <td>23.04</td>\n",
              "      <td>850.82</td>\n",
              "      <td>873</td>\n",
              "      <td>12.42</td>\n",
              "    </tr>\n",
              "    <tr>\n",
              "      <th>3</th>\n",
              "      <td>20/3</td>\n",
              "      <td>11,784</td>\n",
              "      <td>3,150</td>\n",
              "      <td>3,150</td>\n",
              "      <td>4,156</td>\n",
              "      <td>2,939</td>\n",
              "      <td>2,930</td>\n",
              "      <td>9</td>\n",
              "      <td>108,594</td>\n",
              "      <td>24,862</td>\n",
              "      <td>83,732</td>\n",
              "      <td>83,170</td>\n",
              "      <td>562.0</td>\n",
              "      <td>9,550</td>\n",
              "      <td>2,336</td>\n",
              "      <td>-1,392</td>\n",
              "      <td>-86</td>\n",
              "      <td>26.73</td>\n",
              "      <td>24.94</td>\n",
              "      <td>13.05</td>\n",
              "      <td>9.79</td>\n",
              "      <td>29.69</td>\n",
              "      <td>823.16</td>\n",
              "      <td>2,134</td>\n",
              "      <td>9.71</td>\n",
              "    </tr>\n",
              "    <tr>\n",
              "      <th>4</th>\n",
              "      <td>20/6</td>\n",
              "      <td>13,188</td>\n",
              "      <td>3,947</td>\n",
              "      <td>3,947</td>\n",
              "      <td>4,020</td>\n",
              "      <td>2,935</td>\n",
              "      <td>2,931</td>\n",
              "      <td>4</td>\n",
              "      <td>110,282</td>\n",
              "      <td>23,386</td>\n",
              "      <td>86,896</td>\n",
              "      <td>86,330</td>\n",
              "      <td>566.0</td>\n",
              "      <td>9,550</td>\n",
              "      <td>7,855</td>\n",
              "      <td>-214</td>\n",
              "      <td>-5,501</td>\n",
              "      <td>29.93</td>\n",
              "      <td>22.25</td>\n",
              "      <td>12.20</td>\n",
              "      <td>9.40</td>\n",
              "      <td>26.91</td>\n",
              "      <td>837.40</td>\n",
              "      <td>2,135</td>\n",
              "      <td>10.46</td>\n",
              "    </tr>\n",
              "  </tbody>\n",
              "</table>\n",
              "</div>"
            ],
            "text/plain": [
              "      분기     매출액   영업이익 영업이익(발표기준)  ...   부채비율   자본유보율 EPS(원)  PER(배)\n",
              "0   19/6  12,578  3,991      3,991  ...  31.43  803.22  2,351   13.77\n",
              "1   19/9  13,222  3,825      3,825  ...  24.17  836.86  2,337   13.87\n",
              "2  19/12  11,982  2,523      2,523  ...  23.04  850.82    873   12.42\n",
              "3   20/3  11,784  3,150      3,150  ...  29.69  823.16  2,134    9.71\n",
              "4   20/6  13,188  3,947      3,947  ...  26.91  837.40  2,135   10.46\n",
              "\n",
              "[5 rows x 25 columns]"
            ]
          },
          "metadata": {
            "tags": []
          },
          "execution_count": 41
        }
      ]
    },
    {
      "cell_type": "markdown",
      "metadata": {
        "id": "mUr3x4pFp_ac"
      },
      "source": [
        "### 1. show installed versions\n",
        "\n"
      ]
    },
    {
      "cell_type": "code",
      "metadata": {
        "colab": {
          "base_uri": "https://localhost:8080/",
          "height": 35
        },
        "id": "FjoHxLBhpbzH",
        "outputId": "4f268575-b4f0-46de-8514-a7c3714a9e1c"
      },
      "source": [
        "# pandas의 버전을 확인\n",
        "pd.__version__"
      ],
      "execution_count": 42,
      "outputs": [
        {
          "output_type": "execute_result",
          "data": {
            "application/vnd.google.colaboratory.intrinsic+json": {
              "type": "string"
            },
            "text/plain": [
              "'1.1.5'"
            ]
          },
          "metadata": {
            "tags": []
          },
          "execution_count": 42
        }
      ]
    },
    {
      "cell_type": "code",
      "metadata": {
        "id": "43onXdL6qOU_",
        "colab": {
          "base_uri": "https://localhost:8080/"
        },
        "outputId": "f04309c5-d89d-4eb2-a2f2-2a9447d7ac3b"
      },
      "source": [
        "# 모든 설치 버전을 확인\n",
        "pd.show_versions()"
      ],
      "execution_count": 43,
      "outputs": [
        {
          "output_type": "stream",
          "text": [
            "/usr/local/lib/python3.7/dist-packages/psycopg2/__init__.py:144: UserWarning: The psycopg2 wheel package will be renamed from release 2.8; in order to keep installing from binary please use \"pip install psycopg2-binary\" instead. For details see: <http://initd.org/psycopg/docs/install.html#binary-install-from-pypi>.\n",
            "  \"\"\")\n"
          ],
          "name": "stderr"
        },
        {
          "output_type": "stream",
          "text": [
            "\n",
            "INSTALLED VERSIONS\n",
            "------------------\n",
            "commit           : b5958ee1999e9aead1938c0bba2b674378807b3d\n",
            "python           : 3.7.10.final.0\n",
            "python-bits      : 64\n",
            "OS               : Linux\n",
            "OS-release       : 4.19.112+\n",
            "Version          : #1 SMP Thu Jul 23 08:00:38 PDT 2020\n",
            "machine          : x86_64\n",
            "processor        : x86_64\n",
            "byteorder        : little\n",
            "LC_ALL           : None\n",
            "LANG             : en_US.UTF-8\n",
            "LOCALE           : en_US.UTF-8\n",
            "\n",
            "pandas           : 1.1.5\n",
            "numpy            : 1.19.5\n",
            "pytz             : 2018.9\n",
            "dateutil         : 2.8.1\n",
            "pip              : 19.3.1\n",
            "setuptools       : 56.1.0\n",
            "Cython           : 0.29.22\n",
            "pytest           : 3.6.4\n",
            "hypothesis       : None\n",
            "sphinx           : 1.8.5\n",
            "blosc            : None\n",
            "feather          : 0.4.1\n",
            "xlsxwriter       : None\n",
            "lxml.etree       : 4.2.6\n",
            "html5lib         : 1.0.1\n",
            "pymysql          : None\n",
            "psycopg2         : 2.7.6.1 (dt dec pq3 ext lo64)\n",
            "jinja2           : 2.11.3\n",
            "IPython          : 5.5.0\n",
            "pandas_datareader: 0.9.0\n",
            "bs4              : 4.6.3\n",
            "bottleneck       : 1.3.2\n",
            "fsspec           : None\n",
            "fastparquet      : None\n",
            "gcsfs            : None\n",
            "matplotlib       : 3.2.2\n",
            "numexpr          : 2.7.3\n",
            "odfpy            : None\n",
            "openpyxl         : 2.5.9\n",
            "pandas_gbq       : 0.13.3\n",
            "pyarrow          : 3.0.0\n",
            "pytables         : None\n",
            "pyxlsb           : None\n",
            "s3fs             : None\n",
            "scipy            : 1.4.1\n",
            "sqlalchemy       : 1.4.7\n",
            "tables           : 3.4.4\n",
            "tabulate         : 0.8.9\n",
            "xarray           : 0.15.1\n",
            "xlrd             : 1.1.0\n",
            "xlwt             : 1.3.0\n",
            "numba            : 0.51.2\n"
          ],
          "name": "stdout"
        }
      ]
    },
    {
      "cell_type": "markdown",
      "metadata": {
        "id": "ds1B1heXqcBd"
      },
      "source": [
        "### 2. Create an example DataFrame"
      ]
    },
    {
      "cell_type": "code",
      "metadata": {
        "colab": {
          "base_uri": "https://localhost:8080/",
          "height": 111
        },
        "id": "dcGn_-6VqQLm",
        "outputId": "d467163d-d333-45e0-a05c-a29ef9e8a358"
      },
      "source": [
        "# 데이터프레임 생성\n",
        "df = pd.DataFrame({'col one':[100,200], 'col two':[300,400]})\n",
        "df"
      ],
      "execution_count": null,
      "outputs": [
        {
          "output_type": "execute_result",
          "data": {
            "text/html": [
              "<div>\n",
              "<style scoped>\n",
              "    .dataframe tbody tr th:only-of-type {\n",
              "        vertical-align: middle;\n",
              "    }\n",
              "\n",
              "    .dataframe tbody tr th {\n",
              "        vertical-align: top;\n",
              "    }\n",
              "\n",
              "    .dataframe thead th {\n",
              "        text-align: right;\n",
              "    }\n",
              "</style>\n",
              "<table border=\"1\" class=\"dataframe\">\n",
              "  <thead>\n",
              "    <tr style=\"text-align: right;\">\n",
              "      <th></th>\n",
              "      <th>col one</th>\n",
              "      <th>col two</th>\n",
              "    </tr>\n",
              "  </thead>\n",
              "  <tbody>\n",
              "    <tr>\n",
              "      <th>0</th>\n",
              "      <td>100</td>\n",
              "      <td>300</td>\n",
              "    </tr>\n",
              "    <tr>\n",
              "      <th>1</th>\n",
              "      <td>200</td>\n",
              "      <td>400</td>\n",
              "    </tr>\n",
              "  </tbody>\n",
              "</table>\n",
              "</div>"
            ],
            "text/plain": [
              "   col one  col two\n",
              "0      100      300\n",
              "1      200      400"
            ]
          },
          "metadata": {
            "tags": []
          },
          "execution_count": 10
        }
      ]
    },
    {
      "cell_type": "code",
      "metadata": {
        "colab": {
          "base_uri": "https://localhost:8080/",
          "height": 173
        },
        "id": "2LaLW4LDquJD",
        "outputId": "e267d889-ada5-4133-bf5d-ffa9122e27b8"
      },
      "source": [
        "# 4X8인 데이터 프레임을 랜덤인 수로 생성\n",
        "pd.DataFrame(np.random.rand(4,8))"
      ],
      "execution_count": null,
      "outputs": [
        {
          "output_type": "execute_result",
          "data": {
            "text/html": [
              "<div>\n",
              "<style scoped>\n",
              "    .dataframe tbody tr th:only-of-type {\n",
              "        vertical-align: middle;\n",
              "    }\n",
              "\n",
              "    .dataframe tbody tr th {\n",
              "        vertical-align: top;\n",
              "    }\n",
              "\n",
              "    .dataframe thead th {\n",
              "        text-align: right;\n",
              "    }\n",
              "</style>\n",
              "<table border=\"1\" class=\"dataframe\">\n",
              "  <thead>\n",
              "    <tr style=\"text-align: right;\">\n",
              "      <th></th>\n",
              "      <th>0</th>\n",
              "      <th>1</th>\n",
              "      <th>2</th>\n",
              "      <th>3</th>\n",
              "      <th>4</th>\n",
              "      <th>5</th>\n",
              "      <th>6</th>\n",
              "      <th>7</th>\n",
              "    </tr>\n",
              "  </thead>\n",
              "  <tbody>\n",
              "    <tr>\n",
              "      <th>0</th>\n",
              "      <td>0.587444</td>\n",
              "      <td>0.434059</td>\n",
              "      <td>0.252389</td>\n",
              "      <td>0.379274</td>\n",
              "      <td>0.631448</td>\n",
              "      <td>0.184214</td>\n",
              "      <td>0.051949</td>\n",
              "      <td>0.459646</td>\n",
              "    </tr>\n",
              "    <tr>\n",
              "      <th>1</th>\n",
              "      <td>0.379674</td>\n",
              "      <td>0.296575</td>\n",
              "      <td>0.092817</td>\n",
              "      <td>0.385455</td>\n",
              "      <td>0.134666</td>\n",
              "      <td>0.620685</td>\n",
              "      <td>0.647754</td>\n",
              "      <td>0.303707</td>\n",
              "    </tr>\n",
              "    <tr>\n",
              "      <th>2</th>\n",
              "      <td>0.414809</td>\n",
              "      <td>0.754432</td>\n",
              "      <td>0.020765</td>\n",
              "      <td>0.888829</td>\n",
              "      <td>0.995600</td>\n",
              "      <td>0.945617</td>\n",
              "      <td>0.730726</td>\n",
              "      <td>0.764283</td>\n",
              "    </tr>\n",
              "    <tr>\n",
              "      <th>3</th>\n",
              "      <td>0.012780</td>\n",
              "      <td>0.168933</td>\n",
              "      <td>0.140260</td>\n",
              "      <td>0.742172</td>\n",
              "      <td>0.450126</td>\n",
              "      <td>0.105764</td>\n",
              "      <td>0.031287</td>\n",
              "      <td>0.751827</td>\n",
              "    </tr>\n",
              "  </tbody>\n",
              "</table>\n",
              "</div>"
            ],
            "text/plain": [
              "          0         1         2  ...         5         6         7\n",
              "0  0.587444  0.434059  0.252389  ...  0.184214  0.051949  0.459646\n",
              "1  0.379674  0.296575  0.092817  ...  0.620685  0.647754  0.303707\n",
              "2  0.414809  0.754432  0.020765  ...  0.945617  0.730726  0.764283\n",
              "3  0.012780  0.168933  0.140260  ...  0.105764  0.031287  0.751827\n",
              "\n",
              "[4 rows x 8 columns]"
            ]
          },
          "metadata": {
            "tags": []
          },
          "execution_count": 5
        }
      ]
    },
    {
      "cell_type": "code",
      "metadata": {
        "colab": {
          "base_uri": "https://localhost:8080/",
          "height": 173
        },
        "id": "TYsoqpQuqyzb",
        "outputId": "784dc76c-08f2-45f6-8178-8a2d5afdee15"
      },
      "source": [
        "# 열이름은 a부터 h까지로 지정 열 갯수와 같아야 함\n",
        "pd.DataFrame(np.random.rand(4,8),columns=list('abcdefgh'))"
      ],
      "execution_count": null,
      "outputs": [
        {
          "output_type": "execute_result",
          "data": {
            "text/html": [
              "<div>\n",
              "<style scoped>\n",
              "    .dataframe tbody tr th:only-of-type {\n",
              "        vertical-align: middle;\n",
              "    }\n",
              "\n",
              "    .dataframe tbody tr th {\n",
              "        vertical-align: top;\n",
              "    }\n",
              "\n",
              "    .dataframe thead th {\n",
              "        text-align: right;\n",
              "    }\n",
              "</style>\n",
              "<table border=\"1\" class=\"dataframe\">\n",
              "  <thead>\n",
              "    <tr style=\"text-align: right;\">\n",
              "      <th></th>\n",
              "      <th>a</th>\n",
              "      <th>b</th>\n",
              "      <th>c</th>\n",
              "      <th>d</th>\n",
              "      <th>e</th>\n",
              "      <th>f</th>\n",
              "      <th>g</th>\n",
              "      <th>h</th>\n",
              "    </tr>\n",
              "  </thead>\n",
              "  <tbody>\n",
              "    <tr>\n",
              "      <th>0</th>\n",
              "      <td>0.164599</td>\n",
              "      <td>0.111263</td>\n",
              "      <td>0.011151</td>\n",
              "      <td>0.523242</td>\n",
              "      <td>0.059502</td>\n",
              "      <td>0.743126</td>\n",
              "      <td>0.965739</td>\n",
              "      <td>0.990292</td>\n",
              "    </tr>\n",
              "    <tr>\n",
              "      <th>1</th>\n",
              "      <td>0.074815</td>\n",
              "      <td>0.403781</td>\n",
              "      <td>0.421859</td>\n",
              "      <td>0.512364</td>\n",
              "      <td>0.732072</td>\n",
              "      <td>0.266494</td>\n",
              "      <td>0.769492</td>\n",
              "      <td>0.542338</td>\n",
              "    </tr>\n",
              "    <tr>\n",
              "      <th>2</th>\n",
              "      <td>0.054073</td>\n",
              "      <td>0.329008</td>\n",
              "      <td>0.625092</td>\n",
              "      <td>0.262043</td>\n",
              "      <td>0.582552</td>\n",
              "      <td>0.250234</td>\n",
              "      <td>0.410511</td>\n",
              "      <td>0.265775</td>\n",
              "    </tr>\n",
              "    <tr>\n",
              "      <th>3</th>\n",
              "      <td>0.642768</td>\n",
              "      <td>0.997330</td>\n",
              "      <td>0.944906</td>\n",
              "      <td>0.566281</td>\n",
              "      <td>0.744106</td>\n",
              "      <td>0.300850</td>\n",
              "      <td>0.546308</td>\n",
              "      <td>0.700607</td>\n",
              "    </tr>\n",
              "  </tbody>\n",
              "</table>\n",
              "</div>"
            ],
            "text/plain": [
              "          a         b         c  ...         f         g         h\n",
              "0  0.164599  0.111263  0.011151  ...  0.743126  0.965739  0.990292\n",
              "1  0.074815  0.403781  0.421859  ...  0.266494  0.769492  0.542338\n",
              "2  0.054073  0.329008  0.625092  ...  0.250234  0.410511  0.265775\n",
              "3  0.642768  0.997330  0.944906  ...  0.300850  0.546308  0.700607\n",
              "\n",
              "[4 rows x 8 columns]"
            ]
          },
          "metadata": {
            "tags": []
          },
          "execution_count": 6
        }
      ]
    },
    {
      "cell_type": "markdown",
      "metadata": {
        "id": "fUzmL5cbrKpp"
      },
      "source": [
        "### 2. Rename columns(칼럼 이름 바꾸기)"
      ]
    },
    {
      "cell_type": "code",
      "metadata": {
        "colab": {
          "base_uri": "https://localhost:8080/",
          "height": 142
        },
        "id": "hpZWa7EGq7O5",
        "outputId": "93f3a91d-eb00-43e6-888c-070610dd091b"
      },
      "source": [
        "df"
      ],
      "execution_count": 44,
      "outputs": [
        {
          "output_type": "execute_result",
          "data": {
            "text/html": [
              "<div>\n",
              "<style scoped>\n",
              "    .dataframe tbody tr th:only-of-type {\n",
              "        vertical-align: middle;\n",
              "    }\n",
              "\n",
              "    .dataframe tbody tr th {\n",
              "        vertical-align: top;\n",
              "    }\n",
              "\n",
              "    .dataframe thead th {\n",
              "        text-align: right;\n",
              "    }\n",
              "</style>\n",
              "<table border=\"1\" class=\"dataframe\">\n",
              "  <thead>\n",
              "    <tr style=\"text-align: right;\">\n",
              "      <th></th>\n",
              "      <th>col_one</th>\n",
              "      <th>col_two</th>\n",
              "    </tr>\n",
              "  </thead>\n",
              "  <tbody>\n",
              "    <tr>\n",
              "      <th>0</th>\n",
              "      <td>a</td>\n",
              "      <td>[10, 40]</td>\n",
              "    </tr>\n",
              "    <tr>\n",
              "      <th>1</th>\n",
              "      <td>b</td>\n",
              "      <td>[20, 50]</td>\n",
              "    </tr>\n",
              "    <tr>\n",
              "      <th>2</th>\n",
              "      <td>c</td>\n",
              "      <td>[30, 60]</td>\n",
              "    </tr>\n",
              "  </tbody>\n",
              "</table>\n",
              "</div>"
            ],
            "text/plain": [
              "  col_one   col_two\n",
              "0       a  [10, 40]\n",
              "1       b  [20, 50]\n",
              "2       c  [30, 60]"
            ]
          },
          "metadata": {
            "tags": []
          },
          "execution_count": 44
        }
      ]
    },
    {
      "cell_type": "code",
      "metadata": {
        "colab": {
          "base_uri": "https://localhost:8080/",
          "height": 111
        },
        "id": "epexdZ2GrWYX",
        "outputId": "e567c10e-c7a0-4dee-80ad-889cd3e639a0"
      },
      "source": [
        "# 1번째 방법\n",
        "df1 = df\n",
        "df1 = df1.rename({'col one':'col_one', 'col two':'col_two'},axis = 'columns')\n",
        "df1"
      ],
      "execution_count": null,
      "outputs": [
        {
          "output_type": "execute_result",
          "data": {
            "text/html": [
              "<div>\n",
              "<style scoped>\n",
              "    .dataframe tbody tr th:only-of-type {\n",
              "        vertical-align: middle;\n",
              "    }\n",
              "\n",
              "    .dataframe tbody tr th {\n",
              "        vertical-align: top;\n",
              "    }\n",
              "\n",
              "    .dataframe thead th {\n",
              "        text-align: right;\n",
              "    }\n",
              "</style>\n",
              "<table border=\"1\" class=\"dataframe\">\n",
              "  <thead>\n",
              "    <tr style=\"text-align: right;\">\n",
              "      <th></th>\n",
              "      <th>col_one</th>\n",
              "      <th>col_two</th>\n",
              "    </tr>\n",
              "  </thead>\n",
              "  <tbody>\n",
              "    <tr>\n",
              "      <th>0</th>\n",
              "      <td>100</td>\n",
              "      <td>300</td>\n",
              "    </tr>\n",
              "    <tr>\n",
              "      <th>1</th>\n",
              "      <td>200</td>\n",
              "      <td>400</td>\n",
              "    </tr>\n",
              "  </tbody>\n",
              "</table>\n",
              "</div>"
            ],
            "text/plain": [
              "   col_one  col_two\n",
              "0      100      300\n",
              "1      200      400"
            ]
          },
          "metadata": {
            "tags": []
          },
          "execution_count": 12
        }
      ]
    },
    {
      "cell_type": "code",
      "metadata": {
        "colab": {
          "base_uri": "https://localhost:8080/",
          "height": 111
        },
        "id": "zG6QWB4Krk6A",
        "outputId": "4604e676-999b-474d-c503-fa335f38cdcb"
      },
      "source": [
        "# 2번째 방법\n",
        "df2 = df\n",
        "df2.columns = ['col_one', 'col_two']\n",
        "df2"
      ],
      "execution_count": null,
      "outputs": [
        {
          "output_type": "execute_result",
          "data": {
            "text/html": [
              "<div>\n",
              "<style scoped>\n",
              "    .dataframe tbody tr th:only-of-type {\n",
              "        vertical-align: middle;\n",
              "    }\n",
              "\n",
              "    .dataframe tbody tr th {\n",
              "        vertical-align: top;\n",
              "    }\n",
              "\n",
              "    .dataframe thead th {\n",
              "        text-align: right;\n",
              "    }\n",
              "</style>\n",
              "<table border=\"1\" class=\"dataframe\">\n",
              "  <thead>\n",
              "    <tr style=\"text-align: right;\">\n",
              "      <th></th>\n",
              "      <th>col_one</th>\n",
              "      <th>col_two</th>\n",
              "    </tr>\n",
              "  </thead>\n",
              "  <tbody>\n",
              "    <tr>\n",
              "      <th>0</th>\n",
              "      <td>100</td>\n",
              "      <td>300</td>\n",
              "    </tr>\n",
              "    <tr>\n",
              "      <th>1</th>\n",
              "      <td>200</td>\n",
              "      <td>400</td>\n",
              "    </tr>\n",
              "  </tbody>\n",
              "</table>\n",
              "</div>"
            ],
            "text/plain": [
              "   col_one  col_two\n",
              "0      100      300\n",
              "1      200      400"
            ]
          },
          "metadata": {
            "tags": []
          },
          "execution_count": 13
        }
      ]
    },
    {
      "cell_type": "code",
      "metadata": {
        "colab": {
          "base_uri": "https://localhost:8080/",
          "height": 111
        },
        "id": "fP9UbBwar3DZ",
        "outputId": "62b14545-b404-4d1d-a529-f7d9eaf1a346"
      },
      "source": [
        "# 3번째 방법\n",
        "df3 = df\n",
        "df3.columns = df.columns.str.replace(' ', '_')\n",
        "df3"
      ],
      "execution_count": null,
      "outputs": [
        {
          "output_type": "execute_result",
          "data": {
            "text/html": [
              "<div>\n",
              "<style scoped>\n",
              "    .dataframe tbody tr th:only-of-type {\n",
              "        vertical-align: middle;\n",
              "    }\n",
              "\n",
              "    .dataframe tbody tr th {\n",
              "        vertical-align: top;\n",
              "    }\n",
              "\n",
              "    .dataframe thead th {\n",
              "        text-align: right;\n",
              "    }\n",
              "</style>\n",
              "<table border=\"1\" class=\"dataframe\">\n",
              "  <thead>\n",
              "    <tr style=\"text-align: right;\">\n",
              "      <th></th>\n",
              "      <th>col_one</th>\n",
              "      <th>col_two</th>\n",
              "    </tr>\n",
              "  </thead>\n",
              "  <tbody>\n",
              "    <tr>\n",
              "      <th>0</th>\n",
              "      <td>100</td>\n",
              "      <td>300</td>\n",
              "    </tr>\n",
              "    <tr>\n",
              "      <th>1</th>\n",
              "      <td>200</td>\n",
              "      <td>400</td>\n",
              "    </tr>\n",
              "  </tbody>\n",
              "</table>\n",
              "</div>"
            ],
            "text/plain": [
              "   col_one  col_two\n",
              "0      100      300\n",
              "1      200      400"
            ]
          },
          "metadata": {
            "tags": []
          },
          "execution_count": 14
        }
      ]
    },
    {
      "cell_type": "code",
      "metadata": {
        "colab": {
          "base_uri": "https://localhost:8080/",
          "height": 111
        },
        "id": "40Hj13zUsBOM",
        "outputId": "20f43e15-84ae-42cd-8ec0-49f7d66c1ea5"
      },
      "source": [
        "# 칼럼 앞에 특정 단어 추가\n",
        "df.add_prefix('X_')"
      ],
      "execution_count": null,
      "outputs": [
        {
          "output_type": "execute_result",
          "data": {
            "text/html": [
              "<div>\n",
              "<style scoped>\n",
              "    .dataframe tbody tr th:only-of-type {\n",
              "        vertical-align: middle;\n",
              "    }\n",
              "\n",
              "    .dataframe tbody tr th {\n",
              "        vertical-align: top;\n",
              "    }\n",
              "\n",
              "    .dataframe thead th {\n",
              "        text-align: right;\n",
              "    }\n",
              "</style>\n",
              "<table border=\"1\" class=\"dataframe\">\n",
              "  <thead>\n",
              "    <tr style=\"text-align: right;\">\n",
              "      <th></th>\n",
              "      <th>X_col_one</th>\n",
              "      <th>X_col_two</th>\n",
              "    </tr>\n",
              "  </thead>\n",
              "  <tbody>\n",
              "    <tr>\n",
              "      <th>0</th>\n",
              "      <td>100</td>\n",
              "      <td>300</td>\n",
              "    </tr>\n",
              "    <tr>\n",
              "      <th>1</th>\n",
              "      <td>200</td>\n",
              "      <td>400</td>\n",
              "    </tr>\n",
              "  </tbody>\n",
              "</table>\n",
              "</div>"
            ],
            "text/plain": [
              "   X_col_one  X_col_two\n",
              "0        100        300\n",
              "1        200        400"
            ]
          },
          "metadata": {
            "tags": []
          },
          "execution_count": 15
        }
      ]
    },
    {
      "cell_type": "code",
      "metadata": {
        "colab": {
          "base_uri": "https://localhost:8080/",
          "height": 111
        },
        "id": "eSKVV8sVsVhR",
        "outputId": "5cbfb2db-0ad8-47a7-b14c-fa14720d40f6"
      },
      "source": [
        "# 칼럼 뒤에 특정 단어 추가\n",
        "df.add_suffix('_Y')"
      ],
      "execution_count": null,
      "outputs": [
        {
          "output_type": "execute_result",
          "data": {
            "text/html": [
              "<div>\n",
              "<style scoped>\n",
              "    .dataframe tbody tr th:only-of-type {\n",
              "        vertical-align: middle;\n",
              "    }\n",
              "\n",
              "    .dataframe tbody tr th {\n",
              "        vertical-align: top;\n",
              "    }\n",
              "\n",
              "    .dataframe thead th {\n",
              "        text-align: right;\n",
              "    }\n",
              "</style>\n",
              "<table border=\"1\" class=\"dataframe\">\n",
              "  <thead>\n",
              "    <tr style=\"text-align: right;\">\n",
              "      <th></th>\n",
              "      <th>col_one_Y</th>\n",
              "      <th>col_two_Y</th>\n",
              "    </tr>\n",
              "  </thead>\n",
              "  <tbody>\n",
              "    <tr>\n",
              "      <th>0</th>\n",
              "      <td>100</td>\n",
              "      <td>300</td>\n",
              "    </tr>\n",
              "    <tr>\n",
              "      <th>1</th>\n",
              "      <td>200</td>\n",
              "      <td>400</td>\n",
              "    </tr>\n",
              "  </tbody>\n",
              "</table>\n",
              "</div>"
            ],
            "text/plain": [
              "   col_one_Y  col_two_Y\n",
              "0        100        300\n",
              "1        200        400"
            ]
          },
          "metadata": {
            "tags": []
          },
          "execution_count": 16
        }
      ]
    },
    {
      "cell_type": "markdown",
      "metadata": {
        "id": "edtsS3OAsjxo"
      },
      "source": [
        "### 4. Reverse row order(row 뒤집기)"
      ]
    },
    {
      "cell_type": "code",
      "metadata": {
        "colab": {
          "base_uri": "https://localhost:8080/",
          "height": 343
        },
        "id": "8TaL3usJsiBw",
        "outputId": "fd95e2f0-0b14-437d-811a-95e2e9d7a186"
      },
      "source": [
        "df_test"
      ],
      "execution_count": null,
      "outputs": [
        {
          "output_type": "execute_result",
          "data": {
            "text/html": [
              "<div>\n",
              "<style scoped>\n",
              "    .dataframe tbody tr th:only-of-type {\n",
              "        vertical-align: middle;\n",
              "    }\n",
              "\n",
              "    .dataframe tbody tr th {\n",
              "        vertical-align: top;\n",
              "    }\n",
              "\n",
              "    .dataframe thead th {\n",
              "        text-align: right;\n",
              "    }\n",
              "</style>\n",
              "<table border=\"1\" class=\"dataframe\">\n",
              "  <thead>\n",
              "    <tr style=\"text-align: right;\">\n",
              "      <th></th>\n",
              "      <th>분기</th>\n",
              "      <th>매출액</th>\n",
              "      <th>영업이익</th>\n",
              "      <th>영업이익(발표기준)</th>\n",
              "      <th>세전계속사업이익</th>\n",
              "      <th>당기순이익</th>\n",
              "      <th>당기순이익(지배)</th>\n",
              "      <th>당기순이익(비지배)</th>\n",
              "      <th>자산총계</th>\n",
              "      <th>부채총계</th>\n",
              "      <th>자본총계</th>\n",
              "      <th>자본총계(지배)</th>\n",
              "      <th>자본총계(비지배)</th>\n",
              "      <th>자본금</th>\n",
              "      <th>영업활동현금흐름</th>\n",
              "      <th>투자활동현금흐름</th>\n",
              "      <th>재무활동현금흐름</th>\n",
              "      <th>영업이익률</th>\n",
              "      <th>순이익률</th>\n",
              "      <th>ROE(%)</th>\n",
              "      <th>ROA(%)</th>\n",
              "      <th>부채비율</th>\n",
              "      <th>자본유보율</th>\n",
              "      <th>EPS(원)</th>\n",
              "      <th>PER(배)</th>\n",
              "    </tr>\n",
              "  </thead>\n",
              "  <tbody>\n",
              "    <tr>\n",
              "      <th>0</th>\n",
              "      <td>19/6</td>\n",
              "      <td>12,578</td>\n",
              "      <td>3,991</td>\n",
              "      <td>3,991</td>\n",
              "      <td>4,452</td>\n",
              "      <td>3,245</td>\n",
              "      <td>3,228</td>\n",
              "      <td>17</td>\n",
              "      <td>108,464</td>\n",
              "      <td>25,940</td>\n",
              "      <td>82,524</td>\n",
              "      <td>81,965</td>\n",
              "      <td>NaN</td>\n",
              "      <td>9,550</td>\n",
              "      <td>4,641</td>\n",
              "      <td>-1,878</td>\n",
              "      <td>-4,919</td>\n",
              "      <td>31.73</td>\n",
              "      <td>25.80</td>\n",
              "      <td>12.35</td>\n",
              "      <td>9.37</td>\n",
              "      <td>31.43</td>\n",
              "      <td>803.22</td>\n",
              "      <td>2,351</td>\n",
              "      <td>13.77</td>\n",
              "    </tr>\n",
              "    <tr>\n",
              "      <th>1</th>\n",
              "      <td>19/9</td>\n",
              "      <td>13,222</td>\n",
              "      <td>3,825</td>\n",
              "      <td>3,825</td>\n",
              "      <td>4,503</td>\n",
              "      <td>3,221</td>\n",
              "      <td>3,208</td>\n",
              "      <td>13</td>\n",
              "      <td>106,314</td>\n",
              "      <td>20,691</td>\n",
              "      <td>85,623</td>\n",
              "      <td>85,049</td>\n",
              "      <td>NaN</td>\n",
              "      <td>9,550</td>\n",
              "      <td>-2,278</td>\n",
              "      <td>-83</td>\n",
              "      <td>-329</td>\n",
              "      <td>28.93</td>\n",
              "      <td>24.36</td>\n",
              "      <td>12.67</td>\n",
              "      <td>9.95</td>\n",
              "      <td>24.17</td>\n",
              "      <td>836.86</td>\n",
              "      <td>2,337</td>\n",
              "      <td>13.87</td>\n",
              "    </tr>\n",
              "    <tr>\n",
              "      <th>2</th>\n",
              "      <td>19/12</td>\n",
              "      <td>11,982</td>\n",
              "      <td>2,523</td>\n",
              "      <td>2,523</td>\n",
              "      <td>1,794</td>\n",
              "      <td>1,183</td>\n",
              "      <td>1,198</td>\n",
              "      <td>-15</td>\n",
              "      <td>107,121</td>\n",
              "      <td>20,062</td>\n",
              "      <td>87,059</td>\n",
              "      <td>86,506</td>\n",
              "      <td>NaN</td>\n",
              "      <td>9,550</td>\n",
              "      <td>837</td>\n",
              "      <td>-501</td>\n",
              "      <td>-129</td>\n",
              "      <td>21.06</td>\n",
              "      <td>9.87</td>\n",
              "      <td>12.39</td>\n",
              "      <td>9.96</td>\n",
              "      <td>23.04</td>\n",
              "      <td>850.82</td>\n",
              "      <td>873</td>\n",
              "      <td>12.42</td>\n",
              "    </tr>\n",
              "    <tr>\n",
              "      <th>3</th>\n",
              "      <td>20/3</td>\n",
              "      <td>11,784</td>\n",
              "      <td>3,150</td>\n",
              "      <td>3,150</td>\n",
              "      <td>4,156</td>\n",
              "      <td>2,939</td>\n",
              "      <td>2,930</td>\n",
              "      <td>9</td>\n",
              "      <td>108,594</td>\n",
              "      <td>24,862</td>\n",
              "      <td>83,732</td>\n",
              "      <td>83,170</td>\n",
              "      <td>562.0</td>\n",
              "      <td>9,550</td>\n",
              "      <td>2,336</td>\n",
              "      <td>-1,392</td>\n",
              "      <td>-86</td>\n",
              "      <td>26.73</td>\n",
              "      <td>24.94</td>\n",
              "      <td>13.05</td>\n",
              "      <td>9.79</td>\n",
              "      <td>29.69</td>\n",
              "      <td>823.16</td>\n",
              "      <td>2,134</td>\n",
              "      <td>9.71</td>\n",
              "    </tr>\n",
              "    <tr>\n",
              "      <th>4</th>\n",
              "      <td>20/6</td>\n",
              "      <td>13,188</td>\n",
              "      <td>3,947</td>\n",
              "      <td>3,947</td>\n",
              "      <td>4,020</td>\n",
              "      <td>2,935</td>\n",
              "      <td>2,931</td>\n",
              "      <td>4</td>\n",
              "      <td>110,282</td>\n",
              "      <td>23,386</td>\n",
              "      <td>86,896</td>\n",
              "      <td>86,330</td>\n",
              "      <td>566.0</td>\n",
              "      <td>9,550</td>\n",
              "      <td>7,855</td>\n",
              "      <td>-214</td>\n",
              "      <td>-5,501</td>\n",
              "      <td>29.93</td>\n",
              "      <td>22.25</td>\n",
              "      <td>12.20</td>\n",
              "      <td>9.40</td>\n",
              "      <td>26.91</td>\n",
              "      <td>837.40</td>\n",
              "      <td>2,135</td>\n",
              "      <td>10.46</td>\n",
              "    </tr>\n",
              "  </tbody>\n",
              "</table>\n",
              "</div>"
            ],
            "text/plain": [
              "      분기     매출액   영업이익 영업이익(발표기준)  ...   부채비율   자본유보율 EPS(원)  PER(배)\n",
              "0   19/6  12,578  3,991      3,991  ...  31.43  803.22  2,351   13.77\n",
              "1   19/9  13,222  3,825      3,825  ...  24.17  836.86  2,337   13.87\n",
              "2  19/12  11,982  2,523      2,523  ...  23.04  850.82    873   12.42\n",
              "3   20/3  11,784  3,150      3,150  ...  29.69  823.16  2,134    9.71\n",
              "4   20/6  13,188  3,947      3,947  ...  26.91  837.40  2,135   10.46\n",
              "\n",
              "[5 rows x 25 columns]"
            ]
          },
          "metadata": {
            "tags": []
          },
          "execution_count": 18
        }
      ]
    },
    {
      "cell_type": "code",
      "metadata": {
        "colab": {
          "base_uri": "https://localhost:8080/",
          "height": 343
        },
        "id": "n_9VOCOWtQ36",
        "outputId": "f61bf825-76a2-46c0-f083-b85235c1e8ef"
      },
      "source": [
        "# 1번째 방법\n",
        "df_test.loc[::-1]"
      ],
      "execution_count": null,
      "outputs": [
        {
          "output_type": "execute_result",
          "data": {
            "text/html": [
              "<div>\n",
              "<style scoped>\n",
              "    .dataframe tbody tr th:only-of-type {\n",
              "        vertical-align: middle;\n",
              "    }\n",
              "\n",
              "    .dataframe tbody tr th {\n",
              "        vertical-align: top;\n",
              "    }\n",
              "\n",
              "    .dataframe thead th {\n",
              "        text-align: right;\n",
              "    }\n",
              "</style>\n",
              "<table border=\"1\" class=\"dataframe\">\n",
              "  <thead>\n",
              "    <tr style=\"text-align: right;\">\n",
              "      <th></th>\n",
              "      <th>분기</th>\n",
              "      <th>매출액</th>\n",
              "      <th>영업이익</th>\n",
              "      <th>영업이익(발표기준)</th>\n",
              "      <th>세전계속사업이익</th>\n",
              "      <th>당기순이익</th>\n",
              "      <th>당기순이익(지배)</th>\n",
              "      <th>당기순이익(비지배)</th>\n",
              "      <th>자산총계</th>\n",
              "      <th>부채총계</th>\n",
              "      <th>자본총계</th>\n",
              "      <th>자본총계(지배)</th>\n",
              "      <th>자본총계(비지배)</th>\n",
              "      <th>자본금</th>\n",
              "      <th>영업활동현금흐름</th>\n",
              "      <th>투자활동현금흐름</th>\n",
              "      <th>재무활동현금흐름</th>\n",
              "      <th>영업이익률</th>\n",
              "      <th>순이익률</th>\n",
              "      <th>ROE(%)</th>\n",
              "      <th>ROA(%)</th>\n",
              "      <th>부채비율</th>\n",
              "      <th>자본유보율</th>\n",
              "      <th>EPS(원)</th>\n",
              "      <th>PER(배)</th>\n",
              "    </tr>\n",
              "  </thead>\n",
              "  <tbody>\n",
              "    <tr>\n",
              "      <th>4</th>\n",
              "      <td>20/6</td>\n",
              "      <td>13,188</td>\n",
              "      <td>3,947</td>\n",
              "      <td>3,947</td>\n",
              "      <td>4,020</td>\n",
              "      <td>2,935</td>\n",
              "      <td>2,931</td>\n",
              "      <td>4</td>\n",
              "      <td>110,282</td>\n",
              "      <td>23,386</td>\n",
              "      <td>86,896</td>\n",
              "      <td>86,330</td>\n",
              "      <td>566.0</td>\n",
              "      <td>9,550</td>\n",
              "      <td>7,855</td>\n",
              "      <td>-214</td>\n",
              "      <td>-5,501</td>\n",
              "      <td>29.93</td>\n",
              "      <td>22.25</td>\n",
              "      <td>12.20</td>\n",
              "      <td>9.40</td>\n",
              "      <td>26.91</td>\n",
              "      <td>837.40</td>\n",
              "      <td>2,135</td>\n",
              "      <td>10.46</td>\n",
              "    </tr>\n",
              "    <tr>\n",
              "      <th>3</th>\n",
              "      <td>20/3</td>\n",
              "      <td>11,784</td>\n",
              "      <td>3,150</td>\n",
              "      <td>3,150</td>\n",
              "      <td>4,156</td>\n",
              "      <td>2,939</td>\n",
              "      <td>2,930</td>\n",
              "      <td>9</td>\n",
              "      <td>108,594</td>\n",
              "      <td>24,862</td>\n",
              "      <td>83,732</td>\n",
              "      <td>83,170</td>\n",
              "      <td>562.0</td>\n",
              "      <td>9,550</td>\n",
              "      <td>2,336</td>\n",
              "      <td>-1,392</td>\n",
              "      <td>-86</td>\n",
              "      <td>26.73</td>\n",
              "      <td>24.94</td>\n",
              "      <td>13.05</td>\n",
              "      <td>9.79</td>\n",
              "      <td>29.69</td>\n",
              "      <td>823.16</td>\n",
              "      <td>2,134</td>\n",
              "      <td>9.71</td>\n",
              "    </tr>\n",
              "    <tr>\n",
              "      <th>2</th>\n",
              "      <td>19/12</td>\n",
              "      <td>11,982</td>\n",
              "      <td>2,523</td>\n",
              "      <td>2,523</td>\n",
              "      <td>1,794</td>\n",
              "      <td>1,183</td>\n",
              "      <td>1,198</td>\n",
              "      <td>-15</td>\n",
              "      <td>107,121</td>\n",
              "      <td>20,062</td>\n",
              "      <td>87,059</td>\n",
              "      <td>86,506</td>\n",
              "      <td>NaN</td>\n",
              "      <td>9,550</td>\n",
              "      <td>837</td>\n",
              "      <td>-501</td>\n",
              "      <td>-129</td>\n",
              "      <td>21.06</td>\n",
              "      <td>9.87</td>\n",
              "      <td>12.39</td>\n",
              "      <td>9.96</td>\n",
              "      <td>23.04</td>\n",
              "      <td>850.82</td>\n",
              "      <td>873</td>\n",
              "      <td>12.42</td>\n",
              "    </tr>\n",
              "    <tr>\n",
              "      <th>1</th>\n",
              "      <td>19/9</td>\n",
              "      <td>13,222</td>\n",
              "      <td>3,825</td>\n",
              "      <td>3,825</td>\n",
              "      <td>4,503</td>\n",
              "      <td>3,221</td>\n",
              "      <td>3,208</td>\n",
              "      <td>13</td>\n",
              "      <td>106,314</td>\n",
              "      <td>20,691</td>\n",
              "      <td>85,623</td>\n",
              "      <td>85,049</td>\n",
              "      <td>NaN</td>\n",
              "      <td>9,550</td>\n",
              "      <td>-2,278</td>\n",
              "      <td>-83</td>\n",
              "      <td>-329</td>\n",
              "      <td>28.93</td>\n",
              "      <td>24.36</td>\n",
              "      <td>12.67</td>\n",
              "      <td>9.95</td>\n",
              "      <td>24.17</td>\n",
              "      <td>836.86</td>\n",
              "      <td>2,337</td>\n",
              "      <td>13.87</td>\n",
              "    </tr>\n",
              "    <tr>\n",
              "      <th>0</th>\n",
              "      <td>19/6</td>\n",
              "      <td>12,578</td>\n",
              "      <td>3,991</td>\n",
              "      <td>3,991</td>\n",
              "      <td>4,452</td>\n",
              "      <td>3,245</td>\n",
              "      <td>3,228</td>\n",
              "      <td>17</td>\n",
              "      <td>108,464</td>\n",
              "      <td>25,940</td>\n",
              "      <td>82,524</td>\n",
              "      <td>81,965</td>\n",
              "      <td>NaN</td>\n",
              "      <td>9,550</td>\n",
              "      <td>4,641</td>\n",
              "      <td>-1,878</td>\n",
              "      <td>-4,919</td>\n",
              "      <td>31.73</td>\n",
              "      <td>25.80</td>\n",
              "      <td>12.35</td>\n",
              "      <td>9.37</td>\n",
              "      <td>31.43</td>\n",
              "      <td>803.22</td>\n",
              "      <td>2,351</td>\n",
              "      <td>13.77</td>\n",
              "    </tr>\n",
              "  </tbody>\n",
              "</table>\n",
              "</div>"
            ],
            "text/plain": [
              "      분기     매출액   영업이익 영업이익(발표기준)  ...   부채비율   자본유보율 EPS(원)  PER(배)\n",
              "4   20/6  13,188  3,947      3,947  ...  26.91  837.40  2,135   10.46\n",
              "3   20/3  11,784  3,150      3,150  ...  29.69  823.16  2,134    9.71\n",
              "2  19/12  11,982  2,523      2,523  ...  23.04  850.82    873   12.42\n",
              "1   19/9  13,222  3,825      3,825  ...  24.17  836.86  2,337   13.87\n",
              "0   19/6  12,578  3,991      3,991  ...  31.43  803.22  2,351   13.77\n",
              "\n",
              "[5 rows x 25 columns]"
            ]
          },
          "metadata": {
            "tags": []
          },
          "execution_count": 19
        }
      ]
    },
    {
      "cell_type": "code",
      "metadata": {
        "colab": {
          "base_uri": "https://localhost:8080/",
          "height": 343
        },
        "id": "rbwoL7d0tXKG",
        "outputId": "f787fc8d-c799-4d46-b1bb-6b881ec5810b"
      },
      "source": [
        "# 2번째 방법\n",
        "df_test.loc[::-1].reset_index(drop=True)"
      ],
      "execution_count": null,
      "outputs": [
        {
          "output_type": "execute_result",
          "data": {
            "text/html": [
              "<div>\n",
              "<style scoped>\n",
              "    .dataframe tbody tr th:only-of-type {\n",
              "        vertical-align: middle;\n",
              "    }\n",
              "\n",
              "    .dataframe tbody tr th {\n",
              "        vertical-align: top;\n",
              "    }\n",
              "\n",
              "    .dataframe thead th {\n",
              "        text-align: right;\n",
              "    }\n",
              "</style>\n",
              "<table border=\"1\" class=\"dataframe\">\n",
              "  <thead>\n",
              "    <tr style=\"text-align: right;\">\n",
              "      <th></th>\n",
              "      <th>분기</th>\n",
              "      <th>매출액</th>\n",
              "      <th>영업이익</th>\n",
              "      <th>영업이익(발표기준)</th>\n",
              "      <th>세전계속사업이익</th>\n",
              "      <th>당기순이익</th>\n",
              "      <th>당기순이익(지배)</th>\n",
              "      <th>당기순이익(비지배)</th>\n",
              "      <th>자산총계</th>\n",
              "      <th>부채총계</th>\n",
              "      <th>자본총계</th>\n",
              "      <th>자본총계(지배)</th>\n",
              "      <th>자본총계(비지배)</th>\n",
              "      <th>자본금</th>\n",
              "      <th>영업활동현금흐름</th>\n",
              "      <th>투자활동현금흐름</th>\n",
              "      <th>재무활동현금흐름</th>\n",
              "      <th>영업이익률</th>\n",
              "      <th>순이익률</th>\n",
              "      <th>ROE(%)</th>\n",
              "      <th>ROA(%)</th>\n",
              "      <th>부채비율</th>\n",
              "      <th>자본유보율</th>\n",
              "      <th>EPS(원)</th>\n",
              "      <th>PER(배)</th>\n",
              "    </tr>\n",
              "  </thead>\n",
              "  <tbody>\n",
              "    <tr>\n",
              "      <th>0</th>\n",
              "      <td>20/6</td>\n",
              "      <td>13,188</td>\n",
              "      <td>3,947</td>\n",
              "      <td>3,947</td>\n",
              "      <td>4,020</td>\n",
              "      <td>2,935</td>\n",
              "      <td>2,931</td>\n",
              "      <td>4</td>\n",
              "      <td>110,282</td>\n",
              "      <td>23,386</td>\n",
              "      <td>86,896</td>\n",
              "      <td>86,330</td>\n",
              "      <td>566.0</td>\n",
              "      <td>9,550</td>\n",
              "      <td>7,855</td>\n",
              "      <td>-214</td>\n",
              "      <td>-5,501</td>\n",
              "      <td>29.93</td>\n",
              "      <td>22.25</td>\n",
              "      <td>12.20</td>\n",
              "      <td>9.40</td>\n",
              "      <td>26.91</td>\n",
              "      <td>837.40</td>\n",
              "      <td>2,135</td>\n",
              "      <td>10.46</td>\n",
              "    </tr>\n",
              "    <tr>\n",
              "      <th>1</th>\n",
              "      <td>20/3</td>\n",
              "      <td>11,784</td>\n",
              "      <td>3,150</td>\n",
              "      <td>3,150</td>\n",
              "      <td>4,156</td>\n",
              "      <td>2,939</td>\n",
              "      <td>2,930</td>\n",
              "      <td>9</td>\n",
              "      <td>108,594</td>\n",
              "      <td>24,862</td>\n",
              "      <td>83,732</td>\n",
              "      <td>83,170</td>\n",
              "      <td>562.0</td>\n",
              "      <td>9,550</td>\n",
              "      <td>2,336</td>\n",
              "      <td>-1,392</td>\n",
              "      <td>-86</td>\n",
              "      <td>26.73</td>\n",
              "      <td>24.94</td>\n",
              "      <td>13.05</td>\n",
              "      <td>9.79</td>\n",
              "      <td>29.69</td>\n",
              "      <td>823.16</td>\n",
              "      <td>2,134</td>\n",
              "      <td>9.71</td>\n",
              "    </tr>\n",
              "    <tr>\n",
              "      <th>2</th>\n",
              "      <td>19/12</td>\n",
              "      <td>11,982</td>\n",
              "      <td>2,523</td>\n",
              "      <td>2,523</td>\n",
              "      <td>1,794</td>\n",
              "      <td>1,183</td>\n",
              "      <td>1,198</td>\n",
              "      <td>-15</td>\n",
              "      <td>107,121</td>\n",
              "      <td>20,062</td>\n",
              "      <td>87,059</td>\n",
              "      <td>86,506</td>\n",
              "      <td>NaN</td>\n",
              "      <td>9,550</td>\n",
              "      <td>837</td>\n",
              "      <td>-501</td>\n",
              "      <td>-129</td>\n",
              "      <td>21.06</td>\n",
              "      <td>9.87</td>\n",
              "      <td>12.39</td>\n",
              "      <td>9.96</td>\n",
              "      <td>23.04</td>\n",
              "      <td>850.82</td>\n",
              "      <td>873</td>\n",
              "      <td>12.42</td>\n",
              "    </tr>\n",
              "    <tr>\n",
              "      <th>3</th>\n",
              "      <td>19/9</td>\n",
              "      <td>13,222</td>\n",
              "      <td>3,825</td>\n",
              "      <td>3,825</td>\n",
              "      <td>4,503</td>\n",
              "      <td>3,221</td>\n",
              "      <td>3,208</td>\n",
              "      <td>13</td>\n",
              "      <td>106,314</td>\n",
              "      <td>20,691</td>\n",
              "      <td>85,623</td>\n",
              "      <td>85,049</td>\n",
              "      <td>NaN</td>\n",
              "      <td>9,550</td>\n",
              "      <td>-2,278</td>\n",
              "      <td>-83</td>\n",
              "      <td>-329</td>\n",
              "      <td>28.93</td>\n",
              "      <td>24.36</td>\n",
              "      <td>12.67</td>\n",
              "      <td>9.95</td>\n",
              "      <td>24.17</td>\n",
              "      <td>836.86</td>\n",
              "      <td>2,337</td>\n",
              "      <td>13.87</td>\n",
              "    </tr>\n",
              "    <tr>\n",
              "      <th>4</th>\n",
              "      <td>19/6</td>\n",
              "      <td>12,578</td>\n",
              "      <td>3,991</td>\n",
              "      <td>3,991</td>\n",
              "      <td>4,452</td>\n",
              "      <td>3,245</td>\n",
              "      <td>3,228</td>\n",
              "      <td>17</td>\n",
              "      <td>108,464</td>\n",
              "      <td>25,940</td>\n",
              "      <td>82,524</td>\n",
              "      <td>81,965</td>\n",
              "      <td>NaN</td>\n",
              "      <td>9,550</td>\n",
              "      <td>4,641</td>\n",
              "      <td>-1,878</td>\n",
              "      <td>-4,919</td>\n",
              "      <td>31.73</td>\n",
              "      <td>25.80</td>\n",
              "      <td>12.35</td>\n",
              "      <td>9.37</td>\n",
              "      <td>31.43</td>\n",
              "      <td>803.22</td>\n",
              "      <td>2,351</td>\n",
              "      <td>13.77</td>\n",
              "    </tr>\n",
              "  </tbody>\n",
              "</table>\n",
              "</div>"
            ],
            "text/plain": [
              "      분기     매출액   영업이익 영업이익(발표기준)  ...   부채비율   자본유보율 EPS(원)  PER(배)\n",
              "0   20/6  13,188  3,947      3,947  ...  26.91  837.40  2,135   10.46\n",
              "1   20/3  11,784  3,150      3,150  ...  29.69  823.16  2,134    9.71\n",
              "2  19/12  11,982  2,523      2,523  ...  23.04  850.82    873   12.42\n",
              "3   19/9  13,222  3,825      3,825  ...  24.17  836.86  2,337   13.87\n",
              "4   19/6  12,578  3,991      3,991  ...  31.43  803.22  2,351   13.77\n",
              "\n",
              "[5 rows x 25 columns]"
            ]
          },
          "metadata": {
            "tags": []
          },
          "execution_count": 20
        }
      ]
    },
    {
      "cell_type": "markdown",
      "metadata": {
        "id": "apckmuWOtsVq"
      },
      "source": [
        "### 5. Reverse column order(열 순서 바꾸기)"
      ]
    },
    {
      "cell_type": "code",
      "metadata": {
        "colab": {
          "base_uri": "https://localhost:8080/",
          "height": 343
        },
        "id": "8wnRtHpNtlax",
        "outputId": "c3360922-7a34-4092-da64-e21859386678"
      },
      "source": [
        "df_test"
      ],
      "execution_count": null,
      "outputs": [
        {
          "output_type": "execute_result",
          "data": {
            "text/html": [
              "<div>\n",
              "<style scoped>\n",
              "    .dataframe tbody tr th:only-of-type {\n",
              "        vertical-align: middle;\n",
              "    }\n",
              "\n",
              "    .dataframe tbody tr th {\n",
              "        vertical-align: top;\n",
              "    }\n",
              "\n",
              "    .dataframe thead th {\n",
              "        text-align: right;\n",
              "    }\n",
              "</style>\n",
              "<table border=\"1\" class=\"dataframe\">\n",
              "  <thead>\n",
              "    <tr style=\"text-align: right;\">\n",
              "      <th></th>\n",
              "      <th>분기</th>\n",
              "      <th>매출액</th>\n",
              "      <th>영업이익</th>\n",
              "      <th>영업이익(발표기준)</th>\n",
              "      <th>세전계속사업이익</th>\n",
              "      <th>당기순이익</th>\n",
              "      <th>당기순이익(지배)</th>\n",
              "      <th>당기순이익(비지배)</th>\n",
              "      <th>자산총계</th>\n",
              "      <th>부채총계</th>\n",
              "      <th>자본총계</th>\n",
              "      <th>자본총계(지배)</th>\n",
              "      <th>자본총계(비지배)</th>\n",
              "      <th>자본금</th>\n",
              "      <th>영업활동현금흐름</th>\n",
              "      <th>투자활동현금흐름</th>\n",
              "      <th>재무활동현금흐름</th>\n",
              "      <th>영업이익률</th>\n",
              "      <th>순이익률</th>\n",
              "      <th>ROE(%)</th>\n",
              "      <th>ROA(%)</th>\n",
              "      <th>부채비율</th>\n",
              "      <th>자본유보율</th>\n",
              "      <th>EPS(원)</th>\n",
              "      <th>PER(배)</th>\n",
              "    </tr>\n",
              "  </thead>\n",
              "  <tbody>\n",
              "    <tr>\n",
              "      <th>0</th>\n",
              "      <td>19/6</td>\n",
              "      <td>12,578</td>\n",
              "      <td>3,991</td>\n",
              "      <td>3,991</td>\n",
              "      <td>4,452</td>\n",
              "      <td>3,245</td>\n",
              "      <td>3,228</td>\n",
              "      <td>17</td>\n",
              "      <td>108,464</td>\n",
              "      <td>25,940</td>\n",
              "      <td>82,524</td>\n",
              "      <td>81,965</td>\n",
              "      <td>NaN</td>\n",
              "      <td>9,550</td>\n",
              "      <td>4,641</td>\n",
              "      <td>-1,878</td>\n",
              "      <td>-4,919</td>\n",
              "      <td>31.73</td>\n",
              "      <td>25.80</td>\n",
              "      <td>12.35</td>\n",
              "      <td>9.37</td>\n",
              "      <td>31.43</td>\n",
              "      <td>803.22</td>\n",
              "      <td>2,351</td>\n",
              "      <td>13.77</td>\n",
              "    </tr>\n",
              "    <tr>\n",
              "      <th>1</th>\n",
              "      <td>19/9</td>\n",
              "      <td>13,222</td>\n",
              "      <td>3,825</td>\n",
              "      <td>3,825</td>\n",
              "      <td>4,503</td>\n",
              "      <td>3,221</td>\n",
              "      <td>3,208</td>\n",
              "      <td>13</td>\n",
              "      <td>106,314</td>\n",
              "      <td>20,691</td>\n",
              "      <td>85,623</td>\n",
              "      <td>85,049</td>\n",
              "      <td>NaN</td>\n",
              "      <td>9,550</td>\n",
              "      <td>-2,278</td>\n",
              "      <td>-83</td>\n",
              "      <td>-329</td>\n",
              "      <td>28.93</td>\n",
              "      <td>24.36</td>\n",
              "      <td>12.67</td>\n",
              "      <td>9.95</td>\n",
              "      <td>24.17</td>\n",
              "      <td>836.86</td>\n",
              "      <td>2,337</td>\n",
              "      <td>13.87</td>\n",
              "    </tr>\n",
              "    <tr>\n",
              "      <th>2</th>\n",
              "      <td>19/12</td>\n",
              "      <td>11,982</td>\n",
              "      <td>2,523</td>\n",
              "      <td>2,523</td>\n",
              "      <td>1,794</td>\n",
              "      <td>1,183</td>\n",
              "      <td>1,198</td>\n",
              "      <td>-15</td>\n",
              "      <td>107,121</td>\n",
              "      <td>20,062</td>\n",
              "      <td>87,059</td>\n",
              "      <td>86,506</td>\n",
              "      <td>NaN</td>\n",
              "      <td>9,550</td>\n",
              "      <td>837</td>\n",
              "      <td>-501</td>\n",
              "      <td>-129</td>\n",
              "      <td>21.06</td>\n",
              "      <td>9.87</td>\n",
              "      <td>12.39</td>\n",
              "      <td>9.96</td>\n",
              "      <td>23.04</td>\n",
              "      <td>850.82</td>\n",
              "      <td>873</td>\n",
              "      <td>12.42</td>\n",
              "    </tr>\n",
              "    <tr>\n",
              "      <th>3</th>\n",
              "      <td>20/3</td>\n",
              "      <td>11,784</td>\n",
              "      <td>3,150</td>\n",
              "      <td>3,150</td>\n",
              "      <td>4,156</td>\n",
              "      <td>2,939</td>\n",
              "      <td>2,930</td>\n",
              "      <td>9</td>\n",
              "      <td>108,594</td>\n",
              "      <td>24,862</td>\n",
              "      <td>83,732</td>\n",
              "      <td>83,170</td>\n",
              "      <td>562.0</td>\n",
              "      <td>9,550</td>\n",
              "      <td>2,336</td>\n",
              "      <td>-1,392</td>\n",
              "      <td>-86</td>\n",
              "      <td>26.73</td>\n",
              "      <td>24.94</td>\n",
              "      <td>13.05</td>\n",
              "      <td>9.79</td>\n",
              "      <td>29.69</td>\n",
              "      <td>823.16</td>\n",
              "      <td>2,134</td>\n",
              "      <td>9.71</td>\n",
              "    </tr>\n",
              "    <tr>\n",
              "      <th>4</th>\n",
              "      <td>20/6</td>\n",
              "      <td>13,188</td>\n",
              "      <td>3,947</td>\n",
              "      <td>3,947</td>\n",
              "      <td>4,020</td>\n",
              "      <td>2,935</td>\n",
              "      <td>2,931</td>\n",
              "      <td>4</td>\n",
              "      <td>110,282</td>\n",
              "      <td>23,386</td>\n",
              "      <td>86,896</td>\n",
              "      <td>86,330</td>\n",
              "      <td>566.0</td>\n",
              "      <td>9,550</td>\n",
              "      <td>7,855</td>\n",
              "      <td>-214</td>\n",
              "      <td>-5,501</td>\n",
              "      <td>29.93</td>\n",
              "      <td>22.25</td>\n",
              "      <td>12.20</td>\n",
              "      <td>9.40</td>\n",
              "      <td>26.91</td>\n",
              "      <td>837.40</td>\n",
              "      <td>2,135</td>\n",
              "      <td>10.46</td>\n",
              "    </tr>\n",
              "  </tbody>\n",
              "</table>\n",
              "</div>"
            ],
            "text/plain": [
              "      분기     매출액   영업이익 영업이익(발표기준)  ...   부채비율   자본유보율 EPS(원)  PER(배)\n",
              "0   19/6  12,578  3,991      3,991  ...  31.43  803.22  2,351   13.77\n",
              "1   19/9  13,222  3,825      3,825  ...  24.17  836.86  2,337   13.87\n",
              "2  19/12  11,982  2,523      2,523  ...  23.04  850.82    873   12.42\n",
              "3   20/3  11,784  3,150      3,150  ...  29.69  823.16  2,134    9.71\n",
              "4   20/6  13,188  3,947      3,947  ...  26.91  837.40  2,135   10.46\n",
              "\n",
              "[5 rows x 25 columns]"
            ]
          },
          "metadata": {
            "tags": []
          },
          "execution_count": 22
        }
      ]
    },
    {
      "cell_type": "code",
      "metadata": {
        "colab": {
          "base_uri": "https://localhost:8080/",
          "height": 343
        },
        "id": "g4-1_u8it05T",
        "outputId": "1e5af3da-db45-453a-d8c5-fc98413086d1"
      },
      "source": [
        "df_test.loc[:,::-1]"
      ],
      "execution_count": null,
      "outputs": [
        {
          "output_type": "execute_result",
          "data": {
            "text/html": [
              "<div>\n",
              "<style scoped>\n",
              "    .dataframe tbody tr th:only-of-type {\n",
              "        vertical-align: middle;\n",
              "    }\n",
              "\n",
              "    .dataframe tbody tr th {\n",
              "        vertical-align: top;\n",
              "    }\n",
              "\n",
              "    .dataframe thead th {\n",
              "        text-align: right;\n",
              "    }\n",
              "</style>\n",
              "<table border=\"1\" class=\"dataframe\">\n",
              "  <thead>\n",
              "    <tr style=\"text-align: right;\">\n",
              "      <th></th>\n",
              "      <th>PER(배)</th>\n",
              "      <th>EPS(원)</th>\n",
              "      <th>자본유보율</th>\n",
              "      <th>부채비율</th>\n",
              "      <th>ROA(%)</th>\n",
              "      <th>ROE(%)</th>\n",
              "      <th>순이익률</th>\n",
              "      <th>영업이익률</th>\n",
              "      <th>재무활동현금흐름</th>\n",
              "      <th>투자활동현금흐름</th>\n",
              "      <th>영업활동현금흐름</th>\n",
              "      <th>자본금</th>\n",
              "      <th>자본총계(비지배)</th>\n",
              "      <th>자본총계(지배)</th>\n",
              "      <th>자본총계</th>\n",
              "      <th>부채총계</th>\n",
              "      <th>자산총계</th>\n",
              "      <th>당기순이익(비지배)</th>\n",
              "      <th>당기순이익(지배)</th>\n",
              "      <th>당기순이익</th>\n",
              "      <th>세전계속사업이익</th>\n",
              "      <th>영업이익(발표기준)</th>\n",
              "      <th>영업이익</th>\n",
              "      <th>매출액</th>\n",
              "      <th>분기</th>\n",
              "    </tr>\n",
              "  </thead>\n",
              "  <tbody>\n",
              "    <tr>\n",
              "      <th>0</th>\n",
              "      <td>13.77</td>\n",
              "      <td>2,351</td>\n",
              "      <td>803.22</td>\n",
              "      <td>31.43</td>\n",
              "      <td>9.37</td>\n",
              "      <td>12.35</td>\n",
              "      <td>25.80</td>\n",
              "      <td>31.73</td>\n",
              "      <td>-4,919</td>\n",
              "      <td>-1,878</td>\n",
              "      <td>4,641</td>\n",
              "      <td>9,550</td>\n",
              "      <td>NaN</td>\n",
              "      <td>81,965</td>\n",
              "      <td>82,524</td>\n",
              "      <td>25,940</td>\n",
              "      <td>108,464</td>\n",
              "      <td>17</td>\n",
              "      <td>3,228</td>\n",
              "      <td>3,245</td>\n",
              "      <td>4,452</td>\n",
              "      <td>3,991</td>\n",
              "      <td>3,991</td>\n",
              "      <td>12,578</td>\n",
              "      <td>19/6</td>\n",
              "    </tr>\n",
              "    <tr>\n",
              "      <th>1</th>\n",
              "      <td>13.87</td>\n",
              "      <td>2,337</td>\n",
              "      <td>836.86</td>\n",
              "      <td>24.17</td>\n",
              "      <td>9.95</td>\n",
              "      <td>12.67</td>\n",
              "      <td>24.36</td>\n",
              "      <td>28.93</td>\n",
              "      <td>-329</td>\n",
              "      <td>-83</td>\n",
              "      <td>-2,278</td>\n",
              "      <td>9,550</td>\n",
              "      <td>NaN</td>\n",
              "      <td>85,049</td>\n",
              "      <td>85,623</td>\n",
              "      <td>20,691</td>\n",
              "      <td>106,314</td>\n",
              "      <td>13</td>\n",
              "      <td>3,208</td>\n",
              "      <td>3,221</td>\n",
              "      <td>4,503</td>\n",
              "      <td>3,825</td>\n",
              "      <td>3,825</td>\n",
              "      <td>13,222</td>\n",
              "      <td>19/9</td>\n",
              "    </tr>\n",
              "    <tr>\n",
              "      <th>2</th>\n",
              "      <td>12.42</td>\n",
              "      <td>873</td>\n",
              "      <td>850.82</td>\n",
              "      <td>23.04</td>\n",
              "      <td>9.96</td>\n",
              "      <td>12.39</td>\n",
              "      <td>9.87</td>\n",
              "      <td>21.06</td>\n",
              "      <td>-129</td>\n",
              "      <td>-501</td>\n",
              "      <td>837</td>\n",
              "      <td>9,550</td>\n",
              "      <td>NaN</td>\n",
              "      <td>86,506</td>\n",
              "      <td>87,059</td>\n",
              "      <td>20,062</td>\n",
              "      <td>107,121</td>\n",
              "      <td>-15</td>\n",
              "      <td>1,198</td>\n",
              "      <td>1,183</td>\n",
              "      <td>1,794</td>\n",
              "      <td>2,523</td>\n",
              "      <td>2,523</td>\n",
              "      <td>11,982</td>\n",
              "      <td>19/12</td>\n",
              "    </tr>\n",
              "    <tr>\n",
              "      <th>3</th>\n",
              "      <td>9.71</td>\n",
              "      <td>2,134</td>\n",
              "      <td>823.16</td>\n",
              "      <td>29.69</td>\n",
              "      <td>9.79</td>\n",
              "      <td>13.05</td>\n",
              "      <td>24.94</td>\n",
              "      <td>26.73</td>\n",
              "      <td>-86</td>\n",
              "      <td>-1,392</td>\n",
              "      <td>2,336</td>\n",
              "      <td>9,550</td>\n",
              "      <td>562.0</td>\n",
              "      <td>83,170</td>\n",
              "      <td>83,732</td>\n",
              "      <td>24,862</td>\n",
              "      <td>108,594</td>\n",
              "      <td>9</td>\n",
              "      <td>2,930</td>\n",
              "      <td>2,939</td>\n",
              "      <td>4,156</td>\n",
              "      <td>3,150</td>\n",
              "      <td>3,150</td>\n",
              "      <td>11,784</td>\n",
              "      <td>20/3</td>\n",
              "    </tr>\n",
              "    <tr>\n",
              "      <th>4</th>\n",
              "      <td>10.46</td>\n",
              "      <td>2,135</td>\n",
              "      <td>837.40</td>\n",
              "      <td>26.91</td>\n",
              "      <td>9.40</td>\n",
              "      <td>12.20</td>\n",
              "      <td>22.25</td>\n",
              "      <td>29.93</td>\n",
              "      <td>-5,501</td>\n",
              "      <td>-214</td>\n",
              "      <td>7,855</td>\n",
              "      <td>9,550</td>\n",
              "      <td>566.0</td>\n",
              "      <td>86,330</td>\n",
              "      <td>86,896</td>\n",
              "      <td>23,386</td>\n",
              "      <td>110,282</td>\n",
              "      <td>4</td>\n",
              "      <td>2,931</td>\n",
              "      <td>2,935</td>\n",
              "      <td>4,020</td>\n",
              "      <td>3,947</td>\n",
              "      <td>3,947</td>\n",
              "      <td>13,188</td>\n",
              "      <td>20/6</td>\n",
              "    </tr>\n",
              "  </tbody>\n",
              "</table>\n",
              "</div>"
            ],
            "text/plain": [
              "   PER(배) EPS(원)   자본유보율   부채비율  ...  영업이익(발표기준)   영업이익     매출액     분기\n",
              "0   13.77  2,351  803.22  31.43  ...       3,991  3,991  12,578   19/6\n",
              "1   13.87  2,337  836.86  24.17  ...       3,825  3,825  13,222   19/9\n",
              "2   12.42    873  850.82  23.04  ...       2,523  2,523  11,982  19/12\n",
              "3    9.71  2,134  823.16  29.69  ...       3,150  3,150  11,784   20/3\n",
              "4   10.46  2,135  837.40  26.91  ...       3,947  3,947  13,188   20/6\n",
              "\n",
              "[5 rows x 25 columns]"
            ]
          },
          "metadata": {
            "tags": []
          },
          "execution_count": 23
        }
      ]
    },
    {
      "cell_type": "markdown",
      "metadata": {
        "id": "x3-rlWVtt8as"
      },
      "source": [
        "### 6. Select columns by data type(특정 데이터 타입 추출)"
      ]
    },
    {
      "cell_type": "markdown",
      "metadata": {
        "id": "M1syiXYst8Ud"
      },
      "source": [
        ""
      ]
    },
    {
      "cell_type": "code",
      "metadata": {
        "colab": {
          "base_uri": "https://localhost:8080/"
        },
        "id": "tDsbnilUt46x",
        "outputId": "c5a90ab4-c92c-434b-b88c-63e78bc16dff"
      },
      "source": [
        "df_test.dtypes"
      ],
      "execution_count": null,
      "outputs": [
        {
          "output_type": "execute_result",
          "data": {
            "text/plain": [
              "분기             object\n",
              "매출액            object\n",
              "영업이익           object\n",
              "영업이익(발표기준)     object\n",
              "세전계속사업이익       object\n",
              "당기순이익          object\n",
              "당기순이익(지배)      object\n",
              "당기순이익(비지배)      int64\n",
              "자산총계           object\n",
              "부채총계           object\n",
              "자본총계           object\n",
              "자본총계(지배)       object\n",
              "자본총계(비지배)     float64\n",
              "자본금            object\n",
              "영업활동현금흐름       object\n",
              "투자활동현금흐름       object\n",
              "재무활동현금흐름       object\n",
              "영업이익률         float64\n",
              "순이익률          float64\n",
              "ROE(%)        float64\n",
              "ROA(%)        float64\n",
              "부채비율          float64\n",
              "자본유보율         float64\n",
              "EPS(원)         object\n",
              "PER(배)        float64\n",
              "dtype: object"
            ]
          },
          "metadata": {
            "tags": []
          },
          "execution_count": 24
        }
      ]
    },
    {
      "cell_type": "code",
      "metadata": {
        "colab": {
          "base_uri": "https://localhost:8080/",
          "height": 204
        },
        "id": "5-2Fl7ipuHQa",
        "outputId": "ea9ecf23-3f55-41b7-d6a9-6ba39903158f"
      },
      "source": [
        "# 데이터 타입이 number인 칼럼만 추출\n",
        "df_test.select_dtypes(include='number') "
      ],
      "execution_count": null,
      "outputs": [
        {
          "output_type": "execute_result",
          "data": {
            "text/html": [
              "<div>\n",
              "<style scoped>\n",
              "    .dataframe tbody tr th:only-of-type {\n",
              "        vertical-align: middle;\n",
              "    }\n",
              "\n",
              "    .dataframe tbody tr th {\n",
              "        vertical-align: top;\n",
              "    }\n",
              "\n",
              "    .dataframe thead th {\n",
              "        text-align: right;\n",
              "    }\n",
              "</style>\n",
              "<table border=\"1\" class=\"dataframe\">\n",
              "  <thead>\n",
              "    <tr style=\"text-align: right;\">\n",
              "      <th></th>\n",
              "      <th>당기순이익(비지배)</th>\n",
              "      <th>자본총계(비지배)</th>\n",
              "      <th>영업이익률</th>\n",
              "      <th>순이익률</th>\n",
              "      <th>ROE(%)</th>\n",
              "      <th>ROA(%)</th>\n",
              "      <th>부채비율</th>\n",
              "      <th>자본유보율</th>\n",
              "      <th>PER(배)</th>\n",
              "    </tr>\n",
              "  </thead>\n",
              "  <tbody>\n",
              "    <tr>\n",
              "      <th>0</th>\n",
              "      <td>17</td>\n",
              "      <td>NaN</td>\n",
              "      <td>31.73</td>\n",
              "      <td>25.80</td>\n",
              "      <td>12.35</td>\n",
              "      <td>9.37</td>\n",
              "      <td>31.43</td>\n",
              "      <td>803.22</td>\n",
              "      <td>13.77</td>\n",
              "    </tr>\n",
              "    <tr>\n",
              "      <th>1</th>\n",
              "      <td>13</td>\n",
              "      <td>NaN</td>\n",
              "      <td>28.93</td>\n",
              "      <td>24.36</td>\n",
              "      <td>12.67</td>\n",
              "      <td>9.95</td>\n",
              "      <td>24.17</td>\n",
              "      <td>836.86</td>\n",
              "      <td>13.87</td>\n",
              "    </tr>\n",
              "    <tr>\n",
              "      <th>2</th>\n",
              "      <td>-15</td>\n",
              "      <td>NaN</td>\n",
              "      <td>21.06</td>\n",
              "      <td>9.87</td>\n",
              "      <td>12.39</td>\n",
              "      <td>9.96</td>\n",
              "      <td>23.04</td>\n",
              "      <td>850.82</td>\n",
              "      <td>12.42</td>\n",
              "    </tr>\n",
              "    <tr>\n",
              "      <th>3</th>\n",
              "      <td>9</td>\n",
              "      <td>562.0</td>\n",
              "      <td>26.73</td>\n",
              "      <td>24.94</td>\n",
              "      <td>13.05</td>\n",
              "      <td>9.79</td>\n",
              "      <td>29.69</td>\n",
              "      <td>823.16</td>\n",
              "      <td>9.71</td>\n",
              "    </tr>\n",
              "    <tr>\n",
              "      <th>4</th>\n",
              "      <td>4</td>\n",
              "      <td>566.0</td>\n",
              "      <td>29.93</td>\n",
              "      <td>22.25</td>\n",
              "      <td>12.20</td>\n",
              "      <td>9.40</td>\n",
              "      <td>26.91</td>\n",
              "      <td>837.40</td>\n",
              "      <td>10.46</td>\n",
              "    </tr>\n",
              "  </tbody>\n",
              "</table>\n",
              "</div>"
            ],
            "text/plain": [
              "   당기순이익(비지배)  자본총계(비지배)  영업이익률   순이익률  ROE(%)  ROA(%)   부채비율   자본유보율  PER(배)\n",
              "0          17        NaN  31.73  25.80   12.35    9.37  31.43  803.22   13.77\n",
              "1          13        NaN  28.93  24.36   12.67    9.95  24.17  836.86   13.87\n",
              "2         -15        NaN  21.06   9.87   12.39    9.96  23.04  850.82   12.42\n",
              "3           9      562.0  26.73  24.94   13.05    9.79  29.69  823.16    9.71\n",
              "4           4      566.0  29.93  22.25   12.20    9.40  26.91  837.40   10.46"
            ]
          },
          "metadata": {
            "tags": []
          },
          "execution_count": 26
        }
      ]
    },
    {
      "cell_type": "code",
      "metadata": {
        "colab": {
          "base_uri": "https://localhost:8080/",
          "height": 343
        },
        "id": "okcULOZOuOBt",
        "outputId": "ca44d628-7622-450b-fd34-4e9e725cd421"
      },
      "source": [
        "# 데이터 타입 여러개를 지정해서 추출\n",
        "df_test.select_dtypes(include=['number','object'])"
      ],
      "execution_count": null,
      "outputs": [
        {
          "output_type": "execute_result",
          "data": {
            "text/html": [
              "<div>\n",
              "<style scoped>\n",
              "    .dataframe tbody tr th:only-of-type {\n",
              "        vertical-align: middle;\n",
              "    }\n",
              "\n",
              "    .dataframe tbody tr th {\n",
              "        vertical-align: top;\n",
              "    }\n",
              "\n",
              "    .dataframe thead th {\n",
              "        text-align: right;\n",
              "    }\n",
              "</style>\n",
              "<table border=\"1\" class=\"dataframe\">\n",
              "  <thead>\n",
              "    <tr style=\"text-align: right;\">\n",
              "      <th></th>\n",
              "      <th>분기</th>\n",
              "      <th>매출액</th>\n",
              "      <th>영업이익</th>\n",
              "      <th>영업이익(발표기준)</th>\n",
              "      <th>세전계속사업이익</th>\n",
              "      <th>당기순이익</th>\n",
              "      <th>당기순이익(지배)</th>\n",
              "      <th>당기순이익(비지배)</th>\n",
              "      <th>자산총계</th>\n",
              "      <th>부채총계</th>\n",
              "      <th>자본총계</th>\n",
              "      <th>자본총계(지배)</th>\n",
              "      <th>자본총계(비지배)</th>\n",
              "      <th>자본금</th>\n",
              "      <th>영업활동현금흐름</th>\n",
              "      <th>투자활동현금흐름</th>\n",
              "      <th>재무활동현금흐름</th>\n",
              "      <th>영업이익률</th>\n",
              "      <th>순이익률</th>\n",
              "      <th>ROE(%)</th>\n",
              "      <th>ROA(%)</th>\n",
              "      <th>부채비율</th>\n",
              "      <th>자본유보율</th>\n",
              "      <th>EPS(원)</th>\n",
              "      <th>PER(배)</th>\n",
              "    </tr>\n",
              "  </thead>\n",
              "  <tbody>\n",
              "    <tr>\n",
              "      <th>0</th>\n",
              "      <td>19/6</td>\n",
              "      <td>12,578</td>\n",
              "      <td>3,991</td>\n",
              "      <td>3,991</td>\n",
              "      <td>4,452</td>\n",
              "      <td>3,245</td>\n",
              "      <td>3,228</td>\n",
              "      <td>17</td>\n",
              "      <td>108,464</td>\n",
              "      <td>25,940</td>\n",
              "      <td>82,524</td>\n",
              "      <td>81,965</td>\n",
              "      <td>NaN</td>\n",
              "      <td>9,550</td>\n",
              "      <td>4,641</td>\n",
              "      <td>-1,878</td>\n",
              "      <td>-4,919</td>\n",
              "      <td>31.73</td>\n",
              "      <td>25.80</td>\n",
              "      <td>12.35</td>\n",
              "      <td>9.37</td>\n",
              "      <td>31.43</td>\n",
              "      <td>803.22</td>\n",
              "      <td>2,351</td>\n",
              "      <td>13.77</td>\n",
              "    </tr>\n",
              "    <tr>\n",
              "      <th>1</th>\n",
              "      <td>19/9</td>\n",
              "      <td>13,222</td>\n",
              "      <td>3,825</td>\n",
              "      <td>3,825</td>\n",
              "      <td>4,503</td>\n",
              "      <td>3,221</td>\n",
              "      <td>3,208</td>\n",
              "      <td>13</td>\n",
              "      <td>106,314</td>\n",
              "      <td>20,691</td>\n",
              "      <td>85,623</td>\n",
              "      <td>85,049</td>\n",
              "      <td>NaN</td>\n",
              "      <td>9,550</td>\n",
              "      <td>-2,278</td>\n",
              "      <td>-83</td>\n",
              "      <td>-329</td>\n",
              "      <td>28.93</td>\n",
              "      <td>24.36</td>\n",
              "      <td>12.67</td>\n",
              "      <td>9.95</td>\n",
              "      <td>24.17</td>\n",
              "      <td>836.86</td>\n",
              "      <td>2,337</td>\n",
              "      <td>13.87</td>\n",
              "    </tr>\n",
              "    <tr>\n",
              "      <th>2</th>\n",
              "      <td>19/12</td>\n",
              "      <td>11,982</td>\n",
              "      <td>2,523</td>\n",
              "      <td>2,523</td>\n",
              "      <td>1,794</td>\n",
              "      <td>1,183</td>\n",
              "      <td>1,198</td>\n",
              "      <td>-15</td>\n",
              "      <td>107,121</td>\n",
              "      <td>20,062</td>\n",
              "      <td>87,059</td>\n",
              "      <td>86,506</td>\n",
              "      <td>NaN</td>\n",
              "      <td>9,550</td>\n",
              "      <td>837</td>\n",
              "      <td>-501</td>\n",
              "      <td>-129</td>\n",
              "      <td>21.06</td>\n",
              "      <td>9.87</td>\n",
              "      <td>12.39</td>\n",
              "      <td>9.96</td>\n",
              "      <td>23.04</td>\n",
              "      <td>850.82</td>\n",
              "      <td>873</td>\n",
              "      <td>12.42</td>\n",
              "    </tr>\n",
              "    <tr>\n",
              "      <th>3</th>\n",
              "      <td>20/3</td>\n",
              "      <td>11,784</td>\n",
              "      <td>3,150</td>\n",
              "      <td>3,150</td>\n",
              "      <td>4,156</td>\n",
              "      <td>2,939</td>\n",
              "      <td>2,930</td>\n",
              "      <td>9</td>\n",
              "      <td>108,594</td>\n",
              "      <td>24,862</td>\n",
              "      <td>83,732</td>\n",
              "      <td>83,170</td>\n",
              "      <td>562.0</td>\n",
              "      <td>9,550</td>\n",
              "      <td>2,336</td>\n",
              "      <td>-1,392</td>\n",
              "      <td>-86</td>\n",
              "      <td>26.73</td>\n",
              "      <td>24.94</td>\n",
              "      <td>13.05</td>\n",
              "      <td>9.79</td>\n",
              "      <td>29.69</td>\n",
              "      <td>823.16</td>\n",
              "      <td>2,134</td>\n",
              "      <td>9.71</td>\n",
              "    </tr>\n",
              "    <tr>\n",
              "      <th>4</th>\n",
              "      <td>20/6</td>\n",
              "      <td>13,188</td>\n",
              "      <td>3,947</td>\n",
              "      <td>3,947</td>\n",
              "      <td>4,020</td>\n",
              "      <td>2,935</td>\n",
              "      <td>2,931</td>\n",
              "      <td>4</td>\n",
              "      <td>110,282</td>\n",
              "      <td>23,386</td>\n",
              "      <td>86,896</td>\n",
              "      <td>86,330</td>\n",
              "      <td>566.0</td>\n",
              "      <td>9,550</td>\n",
              "      <td>7,855</td>\n",
              "      <td>-214</td>\n",
              "      <td>-5,501</td>\n",
              "      <td>29.93</td>\n",
              "      <td>22.25</td>\n",
              "      <td>12.20</td>\n",
              "      <td>9.40</td>\n",
              "      <td>26.91</td>\n",
              "      <td>837.40</td>\n",
              "      <td>2,135</td>\n",
              "      <td>10.46</td>\n",
              "    </tr>\n",
              "  </tbody>\n",
              "</table>\n",
              "</div>"
            ],
            "text/plain": [
              "      분기     매출액   영업이익 영업이익(발표기준)  ...   부채비율   자본유보율 EPS(원)  PER(배)\n",
              "0   19/6  12,578  3,991      3,991  ...  31.43  803.22  2,351   13.77\n",
              "1   19/9  13,222  3,825      3,825  ...  24.17  836.86  2,337   13.87\n",
              "2  19/12  11,982  2,523      2,523  ...  23.04  850.82    873   12.42\n",
              "3   20/3  11,784  3,150      3,150  ...  29.69  823.16  2,134    9.71\n",
              "4   20/6  13,188  3,947      3,947  ...  26.91  837.40  2,135   10.46\n",
              "\n",
              "[5 rows x 25 columns]"
            ]
          },
          "metadata": {
            "tags": []
          },
          "execution_count": 28
        }
      ]
    },
    {
      "cell_type": "code",
      "metadata": {
        "colab": {
          "base_uri": "https://localhost:8080/",
          "height": 343
        },
        "id": "xrUNG9vOu2i0",
        "outputId": "95ab69e4-d377-4b99-afc9-28a44b3227da"
      },
      "source": [
        "# 특정 데이터 타입을 제외한 칼럼을 추출\n",
        "df_test.select_dtypes(exclude='float')"
      ],
      "execution_count": null,
      "outputs": [
        {
          "output_type": "execute_result",
          "data": {
            "text/html": [
              "<div>\n",
              "<style scoped>\n",
              "    .dataframe tbody tr th:only-of-type {\n",
              "        vertical-align: middle;\n",
              "    }\n",
              "\n",
              "    .dataframe tbody tr th {\n",
              "        vertical-align: top;\n",
              "    }\n",
              "\n",
              "    .dataframe thead th {\n",
              "        text-align: right;\n",
              "    }\n",
              "</style>\n",
              "<table border=\"1\" class=\"dataframe\">\n",
              "  <thead>\n",
              "    <tr style=\"text-align: right;\">\n",
              "      <th></th>\n",
              "      <th>분기</th>\n",
              "      <th>매출액</th>\n",
              "      <th>영업이익</th>\n",
              "      <th>영업이익(발표기준)</th>\n",
              "      <th>세전계속사업이익</th>\n",
              "      <th>당기순이익</th>\n",
              "      <th>당기순이익(지배)</th>\n",
              "      <th>당기순이익(비지배)</th>\n",
              "      <th>자산총계</th>\n",
              "      <th>부채총계</th>\n",
              "      <th>자본총계</th>\n",
              "      <th>자본총계(지배)</th>\n",
              "      <th>자본금</th>\n",
              "      <th>영업활동현금흐름</th>\n",
              "      <th>투자활동현금흐름</th>\n",
              "      <th>재무활동현금흐름</th>\n",
              "      <th>EPS(원)</th>\n",
              "    </tr>\n",
              "  </thead>\n",
              "  <tbody>\n",
              "    <tr>\n",
              "      <th>0</th>\n",
              "      <td>19/6</td>\n",
              "      <td>12,578</td>\n",
              "      <td>3,991</td>\n",
              "      <td>3,991</td>\n",
              "      <td>4,452</td>\n",
              "      <td>3,245</td>\n",
              "      <td>3,228</td>\n",
              "      <td>17</td>\n",
              "      <td>108,464</td>\n",
              "      <td>25,940</td>\n",
              "      <td>82,524</td>\n",
              "      <td>81,965</td>\n",
              "      <td>9,550</td>\n",
              "      <td>4,641</td>\n",
              "      <td>-1,878</td>\n",
              "      <td>-4,919</td>\n",
              "      <td>2,351</td>\n",
              "    </tr>\n",
              "    <tr>\n",
              "      <th>1</th>\n",
              "      <td>19/9</td>\n",
              "      <td>13,222</td>\n",
              "      <td>3,825</td>\n",
              "      <td>3,825</td>\n",
              "      <td>4,503</td>\n",
              "      <td>3,221</td>\n",
              "      <td>3,208</td>\n",
              "      <td>13</td>\n",
              "      <td>106,314</td>\n",
              "      <td>20,691</td>\n",
              "      <td>85,623</td>\n",
              "      <td>85,049</td>\n",
              "      <td>9,550</td>\n",
              "      <td>-2,278</td>\n",
              "      <td>-83</td>\n",
              "      <td>-329</td>\n",
              "      <td>2,337</td>\n",
              "    </tr>\n",
              "    <tr>\n",
              "      <th>2</th>\n",
              "      <td>19/12</td>\n",
              "      <td>11,982</td>\n",
              "      <td>2,523</td>\n",
              "      <td>2,523</td>\n",
              "      <td>1,794</td>\n",
              "      <td>1,183</td>\n",
              "      <td>1,198</td>\n",
              "      <td>-15</td>\n",
              "      <td>107,121</td>\n",
              "      <td>20,062</td>\n",
              "      <td>87,059</td>\n",
              "      <td>86,506</td>\n",
              "      <td>9,550</td>\n",
              "      <td>837</td>\n",
              "      <td>-501</td>\n",
              "      <td>-129</td>\n",
              "      <td>873</td>\n",
              "    </tr>\n",
              "    <tr>\n",
              "      <th>3</th>\n",
              "      <td>20/3</td>\n",
              "      <td>11,784</td>\n",
              "      <td>3,150</td>\n",
              "      <td>3,150</td>\n",
              "      <td>4,156</td>\n",
              "      <td>2,939</td>\n",
              "      <td>2,930</td>\n",
              "      <td>9</td>\n",
              "      <td>108,594</td>\n",
              "      <td>24,862</td>\n",
              "      <td>83,732</td>\n",
              "      <td>83,170</td>\n",
              "      <td>9,550</td>\n",
              "      <td>2,336</td>\n",
              "      <td>-1,392</td>\n",
              "      <td>-86</td>\n",
              "      <td>2,134</td>\n",
              "    </tr>\n",
              "    <tr>\n",
              "      <th>4</th>\n",
              "      <td>20/6</td>\n",
              "      <td>13,188</td>\n",
              "      <td>3,947</td>\n",
              "      <td>3,947</td>\n",
              "      <td>4,020</td>\n",
              "      <td>2,935</td>\n",
              "      <td>2,931</td>\n",
              "      <td>4</td>\n",
              "      <td>110,282</td>\n",
              "      <td>23,386</td>\n",
              "      <td>86,896</td>\n",
              "      <td>86,330</td>\n",
              "      <td>9,550</td>\n",
              "      <td>7,855</td>\n",
              "      <td>-214</td>\n",
              "      <td>-5,501</td>\n",
              "      <td>2,135</td>\n",
              "    </tr>\n",
              "  </tbody>\n",
              "</table>\n",
              "</div>"
            ],
            "text/plain": [
              "      분기     매출액   영업이익 영업이익(발표기준)  ... 영업활동현금흐름 투자활동현금흐름 재무활동현금흐름  EPS(원)\n",
              "0   19/6  12,578  3,991      3,991  ...    4,641   -1,878   -4,919   2,351\n",
              "1   19/9  13,222  3,825      3,825  ...   -2,278      -83     -329   2,337\n",
              "2  19/12  11,982  2,523      2,523  ...      837     -501     -129     873\n",
              "3   20/3  11,784  3,150      3,150  ...    2,336   -1,392      -86   2,134\n",
              "4   20/6  13,188  3,947      3,947  ...    7,855     -214   -5,501   2,135\n",
              "\n",
              "[5 rows x 17 columns]"
            ]
          },
          "metadata": {
            "tags": []
          },
          "execution_count": 30
        }
      ]
    },
    {
      "cell_type": "markdown",
      "metadata": {
        "id": "6o70ZcVzvNvI"
      },
      "source": [
        "### Convert Strings to Numbers(문자열을 숫자열로 변환)"
      ]
    },
    {
      "cell_type": "code",
      "metadata": {
        "colab": {
          "base_uri": "https://localhost:8080/",
          "height": 142
        },
        "id": "dN9xHU2ovDAh",
        "outputId": "062f08d2-2d11-498c-b852-486e9e5774d6"
      },
      "source": [
        "df = pd.DataFrame({'col_one':['1.1', '2.2', '3.3'],\n",
        "                   'col_two':['4.4','5.5','6.6'],\n",
        "                   'col_three':['7.7','8.8','-']})\n",
        "df"
      ],
      "execution_count": null,
      "outputs": [
        {
          "output_type": "execute_result",
          "data": {
            "text/html": [
              "<div>\n",
              "<style scoped>\n",
              "    .dataframe tbody tr th:only-of-type {\n",
              "        vertical-align: middle;\n",
              "    }\n",
              "\n",
              "    .dataframe tbody tr th {\n",
              "        vertical-align: top;\n",
              "    }\n",
              "\n",
              "    .dataframe thead th {\n",
              "        text-align: right;\n",
              "    }\n",
              "</style>\n",
              "<table border=\"1\" class=\"dataframe\">\n",
              "  <thead>\n",
              "    <tr style=\"text-align: right;\">\n",
              "      <th></th>\n",
              "      <th>col_one</th>\n",
              "      <th>col_two</th>\n",
              "      <th>col_three</th>\n",
              "    </tr>\n",
              "  </thead>\n",
              "  <tbody>\n",
              "    <tr>\n",
              "      <th>0</th>\n",
              "      <td>1.1</td>\n",
              "      <td>4.4</td>\n",
              "      <td>7.7</td>\n",
              "    </tr>\n",
              "    <tr>\n",
              "      <th>1</th>\n",
              "      <td>2.2</td>\n",
              "      <td>5.5</td>\n",
              "      <td>8.8</td>\n",
              "    </tr>\n",
              "    <tr>\n",
              "      <th>2</th>\n",
              "      <td>3.3</td>\n",
              "      <td>6.6</td>\n",
              "      <td>-</td>\n",
              "    </tr>\n",
              "  </tbody>\n",
              "</table>\n",
              "</div>"
            ],
            "text/plain": [
              "  col_one col_two col_three\n",
              "0     1.1     4.4       7.7\n",
              "1     2.2     5.5       8.8\n",
              "2     3.3     6.6         -"
            ]
          },
          "metadata": {
            "tags": []
          },
          "execution_count": 31
        }
      ]
    },
    {
      "cell_type": "code",
      "metadata": {
        "colab": {
          "base_uri": "https://localhost:8080/"
        },
        "id": "kq0To3F5vsPM",
        "outputId": "e415e52f-069e-451d-e2db-ee22e2bf5862"
      },
      "source": [
        "df.dtypes"
      ],
      "execution_count": null,
      "outputs": [
        {
          "output_type": "execute_result",
          "data": {
            "text/plain": [
              "col_one      object\n",
              "col_two      object\n",
              "col_three    object\n",
              "dtype: object"
            ]
          },
          "metadata": {
            "tags": []
          },
          "execution_count": 32
        }
      ]
    },
    {
      "cell_type": "code",
      "metadata": {
        "colab": {
          "base_uri": "https://localhost:8080/"
        },
        "id": "9gFoIQogvuHU",
        "outputId": "02916bfb-ce79-46bb-9b33-99801fee8b7b"
      },
      "source": [
        "df.astype({'col_one':'float','col_two':'float'}).dtypes"
      ],
      "execution_count": null,
      "outputs": [
        {
          "output_type": "execute_result",
          "data": {
            "text/plain": [
              "col_one      float64\n",
              "col_two      float64\n",
              "col_three     object\n",
              "dtype: object"
            ]
          },
          "metadata": {
            "tags": []
          },
          "execution_count": 33
        }
      ]
    },
    {
      "cell_type": "code",
      "metadata": {
        "colab": {
          "base_uri": "https://localhost:8080/"
        },
        "id": "9cH_25kdv-8H",
        "outputId": "1ab18381-3ff7-4212-d5a2-6f56852cf969"
      },
      "source": [
        "# 속성값에 결측값이 있으면 사용\n",
        "pd.to_numeric(df.col_three, errors='coerce')"
      ],
      "execution_count": null,
      "outputs": [
        {
          "output_type": "execute_result",
          "data": {
            "text/plain": [
              "0    7.7\n",
              "1    8.8\n",
              "2    NaN\n",
              "Name: col_three, dtype: float64"
            ]
          },
          "metadata": {
            "tags": []
          },
          "execution_count": 36
        }
      ]
    },
    {
      "cell_type": "code",
      "metadata": {
        "colab": {
          "base_uri": "https://localhost:8080/"
        },
        "id": "baSf-DBGwljM",
        "outputId": "1d588155-8550-4405-e30a-475d8de71815"
      },
      "source": [
        "# 결측값을 0으로 변환\n",
        "pd.to_numeric(df.col_three, errors='coerce').fillna(0)"
      ],
      "execution_count": null,
      "outputs": [
        {
          "output_type": "execute_result",
          "data": {
            "text/plain": [
              "0    7.7\n",
              "1    8.8\n",
              "2    0.0\n",
              "Name: col_three, dtype: float64"
            ]
          },
          "metadata": {
            "tags": []
          },
          "execution_count": 37
        }
      ]
    },
    {
      "cell_type": "code",
      "metadata": {
        "colab": {
          "base_uri": "https://localhost:8080/",
          "height": 142
        },
        "id": "ORBG_yMUwgzg",
        "outputId": "da7a85f2-ad8a-4279-8863-fa261c5e48d0"
      },
      "source": [
        "df = df.apply(pd.to_numeric, errors='coerce').fillna(0)\n",
        "df"
      ],
      "execution_count": null,
      "outputs": [
        {
          "output_type": "execute_result",
          "data": {
            "text/html": [
              "<div>\n",
              "<style scoped>\n",
              "    .dataframe tbody tr th:only-of-type {\n",
              "        vertical-align: middle;\n",
              "    }\n",
              "\n",
              "    .dataframe tbody tr th {\n",
              "        vertical-align: top;\n",
              "    }\n",
              "\n",
              "    .dataframe thead th {\n",
              "        text-align: right;\n",
              "    }\n",
              "</style>\n",
              "<table border=\"1\" class=\"dataframe\">\n",
              "  <thead>\n",
              "    <tr style=\"text-align: right;\">\n",
              "      <th></th>\n",
              "      <th>col_one</th>\n",
              "      <th>col_two</th>\n",
              "      <th>col_three</th>\n",
              "    </tr>\n",
              "  </thead>\n",
              "  <tbody>\n",
              "    <tr>\n",
              "      <th>0</th>\n",
              "      <td>1.1</td>\n",
              "      <td>4.4</td>\n",
              "      <td>7.7</td>\n",
              "    </tr>\n",
              "    <tr>\n",
              "      <th>1</th>\n",
              "      <td>2.2</td>\n",
              "      <td>5.5</td>\n",
              "      <td>8.8</td>\n",
              "    </tr>\n",
              "    <tr>\n",
              "      <th>2</th>\n",
              "      <td>3.3</td>\n",
              "      <td>6.6</td>\n",
              "      <td>0.0</td>\n",
              "    </tr>\n",
              "  </tbody>\n",
              "</table>\n",
              "</div>"
            ],
            "text/plain": [
              "   col_one  col_two  col_three\n",
              "0      1.1      4.4        7.7\n",
              "1      2.2      5.5        8.8\n",
              "2      3.3      6.6        0.0"
            ]
          },
          "metadata": {
            "tags": []
          },
          "execution_count": 39
        }
      ]
    },
    {
      "cell_type": "code",
      "metadata": {
        "colab": {
          "base_uri": "https://localhost:8080/"
        },
        "id": "8SVl7VoMw9pp",
        "outputId": "9dad9dec-71ed-47a9-e967-57de1c7ba518"
      },
      "source": [
        "df.dtypes"
      ],
      "execution_count": null,
      "outputs": [
        {
          "output_type": "execute_result",
          "data": {
            "text/plain": [
              "col_one      float64\n",
              "col_two      float64\n",
              "col_three    float64\n",
              "dtype: object"
            ]
          },
          "metadata": {
            "tags": []
          },
          "execution_count": 40
        }
      ]
    },
    {
      "cell_type": "markdown",
      "metadata": {
        "id": "l4MtnLXQxG4n"
      },
      "source": [
        "### 8. Reduce DataFrame Size(데이터 프레임의 크기 줄이기)"
      ]
    },
    {
      "cell_type": "code",
      "metadata": {
        "id": "N8jRIZRKxBBG"
      },
      "source": [
        "df_test.info(memory_usage='deep') # 5.3KB를 사용"
      ],
      "execution_count": null,
      "outputs": []
    },
    {
      "cell_type": "code",
      "metadata": {
        "colab": {
          "base_uri": "https://localhost:8080/"
        },
        "id": "b5N_vG1zxgHd",
        "outputId": "4e31cb9e-e89b-4788-f6d5-0d82d83edbf4"
      },
      "source": [
        "# 필요한 열만 추출\n",
        "cols = ['매출액', '영업이익']\n",
        "small_df = df_test[cols]\n",
        "small_df.info(memory_usage='deep') # 753바이트로 축소"
      ],
      "execution_count": null,
      "outputs": [
        {
          "output_type": "stream",
          "text": [
            "<class 'pandas.core.frame.DataFrame'>\n",
            "RangeIndex: 5 entries, 0 to 4\n",
            "Data columns (total 2 columns):\n",
            " #   Column  Non-Null Count  Dtype \n",
            "---  ------  --------------  ----- \n",
            " 0   매출액     5 non-null      object\n",
            " 1   영업이익    5 non-null      object\n",
            "dtypes: object(2)\n",
            "memory usage: 753.0 bytes\n"
          ],
          "name": "stdout"
        }
      ]
    },
    {
      "cell_type": "markdown",
      "metadata": {
        "id": "eFKLqye1yPS_"
      },
      "source": [
        "### 9. 여러 파일에 있는 row 데이터 세트를 읽어오기"
      ]
    },
    {
      "cell_type": "code",
      "metadata": {
        "id": "Uxg06prHwdDH"
      },
      "source": [
        "from glob import glob\n",
        "\n",
        "# data폴더에 있는 stocks으로 시작하는 파일을 찾아서 정렬\n",
        "stock_files = sorted(golb('data/stocks*.csv'))\n",
        "\n",
        "# stacks로 시작하는 모든 파일의 데이터를 가져와서 순서를 새로 배치\n",
        "pd.concat((pd.read_csv(file) for file in stock_files), ignore_index = True)\n"
      ],
      "execution_count": null,
      "outputs": []
    },
    {
      "cell_type": "markdown",
      "metadata": {
        "id": "85tBOB1Dy2Ym"
      },
      "source": [
        "### 10. 여러 파일에 있는 columns 데이터 세트 가져오기\n"
      ]
    },
    {
      "cell_type": "code",
      "metadata": {
        "id": "ixsjcl2U0Dom"
      },
      "source": [
        "# data폴더에 있는 drinks로 시작하는 파일을 찾고 정렬\n",
        "drink_files = sorted(glob('data/drinks*.csv'))\n",
        "\n",
        "# 데이터를 열을 기준으로 가지고 와서 순서대로 배치\n",
        "pd.concat((pd.read_csv(file) for file in drink_files), axis='columns').head()"
      ],
      "execution_count": null,
      "outputs": []
    },
    {
      "cell_type": "markdown",
      "metadata": {
        "id": "aROPEtieidav"
      },
      "source": [
        "### 11.Create a DataFrame from the clipboard(클립보드로 테이블을 복사해서 가져오기)"
      ]
    },
    {
      "cell_type": "code",
      "metadata": {
        "id": "tiQUqiM6h4xX"
      },
      "source": [
        "# 클립보드에 복사되어있는 테이블을 출력\n",
        "df = pd.read_clipboard()\n",
        "df"
      ],
      "execution_count": 5,
      "outputs": []
    },
    {
      "cell_type": "markdown",
      "metadata": {
        "id": "u2Gony2zjNrs"
      },
      "source": [
        "### 12.Split a DataFrame into two random subsets(데이터 분할 저장)"
      ]
    },
    {
      "cell_type": "code",
      "metadata": {
        "id": "Ac2FwI3Vi0Bd"
      },
      "source": [
        "# movies_1에 데이터의 75%만 무작위로 저장\n",
        "movies_1 = movies.sample(frac=0.75, random_state=1234)\n",
        "\n",
        "# movies_2에 movies_1을 뺀 부분만 저장(나머지 저장)\n",
        "movies_2 = movies.drop(movies_1.index)"
      ],
      "execution_count": null,
      "outputs": []
    },
    {
      "cell_type": "markdown",
      "metadata": {
        "id": "levwXOBKjx6V"
      },
      "source": [
        "### 13. Filter a DataFrame by multiple categories(조건에 맞는 데이터만 출력)"
      ]
    },
    {
      "cell_type": "code",
      "metadata": {
        "id": "vrzK73TykHFo"
      },
      "source": [
        "movies.genre.unique() # movies 데이터의 장르를 중복없이 출력\n",
        "\n",
        "# Action,Drama, Western의 장르만 출력 \n",
        "# 방법1\n",
        "movies[(movies.genre == 'Action') |\n",
        "       (movies.genre == 'Drama') |\n",
        "       (movies.genre == 'Western')].head()\n",
        "\n",
        "#방법2\n",
        "movies[movies.genre.isin(['Action', 'Drama', 'Western'])].head()\n",
        "\n",
        "#방법3 : 앞에 '~'표시를 넣으면 python의 'not'과 같은 역할\n",
        "movies[~movies.genre.isin(['Action', 'Drama', 'Western'])].head()"
      ],
      "execution_count": null,
      "outputs": []
    },
    {
      "cell_type": "code",
      "metadata": {
        "colab": {
          "base_uri": "https://localhost:8080/",
          "height": 289
        },
        "id": "wj5VzpuikrHc",
        "outputId": "f216aa1d-f9ca-4c1d-fb91-3c2e76341162"
      },
      "source": [
        "movies.head()"
      ],
      "execution_count": 8,
      "outputs": [
        {
          "output_type": "execute_result",
          "data": {
            "text/html": [
              "<div>\n",
              "<style scoped>\n",
              "    .dataframe tbody tr th:only-of-type {\n",
              "        vertical-align: middle;\n",
              "    }\n",
              "\n",
              "    .dataframe tbody tr th {\n",
              "        vertical-align: top;\n",
              "    }\n",
              "\n",
              "    .dataframe thead th {\n",
              "        text-align: right;\n",
              "    }\n",
              "</style>\n",
              "<table border=\"1\" class=\"dataframe\">\n",
              "  <thead>\n",
              "    <tr style=\"text-align: right;\">\n",
              "      <th></th>\n",
              "      <th>star_rating</th>\n",
              "      <th>title</th>\n",
              "      <th>content_rating</th>\n",
              "      <th>genre</th>\n",
              "      <th>duration</th>\n",
              "      <th>actors_list</th>\n",
              "    </tr>\n",
              "  </thead>\n",
              "  <tbody>\n",
              "    <tr>\n",
              "      <th>0</th>\n",
              "      <td>9.3</td>\n",
              "      <td>The Shawshank Redemption</td>\n",
              "      <td>R</td>\n",
              "      <td>Crime</td>\n",
              "      <td>142</td>\n",
              "      <td>[u'Tim Robbins', u'Morgan Freeman', u'Bob Gunt...</td>\n",
              "    </tr>\n",
              "    <tr>\n",
              "      <th>1</th>\n",
              "      <td>9.2</td>\n",
              "      <td>The Godfather</td>\n",
              "      <td>R</td>\n",
              "      <td>Crime</td>\n",
              "      <td>175</td>\n",
              "      <td>[u'Marlon Brando', u'Al Pacino', u'James Caan']</td>\n",
              "    </tr>\n",
              "    <tr>\n",
              "      <th>2</th>\n",
              "      <td>9.1</td>\n",
              "      <td>The Godfather: Part II</td>\n",
              "      <td>R</td>\n",
              "      <td>Crime</td>\n",
              "      <td>200</td>\n",
              "      <td>[u'Al Pacino', u'Robert De Niro', u'Robert Duv...</td>\n",
              "    </tr>\n",
              "    <tr>\n",
              "      <th>3</th>\n",
              "      <td>9.0</td>\n",
              "      <td>The Dark Knight</td>\n",
              "      <td>PG-13</td>\n",
              "      <td>Action</td>\n",
              "      <td>152</td>\n",
              "      <td>[u'Christian Bale', u'Heath Ledger', u'Aaron E...</td>\n",
              "    </tr>\n",
              "    <tr>\n",
              "      <th>4</th>\n",
              "      <td>8.9</td>\n",
              "      <td>Pulp Fiction</td>\n",
              "      <td>R</td>\n",
              "      <td>Crime</td>\n",
              "      <td>154</td>\n",
              "      <td>[u'John Travolta', u'Uma Thurman', u'Samuel L....</td>\n",
              "    </tr>\n",
              "  </tbody>\n",
              "</table>\n",
              "</div>"
            ],
            "text/plain": [
              "   star_rating  ...                                        actors_list\n",
              "0          9.3  ...  [u'Tim Robbins', u'Morgan Freeman', u'Bob Gunt...\n",
              "1          9.2  ...    [u'Marlon Brando', u'Al Pacino', u'James Caan']\n",
              "2          9.1  ...  [u'Al Pacino', u'Robert De Niro', u'Robert Duv...\n",
              "3          9.0  ...  [u'Christian Bale', u'Heath Ledger', u'Aaron E...\n",
              "4          8.9  ...  [u'John Travolta', u'Uma Thurman', u'Samuel L....\n",
              "\n",
              "[5 rows x 6 columns]"
            ]
          },
          "metadata": {
            "tags": []
          },
          "execution_count": 8
        }
      ]
    },
    {
      "cell_type": "markdown",
      "metadata": {
        "id": "pNWeb-NPlD8C"
      },
      "source": [
        "### 14. Filter a DataFrame by largest categories(가장 큰 3개의 장르만 출력)"
      ]
    },
    {
      "cell_type": "code",
      "metadata": {
        "colab": {
          "base_uri": "https://localhost:8080/"
        },
        "id": "7m9Ee6hYlbSN",
        "outputId": "8bb52f88-05f0-4e8f-b4fe-9ccdfc8271e4"
      },
      "source": [
        "counts = movies.genre.value_counts()\n",
        "counts "
      ],
      "execution_count": 9,
      "outputs": [
        {
          "output_type": "execute_result",
          "data": {
            "text/plain": [
              "Drama        278\n",
              "Comedy       156\n",
              "Action       136\n",
              "Crime        124\n",
              "Biography     77\n",
              "Adventure     75\n",
              "Animation     62\n",
              "Horror        29\n",
              "Mystery       16\n",
              "Western        9\n",
              "Thriller       5\n",
              "Sci-Fi         5\n",
              "Film-Noir      3\n",
              "Family         2\n",
              "Fantasy        1\n",
              "History        1\n",
              "Name: genre, dtype: int64"
            ]
          },
          "metadata": {
            "tags": []
          },
          "execution_count": 9
        }
      ]
    },
    {
      "cell_type": "code",
      "metadata": {
        "colab": {
          "base_uri": "https://localhost:8080/"
        },
        "id": "07pubYPhlbBF",
        "outputId": "67b11a85-3b1a-49cc-a46b-b5221c752b93"
      },
      "source": [
        "counts.nlargest(3).index # 상위 3개"
      ],
      "execution_count": 11,
      "outputs": [
        {
          "output_type": "execute_result",
          "data": {
            "text/plain": [
              "Index(['Drama', 'Comedy', 'Action'], dtype='object')"
            ]
          },
          "metadata": {
            "tags": []
          },
          "execution_count": 11
        }
      ]
    },
    {
      "cell_type": "code",
      "metadata": {
        "colab": {
          "base_uri": "https://localhost:8080/",
          "height": 289
        },
        "id": "56lxe8Yplg85",
        "outputId": "5a1e925e-b098-4d63-e920-14a0fb44f468"
      },
      "source": [
        "# 상위 3개인것만 출력\n",
        "movies[movies.genre.isin(counts.nlargest(3).index)].head()"
      ],
      "execution_count": 12,
      "outputs": [
        {
          "output_type": "execute_result",
          "data": {
            "text/html": [
              "<div>\n",
              "<style scoped>\n",
              "    .dataframe tbody tr th:only-of-type {\n",
              "        vertical-align: middle;\n",
              "    }\n",
              "\n",
              "    .dataframe tbody tr th {\n",
              "        vertical-align: top;\n",
              "    }\n",
              "\n",
              "    .dataframe thead th {\n",
              "        text-align: right;\n",
              "    }\n",
              "</style>\n",
              "<table border=\"1\" class=\"dataframe\">\n",
              "  <thead>\n",
              "    <tr style=\"text-align: right;\">\n",
              "      <th></th>\n",
              "      <th>star_rating</th>\n",
              "      <th>title</th>\n",
              "      <th>content_rating</th>\n",
              "      <th>genre</th>\n",
              "      <th>duration</th>\n",
              "      <th>actors_list</th>\n",
              "    </tr>\n",
              "  </thead>\n",
              "  <tbody>\n",
              "    <tr>\n",
              "      <th>3</th>\n",
              "      <td>9.0</td>\n",
              "      <td>The Dark Knight</td>\n",
              "      <td>PG-13</td>\n",
              "      <td>Action</td>\n",
              "      <td>152</td>\n",
              "      <td>[u'Christian Bale', u'Heath Ledger', u'Aaron E...</td>\n",
              "    </tr>\n",
              "    <tr>\n",
              "      <th>5</th>\n",
              "      <td>8.9</td>\n",
              "      <td>12 Angry Men</td>\n",
              "      <td>NOT RATED</td>\n",
              "      <td>Drama</td>\n",
              "      <td>96</td>\n",
              "      <td>[u'Henry Fonda', u'Lee J. Cobb', u'Martin Bals...</td>\n",
              "    </tr>\n",
              "    <tr>\n",
              "      <th>9</th>\n",
              "      <td>8.9</td>\n",
              "      <td>Fight Club</td>\n",
              "      <td>R</td>\n",
              "      <td>Drama</td>\n",
              "      <td>139</td>\n",
              "      <td>[u'Brad Pitt', u'Edward Norton', u'Helena Bonh...</td>\n",
              "    </tr>\n",
              "    <tr>\n",
              "      <th>11</th>\n",
              "      <td>8.8</td>\n",
              "      <td>Inception</td>\n",
              "      <td>PG-13</td>\n",
              "      <td>Action</td>\n",
              "      <td>148</td>\n",
              "      <td>[u'Leonardo DiCaprio', u'Joseph Gordon-Levitt'...</td>\n",
              "    </tr>\n",
              "    <tr>\n",
              "      <th>12</th>\n",
              "      <td>8.8</td>\n",
              "      <td>Star Wars: Episode V - The Empire Strikes Back</td>\n",
              "      <td>PG</td>\n",
              "      <td>Action</td>\n",
              "      <td>124</td>\n",
              "      <td>[u'Mark Hamill', u'Harrison Ford', u'Carrie Fi...</td>\n",
              "    </tr>\n",
              "  </tbody>\n",
              "</table>\n",
              "</div>"
            ],
            "text/plain": [
              "    star_rating  ...                                        actors_list\n",
              "3           9.0  ...  [u'Christian Bale', u'Heath Ledger', u'Aaron E...\n",
              "5           8.9  ...  [u'Henry Fonda', u'Lee J. Cobb', u'Martin Bals...\n",
              "9           8.9  ...  [u'Brad Pitt', u'Edward Norton', u'Helena Bonh...\n",
              "11          8.8  ...  [u'Leonardo DiCaprio', u'Joseph Gordon-Levitt'...\n",
              "12          8.8  ...  [u'Mark Hamill', u'Harrison Ford', u'Carrie Fi...\n",
              "\n",
              "[5 rows x 6 columns]"
            ]
          },
          "metadata": {
            "tags": []
          },
          "execution_count": 12
        }
      ]
    },
    {
      "cell_type": "markdown",
      "metadata": {
        "id": "B4rXf0kflr19"
      },
      "source": [
        "### 15. Handle missing values(결측값 비율 찾아서 열 삭제)\n"
      ]
    },
    {
      "cell_type": "code",
      "metadata": {
        "colab": {
          "base_uri": "https://localhost:8080/",
          "height": 204
        },
        "id": "ePQpZSYBmBxj",
        "outputId": "9f294479-7022-4a64-fd1d-2bbe695659cb"
      },
      "source": [
        "ufo.head()"
      ],
      "execution_count": 13,
      "outputs": [
        {
          "output_type": "execute_result",
          "data": {
            "text/html": [
              "<div>\n",
              "<style scoped>\n",
              "    .dataframe tbody tr th:only-of-type {\n",
              "        vertical-align: middle;\n",
              "    }\n",
              "\n",
              "    .dataframe tbody tr th {\n",
              "        vertical-align: top;\n",
              "    }\n",
              "\n",
              "    .dataframe thead th {\n",
              "        text-align: right;\n",
              "    }\n",
              "</style>\n",
              "<table border=\"1\" class=\"dataframe\">\n",
              "  <thead>\n",
              "    <tr style=\"text-align: right;\">\n",
              "      <th></th>\n",
              "      <th>City</th>\n",
              "      <th>Colors Reported</th>\n",
              "      <th>Shape Reported</th>\n",
              "      <th>State</th>\n",
              "      <th>Time</th>\n",
              "    </tr>\n",
              "  </thead>\n",
              "  <tbody>\n",
              "    <tr>\n",
              "      <th>0</th>\n",
              "      <td>Ithaca</td>\n",
              "      <td>NaN</td>\n",
              "      <td>TRIANGLE</td>\n",
              "      <td>NY</td>\n",
              "      <td>1930-06-01 22:00:00</td>\n",
              "    </tr>\n",
              "    <tr>\n",
              "      <th>1</th>\n",
              "      <td>Willingboro</td>\n",
              "      <td>NaN</td>\n",
              "      <td>OTHER</td>\n",
              "      <td>NJ</td>\n",
              "      <td>1930-06-30 20:00:00</td>\n",
              "    </tr>\n",
              "    <tr>\n",
              "      <th>2</th>\n",
              "      <td>Holyoke</td>\n",
              "      <td>NaN</td>\n",
              "      <td>OVAL</td>\n",
              "      <td>CO</td>\n",
              "      <td>1931-02-15 14:00:00</td>\n",
              "    </tr>\n",
              "    <tr>\n",
              "      <th>3</th>\n",
              "      <td>Abilene</td>\n",
              "      <td>NaN</td>\n",
              "      <td>DISK</td>\n",
              "      <td>KS</td>\n",
              "      <td>1931-06-01 13:00:00</td>\n",
              "    </tr>\n",
              "    <tr>\n",
              "      <th>4</th>\n",
              "      <td>New York Worlds Fair</td>\n",
              "      <td>NaN</td>\n",
              "      <td>LIGHT</td>\n",
              "      <td>NY</td>\n",
              "      <td>1933-04-18 19:00:00</td>\n",
              "    </tr>\n",
              "  </tbody>\n",
              "</table>\n",
              "</div>"
            ],
            "text/plain": [
              "                   City Colors Reported  ... State                Time\n",
              "0                Ithaca             NaN  ...    NY 1930-06-01 22:00:00\n",
              "1           Willingboro             NaN  ...    NJ 1930-06-30 20:00:00\n",
              "2               Holyoke             NaN  ...    CO 1931-02-15 14:00:00\n",
              "3               Abilene             NaN  ...    KS 1931-06-01 13:00:00\n",
              "4  New York Worlds Fair             NaN  ...    NY 1933-04-18 19:00:00\n",
              "\n",
              "[5 rows x 5 columns]"
            ]
          },
          "metadata": {
            "tags": []
          },
          "execution_count": 13
        }
      ]
    },
    {
      "cell_type": "code",
      "metadata": {
        "colab": {
          "base_uri": "https://localhost:8080/"
        },
        "id": "43taNVHemCW4",
        "outputId": "29b2660b-58a4-45cc-9ec6-b0b4bee8a078"
      },
      "source": [
        "# 각 column별 결측값 갯수\n",
        "ufo.isna().sum()"
      ],
      "execution_count": 14,
      "outputs": [
        {
          "output_type": "execute_result",
          "data": {
            "text/plain": [
              "City                  25\n",
              "Colors Reported    15359\n",
              "Shape Reported      2644\n",
              "State                  0\n",
              "Time                   0\n",
              "dtype: int64"
            ]
          },
          "metadata": {
            "tags": []
          },
          "execution_count": 14
        }
      ]
    },
    {
      "cell_type": "code",
      "metadata": {
        "colab": {
          "base_uri": "https://localhost:8080/"
        },
        "id": "i9t-W3qBmDRN",
        "outputId": "fdb79c21-ac29-44d8-fc39-b1acdfe216df"
      },
      "source": [
        "# 결측값 비율\n",
        "ufo.isna().mean()"
      ],
      "execution_count": 15,
      "outputs": [
        {
          "output_type": "execute_result",
          "data": {
            "text/plain": [
              "City               0.001371\n",
              "Colors Reported    0.842004\n",
              "Shape Reported     0.144948\n",
              "State              0.000000\n",
              "Time               0.000000\n",
              "dtype: float64"
            ]
          },
          "metadata": {
            "tags": []
          },
          "execution_count": 15
        }
      ]
    },
    {
      "cell_type": "code",
      "metadata": {
        "colab": {
          "base_uri": "https://localhost:8080/",
          "height": 204
        },
        "id": "Cci-UeFImJhN",
        "outputId": "b6407958-420a-4845-8455-1c63b0a2af0f"
      },
      "source": [
        "# 모든 결측값 열 삭제\n",
        "ufo.dropna(axis='columns').head()"
      ],
      "execution_count": 16,
      "outputs": [
        {
          "output_type": "execute_result",
          "data": {
            "text/html": [
              "<div>\n",
              "<style scoped>\n",
              "    .dataframe tbody tr th:only-of-type {\n",
              "        vertical-align: middle;\n",
              "    }\n",
              "\n",
              "    .dataframe tbody tr th {\n",
              "        vertical-align: top;\n",
              "    }\n",
              "\n",
              "    .dataframe thead th {\n",
              "        text-align: right;\n",
              "    }\n",
              "</style>\n",
              "<table border=\"1\" class=\"dataframe\">\n",
              "  <thead>\n",
              "    <tr style=\"text-align: right;\">\n",
              "      <th></th>\n",
              "      <th>State</th>\n",
              "      <th>Time</th>\n",
              "    </tr>\n",
              "  </thead>\n",
              "  <tbody>\n",
              "    <tr>\n",
              "      <th>0</th>\n",
              "      <td>NY</td>\n",
              "      <td>1930-06-01 22:00:00</td>\n",
              "    </tr>\n",
              "    <tr>\n",
              "      <th>1</th>\n",
              "      <td>NJ</td>\n",
              "      <td>1930-06-30 20:00:00</td>\n",
              "    </tr>\n",
              "    <tr>\n",
              "      <th>2</th>\n",
              "      <td>CO</td>\n",
              "      <td>1931-02-15 14:00:00</td>\n",
              "    </tr>\n",
              "    <tr>\n",
              "      <th>3</th>\n",
              "      <td>KS</td>\n",
              "      <td>1931-06-01 13:00:00</td>\n",
              "    </tr>\n",
              "    <tr>\n",
              "      <th>4</th>\n",
              "      <td>NY</td>\n",
              "      <td>1933-04-18 19:00:00</td>\n",
              "    </tr>\n",
              "  </tbody>\n",
              "</table>\n",
              "</div>"
            ],
            "text/plain": [
              "  State                Time\n",
              "0    NY 1930-06-01 22:00:00\n",
              "1    NJ 1930-06-30 20:00:00\n",
              "2    CO 1931-02-15 14:00:00\n",
              "3    KS 1931-06-01 13:00:00\n",
              "4    NY 1933-04-18 19:00:00"
            ]
          },
          "metadata": {
            "tags": []
          },
          "execution_count": 16
        }
      ]
    },
    {
      "cell_type": "code",
      "metadata": {
        "colab": {
          "base_uri": "https://localhost:8080/",
          "height": 204
        },
        "id": "rBQuQRSEmMWA",
        "outputId": "dd9f2a6f-d8ca-4b60-a252-1a79792a5dda"
      },
      "source": [
        "# 결측값이 90%이상인 열만 삭제\n",
        "ufo.dropna(thresh=len(ufo)*0.9, axis='columns').head()"
      ],
      "execution_count": 17,
      "outputs": [
        {
          "output_type": "execute_result",
          "data": {
            "text/html": [
              "<div>\n",
              "<style scoped>\n",
              "    .dataframe tbody tr th:only-of-type {\n",
              "        vertical-align: middle;\n",
              "    }\n",
              "\n",
              "    .dataframe tbody tr th {\n",
              "        vertical-align: top;\n",
              "    }\n",
              "\n",
              "    .dataframe thead th {\n",
              "        text-align: right;\n",
              "    }\n",
              "</style>\n",
              "<table border=\"1\" class=\"dataframe\">\n",
              "  <thead>\n",
              "    <tr style=\"text-align: right;\">\n",
              "      <th></th>\n",
              "      <th>City</th>\n",
              "      <th>State</th>\n",
              "      <th>Time</th>\n",
              "    </tr>\n",
              "  </thead>\n",
              "  <tbody>\n",
              "    <tr>\n",
              "      <th>0</th>\n",
              "      <td>Ithaca</td>\n",
              "      <td>NY</td>\n",
              "      <td>1930-06-01 22:00:00</td>\n",
              "    </tr>\n",
              "    <tr>\n",
              "      <th>1</th>\n",
              "      <td>Willingboro</td>\n",
              "      <td>NJ</td>\n",
              "      <td>1930-06-30 20:00:00</td>\n",
              "    </tr>\n",
              "    <tr>\n",
              "      <th>2</th>\n",
              "      <td>Holyoke</td>\n",
              "      <td>CO</td>\n",
              "      <td>1931-02-15 14:00:00</td>\n",
              "    </tr>\n",
              "    <tr>\n",
              "      <th>3</th>\n",
              "      <td>Abilene</td>\n",
              "      <td>KS</td>\n",
              "      <td>1931-06-01 13:00:00</td>\n",
              "    </tr>\n",
              "    <tr>\n",
              "      <th>4</th>\n",
              "      <td>New York Worlds Fair</td>\n",
              "      <td>NY</td>\n",
              "      <td>1933-04-18 19:00:00</td>\n",
              "    </tr>\n",
              "  </tbody>\n",
              "</table>\n",
              "</div>"
            ],
            "text/plain": [
              "                   City State                Time\n",
              "0                Ithaca    NY 1930-06-01 22:00:00\n",
              "1           Willingboro    NJ 1930-06-30 20:00:00\n",
              "2               Holyoke    CO 1931-02-15 14:00:00\n",
              "3               Abilene    KS 1931-06-01 13:00:00\n",
              "4  New York Worlds Fair    NY 1933-04-18 19:00:00"
            ]
          },
          "metadata": {
            "tags": []
          },
          "execution_count": 17
        }
      ]
    },
    {
      "cell_type": "markdown",
      "metadata": {
        "id": "83E3jEB9mZPT"
      },
      "source": [
        "### 16.Split a string into multiple columns(문자열 분할)"
      ]
    },
    {
      "cell_type": "code",
      "metadata": {
        "colab": {
          "base_uri": "https://localhost:8080/",
          "height": 111
        },
        "id": "ON0lhBoumxoA",
        "outputId": "50572441-5f77-4211-fb49-b4450ea26b36"
      },
      "source": [
        "df = pd.DataFrame({'name':['John Arthur Doe', 'Jane Ann Smith'],\n",
        "                   'location':['Los Angeles, CA', 'Washington, DC']})\n",
        "df"
      ],
      "execution_count": 18,
      "outputs": [
        {
          "output_type": "execute_result",
          "data": {
            "text/html": [
              "<div>\n",
              "<style scoped>\n",
              "    .dataframe tbody tr th:only-of-type {\n",
              "        vertical-align: middle;\n",
              "    }\n",
              "\n",
              "    .dataframe tbody tr th {\n",
              "        vertical-align: top;\n",
              "    }\n",
              "\n",
              "    .dataframe thead th {\n",
              "        text-align: right;\n",
              "    }\n",
              "</style>\n",
              "<table border=\"1\" class=\"dataframe\">\n",
              "  <thead>\n",
              "    <tr style=\"text-align: right;\">\n",
              "      <th></th>\n",
              "      <th>name</th>\n",
              "      <th>location</th>\n",
              "    </tr>\n",
              "  </thead>\n",
              "  <tbody>\n",
              "    <tr>\n",
              "      <th>0</th>\n",
              "      <td>John Arthur Doe</td>\n",
              "      <td>Los Angeles, CA</td>\n",
              "    </tr>\n",
              "    <tr>\n",
              "      <th>1</th>\n",
              "      <td>Jane Ann Smith</td>\n",
              "      <td>Washington, DC</td>\n",
              "    </tr>\n",
              "  </tbody>\n",
              "</table>\n",
              "</div>"
            ],
            "text/plain": [
              "              name         location\n",
              "0  John Arthur Doe  Los Angeles, CA\n",
              "1   Jane Ann Smith   Washington, DC"
            ]
          },
          "metadata": {
            "tags": []
          },
          "execution_count": 18
        }
      ]
    },
    {
      "cell_type": "code",
      "metadata": {
        "colab": {
          "base_uri": "https://localhost:8080/",
          "height": 111
        },
        "id": "lJC0y_mwmzgn",
        "outputId": "ac591b41-8413-44da-bbb7-64b02ccf4f51"
      },
      "source": [
        "df.name.str.split(' ', expand=True)"
      ],
      "execution_count": 19,
      "outputs": [
        {
          "output_type": "execute_result",
          "data": {
            "text/html": [
              "<div>\n",
              "<style scoped>\n",
              "    .dataframe tbody tr th:only-of-type {\n",
              "        vertical-align: middle;\n",
              "    }\n",
              "\n",
              "    .dataframe tbody tr th {\n",
              "        vertical-align: top;\n",
              "    }\n",
              "\n",
              "    .dataframe thead th {\n",
              "        text-align: right;\n",
              "    }\n",
              "</style>\n",
              "<table border=\"1\" class=\"dataframe\">\n",
              "  <thead>\n",
              "    <tr style=\"text-align: right;\">\n",
              "      <th></th>\n",
              "      <th>0</th>\n",
              "      <th>1</th>\n",
              "      <th>2</th>\n",
              "    </tr>\n",
              "  </thead>\n",
              "  <tbody>\n",
              "    <tr>\n",
              "      <th>0</th>\n",
              "      <td>John</td>\n",
              "      <td>Arthur</td>\n",
              "      <td>Doe</td>\n",
              "    </tr>\n",
              "    <tr>\n",
              "      <th>1</th>\n",
              "      <td>Jane</td>\n",
              "      <td>Ann</td>\n",
              "      <td>Smith</td>\n",
              "    </tr>\n",
              "  </tbody>\n",
              "</table>\n",
              "</div>"
            ],
            "text/plain": [
              "      0       1      2\n",
              "0  John  Arthur    Doe\n",
              "1  Jane     Ann  Smith"
            ]
          },
          "metadata": {
            "tags": []
          },
          "execution_count": 19
        }
      ]
    },
    {
      "cell_type": "code",
      "metadata": {
        "colab": {
          "base_uri": "https://localhost:8080/",
          "height": 111
        },
        "id": "th6YBLJym2FP",
        "outputId": "86ac6a8e-fbe3-4421-e6c2-e2587b2a54e3"
      },
      "source": [
        "df[['first', 'middle', 'last']] = df.name.str.split(' ', expand=True)\n",
        "df"
      ],
      "execution_count": 20,
      "outputs": [
        {
          "output_type": "execute_result",
          "data": {
            "text/html": [
              "<div>\n",
              "<style scoped>\n",
              "    .dataframe tbody tr th:only-of-type {\n",
              "        vertical-align: middle;\n",
              "    }\n",
              "\n",
              "    .dataframe tbody tr th {\n",
              "        vertical-align: top;\n",
              "    }\n",
              "\n",
              "    .dataframe thead th {\n",
              "        text-align: right;\n",
              "    }\n",
              "</style>\n",
              "<table border=\"1\" class=\"dataframe\">\n",
              "  <thead>\n",
              "    <tr style=\"text-align: right;\">\n",
              "      <th></th>\n",
              "      <th>name</th>\n",
              "      <th>location</th>\n",
              "      <th>first</th>\n",
              "      <th>middle</th>\n",
              "      <th>last</th>\n",
              "    </tr>\n",
              "  </thead>\n",
              "  <tbody>\n",
              "    <tr>\n",
              "      <th>0</th>\n",
              "      <td>John Arthur Doe</td>\n",
              "      <td>Los Angeles, CA</td>\n",
              "      <td>John</td>\n",
              "      <td>Arthur</td>\n",
              "      <td>Doe</td>\n",
              "    </tr>\n",
              "    <tr>\n",
              "      <th>1</th>\n",
              "      <td>Jane Ann Smith</td>\n",
              "      <td>Washington, DC</td>\n",
              "      <td>Jane</td>\n",
              "      <td>Ann</td>\n",
              "      <td>Smith</td>\n",
              "    </tr>\n",
              "  </tbody>\n",
              "</table>\n",
              "</div>"
            ],
            "text/plain": [
              "              name         location first  middle   last\n",
              "0  John Arthur Doe  Los Angeles, CA  John  Arthur    Doe\n",
              "1   Jane Ann Smith   Washington, DC  Jane     Ann  Smith"
            ]
          },
          "metadata": {
            "tags": []
          },
          "execution_count": 20
        }
      ]
    },
    {
      "cell_type": "code",
      "metadata": {
        "colab": {
          "base_uri": "https://localhost:8080/",
          "height": 111
        },
        "id": "JOzNMyjJm0sn",
        "outputId": "f2160915-7f15-40f0-b462-450a9caee860"
      },
      "source": [
        "df.location.str.split(', ', expand=True)"
      ],
      "execution_count": 21,
      "outputs": [
        {
          "output_type": "execute_result",
          "data": {
            "text/html": [
              "<div>\n",
              "<style scoped>\n",
              "    .dataframe tbody tr th:only-of-type {\n",
              "        vertical-align: middle;\n",
              "    }\n",
              "\n",
              "    .dataframe tbody tr th {\n",
              "        vertical-align: top;\n",
              "    }\n",
              "\n",
              "    .dataframe thead th {\n",
              "        text-align: right;\n",
              "    }\n",
              "</style>\n",
              "<table border=\"1\" class=\"dataframe\">\n",
              "  <thead>\n",
              "    <tr style=\"text-align: right;\">\n",
              "      <th></th>\n",
              "      <th>0</th>\n",
              "      <th>1</th>\n",
              "    </tr>\n",
              "  </thead>\n",
              "  <tbody>\n",
              "    <tr>\n",
              "      <th>0</th>\n",
              "      <td>Los Angeles</td>\n",
              "      <td>CA</td>\n",
              "    </tr>\n",
              "    <tr>\n",
              "      <th>1</th>\n",
              "      <td>Washington</td>\n",
              "      <td>DC</td>\n",
              "    </tr>\n",
              "  </tbody>\n",
              "</table>\n",
              "</div>"
            ],
            "text/plain": [
              "             0   1\n",
              "0  Los Angeles  CA\n",
              "1   Washington  DC"
            ]
          },
          "metadata": {
            "tags": []
          },
          "execution_count": 21
        }
      ]
    },
    {
      "cell_type": "code",
      "metadata": {
        "colab": {
          "base_uri": "https://localhost:8080/",
          "height": 111
        },
        "id": "uQwV1rlInBLW",
        "outputId": "f4fdd5ec-16d4-4626-bd10-caf7b07d18d1"
      },
      "source": [
        "# name, location을 바탕으로 새로운 열 추가\n",
        "df['city'] = df.location.str.split(', ', expand=True)[0]\n",
        "df"
      ],
      "execution_count": 22,
      "outputs": [
        {
          "output_type": "execute_result",
          "data": {
            "text/html": [
              "<div>\n",
              "<style scoped>\n",
              "    .dataframe tbody tr th:only-of-type {\n",
              "        vertical-align: middle;\n",
              "    }\n",
              "\n",
              "    .dataframe tbody tr th {\n",
              "        vertical-align: top;\n",
              "    }\n",
              "\n",
              "    .dataframe thead th {\n",
              "        text-align: right;\n",
              "    }\n",
              "</style>\n",
              "<table border=\"1\" class=\"dataframe\">\n",
              "  <thead>\n",
              "    <tr style=\"text-align: right;\">\n",
              "      <th></th>\n",
              "      <th>name</th>\n",
              "      <th>location</th>\n",
              "      <th>first</th>\n",
              "      <th>middle</th>\n",
              "      <th>last</th>\n",
              "      <th>city</th>\n",
              "    </tr>\n",
              "  </thead>\n",
              "  <tbody>\n",
              "    <tr>\n",
              "      <th>0</th>\n",
              "      <td>John Arthur Doe</td>\n",
              "      <td>Los Angeles, CA</td>\n",
              "      <td>John</td>\n",
              "      <td>Arthur</td>\n",
              "      <td>Doe</td>\n",
              "      <td>Los Angeles</td>\n",
              "    </tr>\n",
              "    <tr>\n",
              "      <th>1</th>\n",
              "      <td>Jane Ann Smith</td>\n",
              "      <td>Washington, DC</td>\n",
              "      <td>Jane</td>\n",
              "      <td>Ann</td>\n",
              "      <td>Smith</td>\n",
              "      <td>Washington</td>\n",
              "    </tr>\n",
              "  </tbody>\n",
              "</table>\n",
              "</div>"
            ],
            "text/plain": [
              "              name         location first  middle   last         city\n",
              "0  John Arthur Doe  Los Angeles, CA  John  Arthur    Doe  Los Angeles\n",
              "1   Jane Ann Smith   Washington, DC  Jane     Ann  Smith   Washington"
            ]
          },
          "metadata": {
            "tags": []
          },
          "execution_count": 22
        }
      ]
    },
    {
      "cell_type": "markdown",
      "metadata": {
        "id": "ZiJ0lgUInTxw"
      },
      "source": [
        "### 17. Expand a Series of lists into a DataFrame(데이터 프레임에서 데이터 프레임 만들기) "
      ]
    },
    {
      "cell_type": "code",
      "metadata": {
        "colab": {
          "base_uri": "https://localhost:8080/",
          "height": 142
        },
        "id": "pu5d1-egnLVI",
        "outputId": "60bd7681-ec79-4fd1-ceb1-b64854482766"
      },
      "source": [
        "df = pd.DataFrame({'col_one':['a', 'b', 'c'], 'col_two':[[10, 40], [20, 50], [30, 60]]})\n",
        "df"
      ],
      "execution_count": 23,
      "outputs": [
        {
          "output_type": "execute_result",
          "data": {
            "text/html": [
              "<div>\n",
              "<style scoped>\n",
              "    .dataframe tbody tr th:only-of-type {\n",
              "        vertical-align: middle;\n",
              "    }\n",
              "\n",
              "    .dataframe tbody tr th {\n",
              "        vertical-align: top;\n",
              "    }\n",
              "\n",
              "    .dataframe thead th {\n",
              "        text-align: right;\n",
              "    }\n",
              "</style>\n",
              "<table border=\"1\" class=\"dataframe\">\n",
              "  <thead>\n",
              "    <tr style=\"text-align: right;\">\n",
              "      <th></th>\n",
              "      <th>col_one</th>\n",
              "      <th>col_two</th>\n",
              "    </tr>\n",
              "  </thead>\n",
              "  <tbody>\n",
              "    <tr>\n",
              "      <th>0</th>\n",
              "      <td>a</td>\n",
              "      <td>[10, 40]</td>\n",
              "    </tr>\n",
              "    <tr>\n",
              "      <th>1</th>\n",
              "      <td>b</td>\n",
              "      <td>[20, 50]</td>\n",
              "    </tr>\n",
              "    <tr>\n",
              "      <th>2</th>\n",
              "      <td>c</td>\n",
              "      <td>[30, 60]</td>\n",
              "    </tr>\n",
              "  </tbody>\n",
              "</table>\n",
              "</div>"
            ],
            "text/plain": [
              "  col_one   col_two\n",
              "0       a  [10, 40]\n",
              "1       b  [20, 50]\n",
              "2       c  [30, 60]"
            ]
          },
          "metadata": {
            "tags": []
          },
          "execution_count": 23
        }
      ]
    },
    {
      "cell_type": "code",
      "metadata": {
        "colab": {
          "base_uri": "https://localhost:8080/",
          "height": 142
        },
        "id": "we4Nwr9znfW-",
        "outputId": "49e7fa7d-e44b-4084-9a16-54c27352e08c"
      },
      "source": [
        "df_new = df.col_two.apply(pd.Series)\n",
        "df_new"
      ],
      "execution_count": 24,
      "outputs": [
        {
          "output_type": "execute_result",
          "data": {
            "text/html": [
              "<div>\n",
              "<style scoped>\n",
              "    .dataframe tbody tr th:only-of-type {\n",
              "        vertical-align: middle;\n",
              "    }\n",
              "\n",
              "    .dataframe tbody tr th {\n",
              "        vertical-align: top;\n",
              "    }\n",
              "\n",
              "    .dataframe thead th {\n",
              "        text-align: right;\n",
              "    }\n",
              "</style>\n",
              "<table border=\"1\" class=\"dataframe\">\n",
              "  <thead>\n",
              "    <tr style=\"text-align: right;\">\n",
              "      <th></th>\n",
              "      <th>0</th>\n",
              "      <th>1</th>\n",
              "    </tr>\n",
              "  </thead>\n",
              "  <tbody>\n",
              "    <tr>\n",
              "      <th>0</th>\n",
              "      <td>10</td>\n",
              "      <td>40</td>\n",
              "    </tr>\n",
              "    <tr>\n",
              "      <th>1</th>\n",
              "      <td>20</td>\n",
              "      <td>50</td>\n",
              "    </tr>\n",
              "    <tr>\n",
              "      <th>2</th>\n",
              "      <td>30</td>\n",
              "      <td>60</td>\n",
              "    </tr>\n",
              "  </tbody>\n",
              "</table>\n",
              "</div>"
            ],
            "text/plain": [
              "    0   1\n",
              "0  10  40\n",
              "1  20  50\n",
              "2  30  60"
            ]
          },
          "metadata": {
            "tags": []
          },
          "execution_count": 24
        }
      ]
    },
    {
      "cell_type": "markdown",
      "metadata": {
        "id": "CU0SnlTYniD_"
      },
      "source": [
        "### 18. Aggregate by multiple functions"
      ]
    },
    {
      "cell_type": "code",
      "metadata": {
        "colab": {
          "base_uri": "https://localhost:8080/",
          "height": 393
        },
        "id": "qtEVRE9poCko",
        "outputId": "d3cbc73c-032e-47c1-ebbf-b8351dda16d5"
      },
      "source": [
        "orders.head(10)"
      ],
      "execution_count": 25,
      "outputs": [
        {
          "output_type": "execute_result",
          "data": {
            "text/html": [
              "<div>\n",
              "<style scoped>\n",
              "    .dataframe tbody tr th:only-of-type {\n",
              "        vertical-align: middle;\n",
              "    }\n",
              "\n",
              "    .dataframe tbody tr th {\n",
              "        vertical-align: top;\n",
              "    }\n",
              "\n",
              "    .dataframe thead th {\n",
              "        text-align: right;\n",
              "    }\n",
              "</style>\n",
              "<table border=\"1\" class=\"dataframe\">\n",
              "  <thead>\n",
              "    <tr style=\"text-align: right;\">\n",
              "      <th></th>\n",
              "      <th>order_id</th>\n",
              "      <th>quantity</th>\n",
              "      <th>item_name</th>\n",
              "      <th>choice_description</th>\n",
              "      <th>item_price</th>\n",
              "    </tr>\n",
              "  </thead>\n",
              "  <tbody>\n",
              "    <tr>\n",
              "      <th>0</th>\n",
              "      <td>1</td>\n",
              "      <td>1</td>\n",
              "      <td>Chips and Fresh Tomato Salsa</td>\n",
              "      <td>NaN</td>\n",
              "      <td>2.39</td>\n",
              "    </tr>\n",
              "    <tr>\n",
              "      <th>1</th>\n",
              "      <td>1</td>\n",
              "      <td>1</td>\n",
              "      <td>Izze</td>\n",
              "      <td>[Clementine]</td>\n",
              "      <td>3.39</td>\n",
              "    </tr>\n",
              "    <tr>\n",
              "      <th>2</th>\n",
              "      <td>1</td>\n",
              "      <td>1</td>\n",
              "      <td>Nantucket Nectar</td>\n",
              "      <td>[Apple]</td>\n",
              "      <td>3.39</td>\n",
              "    </tr>\n",
              "    <tr>\n",
              "      <th>3</th>\n",
              "      <td>1</td>\n",
              "      <td>1</td>\n",
              "      <td>Chips and Tomatillo-Green Chili Salsa</td>\n",
              "      <td>NaN</td>\n",
              "      <td>2.39</td>\n",
              "    </tr>\n",
              "    <tr>\n",
              "      <th>4</th>\n",
              "      <td>2</td>\n",
              "      <td>2</td>\n",
              "      <td>Chicken Bowl</td>\n",
              "      <td>[Tomatillo-Red Chili Salsa (Hot), [Black Beans...</td>\n",
              "      <td>16.98</td>\n",
              "    </tr>\n",
              "    <tr>\n",
              "      <th>5</th>\n",
              "      <td>3</td>\n",
              "      <td>1</td>\n",
              "      <td>Chicken Bowl</td>\n",
              "      <td>[Fresh Tomato Salsa (Mild), [Rice, Cheese, Sou...</td>\n",
              "      <td>10.98</td>\n",
              "    </tr>\n",
              "    <tr>\n",
              "      <th>6</th>\n",
              "      <td>3</td>\n",
              "      <td>1</td>\n",
              "      <td>Side of Chips</td>\n",
              "      <td>NaN</td>\n",
              "      <td>1.69</td>\n",
              "    </tr>\n",
              "    <tr>\n",
              "      <th>7</th>\n",
              "      <td>4</td>\n",
              "      <td>1</td>\n",
              "      <td>Steak Burrito</td>\n",
              "      <td>[Tomatillo Red Chili Salsa, [Fajita Vegetables...</td>\n",
              "      <td>11.75</td>\n",
              "    </tr>\n",
              "    <tr>\n",
              "      <th>8</th>\n",
              "      <td>4</td>\n",
              "      <td>1</td>\n",
              "      <td>Steak Soft Tacos</td>\n",
              "      <td>[Tomatillo Green Chili Salsa, [Pinto Beans, Ch...</td>\n",
              "      <td>9.25</td>\n",
              "    </tr>\n",
              "    <tr>\n",
              "      <th>9</th>\n",
              "      <td>5</td>\n",
              "      <td>1</td>\n",
              "      <td>Steak Burrito</td>\n",
              "      <td>[Fresh Tomato Salsa, [Rice, Black Beans, Pinto...</td>\n",
              "      <td>9.25</td>\n",
              "    </tr>\n",
              "  </tbody>\n",
              "</table>\n",
              "</div>"
            ],
            "text/plain": [
              "   order_id  ...  item_price\n",
              "0         1  ...        2.39\n",
              "1         1  ...        3.39\n",
              "2         1  ...        3.39\n",
              "3         1  ...        2.39\n",
              "4         2  ...       16.98\n",
              "5         3  ...       10.98\n",
              "6         3  ...        1.69\n",
              "7         4  ...       11.75\n",
              "8         4  ...        9.25\n",
              "9         5  ...        9.25\n",
              "\n",
              "[10 rows x 5 columns]"
            ]
          },
          "metadata": {
            "tags": []
          },
          "execution_count": 25
        }
      ]
    },
    {
      "cell_type": "code",
      "metadata": {
        "colab": {
          "base_uri": "https://localhost:8080/"
        },
        "id": "zobrZnNcngSC",
        "outputId": "19ed395f-4fa1-4ed1-a33a-f41b52f3b663"
      },
      "source": [
        "# 주문번호가 1인 사람들의 item_price의 합\n",
        "orders[orders.order_id == 1].item_price.sum()"
      ],
      "execution_count": 26,
      "outputs": [
        {
          "output_type": "execute_result",
          "data": {
            "text/plain": [
              "11.56"
            ]
          },
          "metadata": {
            "tags": []
          },
          "execution_count": 26
        }
      ]
    },
    {
      "cell_type": "code",
      "metadata": {
        "colab": {
          "base_uri": "https://localhost:8080/"
        },
        "id": "3RlAvNXjoJsq",
        "outputId": "8a6449c0-212b-407e-fefb-021f1d3688c3"
      },
      "source": [
        "# 주문번호별 합\n",
        "orders.groupby('order_id').item_price.sum().head()"
      ],
      "execution_count": 27,
      "outputs": [
        {
          "output_type": "execute_result",
          "data": {
            "text/plain": [
              "order_id\n",
              "1    11.56\n",
              "2    16.98\n",
              "3    12.67\n",
              "4    21.00\n",
              "5    13.70\n",
              "Name: item_price, dtype: float64"
            ]
          },
          "metadata": {
            "tags": []
          },
          "execution_count": 27
        }
      ]
    },
    {
      "cell_type": "code",
      "metadata": {
        "colab": {
          "base_uri": "https://localhost:8080/",
          "height": 235
        },
        "id": "5yJsm8JpoO6i",
        "outputId": "e907860f-e645-4b3d-eeef-9d6b2472e808"
      },
      "source": [
        "# 합과 갯수를 같이 구할때 agg매서드 활용\n",
        "orders.groupby('order_id').item_price.agg(['sum', 'count']).head()"
      ],
      "execution_count": 28,
      "outputs": [
        {
          "output_type": "execute_result",
          "data": {
            "text/html": [
              "<div>\n",
              "<style scoped>\n",
              "    .dataframe tbody tr th:only-of-type {\n",
              "        vertical-align: middle;\n",
              "    }\n",
              "\n",
              "    .dataframe tbody tr th {\n",
              "        vertical-align: top;\n",
              "    }\n",
              "\n",
              "    .dataframe thead th {\n",
              "        text-align: right;\n",
              "    }\n",
              "</style>\n",
              "<table border=\"1\" class=\"dataframe\">\n",
              "  <thead>\n",
              "    <tr style=\"text-align: right;\">\n",
              "      <th></th>\n",
              "      <th>sum</th>\n",
              "      <th>count</th>\n",
              "    </tr>\n",
              "    <tr>\n",
              "      <th>order_id</th>\n",
              "      <th></th>\n",
              "      <th></th>\n",
              "    </tr>\n",
              "  </thead>\n",
              "  <tbody>\n",
              "    <tr>\n",
              "      <th>1</th>\n",
              "      <td>11.56</td>\n",
              "      <td>4</td>\n",
              "    </tr>\n",
              "    <tr>\n",
              "      <th>2</th>\n",
              "      <td>16.98</td>\n",
              "      <td>1</td>\n",
              "    </tr>\n",
              "    <tr>\n",
              "      <th>3</th>\n",
              "      <td>12.67</td>\n",
              "      <td>2</td>\n",
              "    </tr>\n",
              "    <tr>\n",
              "      <th>4</th>\n",
              "      <td>21.00</td>\n",
              "      <td>2</td>\n",
              "    </tr>\n",
              "    <tr>\n",
              "      <th>5</th>\n",
              "      <td>13.70</td>\n",
              "      <td>2</td>\n",
              "    </tr>\n",
              "  </tbody>\n",
              "</table>\n",
              "</div>"
            ],
            "text/plain": [
              "            sum  count\n",
              "order_id              \n",
              "1         11.56      4\n",
              "2         16.98      1\n",
              "3         12.67      2\n",
              "4         21.00      2\n",
              "5         13.70      2"
            ]
          },
          "metadata": {
            "tags": []
          },
          "execution_count": 28
        }
      ]
    },
    {
      "cell_type": "markdown",
      "metadata": {
        "id": "6rdG3mqgoZQh"
      },
      "source": [
        "### 19. Combine the output of an aggregation with a DataFrame(group별 데이터 프레임에 추가)"
      ]
    },
    {
      "cell_type": "code",
      "metadata": {
        "colab": {
          "base_uri": "https://localhost:8080/",
          "height": 478
        },
        "id": "xbvGno8qoZCb",
        "outputId": "df7523f3-96b8-4f52-caf1-7a47b05a2f8f"
      },
      "source": [
        "orders.head(10)"
      ],
      "execution_count": 29,
      "outputs": [
        {
          "output_type": "execute_result",
          "data": {
            "text/html": [
              "<div>\n",
              "<style scoped>\n",
              "    .dataframe tbody tr th:only-of-type {\n",
              "        vertical-align: middle;\n",
              "    }\n",
              "\n",
              "    .dataframe tbody tr th {\n",
              "        vertical-align: top;\n",
              "    }\n",
              "\n",
              "    .dataframe thead th {\n",
              "        text-align: right;\n",
              "    }\n",
              "</style>\n",
              "<table border=\"1\" class=\"dataframe\">\n",
              "  <thead>\n",
              "    <tr style=\"text-align: right;\">\n",
              "      <th></th>\n",
              "      <th>order_id</th>\n",
              "      <th>quantity</th>\n",
              "      <th>item_name</th>\n",
              "      <th>choice_description</th>\n",
              "      <th>item_price</th>\n",
              "    </tr>\n",
              "  </thead>\n",
              "  <tbody>\n",
              "    <tr>\n",
              "      <th>0</th>\n",
              "      <td>1</td>\n",
              "      <td>1</td>\n",
              "      <td>Chips and Fresh Tomato Salsa</td>\n",
              "      <td>NaN</td>\n",
              "      <td>2.39</td>\n",
              "    </tr>\n",
              "    <tr>\n",
              "      <th>1</th>\n",
              "      <td>1</td>\n",
              "      <td>1</td>\n",
              "      <td>Izze</td>\n",
              "      <td>[Clementine]</td>\n",
              "      <td>3.39</td>\n",
              "    </tr>\n",
              "    <tr>\n",
              "      <th>2</th>\n",
              "      <td>1</td>\n",
              "      <td>1</td>\n",
              "      <td>Nantucket Nectar</td>\n",
              "      <td>[Apple]</td>\n",
              "      <td>3.39</td>\n",
              "    </tr>\n",
              "    <tr>\n",
              "      <th>3</th>\n",
              "      <td>1</td>\n",
              "      <td>1</td>\n",
              "      <td>Chips and Tomatillo-Green Chili Salsa</td>\n",
              "      <td>NaN</td>\n",
              "      <td>2.39</td>\n",
              "    </tr>\n",
              "    <tr>\n",
              "      <th>4</th>\n",
              "      <td>2</td>\n",
              "      <td>2</td>\n",
              "      <td>Chicken Bowl</td>\n",
              "      <td>[Tomatillo-Red Chili Salsa (Hot), [Black Beans...</td>\n",
              "      <td>16.98</td>\n",
              "    </tr>\n",
              "    <tr>\n",
              "      <th>5</th>\n",
              "      <td>3</td>\n",
              "      <td>1</td>\n",
              "      <td>Chicken Bowl</td>\n",
              "      <td>[Fresh Tomato Salsa (Mild), [Rice, Cheese, Sou...</td>\n",
              "      <td>10.98</td>\n",
              "    </tr>\n",
              "    <tr>\n",
              "      <th>6</th>\n",
              "      <td>3</td>\n",
              "      <td>1</td>\n",
              "      <td>Side of Chips</td>\n",
              "      <td>NaN</td>\n",
              "      <td>1.69</td>\n",
              "    </tr>\n",
              "    <tr>\n",
              "      <th>7</th>\n",
              "      <td>4</td>\n",
              "      <td>1</td>\n",
              "      <td>Steak Burrito</td>\n",
              "      <td>[Tomatillo Red Chili Salsa, [Fajita Vegetables...</td>\n",
              "      <td>11.75</td>\n",
              "    </tr>\n",
              "    <tr>\n",
              "      <th>8</th>\n",
              "      <td>4</td>\n",
              "      <td>1</td>\n",
              "      <td>Steak Soft Tacos</td>\n",
              "      <td>[Tomatillo Green Chili Salsa, [Pinto Beans, Ch...</td>\n",
              "      <td>9.25</td>\n",
              "    </tr>\n",
              "    <tr>\n",
              "      <th>9</th>\n",
              "      <td>5</td>\n",
              "      <td>1</td>\n",
              "      <td>Steak Burrito</td>\n",
              "      <td>[Fresh Tomato Salsa, [Rice, Black Beans, Pinto...</td>\n",
              "      <td>9.25</td>\n",
              "    </tr>\n",
              "  </tbody>\n",
              "</table>\n",
              "</div>"
            ],
            "text/plain": [
              "   order_id  ...  item_price\n",
              "0         1  ...        2.39\n",
              "1         1  ...        3.39\n",
              "2         1  ...        3.39\n",
              "3         1  ...        2.39\n",
              "4         2  ...       16.98\n",
              "5         3  ...       10.98\n",
              "6         3  ...        1.69\n",
              "7         4  ...       11.75\n",
              "8         4  ...        9.25\n",
              "9         5  ...        9.25\n",
              "\n",
              "[10 rows x 5 columns]"
            ]
          },
          "metadata": {
            "tags": []
          },
          "execution_count": 29
        }
      ]
    },
    {
      "cell_type": "code",
      "metadata": {
        "colab": {
          "base_uri": "https://localhost:8080/"
        },
        "id": "DZFxGHKlowUD",
        "outputId": "82e95388-e189-465d-8e06-8c5405326fed"
      },
      "source": [
        "orders.groupby('order_id').item_price.sum().head()"
      ],
      "execution_count": 30,
      "outputs": [
        {
          "output_type": "execute_result",
          "data": {
            "text/plain": [
              "order_id\n",
              "1    11.56\n",
              "2    16.98\n",
              "3    12.67\n",
              "4    21.00\n",
              "5    13.70\n",
              "Name: item_price, dtype: float64"
            ]
          },
          "metadata": {
            "tags": []
          },
          "execution_count": 30
        }
      ]
    },
    {
      "cell_type": "code",
      "metadata": {
        "colab": {
          "base_uri": "https://localhost:8080/"
        },
        "id": "j9HTKOi6o7-4",
        "outputId": "953d8fb3-f4b1-434e-bc23-7b1e2a7460b9"
      },
      "source": [
        "len(orders.groupby('order_id').item_price.sum())"
      ],
      "execution_count": 34,
      "outputs": [
        {
          "output_type": "execute_result",
          "data": {
            "text/plain": [
              "1834"
            ]
          },
          "metadata": {
            "tags": []
          },
          "execution_count": 34
        }
      ]
    },
    {
      "cell_type": "code",
      "metadata": {
        "colab": {
          "base_uri": "https://localhost:8080/"
        },
        "id": "sXqtuuYeo_hb",
        "outputId": "c2d13f90-2891-4b7c-8f8f-cce55c621912"
      },
      "source": [
        "len(orders.item_price) # group을 지어버리면 데이터의 길이가 달라짐 그래서"
      ],
      "execution_count": 33,
      "outputs": [
        {
          "output_type": "execute_result",
          "data": {
            "text/plain": [
              "4622"
            ]
          },
          "metadata": {
            "tags": []
          },
          "execution_count": 33
        }
      ]
    },
    {
      "cell_type": "code",
      "metadata": {
        "colab": {
          "base_uri": "https://localhost:8080/"
        },
        "id": "OyvjtotWoRiR",
        "outputId": "e0fab806-547d-4273-fcdd-bcd29a77b059"
      },
      "source": [
        "# total_price에 저장\n",
        "total_price = orders.groupby('order_id').item_price.transform('sum')\n",
        "len(total_price)"
      ],
      "execution_count": 36,
      "outputs": [
        {
          "output_type": "execute_result",
          "data": {
            "text/plain": [
              "4622"
            ]
          },
          "metadata": {
            "tags": []
          },
          "execution_count": 36
        }
      ]
    },
    {
      "cell_type": "code",
      "metadata": {
        "colab": {
          "base_uri": "https://localhost:8080/",
          "height": 665
        },
        "id": "U6qzxNBnpVZn",
        "outputId": "a654d44c-09e5-4e74-9de7-e602531d166e"
      },
      "source": [
        "# 데이터 프레임에 저장\n",
        "orders['total_price'] = total_price\n",
        "orders.head(10)"
      ],
      "execution_count": 37,
      "outputs": [
        {
          "output_type": "execute_result",
          "data": {
            "text/html": [
              "<div>\n",
              "<style scoped>\n",
              "    .dataframe tbody tr th:only-of-type {\n",
              "        vertical-align: middle;\n",
              "    }\n",
              "\n",
              "    .dataframe tbody tr th {\n",
              "        vertical-align: top;\n",
              "    }\n",
              "\n",
              "    .dataframe thead th {\n",
              "        text-align: right;\n",
              "    }\n",
              "</style>\n",
              "<table border=\"1\" class=\"dataframe\">\n",
              "  <thead>\n",
              "    <tr style=\"text-align: right;\">\n",
              "      <th></th>\n",
              "      <th>order_id</th>\n",
              "      <th>quantity</th>\n",
              "      <th>item_name</th>\n",
              "      <th>choice_description</th>\n",
              "      <th>item_price</th>\n",
              "      <th>total_price</th>\n",
              "    </tr>\n",
              "  </thead>\n",
              "  <tbody>\n",
              "    <tr>\n",
              "      <th>0</th>\n",
              "      <td>1</td>\n",
              "      <td>1</td>\n",
              "      <td>Chips and Fresh Tomato Salsa</td>\n",
              "      <td>NaN</td>\n",
              "      <td>2.39</td>\n",
              "      <td>11.56</td>\n",
              "    </tr>\n",
              "    <tr>\n",
              "      <th>1</th>\n",
              "      <td>1</td>\n",
              "      <td>1</td>\n",
              "      <td>Izze</td>\n",
              "      <td>[Clementine]</td>\n",
              "      <td>3.39</td>\n",
              "      <td>11.56</td>\n",
              "    </tr>\n",
              "    <tr>\n",
              "      <th>2</th>\n",
              "      <td>1</td>\n",
              "      <td>1</td>\n",
              "      <td>Nantucket Nectar</td>\n",
              "      <td>[Apple]</td>\n",
              "      <td>3.39</td>\n",
              "      <td>11.56</td>\n",
              "    </tr>\n",
              "    <tr>\n",
              "      <th>3</th>\n",
              "      <td>1</td>\n",
              "      <td>1</td>\n",
              "      <td>Chips and Tomatillo-Green Chili Salsa</td>\n",
              "      <td>NaN</td>\n",
              "      <td>2.39</td>\n",
              "      <td>11.56</td>\n",
              "    </tr>\n",
              "    <tr>\n",
              "      <th>4</th>\n",
              "      <td>2</td>\n",
              "      <td>2</td>\n",
              "      <td>Chicken Bowl</td>\n",
              "      <td>[Tomatillo-Red Chili Salsa (Hot), [Black Beans...</td>\n",
              "      <td>16.98</td>\n",
              "      <td>16.98</td>\n",
              "    </tr>\n",
              "    <tr>\n",
              "      <th>5</th>\n",
              "      <td>3</td>\n",
              "      <td>1</td>\n",
              "      <td>Chicken Bowl</td>\n",
              "      <td>[Fresh Tomato Salsa (Mild), [Rice, Cheese, Sou...</td>\n",
              "      <td>10.98</td>\n",
              "      <td>12.67</td>\n",
              "    </tr>\n",
              "    <tr>\n",
              "      <th>6</th>\n",
              "      <td>3</td>\n",
              "      <td>1</td>\n",
              "      <td>Side of Chips</td>\n",
              "      <td>NaN</td>\n",
              "      <td>1.69</td>\n",
              "      <td>12.67</td>\n",
              "    </tr>\n",
              "    <tr>\n",
              "      <th>7</th>\n",
              "      <td>4</td>\n",
              "      <td>1</td>\n",
              "      <td>Steak Burrito</td>\n",
              "      <td>[Tomatillo Red Chili Salsa, [Fajita Vegetables...</td>\n",
              "      <td>11.75</td>\n",
              "      <td>21.00</td>\n",
              "    </tr>\n",
              "    <tr>\n",
              "      <th>8</th>\n",
              "      <td>4</td>\n",
              "      <td>1</td>\n",
              "      <td>Steak Soft Tacos</td>\n",
              "      <td>[Tomatillo Green Chili Salsa, [Pinto Beans, Ch...</td>\n",
              "      <td>9.25</td>\n",
              "      <td>21.00</td>\n",
              "    </tr>\n",
              "    <tr>\n",
              "      <th>9</th>\n",
              "      <td>5</td>\n",
              "      <td>1</td>\n",
              "      <td>Steak Burrito</td>\n",
              "      <td>[Fresh Tomato Salsa, [Rice, Black Beans, Pinto...</td>\n",
              "      <td>9.25</td>\n",
              "      <td>13.70</td>\n",
              "    </tr>\n",
              "  </tbody>\n",
              "</table>\n",
              "</div>"
            ],
            "text/plain": [
              "   order_id  quantity  ... item_price total_price\n",
              "0         1         1  ...       2.39       11.56\n",
              "1         1         1  ...       3.39       11.56\n",
              "2         1         1  ...       3.39       11.56\n",
              "3         1         1  ...       2.39       11.56\n",
              "4         2         2  ...      16.98       16.98\n",
              "5         3         1  ...      10.98       12.67\n",
              "6         3         1  ...       1.69       12.67\n",
              "7         4         1  ...      11.75       21.00\n",
              "8         4         1  ...       9.25       21.00\n",
              "9         5         1  ...       9.25       13.70\n",
              "\n",
              "[10 rows x 6 columns]"
            ]
          },
          "metadata": {
            "tags": []
          },
          "execution_count": 37
        }
      ]
    },
    {
      "cell_type": "code",
      "metadata": {
        "colab": {
          "base_uri": "https://localhost:8080/",
          "height": 685
        },
        "id": "zWs2X3rvpVxH",
        "outputId": "2652199a-f4cd-4b35-9c03-ffe8af7a5764"
      },
      "source": [
        "# 총 가격의 제품 가격의 비율을 나타냄\n",
        "orders['percent_of_total'] = orders.item_price / orders.total_price\n",
        "orders.head(10)"
      ],
      "execution_count": 38,
      "outputs": [
        {
          "output_type": "execute_result",
          "data": {
            "text/html": [
              "<div>\n",
              "<style scoped>\n",
              "    .dataframe tbody tr th:only-of-type {\n",
              "        vertical-align: middle;\n",
              "    }\n",
              "\n",
              "    .dataframe tbody tr th {\n",
              "        vertical-align: top;\n",
              "    }\n",
              "\n",
              "    .dataframe thead th {\n",
              "        text-align: right;\n",
              "    }\n",
              "</style>\n",
              "<table border=\"1\" class=\"dataframe\">\n",
              "  <thead>\n",
              "    <tr style=\"text-align: right;\">\n",
              "      <th></th>\n",
              "      <th>order_id</th>\n",
              "      <th>quantity</th>\n",
              "      <th>item_name</th>\n",
              "      <th>choice_description</th>\n",
              "      <th>item_price</th>\n",
              "      <th>total_price</th>\n",
              "      <th>percent_of_total</th>\n",
              "    </tr>\n",
              "  </thead>\n",
              "  <tbody>\n",
              "    <tr>\n",
              "      <th>0</th>\n",
              "      <td>1</td>\n",
              "      <td>1</td>\n",
              "      <td>Chips and Fresh Tomato Salsa</td>\n",
              "      <td>NaN</td>\n",
              "      <td>2.39</td>\n",
              "      <td>11.56</td>\n",
              "      <td>0.206747</td>\n",
              "    </tr>\n",
              "    <tr>\n",
              "      <th>1</th>\n",
              "      <td>1</td>\n",
              "      <td>1</td>\n",
              "      <td>Izze</td>\n",
              "      <td>[Clementine]</td>\n",
              "      <td>3.39</td>\n",
              "      <td>11.56</td>\n",
              "      <td>0.293253</td>\n",
              "    </tr>\n",
              "    <tr>\n",
              "      <th>2</th>\n",
              "      <td>1</td>\n",
              "      <td>1</td>\n",
              "      <td>Nantucket Nectar</td>\n",
              "      <td>[Apple]</td>\n",
              "      <td>3.39</td>\n",
              "      <td>11.56</td>\n",
              "      <td>0.293253</td>\n",
              "    </tr>\n",
              "    <tr>\n",
              "      <th>3</th>\n",
              "      <td>1</td>\n",
              "      <td>1</td>\n",
              "      <td>Chips and Tomatillo-Green Chili Salsa</td>\n",
              "      <td>NaN</td>\n",
              "      <td>2.39</td>\n",
              "      <td>11.56</td>\n",
              "      <td>0.206747</td>\n",
              "    </tr>\n",
              "    <tr>\n",
              "      <th>4</th>\n",
              "      <td>2</td>\n",
              "      <td>2</td>\n",
              "      <td>Chicken Bowl</td>\n",
              "      <td>[Tomatillo-Red Chili Salsa (Hot), [Black Beans...</td>\n",
              "      <td>16.98</td>\n",
              "      <td>16.98</td>\n",
              "      <td>1.000000</td>\n",
              "    </tr>\n",
              "    <tr>\n",
              "      <th>5</th>\n",
              "      <td>3</td>\n",
              "      <td>1</td>\n",
              "      <td>Chicken Bowl</td>\n",
              "      <td>[Fresh Tomato Salsa (Mild), [Rice, Cheese, Sou...</td>\n",
              "      <td>10.98</td>\n",
              "      <td>12.67</td>\n",
              "      <td>0.866614</td>\n",
              "    </tr>\n",
              "    <tr>\n",
              "      <th>6</th>\n",
              "      <td>3</td>\n",
              "      <td>1</td>\n",
              "      <td>Side of Chips</td>\n",
              "      <td>NaN</td>\n",
              "      <td>1.69</td>\n",
              "      <td>12.67</td>\n",
              "      <td>0.133386</td>\n",
              "    </tr>\n",
              "    <tr>\n",
              "      <th>7</th>\n",
              "      <td>4</td>\n",
              "      <td>1</td>\n",
              "      <td>Steak Burrito</td>\n",
              "      <td>[Tomatillo Red Chili Salsa, [Fajita Vegetables...</td>\n",
              "      <td>11.75</td>\n",
              "      <td>21.00</td>\n",
              "      <td>0.559524</td>\n",
              "    </tr>\n",
              "    <tr>\n",
              "      <th>8</th>\n",
              "      <td>4</td>\n",
              "      <td>1</td>\n",
              "      <td>Steak Soft Tacos</td>\n",
              "      <td>[Tomatillo Green Chili Salsa, [Pinto Beans, Ch...</td>\n",
              "      <td>9.25</td>\n",
              "      <td>21.00</td>\n",
              "      <td>0.440476</td>\n",
              "    </tr>\n",
              "    <tr>\n",
              "      <th>9</th>\n",
              "      <td>5</td>\n",
              "      <td>1</td>\n",
              "      <td>Steak Burrito</td>\n",
              "      <td>[Fresh Tomato Salsa, [Rice, Black Beans, Pinto...</td>\n",
              "      <td>9.25</td>\n",
              "      <td>13.70</td>\n",
              "      <td>0.675182</td>\n",
              "    </tr>\n",
              "  </tbody>\n",
              "</table>\n",
              "</div>"
            ],
            "text/plain": [
              "   order_id  quantity  ... total_price percent_of_total\n",
              "0         1         1  ...       11.56         0.206747\n",
              "1         1         1  ...       11.56         0.293253\n",
              "2         1         1  ...       11.56         0.293253\n",
              "3         1         1  ...       11.56         0.206747\n",
              "4         2         2  ...       16.98         1.000000\n",
              "5         3         1  ...       12.67         0.866614\n",
              "6         3         1  ...       12.67         0.133386\n",
              "7         4         1  ...       21.00         0.559524\n",
              "8         4         1  ...       21.00         0.440476\n",
              "9         5         1  ...       13.70         0.675182\n",
              "\n",
              "[10 rows x 7 columns]"
            ]
          },
          "metadata": {
            "tags": []
          },
          "execution_count": 38
        }
      ]
    },
    {
      "cell_type": "code",
      "metadata": {
        "id": "oLxPkr8OpmvD"
      },
      "source": [
        ""
      ],
      "execution_count": null,
      "outputs": []
    },
    {
      "cell_type": "markdown",
      "metadata": {
        "id": "4QkMExmRqdzT"
      },
      "source": [
        "### 20. Select a slice of rows and columns (필요한 열과 행을 슬라이싱)\n"
      ]
    },
    {
      "cell_type": "code",
      "metadata": {
        "colab": {
          "base_uri": "https://localhost:8080/",
          "height": 496
        },
        "id": "9J8QXjC8qc0Y",
        "outputId": "ec98396f-2991-4377-981a-0cf06202db29"
      },
      "source": [
        "titanic.head()"
      ],
      "execution_count": 45,
      "outputs": [
        {
          "output_type": "execute_result",
          "data": {
            "text/html": [
              "<div>\n",
              "<style scoped>\n",
              "    .dataframe tbody tr th:only-of-type {\n",
              "        vertical-align: middle;\n",
              "    }\n",
              "\n",
              "    .dataframe tbody tr th {\n",
              "        vertical-align: top;\n",
              "    }\n",
              "\n",
              "    .dataframe thead th {\n",
              "        text-align: right;\n",
              "    }\n",
              "</style>\n",
              "<table border=\"1\" class=\"dataframe\">\n",
              "  <thead>\n",
              "    <tr style=\"text-align: right;\">\n",
              "      <th></th>\n",
              "      <th>PassengerId</th>\n",
              "      <th>Survived</th>\n",
              "      <th>Pclass</th>\n",
              "      <th>Name</th>\n",
              "      <th>Sex</th>\n",
              "      <th>Age</th>\n",
              "      <th>SibSp</th>\n",
              "      <th>Parch</th>\n",
              "      <th>Ticket</th>\n",
              "      <th>Fare</th>\n",
              "      <th>Cabin</th>\n",
              "      <th>Embarked</th>\n",
              "    </tr>\n",
              "  </thead>\n",
              "  <tbody>\n",
              "    <tr>\n",
              "      <th>0</th>\n",
              "      <td>1</td>\n",
              "      <td>0</td>\n",
              "      <td>3</td>\n",
              "      <td>Braund, Mr. Owen Harris</td>\n",
              "      <td>male</td>\n",
              "      <td>22.0</td>\n",
              "      <td>1</td>\n",
              "      <td>0</td>\n",
              "      <td>A/5 21171</td>\n",
              "      <td>7.2500</td>\n",
              "      <td>NaN</td>\n",
              "      <td>S</td>\n",
              "    </tr>\n",
              "    <tr>\n",
              "      <th>1</th>\n",
              "      <td>2</td>\n",
              "      <td>1</td>\n",
              "      <td>1</td>\n",
              "      <td>Cumings, Mrs. John Bradley (Florence Briggs Th...</td>\n",
              "      <td>female</td>\n",
              "      <td>38.0</td>\n",
              "      <td>1</td>\n",
              "      <td>0</td>\n",
              "      <td>PC 17599</td>\n",
              "      <td>71.2833</td>\n",
              "      <td>C85</td>\n",
              "      <td>C</td>\n",
              "    </tr>\n",
              "    <tr>\n",
              "      <th>2</th>\n",
              "      <td>3</td>\n",
              "      <td>1</td>\n",
              "      <td>3</td>\n",
              "      <td>Heikkinen, Miss. Laina</td>\n",
              "      <td>female</td>\n",
              "      <td>26.0</td>\n",
              "      <td>0</td>\n",
              "      <td>0</td>\n",
              "      <td>STON/O2. 3101282</td>\n",
              "      <td>7.9250</td>\n",
              "      <td>NaN</td>\n",
              "      <td>S</td>\n",
              "    </tr>\n",
              "    <tr>\n",
              "      <th>3</th>\n",
              "      <td>4</td>\n",
              "      <td>1</td>\n",
              "      <td>1</td>\n",
              "      <td>Futrelle, Mrs. Jacques Heath (Lily May Peel)</td>\n",
              "      <td>female</td>\n",
              "      <td>35.0</td>\n",
              "      <td>1</td>\n",
              "      <td>0</td>\n",
              "      <td>113803</td>\n",
              "      <td>53.1000</td>\n",
              "      <td>C123</td>\n",
              "      <td>S</td>\n",
              "    </tr>\n",
              "    <tr>\n",
              "      <th>4</th>\n",
              "      <td>5</td>\n",
              "      <td>0</td>\n",
              "      <td>3</td>\n",
              "      <td>Allen, Mr. William Henry</td>\n",
              "      <td>male</td>\n",
              "      <td>35.0</td>\n",
              "      <td>0</td>\n",
              "      <td>0</td>\n",
              "      <td>373450</td>\n",
              "      <td>8.0500</td>\n",
              "      <td>NaN</td>\n",
              "      <td>S</td>\n",
              "    </tr>\n",
              "  </tbody>\n",
              "</table>\n",
              "</div>"
            ],
            "text/plain": [
              "   PassengerId  Survived  Pclass  ...     Fare Cabin  Embarked\n",
              "0            1         0       3  ...   7.2500   NaN         S\n",
              "1            2         1       1  ...  71.2833   C85         C\n",
              "2            3         1       3  ...   7.9250   NaN         S\n",
              "3            4         1       1  ...  53.1000  C123         S\n",
              "4            5         0       3  ...   8.0500   NaN         S\n",
              "\n",
              "[5 rows x 12 columns]"
            ]
          },
          "metadata": {
            "tags": []
          },
          "execution_count": 45
        }
      ]
    },
    {
      "cell_type": "code",
      "metadata": {
        "colab": {
          "base_uri": "https://localhost:8080/",
          "height": 317
        },
        "id": "nswaWuulqt-e",
        "outputId": "3b45f996-b956-40b2-d104-b1f9b48ab463"
      },
      "source": [
        "titanic.describe()"
      ],
      "execution_count": 46,
      "outputs": [
        {
          "output_type": "execute_result",
          "data": {
            "text/html": [
              "<div>\n",
              "<style scoped>\n",
              "    .dataframe tbody tr th:only-of-type {\n",
              "        vertical-align: middle;\n",
              "    }\n",
              "\n",
              "    .dataframe tbody tr th {\n",
              "        vertical-align: top;\n",
              "    }\n",
              "\n",
              "    .dataframe thead th {\n",
              "        text-align: right;\n",
              "    }\n",
              "</style>\n",
              "<table border=\"1\" class=\"dataframe\">\n",
              "  <thead>\n",
              "    <tr style=\"text-align: right;\">\n",
              "      <th></th>\n",
              "      <th>PassengerId</th>\n",
              "      <th>Survived</th>\n",
              "      <th>Pclass</th>\n",
              "      <th>Age</th>\n",
              "      <th>SibSp</th>\n",
              "      <th>Parch</th>\n",
              "      <th>Fare</th>\n",
              "    </tr>\n",
              "  </thead>\n",
              "  <tbody>\n",
              "    <tr>\n",
              "      <th>count</th>\n",
              "      <td>891.000000</td>\n",
              "      <td>891.000000</td>\n",
              "      <td>891.000000</td>\n",
              "      <td>714.000000</td>\n",
              "      <td>891.000000</td>\n",
              "      <td>891.000000</td>\n",
              "      <td>891.000000</td>\n",
              "    </tr>\n",
              "    <tr>\n",
              "      <th>mean</th>\n",
              "      <td>446.000000</td>\n",
              "      <td>0.383838</td>\n",
              "      <td>2.308642</td>\n",
              "      <td>29.699118</td>\n",
              "      <td>0.523008</td>\n",
              "      <td>0.381594</td>\n",
              "      <td>32.204208</td>\n",
              "    </tr>\n",
              "    <tr>\n",
              "      <th>std</th>\n",
              "      <td>257.353842</td>\n",
              "      <td>0.486592</td>\n",
              "      <td>0.836071</td>\n",
              "      <td>14.526497</td>\n",
              "      <td>1.102743</td>\n",
              "      <td>0.806057</td>\n",
              "      <td>49.693429</td>\n",
              "    </tr>\n",
              "    <tr>\n",
              "      <th>min</th>\n",
              "      <td>1.000000</td>\n",
              "      <td>0.000000</td>\n",
              "      <td>1.000000</td>\n",
              "      <td>0.420000</td>\n",
              "      <td>0.000000</td>\n",
              "      <td>0.000000</td>\n",
              "      <td>0.000000</td>\n",
              "    </tr>\n",
              "    <tr>\n",
              "      <th>25%</th>\n",
              "      <td>223.500000</td>\n",
              "      <td>0.000000</td>\n",
              "      <td>2.000000</td>\n",
              "      <td>20.125000</td>\n",
              "      <td>0.000000</td>\n",
              "      <td>0.000000</td>\n",
              "      <td>7.910400</td>\n",
              "    </tr>\n",
              "    <tr>\n",
              "      <th>50%</th>\n",
              "      <td>446.000000</td>\n",
              "      <td>0.000000</td>\n",
              "      <td>3.000000</td>\n",
              "      <td>28.000000</td>\n",
              "      <td>0.000000</td>\n",
              "      <td>0.000000</td>\n",
              "      <td>14.454200</td>\n",
              "    </tr>\n",
              "    <tr>\n",
              "      <th>75%</th>\n",
              "      <td>668.500000</td>\n",
              "      <td>1.000000</td>\n",
              "      <td>3.000000</td>\n",
              "      <td>38.000000</td>\n",
              "      <td>1.000000</td>\n",
              "      <td>0.000000</td>\n",
              "      <td>31.000000</td>\n",
              "    </tr>\n",
              "    <tr>\n",
              "      <th>max</th>\n",
              "      <td>891.000000</td>\n",
              "      <td>1.000000</td>\n",
              "      <td>3.000000</td>\n",
              "      <td>80.000000</td>\n",
              "      <td>8.000000</td>\n",
              "      <td>6.000000</td>\n",
              "      <td>512.329200</td>\n",
              "    </tr>\n",
              "  </tbody>\n",
              "</table>\n",
              "</div>"
            ],
            "text/plain": [
              "       PassengerId    Survived      Pclass  ...       SibSp       Parch        Fare\n",
              "count   891.000000  891.000000  891.000000  ...  891.000000  891.000000  891.000000\n",
              "mean    446.000000    0.383838    2.308642  ...    0.523008    0.381594   32.204208\n",
              "std     257.353842    0.486592    0.836071  ...    1.102743    0.806057   49.693429\n",
              "min       1.000000    0.000000    1.000000  ...    0.000000    0.000000    0.000000\n",
              "25%     223.500000    0.000000    2.000000  ...    0.000000    0.000000    7.910400\n",
              "50%     446.000000    0.000000    3.000000  ...    0.000000    0.000000   14.454200\n",
              "75%     668.500000    1.000000    3.000000  ...    1.000000    0.000000   31.000000\n",
              "max     891.000000    1.000000    3.000000  ...    8.000000    6.000000  512.329200\n",
              "\n",
              "[8 rows x 7 columns]"
            ]
          },
          "metadata": {
            "tags": []
          },
          "execution_count": 46
        }
      ]
    },
    {
      "cell_type": "code",
      "metadata": {
        "colab": {
          "base_uri": "https://localhost:8080/",
          "height": 204
        },
        "id": "dYmz4LJdquy_",
        "outputId": "6bfb85de-8082-4123-cf2c-7f597d19f13a"
      },
      "source": [
        "titanic.describe().loc['min':'max', 'Pclass':'Parch']"
      ],
      "execution_count": 47,
      "outputs": [
        {
          "output_type": "execute_result",
          "data": {
            "text/html": [
              "<div>\n",
              "<style scoped>\n",
              "    .dataframe tbody tr th:only-of-type {\n",
              "        vertical-align: middle;\n",
              "    }\n",
              "\n",
              "    .dataframe tbody tr th {\n",
              "        vertical-align: top;\n",
              "    }\n",
              "\n",
              "    .dataframe thead th {\n",
              "        text-align: right;\n",
              "    }\n",
              "</style>\n",
              "<table border=\"1\" class=\"dataframe\">\n",
              "  <thead>\n",
              "    <tr style=\"text-align: right;\">\n",
              "      <th></th>\n",
              "      <th>Pclass</th>\n",
              "      <th>Age</th>\n",
              "      <th>SibSp</th>\n",
              "      <th>Parch</th>\n",
              "    </tr>\n",
              "  </thead>\n",
              "  <tbody>\n",
              "    <tr>\n",
              "      <th>min</th>\n",
              "      <td>1.0</td>\n",
              "      <td>0.420</td>\n",
              "      <td>0.0</td>\n",
              "      <td>0.0</td>\n",
              "    </tr>\n",
              "    <tr>\n",
              "      <th>25%</th>\n",
              "      <td>2.0</td>\n",
              "      <td>20.125</td>\n",
              "      <td>0.0</td>\n",
              "      <td>0.0</td>\n",
              "    </tr>\n",
              "    <tr>\n",
              "      <th>50%</th>\n",
              "      <td>3.0</td>\n",
              "      <td>28.000</td>\n",
              "      <td>0.0</td>\n",
              "      <td>0.0</td>\n",
              "    </tr>\n",
              "    <tr>\n",
              "      <th>75%</th>\n",
              "      <td>3.0</td>\n",
              "      <td>38.000</td>\n",
              "      <td>1.0</td>\n",
              "      <td>0.0</td>\n",
              "    </tr>\n",
              "    <tr>\n",
              "      <th>max</th>\n",
              "      <td>3.0</td>\n",
              "      <td>80.000</td>\n",
              "      <td>8.0</td>\n",
              "      <td>6.0</td>\n",
              "    </tr>\n",
              "  </tbody>\n",
              "</table>\n",
              "</div>"
            ],
            "text/plain": [
              "     Pclass     Age  SibSp  Parch\n",
              "min     1.0   0.420    0.0    0.0\n",
              "25%     2.0  20.125    0.0    0.0\n",
              "50%     3.0  28.000    0.0    0.0\n",
              "75%     3.0  38.000    1.0    0.0\n",
              "max     3.0  80.000    8.0    6.0"
            ]
          },
          "metadata": {
            "tags": []
          },
          "execution_count": 47
        }
      ]
    },
    {
      "cell_type": "markdown",
      "metadata": {
        "id": "H9EOdJPcrHts"
      },
      "source": [
        "### 21. Reshape a MultiIndexed Series(형태변경)"
      ]
    },
    {
      "cell_type": "code",
      "metadata": {
        "colab": {
          "base_uri": "https://localhost:8080/"
        },
        "id": "1CgcR5DEqwXP",
        "outputId": "27cc2124-b777-4844-ee07-c0ada1c1c73c"
      },
      "source": [
        "titanic.Survived.mean()"
      ],
      "execution_count": 48,
      "outputs": [
        {
          "output_type": "execute_result",
          "data": {
            "text/plain": [
              "0.3838383838383838"
            ]
          },
          "metadata": {
            "tags": []
          },
          "execution_count": 48
        }
      ]
    },
    {
      "cell_type": "code",
      "metadata": {
        "colab": {
          "base_uri": "https://localhost:8080/"
        },
        "id": "Pdx041zxrLoD",
        "outputId": "6a0ea5e1-d269-4b76-da71-ecdfe6f0b327"
      },
      "source": [
        "# 성별로 묶어서 생존율 조사\n",
        "titanic.groupby('Sex').Survived.mean()"
      ],
      "execution_count": 49,
      "outputs": [
        {
          "output_type": "execute_result",
          "data": {
            "text/plain": [
              "Sex\n",
              "female    0.742038\n",
              "male      0.188908\n",
              "Name: Survived, dtype: float64"
            ]
          },
          "metadata": {
            "tags": []
          },
          "execution_count": 49
        }
      ]
    },
    {
      "cell_type": "code",
      "metadata": {
        "colab": {
          "base_uri": "https://localhost:8080/"
        },
        "id": "AXEbph-OrM5a",
        "outputId": "fce97e6c-3a29-4a79-95e2-1fc06662421f"
      },
      "source": [
        "# 성별과 좌석등급을 묶어서 생존율 조사\n",
        "titanic.groupby(['Sex', 'Pclass']).Survived.mean()"
      ],
      "execution_count": 50,
      "outputs": [
        {
          "output_type": "execute_result",
          "data": {
            "text/plain": [
              "Sex     Pclass\n",
              "female  1         0.968085\n",
              "        2         0.921053\n",
              "        3         0.500000\n",
              "male    1         0.368852\n",
              "        2         0.157407\n",
              "        3         0.135447\n",
              "Name: Survived, dtype: float64"
            ]
          },
          "metadata": {
            "tags": []
          },
          "execution_count": 50
        }
      ]
    },
    {
      "cell_type": "code",
      "metadata": {
        "colab": {
          "base_uri": "https://localhost:8080/",
          "height": 142
        },
        "id": "LWb0nAX3rRSU",
        "outputId": "868537bd-b282-410b-fa49-62e7e7cb17ce"
      },
      "source": [
        "# 새로운 데이터 프레임으로 만듬\n",
        "titanic.groupby(['Sex', 'Pclass']).Survived.mean().unstack()"
      ],
      "execution_count": 51,
      "outputs": [
        {
          "output_type": "execute_result",
          "data": {
            "text/html": [
              "<div>\n",
              "<style scoped>\n",
              "    .dataframe tbody tr th:only-of-type {\n",
              "        vertical-align: middle;\n",
              "    }\n",
              "\n",
              "    .dataframe tbody tr th {\n",
              "        vertical-align: top;\n",
              "    }\n",
              "\n",
              "    .dataframe thead th {\n",
              "        text-align: right;\n",
              "    }\n",
              "</style>\n",
              "<table border=\"1\" class=\"dataframe\">\n",
              "  <thead>\n",
              "    <tr style=\"text-align: right;\">\n",
              "      <th>Pclass</th>\n",
              "      <th>1</th>\n",
              "      <th>2</th>\n",
              "      <th>3</th>\n",
              "    </tr>\n",
              "    <tr>\n",
              "      <th>Sex</th>\n",
              "      <th></th>\n",
              "      <th></th>\n",
              "      <th></th>\n",
              "    </tr>\n",
              "  </thead>\n",
              "  <tbody>\n",
              "    <tr>\n",
              "      <th>female</th>\n",
              "      <td>0.968085</td>\n",
              "      <td>0.921053</td>\n",
              "      <td>0.500000</td>\n",
              "    </tr>\n",
              "    <tr>\n",
              "      <th>male</th>\n",
              "      <td>0.368852</td>\n",
              "      <td>0.157407</td>\n",
              "      <td>0.135447</td>\n",
              "    </tr>\n",
              "  </tbody>\n",
              "</table>\n",
              "</div>"
            ],
            "text/plain": [
              "Pclass         1         2         3\n",
              "Sex                                 \n",
              "female  0.968085  0.921053  0.500000\n",
              "male    0.368852  0.157407  0.135447"
            ]
          },
          "metadata": {
            "tags": []
          },
          "execution_count": 51
        }
      ]
    },
    {
      "cell_type": "markdown",
      "metadata": {
        "id": "d4DnTbEurpaI"
      },
      "source": [
        "### 22. Create a pivot table(피벗테이블 만들기)"
      ]
    },
    {
      "cell_type": "code",
      "metadata": {
        "colab": {
          "base_uri": "https://localhost:8080/",
          "height": 142
        },
        "id": "qH1bKguOrY5A",
        "outputId": "ddf81304-e223-40b0-b011-edba9c30ae83"
      },
      "source": [
        "titanic.pivot_table(index='Sex', columns='Pclass', values='Survived', aggfunc='mean')"
      ],
      "execution_count": 52,
      "outputs": [
        {
          "output_type": "execute_result",
          "data": {
            "text/html": [
              "<div>\n",
              "<style scoped>\n",
              "    .dataframe tbody tr th:only-of-type {\n",
              "        vertical-align: middle;\n",
              "    }\n",
              "\n",
              "    .dataframe tbody tr th {\n",
              "        vertical-align: top;\n",
              "    }\n",
              "\n",
              "    .dataframe thead th {\n",
              "        text-align: right;\n",
              "    }\n",
              "</style>\n",
              "<table border=\"1\" class=\"dataframe\">\n",
              "  <thead>\n",
              "    <tr style=\"text-align: right;\">\n",
              "      <th>Pclass</th>\n",
              "      <th>1</th>\n",
              "      <th>2</th>\n",
              "      <th>3</th>\n",
              "    </tr>\n",
              "    <tr>\n",
              "      <th>Sex</th>\n",
              "      <th></th>\n",
              "      <th></th>\n",
              "      <th></th>\n",
              "    </tr>\n",
              "  </thead>\n",
              "  <tbody>\n",
              "    <tr>\n",
              "      <th>female</th>\n",
              "      <td>0.968085</td>\n",
              "      <td>0.921053</td>\n",
              "      <td>0.500000</td>\n",
              "    </tr>\n",
              "    <tr>\n",
              "      <th>male</th>\n",
              "      <td>0.368852</td>\n",
              "      <td>0.157407</td>\n",
              "      <td>0.135447</td>\n",
              "    </tr>\n",
              "  </tbody>\n",
              "</table>\n",
              "</div>"
            ],
            "text/plain": [
              "Pclass         1         2         3\n",
              "Sex                                 \n",
              "female  0.968085  0.921053  0.500000\n",
              "male    0.368852  0.157407  0.135447"
            ]
          },
          "metadata": {
            "tags": []
          },
          "execution_count": 52
        }
      ]
    },
    {
      "cell_type": "code",
      "metadata": {
        "colab": {
          "base_uri": "https://localhost:8080/",
          "height": 173
        },
        "id": "kmSwjFgOr63O",
        "outputId": "f5dfd12b-2d3f-423e-ba8d-6214e588361b"
      },
      "source": [
        "titanic.pivot_table(index='Sex', columns='Pclass', values='Survived', aggfunc='mean',\n",
        "                    margins=True)"
      ],
      "execution_count": 53,
      "outputs": [
        {
          "output_type": "execute_result",
          "data": {
            "text/html": [
              "<div>\n",
              "<style scoped>\n",
              "    .dataframe tbody tr th:only-of-type {\n",
              "        vertical-align: middle;\n",
              "    }\n",
              "\n",
              "    .dataframe tbody tr th {\n",
              "        vertical-align: top;\n",
              "    }\n",
              "\n",
              "    .dataframe thead th {\n",
              "        text-align: right;\n",
              "    }\n",
              "</style>\n",
              "<table border=\"1\" class=\"dataframe\">\n",
              "  <thead>\n",
              "    <tr style=\"text-align: right;\">\n",
              "      <th>Pclass</th>\n",
              "      <th>1</th>\n",
              "      <th>2</th>\n",
              "      <th>3</th>\n",
              "      <th>All</th>\n",
              "    </tr>\n",
              "    <tr>\n",
              "      <th>Sex</th>\n",
              "      <th></th>\n",
              "      <th></th>\n",
              "      <th></th>\n",
              "      <th></th>\n",
              "    </tr>\n",
              "  </thead>\n",
              "  <tbody>\n",
              "    <tr>\n",
              "      <th>female</th>\n",
              "      <td>0.968085</td>\n",
              "      <td>0.921053</td>\n",
              "      <td>0.500000</td>\n",
              "      <td>0.742038</td>\n",
              "    </tr>\n",
              "    <tr>\n",
              "      <th>male</th>\n",
              "      <td>0.368852</td>\n",
              "      <td>0.157407</td>\n",
              "      <td>0.135447</td>\n",
              "      <td>0.188908</td>\n",
              "    </tr>\n",
              "    <tr>\n",
              "      <th>All</th>\n",
              "      <td>0.629630</td>\n",
              "      <td>0.472826</td>\n",
              "      <td>0.242363</td>\n",
              "      <td>0.383838</td>\n",
              "    </tr>\n",
              "  </tbody>\n",
              "</table>\n",
              "</div>"
            ],
            "text/plain": [
              "Pclass         1         2         3       All\n",
              "Sex                                           \n",
              "female  0.968085  0.921053  0.500000  0.742038\n",
              "male    0.368852  0.157407  0.135447  0.188908\n",
              "All     0.629630  0.472826  0.242363  0.383838"
            ]
          },
          "metadata": {
            "tags": []
          },
          "execution_count": 53
        }
      ]
    },
    {
      "cell_type": "code",
      "metadata": {
        "colab": {
          "base_uri": "https://localhost:8080/",
          "height": 173
        },
        "id": "EAxyFaJAr8P2",
        "outputId": "6d379316-dbef-40ee-d463-8367921d584d"
      },
      "source": [
        "titanic.pivot_table(index='Sex', columns='Pclass', values='Survived', aggfunc='count',\n",
        "                    margins=True)"
      ],
      "execution_count": 54,
      "outputs": [
        {
          "output_type": "execute_result",
          "data": {
            "text/html": [
              "<div>\n",
              "<style scoped>\n",
              "    .dataframe tbody tr th:only-of-type {\n",
              "        vertical-align: middle;\n",
              "    }\n",
              "\n",
              "    .dataframe tbody tr th {\n",
              "        vertical-align: top;\n",
              "    }\n",
              "\n",
              "    .dataframe thead th {\n",
              "        text-align: right;\n",
              "    }\n",
              "</style>\n",
              "<table border=\"1\" class=\"dataframe\">\n",
              "  <thead>\n",
              "    <tr style=\"text-align: right;\">\n",
              "      <th>Pclass</th>\n",
              "      <th>1</th>\n",
              "      <th>2</th>\n",
              "      <th>3</th>\n",
              "      <th>All</th>\n",
              "    </tr>\n",
              "    <tr>\n",
              "      <th>Sex</th>\n",
              "      <th></th>\n",
              "      <th></th>\n",
              "      <th></th>\n",
              "      <th></th>\n",
              "    </tr>\n",
              "  </thead>\n",
              "  <tbody>\n",
              "    <tr>\n",
              "      <th>female</th>\n",
              "      <td>94</td>\n",
              "      <td>76</td>\n",
              "      <td>144</td>\n",
              "      <td>314</td>\n",
              "    </tr>\n",
              "    <tr>\n",
              "      <th>male</th>\n",
              "      <td>122</td>\n",
              "      <td>108</td>\n",
              "      <td>347</td>\n",
              "      <td>577</td>\n",
              "    </tr>\n",
              "    <tr>\n",
              "      <th>All</th>\n",
              "      <td>216</td>\n",
              "      <td>184</td>\n",
              "      <td>491</td>\n",
              "      <td>891</td>\n",
              "    </tr>\n",
              "  </tbody>\n",
              "</table>\n",
              "</div>"
            ],
            "text/plain": [
              "Pclass    1    2    3  All\n",
              "Sex                       \n",
              "female   94   76  144  314\n",
              "male    122  108  347  577\n",
              "All     216  184  491  891"
            ]
          },
          "metadata": {
            "tags": []
          },
          "execution_count": 54
        }
      ]
    },
    {
      "cell_type": "markdown",
      "metadata": {
        "id": "lkaSnO6PsHNX"
      },
      "source": [
        "### 23. Convert continuous data into categorical data(연속형 데이터를 범주 형 데이터로 변환)"
      ]
    },
    {
      "cell_type": "code",
      "metadata": {
        "colab": {
          "base_uri": "https://localhost:8080/"
        },
        "id": "LqpgeyWKsA7Q",
        "outputId": "0cdef688-42a3-4416-8fd7-3d999014d9f0"
      },
      "source": [
        "titanic.Age.head(10)"
      ],
      "execution_count": 55,
      "outputs": [
        {
          "output_type": "execute_result",
          "data": {
            "text/plain": [
              "0    22.0\n",
              "1    38.0\n",
              "2    26.0\n",
              "3    35.0\n",
              "4    35.0\n",
              "5     NaN\n",
              "6    54.0\n",
              "7     2.0\n",
              "8    27.0\n",
              "9    14.0\n",
              "Name: Age, dtype: float64"
            ]
          },
          "metadata": {
            "tags": []
          },
          "execution_count": 55
        }
      ]
    },
    {
      "cell_type": "code",
      "metadata": {
        "colab": {
          "base_uri": "https://localhost:8080/"
        },
        "id": "y1Dv7Mdlsaj8",
        "outputId": "464c8d39-3fd0-4c96-e8af-54fbf3d99c1b"
      },
      "source": [
        "# 나이에 따른 카테고리 추가\n",
        "pd.cut(titanic.Age, bins=[0, 18, 25, 99], labels=['child', 'young adult', 'adult']).head(10)"
      ],
      "execution_count": 56,
      "outputs": [
        {
          "output_type": "execute_result",
          "data": {
            "text/plain": [
              "0    young adult\n",
              "1          adult\n",
              "2          adult\n",
              "3          adult\n",
              "4          adult\n",
              "5            NaN\n",
              "6          adult\n",
              "7          child\n",
              "8          adult\n",
              "9          child\n",
              "Name: Age, dtype: category\n",
              "Categories (3, object): ['child' < 'young adult' < 'adult']"
            ]
          },
          "metadata": {
            "tags": []
          },
          "execution_count": 56
        }
      ]
    },
    {
      "cell_type": "markdown",
      "metadata": {
        "id": "XlCzZGfMsulj"
      },
      "source": [
        "### 24. Change display options(소수점 옵션설정)"
      ]
    },
    {
      "cell_type": "code",
      "metadata": {
        "colab": {
          "base_uri": "https://localhost:8080/",
          "height": 425
        },
        "id": "-baJ_OM9scFz",
        "outputId": "bfdbbce5-3819-413c-8d98-077e7c2e582e"
      },
      "source": [
        "titanic.head()"
      ],
      "execution_count": 57,
      "outputs": [
        {
          "output_type": "execute_result",
          "data": {
            "text/html": [
              "<div>\n",
              "<style scoped>\n",
              "    .dataframe tbody tr th:only-of-type {\n",
              "        vertical-align: middle;\n",
              "    }\n",
              "\n",
              "    .dataframe tbody tr th {\n",
              "        vertical-align: top;\n",
              "    }\n",
              "\n",
              "    .dataframe thead th {\n",
              "        text-align: right;\n",
              "    }\n",
              "</style>\n",
              "<table border=\"1\" class=\"dataframe\">\n",
              "  <thead>\n",
              "    <tr style=\"text-align: right;\">\n",
              "      <th></th>\n",
              "      <th>PassengerId</th>\n",
              "      <th>Survived</th>\n",
              "      <th>Pclass</th>\n",
              "      <th>Name</th>\n",
              "      <th>Sex</th>\n",
              "      <th>Age</th>\n",
              "      <th>SibSp</th>\n",
              "      <th>Parch</th>\n",
              "      <th>Ticket</th>\n",
              "      <th>Fare</th>\n",
              "      <th>Cabin</th>\n",
              "      <th>Embarked</th>\n",
              "    </tr>\n",
              "  </thead>\n",
              "  <tbody>\n",
              "    <tr>\n",
              "      <th>0</th>\n",
              "      <td>1</td>\n",
              "      <td>0</td>\n",
              "      <td>3</td>\n",
              "      <td>Braund, Mr. Owen Harris</td>\n",
              "      <td>male</td>\n",
              "      <td>22.0</td>\n",
              "      <td>1</td>\n",
              "      <td>0</td>\n",
              "      <td>A/5 21171</td>\n",
              "      <td>7.2500</td>\n",
              "      <td>NaN</td>\n",
              "      <td>S</td>\n",
              "    </tr>\n",
              "    <tr>\n",
              "      <th>1</th>\n",
              "      <td>2</td>\n",
              "      <td>1</td>\n",
              "      <td>1</td>\n",
              "      <td>Cumings, Mrs. John Bradley (Florence Briggs Th...</td>\n",
              "      <td>female</td>\n",
              "      <td>38.0</td>\n",
              "      <td>1</td>\n",
              "      <td>0</td>\n",
              "      <td>PC 17599</td>\n",
              "      <td>71.2833</td>\n",
              "      <td>C85</td>\n",
              "      <td>C</td>\n",
              "    </tr>\n",
              "    <tr>\n",
              "      <th>2</th>\n",
              "      <td>3</td>\n",
              "      <td>1</td>\n",
              "      <td>3</td>\n",
              "      <td>Heikkinen, Miss. Laina</td>\n",
              "      <td>female</td>\n",
              "      <td>26.0</td>\n",
              "      <td>0</td>\n",
              "      <td>0</td>\n",
              "      <td>STON/O2. 3101282</td>\n",
              "      <td>7.9250</td>\n",
              "      <td>NaN</td>\n",
              "      <td>S</td>\n",
              "    </tr>\n",
              "    <tr>\n",
              "      <th>3</th>\n",
              "      <td>4</td>\n",
              "      <td>1</td>\n",
              "      <td>1</td>\n",
              "      <td>Futrelle, Mrs. Jacques Heath (Lily May Peel)</td>\n",
              "      <td>female</td>\n",
              "      <td>35.0</td>\n",
              "      <td>1</td>\n",
              "      <td>0</td>\n",
              "      <td>113803</td>\n",
              "      <td>53.1000</td>\n",
              "      <td>C123</td>\n",
              "      <td>S</td>\n",
              "    </tr>\n",
              "    <tr>\n",
              "      <th>4</th>\n",
              "      <td>5</td>\n",
              "      <td>0</td>\n",
              "      <td>3</td>\n",
              "      <td>Allen, Mr. William Henry</td>\n",
              "      <td>male</td>\n",
              "      <td>35.0</td>\n",
              "      <td>0</td>\n",
              "      <td>0</td>\n",
              "      <td>373450</td>\n",
              "      <td>8.0500</td>\n",
              "      <td>NaN</td>\n",
              "      <td>S</td>\n",
              "    </tr>\n",
              "  </tbody>\n",
              "</table>\n",
              "</div>"
            ],
            "text/plain": [
              "   PassengerId  Survived  Pclass  ...     Fare Cabin  Embarked\n",
              "0            1         0       3  ...   7.2500   NaN         S\n",
              "1            2         1       1  ...  71.2833   C85         C\n",
              "2            3         1       3  ...   7.9250   NaN         S\n",
              "3            4         1       1  ...  53.1000  C123         S\n",
              "4            5         0       3  ...   8.0500   NaN         S\n",
              "\n",
              "[5 rows x 12 columns]"
            ]
          },
          "metadata": {
            "tags": []
          },
          "execution_count": 57
        }
      ]
    },
    {
      "cell_type": "code",
      "metadata": {
        "colab": {
          "base_uri": "https://localhost:8080/",
          "height": 391
        },
        "id": "caMa65LVsyhd",
        "outputId": "2f0bd1fa-e2de-4adb-8544-123f61316c6e"
      },
      "source": [
        "# 소수점 둘째자리까지 전부 통일\n",
        "pd.set_option('display.float_format', '{:.2f}'.format)\n",
        "titanic.head()"
      ],
      "execution_count": 59,
      "outputs": [
        {
          "output_type": "execute_result",
          "data": {
            "text/html": [
              "<div>\n",
              "<style scoped>\n",
              "    .dataframe tbody tr th:only-of-type {\n",
              "        vertical-align: middle;\n",
              "    }\n",
              "\n",
              "    .dataframe tbody tr th {\n",
              "        vertical-align: top;\n",
              "    }\n",
              "\n",
              "    .dataframe thead th {\n",
              "        text-align: right;\n",
              "    }\n",
              "</style>\n",
              "<table border=\"1\" class=\"dataframe\">\n",
              "  <thead>\n",
              "    <tr style=\"text-align: right;\">\n",
              "      <th></th>\n",
              "      <th>PassengerId</th>\n",
              "      <th>Survived</th>\n",
              "      <th>Pclass</th>\n",
              "      <th>Name</th>\n",
              "      <th>Sex</th>\n",
              "      <th>Age</th>\n",
              "      <th>SibSp</th>\n",
              "      <th>Parch</th>\n",
              "      <th>Ticket</th>\n",
              "      <th>Fare</th>\n",
              "      <th>Cabin</th>\n",
              "      <th>Embarked</th>\n",
              "    </tr>\n",
              "  </thead>\n",
              "  <tbody>\n",
              "    <tr>\n",
              "      <th>0</th>\n",
              "      <td>1</td>\n",
              "      <td>0</td>\n",
              "      <td>3</td>\n",
              "      <td>Braund, Mr. Owen Harris</td>\n",
              "      <td>male</td>\n",
              "      <td>22.00</td>\n",
              "      <td>1</td>\n",
              "      <td>0</td>\n",
              "      <td>A/5 21171</td>\n",
              "      <td>7.25</td>\n",
              "      <td>NaN</td>\n",
              "      <td>S</td>\n",
              "    </tr>\n",
              "    <tr>\n",
              "      <th>1</th>\n",
              "      <td>2</td>\n",
              "      <td>1</td>\n",
              "      <td>1</td>\n",
              "      <td>Cumings, Mrs. John Bradley (Florence Briggs Th...</td>\n",
              "      <td>female</td>\n",
              "      <td>38.00</td>\n",
              "      <td>1</td>\n",
              "      <td>0</td>\n",
              "      <td>PC 17599</td>\n",
              "      <td>71.28</td>\n",
              "      <td>C85</td>\n",
              "      <td>C</td>\n",
              "    </tr>\n",
              "    <tr>\n",
              "      <th>2</th>\n",
              "      <td>3</td>\n",
              "      <td>1</td>\n",
              "      <td>3</td>\n",
              "      <td>Heikkinen, Miss. Laina</td>\n",
              "      <td>female</td>\n",
              "      <td>26.00</td>\n",
              "      <td>0</td>\n",
              "      <td>0</td>\n",
              "      <td>STON/O2. 3101282</td>\n",
              "      <td>7.92</td>\n",
              "      <td>NaN</td>\n",
              "      <td>S</td>\n",
              "    </tr>\n",
              "    <tr>\n",
              "      <th>3</th>\n",
              "      <td>4</td>\n",
              "      <td>1</td>\n",
              "      <td>1</td>\n",
              "      <td>Futrelle, Mrs. Jacques Heath (Lily May Peel)</td>\n",
              "      <td>female</td>\n",
              "      <td>35.00</td>\n",
              "      <td>1</td>\n",
              "      <td>0</td>\n",
              "      <td>113803</td>\n",
              "      <td>53.10</td>\n",
              "      <td>C123</td>\n",
              "      <td>S</td>\n",
              "    </tr>\n",
              "    <tr>\n",
              "      <th>4</th>\n",
              "      <td>5</td>\n",
              "      <td>0</td>\n",
              "      <td>3</td>\n",
              "      <td>Allen, Mr. William Henry</td>\n",
              "      <td>male</td>\n",
              "      <td>35.00</td>\n",
              "      <td>0</td>\n",
              "      <td>0</td>\n",
              "      <td>373450</td>\n",
              "      <td>8.05</td>\n",
              "      <td>NaN</td>\n",
              "      <td>S</td>\n",
              "    </tr>\n",
              "  </tbody>\n",
              "</table>\n",
              "</div>"
            ],
            "text/plain": [
              "   PassengerId  Survived  Pclass  ...  Fare Cabin  Embarked\n",
              "0            1         0       3  ...  7.25   NaN         S\n",
              "1            2         1       1  ... 71.28   C85         C\n",
              "2            3         1       3  ...  7.92   NaN         S\n",
              "3            4         1       1  ... 53.10  C123         S\n",
              "4            5         0       3  ...  8.05   NaN         S\n",
              "\n",
              "[5 rows x 12 columns]"
            ]
          },
          "metadata": {
            "tags": []
          },
          "execution_count": 59
        }
      ]
    },
    {
      "cell_type": "code",
      "metadata": {
        "id": "KhfkISVWs55H"
      },
      "source": [
        "# 처음 상태로 리셋\n",
        "pd.reset_option('display.float_format')"
      ],
      "execution_count": 60,
      "outputs": []
    },
    {
      "cell_type": "markdown",
      "metadata": {
        "id": "YVgvlVF5tJsq"
      },
      "source": [
        "### 25. Style a DataFrame(데이터프레임의 스타일 지정)"
      ]
    },
    {
      "cell_type": "code",
      "metadata": {
        "colab": {
          "base_uri": "https://localhost:8080/",
          "height": 328
        },
        "id": "NNNtfYyaszZd",
        "outputId": "ba6c7816-ecf6-4c3c-b2d9-b15578f09037"
      },
      "source": [
        "stocks"
      ],
      "execution_count": 61,
      "outputs": [
        {
          "output_type": "execute_result",
          "data": {
            "text/html": [
              "<div>\n",
              "<style scoped>\n",
              "    .dataframe tbody tr th:only-of-type {\n",
              "        vertical-align: middle;\n",
              "    }\n",
              "\n",
              "    .dataframe tbody tr th {\n",
              "        vertical-align: top;\n",
              "    }\n",
              "\n",
              "    .dataframe thead th {\n",
              "        text-align: right;\n",
              "    }\n",
              "</style>\n",
              "<table border=\"1\" class=\"dataframe\">\n",
              "  <thead>\n",
              "    <tr style=\"text-align: right;\">\n",
              "      <th></th>\n",
              "      <th>Date</th>\n",
              "      <th>Close</th>\n",
              "      <th>Volume</th>\n",
              "      <th>Symbol</th>\n",
              "    </tr>\n",
              "  </thead>\n",
              "  <tbody>\n",
              "    <tr>\n",
              "      <th>0</th>\n",
              "      <td>2016-10-03</td>\n",
              "      <td>31.50</td>\n",
              "      <td>14070500</td>\n",
              "      <td>CSCO</td>\n",
              "    </tr>\n",
              "    <tr>\n",
              "      <th>1</th>\n",
              "      <td>2016-10-03</td>\n",
              "      <td>112.52</td>\n",
              "      <td>21701800</td>\n",
              "      <td>AAPL</td>\n",
              "    </tr>\n",
              "    <tr>\n",
              "      <th>2</th>\n",
              "      <td>2016-10-03</td>\n",
              "      <td>57.42</td>\n",
              "      <td>19189500</td>\n",
              "      <td>MSFT</td>\n",
              "    </tr>\n",
              "    <tr>\n",
              "      <th>3</th>\n",
              "      <td>2016-10-04</td>\n",
              "      <td>113.00</td>\n",
              "      <td>29736800</td>\n",
              "      <td>AAPL</td>\n",
              "    </tr>\n",
              "    <tr>\n",
              "      <th>4</th>\n",
              "      <td>2016-10-04</td>\n",
              "      <td>57.24</td>\n",
              "      <td>20085900</td>\n",
              "      <td>MSFT</td>\n",
              "    </tr>\n",
              "    <tr>\n",
              "      <th>5</th>\n",
              "      <td>2016-10-04</td>\n",
              "      <td>31.35</td>\n",
              "      <td>18460400</td>\n",
              "      <td>CSCO</td>\n",
              "    </tr>\n",
              "    <tr>\n",
              "      <th>6</th>\n",
              "      <td>2016-10-05</td>\n",
              "      <td>57.64</td>\n",
              "      <td>16726400</td>\n",
              "      <td>MSFT</td>\n",
              "    </tr>\n",
              "    <tr>\n",
              "      <th>7</th>\n",
              "      <td>2016-10-05</td>\n",
              "      <td>31.59</td>\n",
              "      <td>11808600</td>\n",
              "      <td>CSCO</td>\n",
              "    </tr>\n",
              "    <tr>\n",
              "      <th>8</th>\n",
              "      <td>2016-10-05</td>\n",
              "      <td>113.05</td>\n",
              "      <td>21453100</td>\n",
              "      <td>AAPL</td>\n",
              "    </tr>\n",
              "  </tbody>\n",
              "</table>\n",
              "</div>"
            ],
            "text/plain": [
              "        Date   Close    Volume Symbol\n",
              "0 2016-10-03   31.50  14070500   CSCO\n",
              "1 2016-10-03  112.52  21701800   AAPL\n",
              "2 2016-10-03   57.42  19189500   MSFT\n",
              "3 2016-10-04  113.00  29736800   AAPL\n",
              "4 2016-10-04   57.24  20085900   MSFT\n",
              "5 2016-10-04   31.35  18460400   CSCO\n",
              "6 2016-10-05   57.64  16726400   MSFT\n",
              "7 2016-10-05   31.59  11808600   CSCO\n",
              "8 2016-10-05  113.05  21453100   AAPL"
            ]
          },
          "metadata": {
            "tags": []
          },
          "execution_count": 61
        }
      ]
    },
    {
      "cell_type": "code",
      "metadata": {
        "colab": {
          "base_uri": "https://localhost:8080/",
          "height": 229
        },
        "id": "l-eqE8Vstlnz",
        "outputId": "95c62dab-1951-4eb4-b317-5bbd3ec290f4"
      },
      "source": [
        "format_dict = {'Date':'{:%m/%d/%y}', 'Close':'${:.2f}', 'Volume':'{:,}'}\n",
        "stocks.style.format(format_dict)"
      ],
      "execution_count": 63,
      "outputs": [
        {
          "output_type": "execute_result",
          "data": {
            "text/html": [
              "<style  type=\"text/css\" >\n",
              "</style><table id=\"T_2dd0439e_b14f_11eb_a336_0242ac1c0002\" ><thead>    <tr>        <th class=\"blank level0\" ></th>        <th class=\"col_heading level0 col0\" >Date</th>        <th class=\"col_heading level0 col1\" >Close</th>        <th class=\"col_heading level0 col2\" >Volume</th>        <th class=\"col_heading level0 col3\" >Symbol</th>    </tr></thead><tbody>\n",
              "                <tr>\n",
              "                        <th id=\"T_2dd0439e_b14f_11eb_a336_0242ac1c0002level0_row0\" class=\"row_heading level0 row0\" >0</th>\n",
              "                        <td id=\"T_2dd0439e_b14f_11eb_a336_0242ac1c0002row0_col0\" class=\"data row0 col0\" >10/03/16</td>\n",
              "                        <td id=\"T_2dd0439e_b14f_11eb_a336_0242ac1c0002row0_col1\" class=\"data row0 col1\" >$31.50</td>\n",
              "                        <td id=\"T_2dd0439e_b14f_11eb_a336_0242ac1c0002row0_col2\" class=\"data row0 col2\" >14,070,500</td>\n",
              "                        <td id=\"T_2dd0439e_b14f_11eb_a336_0242ac1c0002row0_col3\" class=\"data row0 col3\" >CSCO</td>\n",
              "            </tr>\n",
              "            <tr>\n",
              "                        <th id=\"T_2dd0439e_b14f_11eb_a336_0242ac1c0002level0_row1\" class=\"row_heading level0 row1\" >1</th>\n",
              "                        <td id=\"T_2dd0439e_b14f_11eb_a336_0242ac1c0002row1_col0\" class=\"data row1 col0\" >10/03/16</td>\n",
              "                        <td id=\"T_2dd0439e_b14f_11eb_a336_0242ac1c0002row1_col1\" class=\"data row1 col1\" >$112.52</td>\n",
              "                        <td id=\"T_2dd0439e_b14f_11eb_a336_0242ac1c0002row1_col2\" class=\"data row1 col2\" >21,701,800</td>\n",
              "                        <td id=\"T_2dd0439e_b14f_11eb_a336_0242ac1c0002row1_col3\" class=\"data row1 col3\" >AAPL</td>\n",
              "            </tr>\n",
              "            <tr>\n",
              "                        <th id=\"T_2dd0439e_b14f_11eb_a336_0242ac1c0002level0_row2\" class=\"row_heading level0 row2\" >2</th>\n",
              "                        <td id=\"T_2dd0439e_b14f_11eb_a336_0242ac1c0002row2_col0\" class=\"data row2 col0\" >10/03/16</td>\n",
              "                        <td id=\"T_2dd0439e_b14f_11eb_a336_0242ac1c0002row2_col1\" class=\"data row2 col1\" >$57.42</td>\n",
              "                        <td id=\"T_2dd0439e_b14f_11eb_a336_0242ac1c0002row2_col2\" class=\"data row2 col2\" >19,189,500</td>\n",
              "                        <td id=\"T_2dd0439e_b14f_11eb_a336_0242ac1c0002row2_col3\" class=\"data row2 col3\" >MSFT</td>\n",
              "            </tr>\n",
              "            <tr>\n",
              "                        <th id=\"T_2dd0439e_b14f_11eb_a336_0242ac1c0002level0_row3\" class=\"row_heading level0 row3\" >3</th>\n",
              "                        <td id=\"T_2dd0439e_b14f_11eb_a336_0242ac1c0002row3_col0\" class=\"data row3 col0\" >10/04/16</td>\n",
              "                        <td id=\"T_2dd0439e_b14f_11eb_a336_0242ac1c0002row3_col1\" class=\"data row3 col1\" >$113.00</td>\n",
              "                        <td id=\"T_2dd0439e_b14f_11eb_a336_0242ac1c0002row3_col2\" class=\"data row3 col2\" >29,736,800</td>\n",
              "                        <td id=\"T_2dd0439e_b14f_11eb_a336_0242ac1c0002row3_col3\" class=\"data row3 col3\" >AAPL</td>\n",
              "            </tr>\n",
              "            <tr>\n",
              "                        <th id=\"T_2dd0439e_b14f_11eb_a336_0242ac1c0002level0_row4\" class=\"row_heading level0 row4\" >4</th>\n",
              "                        <td id=\"T_2dd0439e_b14f_11eb_a336_0242ac1c0002row4_col0\" class=\"data row4 col0\" >10/04/16</td>\n",
              "                        <td id=\"T_2dd0439e_b14f_11eb_a336_0242ac1c0002row4_col1\" class=\"data row4 col1\" >$57.24</td>\n",
              "                        <td id=\"T_2dd0439e_b14f_11eb_a336_0242ac1c0002row4_col2\" class=\"data row4 col2\" >20,085,900</td>\n",
              "                        <td id=\"T_2dd0439e_b14f_11eb_a336_0242ac1c0002row4_col3\" class=\"data row4 col3\" >MSFT</td>\n",
              "            </tr>\n",
              "            <tr>\n",
              "                        <th id=\"T_2dd0439e_b14f_11eb_a336_0242ac1c0002level0_row5\" class=\"row_heading level0 row5\" >5</th>\n",
              "                        <td id=\"T_2dd0439e_b14f_11eb_a336_0242ac1c0002row5_col0\" class=\"data row5 col0\" >10/04/16</td>\n",
              "                        <td id=\"T_2dd0439e_b14f_11eb_a336_0242ac1c0002row5_col1\" class=\"data row5 col1\" >$31.35</td>\n",
              "                        <td id=\"T_2dd0439e_b14f_11eb_a336_0242ac1c0002row5_col2\" class=\"data row5 col2\" >18,460,400</td>\n",
              "                        <td id=\"T_2dd0439e_b14f_11eb_a336_0242ac1c0002row5_col3\" class=\"data row5 col3\" >CSCO</td>\n",
              "            </tr>\n",
              "            <tr>\n",
              "                        <th id=\"T_2dd0439e_b14f_11eb_a336_0242ac1c0002level0_row6\" class=\"row_heading level0 row6\" >6</th>\n",
              "                        <td id=\"T_2dd0439e_b14f_11eb_a336_0242ac1c0002row6_col0\" class=\"data row6 col0\" >10/05/16</td>\n",
              "                        <td id=\"T_2dd0439e_b14f_11eb_a336_0242ac1c0002row6_col1\" class=\"data row6 col1\" >$57.64</td>\n",
              "                        <td id=\"T_2dd0439e_b14f_11eb_a336_0242ac1c0002row6_col2\" class=\"data row6 col2\" >16,726,400</td>\n",
              "                        <td id=\"T_2dd0439e_b14f_11eb_a336_0242ac1c0002row6_col3\" class=\"data row6 col3\" >MSFT</td>\n",
              "            </tr>\n",
              "            <tr>\n",
              "                        <th id=\"T_2dd0439e_b14f_11eb_a336_0242ac1c0002level0_row7\" class=\"row_heading level0 row7\" >7</th>\n",
              "                        <td id=\"T_2dd0439e_b14f_11eb_a336_0242ac1c0002row7_col0\" class=\"data row7 col0\" >10/05/16</td>\n",
              "                        <td id=\"T_2dd0439e_b14f_11eb_a336_0242ac1c0002row7_col1\" class=\"data row7 col1\" >$31.59</td>\n",
              "                        <td id=\"T_2dd0439e_b14f_11eb_a336_0242ac1c0002row7_col2\" class=\"data row7 col2\" >11,808,600</td>\n",
              "                        <td id=\"T_2dd0439e_b14f_11eb_a336_0242ac1c0002row7_col3\" class=\"data row7 col3\" >CSCO</td>\n",
              "            </tr>\n",
              "            <tr>\n",
              "                        <th id=\"T_2dd0439e_b14f_11eb_a336_0242ac1c0002level0_row8\" class=\"row_heading level0 row8\" >8</th>\n",
              "                        <td id=\"T_2dd0439e_b14f_11eb_a336_0242ac1c0002row8_col0\" class=\"data row8 col0\" >10/05/16</td>\n",
              "                        <td id=\"T_2dd0439e_b14f_11eb_a336_0242ac1c0002row8_col1\" class=\"data row8 col1\" >$113.05</td>\n",
              "                        <td id=\"T_2dd0439e_b14f_11eb_a336_0242ac1c0002row8_col2\" class=\"data row8 col2\" >21,453,100</td>\n",
              "                        <td id=\"T_2dd0439e_b14f_11eb_a336_0242ac1c0002row8_col3\" class=\"data row8 col3\" >AAPL</td>\n",
              "            </tr>\n",
              "    </tbody></table>"
            ],
            "text/plain": [
              "<pandas.io.formats.style.Styler at 0x7f5ac555a510>"
            ]
          },
          "metadata": {
            "tags": []
          },
          "execution_count": 63
        }
      ]
    },
    {
      "cell_type": "code",
      "metadata": {
        "colab": {
          "base_uri": "https://localhost:8080/",
          "height": 229
        },
        "id": "spoyCQ-Otoab",
        "outputId": "300bf951-f33e-4b5e-a516-7e7c818efed9"
      },
      "source": [
        ""
      ],
      "execution_count": 64,
      "outputs": [
        {
          "output_type": "execute_result",
          "data": {
            "text/html": [
              "<style  type=\"text/css\" >\n",
              "</style><table id=\"T_35b7bf9c_b14f_11eb_a336_0242ac1c0002\" ><thead>    <tr>        <th class=\"blank level0\" ></th>        <th class=\"col_heading level0 col0\" >Date</th>        <th class=\"col_heading level0 col1\" >Close</th>        <th class=\"col_heading level0 col2\" >Volume</th>        <th class=\"col_heading level0 col3\" >Symbol</th>    </tr></thead><tbody>\n",
              "                <tr>\n",
              "                        <th id=\"T_35b7bf9c_b14f_11eb_a336_0242ac1c0002level0_row0\" class=\"row_heading level0 row0\" >0</th>\n",
              "                        <td id=\"T_35b7bf9c_b14f_11eb_a336_0242ac1c0002row0_col0\" class=\"data row0 col0\" >10/03/16</td>\n",
              "                        <td id=\"T_35b7bf9c_b14f_11eb_a336_0242ac1c0002row0_col1\" class=\"data row0 col1\" >$31.50</td>\n",
              "                        <td id=\"T_35b7bf9c_b14f_11eb_a336_0242ac1c0002row0_col2\" class=\"data row0 col2\" >14,070,500</td>\n",
              "                        <td id=\"T_35b7bf9c_b14f_11eb_a336_0242ac1c0002row0_col3\" class=\"data row0 col3\" >CSCO</td>\n",
              "            </tr>\n",
              "            <tr>\n",
              "                        <th id=\"T_35b7bf9c_b14f_11eb_a336_0242ac1c0002level0_row1\" class=\"row_heading level0 row1\" >1</th>\n",
              "                        <td id=\"T_35b7bf9c_b14f_11eb_a336_0242ac1c0002row1_col0\" class=\"data row1 col0\" >10/03/16</td>\n",
              "                        <td id=\"T_35b7bf9c_b14f_11eb_a336_0242ac1c0002row1_col1\" class=\"data row1 col1\" >$112.52</td>\n",
              "                        <td id=\"T_35b7bf9c_b14f_11eb_a336_0242ac1c0002row1_col2\" class=\"data row1 col2\" >21,701,800</td>\n",
              "                        <td id=\"T_35b7bf9c_b14f_11eb_a336_0242ac1c0002row1_col3\" class=\"data row1 col3\" >AAPL</td>\n",
              "            </tr>\n",
              "            <tr>\n",
              "                        <th id=\"T_35b7bf9c_b14f_11eb_a336_0242ac1c0002level0_row2\" class=\"row_heading level0 row2\" >2</th>\n",
              "                        <td id=\"T_35b7bf9c_b14f_11eb_a336_0242ac1c0002row2_col0\" class=\"data row2 col0\" >10/03/16</td>\n",
              "                        <td id=\"T_35b7bf9c_b14f_11eb_a336_0242ac1c0002row2_col1\" class=\"data row2 col1\" >$57.42</td>\n",
              "                        <td id=\"T_35b7bf9c_b14f_11eb_a336_0242ac1c0002row2_col2\" class=\"data row2 col2\" >19,189,500</td>\n",
              "                        <td id=\"T_35b7bf9c_b14f_11eb_a336_0242ac1c0002row2_col3\" class=\"data row2 col3\" >MSFT</td>\n",
              "            </tr>\n",
              "            <tr>\n",
              "                        <th id=\"T_35b7bf9c_b14f_11eb_a336_0242ac1c0002level0_row3\" class=\"row_heading level0 row3\" >3</th>\n",
              "                        <td id=\"T_35b7bf9c_b14f_11eb_a336_0242ac1c0002row3_col0\" class=\"data row3 col0\" >10/04/16</td>\n",
              "                        <td id=\"T_35b7bf9c_b14f_11eb_a336_0242ac1c0002row3_col1\" class=\"data row3 col1\" >$113.00</td>\n",
              "                        <td id=\"T_35b7bf9c_b14f_11eb_a336_0242ac1c0002row3_col2\" class=\"data row3 col2\" >29,736,800</td>\n",
              "                        <td id=\"T_35b7bf9c_b14f_11eb_a336_0242ac1c0002row3_col3\" class=\"data row3 col3\" >AAPL</td>\n",
              "            </tr>\n",
              "            <tr>\n",
              "                        <th id=\"T_35b7bf9c_b14f_11eb_a336_0242ac1c0002level0_row4\" class=\"row_heading level0 row4\" >4</th>\n",
              "                        <td id=\"T_35b7bf9c_b14f_11eb_a336_0242ac1c0002row4_col0\" class=\"data row4 col0\" >10/04/16</td>\n",
              "                        <td id=\"T_35b7bf9c_b14f_11eb_a336_0242ac1c0002row4_col1\" class=\"data row4 col1\" >$57.24</td>\n",
              "                        <td id=\"T_35b7bf9c_b14f_11eb_a336_0242ac1c0002row4_col2\" class=\"data row4 col2\" >20,085,900</td>\n",
              "                        <td id=\"T_35b7bf9c_b14f_11eb_a336_0242ac1c0002row4_col3\" class=\"data row4 col3\" >MSFT</td>\n",
              "            </tr>\n",
              "            <tr>\n",
              "                        <th id=\"T_35b7bf9c_b14f_11eb_a336_0242ac1c0002level0_row5\" class=\"row_heading level0 row5\" >5</th>\n",
              "                        <td id=\"T_35b7bf9c_b14f_11eb_a336_0242ac1c0002row5_col0\" class=\"data row5 col0\" >10/04/16</td>\n",
              "                        <td id=\"T_35b7bf9c_b14f_11eb_a336_0242ac1c0002row5_col1\" class=\"data row5 col1\" >$31.35</td>\n",
              "                        <td id=\"T_35b7bf9c_b14f_11eb_a336_0242ac1c0002row5_col2\" class=\"data row5 col2\" >18,460,400</td>\n",
              "                        <td id=\"T_35b7bf9c_b14f_11eb_a336_0242ac1c0002row5_col3\" class=\"data row5 col3\" >CSCO</td>\n",
              "            </tr>\n",
              "            <tr>\n",
              "                        <th id=\"T_35b7bf9c_b14f_11eb_a336_0242ac1c0002level0_row6\" class=\"row_heading level0 row6\" >6</th>\n",
              "                        <td id=\"T_35b7bf9c_b14f_11eb_a336_0242ac1c0002row6_col0\" class=\"data row6 col0\" >10/05/16</td>\n",
              "                        <td id=\"T_35b7bf9c_b14f_11eb_a336_0242ac1c0002row6_col1\" class=\"data row6 col1\" >$57.64</td>\n",
              "                        <td id=\"T_35b7bf9c_b14f_11eb_a336_0242ac1c0002row6_col2\" class=\"data row6 col2\" >16,726,400</td>\n",
              "                        <td id=\"T_35b7bf9c_b14f_11eb_a336_0242ac1c0002row6_col3\" class=\"data row6 col3\" >MSFT</td>\n",
              "            </tr>\n",
              "            <tr>\n",
              "                        <th id=\"T_35b7bf9c_b14f_11eb_a336_0242ac1c0002level0_row7\" class=\"row_heading level0 row7\" >7</th>\n",
              "                        <td id=\"T_35b7bf9c_b14f_11eb_a336_0242ac1c0002row7_col0\" class=\"data row7 col0\" >10/05/16</td>\n",
              "                        <td id=\"T_35b7bf9c_b14f_11eb_a336_0242ac1c0002row7_col1\" class=\"data row7 col1\" >$31.59</td>\n",
              "                        <td id=\"T_35b7bf9c_b14f_11eb_a336_0242ac1c0002row7_col2\" class=\"data row7 col2\" >11,808,600</td>\n",
              "                        <td id=\"T_35b7bf9c_b14f_11eb_a336_0242ac1c0002row7_col3\" class=\"data row7 col3\" >CSCO</td>\n",
              "            </tr>\n",
              "            <tr>\n",
              "                        <th id=\"T_35b7bf9c_b14f_11eb_a336_0242ac1c0002level0_row8\" class=\"row_heading level0 row8\" >8</th>\n",
              "                        <td id=\"T_35b7bf9c_b14f_11eb_a336_0242ac1c0002row8_col0\" class=\"data row8 col0\" >10/05/16</td>\n",
              "                        <td id=\"T_35b7bf9c_b14f_11eb_a336_0242ac1c0002row8_col1\" class=\"data row8 col1\" >$113.05</td>\n",
              "                        <td id=\"T_35b7bf9c_b14f_11eb_a336_0242ac1c0002row8_col2\" class=\"data row8 col2\" >21,453,100</td>\n",
              "                        <td id=\"T_35b7bf9c_b14f_11eb_a336_0242ac1c0002row8_col3\" class=\"data row8 col3\" >AAPL</td>\n",
              "            </tr>\n",
              "    </tbody></table>"
            ],
            "text/plain": [
              "<pandas.io.formats.style.Styler at 0x7f5abf28dc50>"
            ]
          },
          "metadata": {
            "tags": []
          },
          "execution_count": 64
        }
      ]
    },
    {
      "cell_type": "code",
      "metadata": {
        "colab": {
          "base_uri": "https://localhost:8080/",
          "height": 229
        },
        "id": "3TVVG4XQtrqs",
        "outputId": "0335aa69-4679-4d2f-82c0-039f80fa0c80"
      },
      "source": [
        "# 색강조\n",
        "(stocks.style.format(format_dict)\n",
        " .hide_index()\n",
        " .highlight_min('Close', color='red')\n",
        " .highlight_max('Close', color='lightgreen')\n",
        ")"
      ],
      "execution_count": 65,
      "outputs": [
        {
          "output_type": "execute_result",
          "data": {
            "text/html": [
              "<style  type=\"text/css\" >\n",
              "#T_3e28ecb4_b14f_11eb_a336_0242ac1c0002row5_col1{\n",
              "            background-color:  red;\n",
              "        }#T_3e28ecb4_b14f_11eb_a336_0242ac1c0002row8_col1{\n",
              "            background-color:  lightgreen;\n",
              "        }</style><table id=\"T_3e28ecb4_b14f_11eb_a336_0242ac1c0002\" ><thead>    <tr>        <th class=\"col_heading level0 col0\" >Date</th>        <th class=\"col_heading level0 col1\" >Close</th>        <th class=\"col_heading level0 col2\" >Volume</th>        <th class=\"col_heading level0 col3\" >Symbol</th>    </tr></thead><tbody>\n",
              "                <tr>\n",
              "                                <td id=\"T_3e28ecb4_b14f_11eb_a336_0242ac1c0002row0_col0\" class=\"data row0 col0\" >10/03/16</td>\n",
              "                        <td id=\"T_3e28ecb4_b14f_11eb_a336_0242ac1c0002row0_col1\" class=\"data row0 col1\" >$31.50</td>\n",
              "                        <td id=\"T_3e28ecb4_b14f_11eb_a336_0242ac1c0002row0_col2\" class=\"data row0 col2\" >14,070,500</td>\n",
              "                        <td id=\"T_3e28ecb4_b14f_11eb_a336_0242ac1c0002row0_col3\" class=\"data row0 col3\" >CSCO</td>\n",
              "            </tr>\n",
              "            <tr>\n",
              "                                <td id=\"T_3e28ecb4_b14f_11eb_a336_0242ac1c0002row1_col0\" class=\"data row1 col0\" >10/03/16</td>\n",
              "                        <td id=\"T_3e28ecb4_b14f_11eb_a336_0242ac1c0002row1_col1\" class=\"data row1 col1\" >$112.52</td>\n",
              "                        <td id=\"T_3e28ecb4_b14f_11eb_a336_0242ac1c0002row1_col2\" class=\"data row1 col2\" >21,701,800</td>\n",
              "                        <td id=\"T_3e28ecb4_b14f_11eb_a336_0242ac1c0002row1_col3\" class=\"data row1 col3\" >AAPL</td>\n",
              "            </tr>\n",
              "            <tr>\n",
              "                                <td id=\"T_3e28ecb4_b14f_11eb_a336_0242ac1c0002row2_col0\" class=\"data row2 col0\" >10/03/16</td>\n",
              "                        <td id=\"T_3e28ecb4_b14f_11eb_a336_0242ac1c0002row2_col1\" class=\"data row2 col1\" >$57.42</td>\n",
              "                        <td id=\"T_3e28ecb4_b14f_11eb_a336_0242ac1c0002row2_col2\" class=\"data row2 col2\" >19,189,500</td>\n",
              "                        <td id=\"T_3e28ecb4_b14f_11eb_a336_0242ac1c0002row2_col3\" class=\"data row2 col3\" >MSFT</td>\n",
              "            </tr>\n",
              "            <tr>\n",
              "                                <td id=\"T_3e28ecb4_b14f_11eb_a336_0242ac1c0002row3_col0\" class=\"data row3 col0\" >10/04/16</td>\n",
              "                        <td id=\"T_3e28ecb4_b14f_11eb_a336_0242ac1c0002row3_col1\" class=\"data row3 col1\" >$113.00</td>\n",
              "                        <td id=\"T_3e28ecb4_b14f_11eb_a336_0242ac1c0002row3_col2\" class=\"data row3 col2\" >29,736,800</td>\n",
              "                        <td id=\"T_3e28ecb4_b14f_11eb_a336_0242ac1c0002row3_col3\" class=\"data row3 col3\" >AAPL</td>\n",
              "            </tr>\n",
              "            <tr>\n",
              "                                <td id=\"T_3e28ecb4_b14f_11eb_a336_0242ac1c0002row4_col0\" class=\"data row4 col0\" >10/04/16</td>\n",
              "                        <td id=\"T_3e28ecb4_b14f_11eb_a336_0242ac1c0002row4_col1\" class=\"data row4 col1\" >$57.24</td>\n",
              "                        <td id=\"T_3e28ecb4_b14f_11eb_a336_0242ac1c0002row4_col2\" class=\"data row4 col2\" >20,085,900</td>\n",
              "                        <td id=\"T_3e28ecb4_b14f_11eb_a336_0242ac1c0002row4_col3\" class=\"data row4 col3\" >MSFT</td>\n",
              "            </tr>\n",
              "            <tr>\n",
              "                                <td id=\"T_3e28ecb4_b14f_11eb_a336_0242ac1c0002row5_col0\" class=\"data row5 col0\" >10/04/16</td>\n",
              "                        <td id=\"T_3e28ecb4_b14f_11eb_a336_0242ac1c0002row5_col1\" class=\"data row5 col1\" >$31.35</td>\n",
              "                        <td id=\"T_3e28ecb4_b14f_11eb_a336_0242ac1c0002row5_col2\" class=\"data row5 col2\" >18,460,400</td>\n",
              "                        <td id=\"T_3e28ecb4_b14f_11eb_a336_0242ac1c0002row5_col3\" class=\"data row5 col3\" >CSCO</td>\n",
              "            </tr>\n",
              "            <tr>\n",
              "                                <td id=\"T_3e28ecb4_b14f_11eb_a336_0242ac1c0002row6_col0\" class=\"data row6 col0\" >10/05/16</td>\n",
              "                        <td id=\"T_3e28ecb4_b14f_11eb_a336_0242ac1c0002row6_col1\" class=\"data row6 col1\" >$57.64</td>\n",
              "                        <td id=\"T_3e28ecb4_b14f_11eb_a336_0242ac1c0002row6_col2\" class=\"data row6 col2\" >16,726,400</td>\n",
              "                        <td id=\"T_3e28ecb4_b14f_11eb_a336_0242ac1c0002row6_col3\" class=\"data row6 col3\" >MSFT</td>\n",
              "            </tr>\n",
              "            <tr>\n",
              "                                <td id=\"T_3e28ecb4_b14f_11eb_a336_0242ac1c0002row7_col0\" class=\"data row7 col0\" >10/05/16</td>\n",
              "                        <td id=\"T_3e28ecb4_b14f_11eb_a336_0242ac1c0002row7_col1\" class=\"data row7 col1\" >$31.59</td>\n",
              "                        <td id=\"T_3e28ecb4_b14f_11eb_a336_0242ac1c0002row7_col2\" class=\"data row7 col2\" >11,808,600</td>\n",
              "                        <td id=\"T_3e28ecb4_b14f_11eb_a336_0242ac1c0002row7_col3\" class=\"data row7 col3\" >CSCO</td>\n",
              "            </tr>\n",
              "            <tr>\n",
              "                                <td id=\"T_3e28ecb4_b14f_11eb_a336_0242ac1c0002row8_col0\" class=\"data row8 col0\" >10/05/16</td>\n",
              "                        <td id=\"T_3e28ecb4_b14f_11eb_a336_0242ac1c0002row8_col1\" class=\"data row8 col1\" >$113.05</td>\n",
              "                        <td id=\"T_3e28ecb4_b14f_11eb_a336_0242ac1c0002row8_col2\" class=\"data row8 col2\" >21,453,100</td>\n",
              "                        <td id=\"T_3e28ecb4_b14f_11eb_a336_0242ac1c0002row8_col3\" class=\"data row8 col3\" >AAPL</td>\n",
              "            </tr>\n",
              "    </tbody></table>"
            ],
            "text/plain": [
              "<pandas.io.formats.style.Styler at 0x7f5abf28b290>"
            ]
          },
          "metadata": {
            "tags": []
          },
          "execution_count": 65
        }
      ]
    },
    {
      "cell_type": "code",
      "metadata": {
        "colab": {
          "base_uri": "https://localhost:8080/",
          "height": 229
        },
        "id": "IDHiR1DGtm3y",
        "outputId": "127c5e1d-ea63-4c0f-b594-f13dd7a8a476"
      },
      "source": [
        "(stocks.style.format(format_dict)\n",
        " .hide_index()\n",
        " .background_gradient(subset='Volume', cmap='Blues')\n",
        ")"
      ],
      "execution_count": 66,
      "outputs": [
        {
          "output_type": "execute_result",
          "data": {
            "text/html": [
              "<style  type=\"text/css\" >\n",
              "#T_40b44352_b14f_11eb_a336_0242ac1c0002row0_col2{\n",
              "            background-color:  #deebf7;\n",
              "            color:  #000000;\n",
              "        }#T_40b44352_b14f_11eb_a336_0242ac1c0002row1_col2{\n",
              "            background-color:  #5aa2cf;\n",
              "            color:  #000000;\n",
              "        }#T_40b44352_b14f_11eb_a336_0242ac1c0002row2_col2{\n",
              "            background-color:  #8fc2de;\n",
              "            color:  #000000;\n",
              "        }#T_40b44352_b14f_11eb_a336_0242ac1c0002row3_col2{\n",
              "            background-color:  #08306b;\n",
              "            color:  #f1f1f1;\n",
              "        }#T_40b44352_b14f_11eb_a336_0242ac1c0002row4_col2{\n",
              "            background-color:  #7ab6d9;\n",
              "            color:  #000000;\n",
              "        }#T_40b44352_b14f_11eb_a336_0242ac1c0002row5_col2{\n",
              "            background-color:  #a0cbe2;\n",
              "            color:  #000000;\n",
              "        }#T_40b44352_b14f_11eb_a336_0242ac1c0002row6_col2{\n",
              "            background-color:  #bed8ec;\n",
              "            color:  #000000;\n",
              "        }#T_40b44352_b14f_11eb_a336_0242ac1c0002row7_col2{\n",
              "            background-color:  #f7fbff;\n",
              "            color:  #000000;\n",
              "        }#T_40b44352_b14f_11eb_a336_0242ac1c0002row8_col2{\n",
              "            background-color:  #5fa6d1;\n",
              "            color:  #000000;\n",
              "        }</style><table id=\"T_40b44352_b14f_11eb_a336_0242ac1c0002\" ><thead>    <tr>        <th class=\"col_heading level0 col0\" >Date</th>        <th class=\"col_heading level0 col1\" >Close</th>        <th class=\"col_heading level0 col2\" >Volume</th>        <th class=\"col_heading level0 col3\" >Symbol</th>    </tr></thead><tbody>\n",
              "                <tr>\n",
              "                                <td id=\"T_40b44352_b14f_11eb_a336_0242ac1c0002row0_col0\" class=\"data row0 col0\" >10/03/16</td>\n",
              "                        <td id=\"T_40b44352_b14f_11eb_a336_0242ac1c0002row0_col1\" class=\"data row0 col1\" >$31.50</td>\n",
              "                        <td id=\"T_40b44352_b14f_11eb_a336_0242ac1c0002row0_col2\" class=\"data row0 col2\" >14,070,500</td>\n",
              "                        <td id=\"T_40b44352_b14f_11eb_a336_0242ac1c0002row0_col3\" class=\"data row0 col3\" >CSCO</td>\n",
              "            </tr>\n",
              "            <tr>\n",
              "                                <td id=\"T_40b44352_b14f_11eb_a336_0242ac1c0002row1_col0\" class=\"data row1 col0\" >10/03/16</td>\n",
              "                        <td id=\"T_40b44352_b14f_11eb_a336_0242ac1c0002row1_col1\" class=\"data row1 col1\" >$112.52</td>\n",
              "                        <td id=\"T_40b44352_b14f_11eb_a336_0242ac1c0002row1_col2\" class=\"data row1 col2\" >21,701,800</td>\n",
              "                        <td id=\"T_40b44352_b14f_11eb_a336_0242ac1c0002row1_col3\" class=\"data row1 col3\" >AAPL</td>\n",
              "            </tr>\n",
              "            <tr>\n",
              "                                <td id=\"T_40b44352_b14f_11eb_a336_0242ac1c0002row2_col0\" class=\"data row2 col0\" >10/03/16</td>\n",
              "                        <td id=\"T_40b44352_b14f_11eb_a336_0242ac1c0002row2_col1\" class=\"data row2 col1\" >$57.42</td>\n",
              "                        <td id=\"T_40b44352_b14f_11eb_a336_0242ac1c0002row2_col2\" class=\"data row2 col2\" >19,189,500</td>\n",
              "                        <td id=\"T_40b44352_b14f_11eb_a336_0242ac1c0002row2_col3\" class=\"data row2 col3\" >MSFT</td>\n",
              "            </tr>\n",
              "            <tr>\n",
              "                                <td id=\"T_40b44352_b14f_11eb_a336_0242ac1c0002row3_col0\" class=\"data row3 col0\" >10/04/16</td>\n",
              "                        <td id=\"T_40b44352_b14f_11eb_a336_0242ac1c0002row3_col1\" class=\"data row3 col1\" >$113.00</td>\n",
              "                        <td id=\"T_40b44352_b14f_11eb_a336_0242ac1c0002row3_col2\" class=\"data row3 col2\" >29,736,800</td>\n",
              "                        <td id=\"T_40b44352_b14f_11eb_a336_0242ac1c0002row3_col3\" class=\"data row3 col3\" >AAPL</td>\n",
              "            </tr>\n",
              "            <tr>\n",
              "                                <td id=\"T_40b44352_b14f_11eb_a336_0242ac1c0002row4_col0\" class=\"data row4 col0\" >10/04/16</td>\n",
              "                        <td id=\"T_40b44352_b14f_11eb_a336_0242ac1c0002row4_col1\" class=\"data row4 col1\" >$57.24</td>\n",
              "                        <td id=\"T_40b44352_b14f_11eb_a336_0242ac1c0002row4_col2\" class=\"data row4 col2\" >20,085,900</td>\n",
              "                        <td id=\"T_40b44352_b14f_11eb_a336_0242ac1c0002row4_col3\" class=\"data row4 col3\" >MSFT</td>\n",
              "            </tr>\n",
              "            <tr>\n",
              "                                <td id=\"T_40b44352_b14f_11eb_a336_0242ac1c0002row5_col0\" class=\"data row5 col0\" >10/04/16</td>\n",
              "                        <td id=\"T_40b44352_b14f_11eb_a336_0242ac1c0002row5_col1\" class=\"data row5 col1\" >$31.35</td>\n",
              "                        <td id=\"T_40b44352_b14f_11eb_a336_0242ac1c0002row5_col2\" class=\"data row5 col2\" >18,460,400</td>\n",
              "                        <td id=\"T_40b44352_b14f_11eb_a336_0242ac1c0002row5_col3\" class=\"data row5 col3\" >CSCO</td>\n",
              "            </tr>\n",
              "            <tr>\n",
              "                                <td id=\"T_40b44352_b14f_11eb_a336_0242ac1c0002row6_col0\" class=\"data row6 col0\" >10/05/16</td>\n",
              "                        <td id=\"T_40b44352_b14f_11eb_a336_0242ac1c0002row6_col1\" class=\"data row6 col1\" >$57.64</td>\n",
              "                        <td id=\"T_40b44352_b14f_11eb_a336_0242ac1c0002row6_col2\" class=\"data row6 col2\" >16,726,400</td>\n",
              "                        <td id=\"T_40b44352_b14f_11eb_a336_0242ac1c0002row6_col3\" class=\"data row6 col3\" >MSFT</td>\n",
              "            </tr>\n",
              "            <tr>\n",
              "                                <td id=\"T_40b44352_b14f_11eb_a336_0242ac1c0002row7_col0\" class=\"data row7 col0\" >10/05/16</td>\n",
              "                        <td id=\"T_40b44352_b14f_11eb_a336_0242ac1c0002row7_col1\" class=\"data row7 col1\" >$31.59</td>\n",
              "                        <td id=\"T_40b44352_b14f_11eb_a336_0242ac1c0002row7_col2\" class=\"data row7 col2\" >11,808,600</td>\n",
              "                        <td id=\"T_40b44352_b14f_11eb_a336_0242ac1c0002row7_col3\" class=\"data row7 col3\" >CSCO</td>\n",
              "            </tr>\n",
              "            <tr>\n",
              "                                <td id=\"T_40b44352_b14f_11eb_a336_0242ac1c0002row8_col0\" class=\"data row8 col0\" >10/05/16</td>\n",
              "                        <td id=\"T_40b44352_b14f_11eb_a336_0242ac1c0002row8_col1\" class=\"data row8 col1\" >$113.05</td>\n",
              "                        <td id=\"T_40b44352_b14f_11eb_a336_0242ac1c0002row8_col2\" class=\"data row8 col2\" >21,453,100</td>\n",
              "                        <td id=\"T_40b44352_b14f_11eb_a336_0242ac1c0002row8_col3\" class=\"data row8 col3\" >AAPL</td>\n",
              "            </tr>\n",
              "    </tbody></table>"
            ],
            "text/plain": [
              "<pandas.io.formats.style.Styler at 0x7f5abf2feb50>"
            ]
          },
          "metadata": {
            "tags": []
          },
          "execution_count": 66
        }
      ]
    },
    {
      "cell_type": "code",
      "metadata": {
        "colab": {
          "base_uri": "https://localhost:8080/",
          "height": 246
        },
        "id": "g1Ti6UtjtxJp",
        "outputId": "66ae7eb9-b8ae-4991-fbf0-052362815b90"
      },
      "source": [
        "(stocks.style.format(format_dict)\n",
        " .hide_index()\n",
        " .bar('Volume', color='lightblue', align='zero')\n",
        " .set_caption('Stock Prices from October 2016')\n",
        ")"
      ],
      "execution_count": 67,
      "outputs": [
        {
          "output_type": "execute_result",
          "data": {
            "text/html": [
              "<style  type=\"text/css\" >\n",
              "#T_451e81aa_b14f_11eb_a336_0242ac1c0002row0_col2{\n",
              "            width:  10em;\n",
              "             height:  80%;\n",
              "            background:  linear-gradient(90deg, transparent 50.0%, lightblue 50.0%, lightblue 73.7%, transparent 73.7%);\n",
              "        }#T_451e81aa_b14f_11eb_a336_0242ac1c0002row1_col2{\n",
              "            width:  10em;\n",
              "             height:  80%;\n",
              "            background:  linear-gradient(90deg, transparent 50.0%, lightblue 50.0%, lightblue 86.5%, transparent 86.5%);\n",
              "        }#T_451e81aa_b14f_11eb_a336_0242ac1c0002row2_col2{\n",
              "            width:  10em;\n",
              "             height:  80%;\n",
              "            background:  linear-gradient(90deg, transparent 50.0%, lightblue 50.0%, lightblue 82.3%, transparent 82.3%);\n",
              "        }#T_451e81aa_b14f_11eb_a336_0242ac1c0002row3_col2{\n",
              "            width:  10em;\n",
              "             height:  80%;\n",
              "            background:  linear-gradient(90deg, transparent 50.0%, lightblue 50.0%, lightblue 100.0%, transparent 100.0%);\n",
              "        }#T_451e81aa_b14f_11eb_a336_0242ac1c0002row4_col2{\n",
              "            width:  10em;\n",
              "             height:  80%;\n",
              "            background:  linear-gradient(90deg, transparent 50.0%, lightblue 50.0%, lightblue 83.8%, transparent 83.8%);\n",
              "        }#T_451e81aa_b14f_11eb_a336_0242ac1c0002row5_col2{\n",
              "            width:  10em;\n",
              "             height:  80%;\n",
              "            background:  linear-gradient(90deg, transparent 50.0%, lightblue 50.0%, lightblue 81.0%, transparent 81.0%);\n",
              "        }#T_451e81aa_b14f_11eb_a336_0242ac1c0002row6_col2{\n",
              "            width:  10em;\n",
              "             height:  80%;\n",
              "            background:  linear-gradient(90deg, transparent 50.0%, lightblue 50.0%, lightblue 78.1%, transparent 78.1%);\n",
              "        }#T_451e81aa_b14f_11eb_a336_0242ac1c0002row7_col2{\n",
              "            width:  10em;\n",
              "             height:  80%;\n",
              "            background:  linear-gradient(90deg, transparent 50.0%, lightblue 50.0%, lightblue 69.9%, transparent 69.9%);\n",
              "        }#T_451e81aa_b14f_11eb_a336_0242ac1c0002row8_col2{\n",
              "            width:  10em;\n",
              "             height:  80%;\n",
              "            background:  linear-gradient(90deg, transparent 50.0%, lightblue 50.0%, lightblue 86.1%, transparent 86.1%);\n",
              "        }</style><table id=\"T_451e81aa_b14f_11eb_a336_0242ac1c0002\" ><caption>Stock Prices from October 2016</caption><thead>    <tr>        <th class=\"col_heading level0 col0\" >Date</th>        <th class=\"col_heading level0 col1\" >Close</th>        <th class=\"col_heading level0 col2\" >Volume</th>        <th class=\"col_heading level0 col3\" >Symbol</th>    </tr></thead><tbody>\n",
              "                <tr>\n",
              "                                <td id=\"T_451e81aa_b14f_11eb_a336_0242ac1c0002row0_col0\" class=\"data row0 col0\" >10/03/16</td>\n",
              "                        <td id=\"T_451e81aa_b14f_11eb_a336_0242ac1c0002row0_col1\" class=\"data row0 col1\" >$31.50</td>\n",
              "                        <td id=\"T_451e81aa_b14f_11eb_a336_0242ac1c0002row0_col2\" class=\"data row0 col2\" >14,070,500</td>\n",
              "                        <td id=\"T_451e81aa_b14f_11eb_a336_0242ac1c0002row0_col3\" class=\"data row0 col3\" >CSCO</td>\n",
              "            </tr>\n",
              "            <tr>\n",
              "                                <td id=\"T_451e81aa_b14f_11eb_a336_0242ac1c0002row1_col0\" class=\"data row1 col0\" >10/03/16</td>\n",
              "                        <td id=\"T_451e81aa_b14f_11eb_a336_0242ac1c0002row1_col1\" class=\"data row1 col1\" >$112.52</td>\n",
              "                        <td id=\"T_451e81aa_b14f_11eb_a336_0242ac1c0002row1_col2\" class=\"data row1 col2\" >21,701,800</td>\n",
              "                        <td id=\"T_451e81aa_b14f_11eb_a336_0242ac1c0002row1_col3\" class=\"data row1 col3\" >AAPL</td>\n",
              "            </tr>\n",
              "            <tr>\n",
              "                                <td id=\"T_451e81aa_b14f_11eb_a336_0242ac1c0002row2_col0\" class=\"data row2 col0\" >10/03/16</td>\n",
              "                        <td id=\"T_451e81aa_b14f_11eb_a336_0242ac1c0002row2_col1\" class=\"data row2 col1\" >$57.42</td>\n",
              "                        <td id=\"T_451e81aa_b14f_11eb_a336_0242ac1c0002row2_col2\" class=\"data row2 col2\" >19,189,500</td>\n",
              "                        <td id=\"T_451e81aa_b14f_11eb_a336_0242ac1c0002row2_col3\" class=\"data row2 col3\" >MSFT</td>\n",
              "            </tr>\n",
              "            <tr>\n",
              "                                <td id=\"T_451e81aa_b14f_11eb_a336_0242ac1c0002row3_col0\" class=\"data row3 col0\" >10/04/16</td>\n",
              "                        <td id=\"T_451e81aa_b14f_11eb_a336_0242ac1c0002row3_col1\" class=\"data row3 col1\" >$113.00</td>\n",
              "                        <td id=\"T_451e81aa_b14f_11eb_a336_0242ac1c0002row3_col2\" class=\"data row3 col2\" >29,736,800</td>\n",
              "                        <td id=\"T_451e81aa_b14f_11eb_a336_0242ac1c0002row3_col3\" class=\"data row3 col3\" >AAPL</td>\n",
              "            </tr>\n",
              "            <tr>\n",
              "                                <td id=\"T_451e81aa_b14f_11eb_a336_0242ac1c0002row4_col0\" class=\"data row4 col0\" >10/04/16</td>\n",
              "                        <td id=\"T_451e81aa_b14f_11eb_a336_0242ac1c0002row4_col1\" class=\"data row4 col1\" >$57.24</td>\n",
              "                        <td id=\"T_451e81aa_b14f_11eb_a336_0242ac1c0002row4_col2\" class=\"data row4 col2\" >20,085,900</td>\n",
              "                        <td id=\"T_451e81aa_b14f_11eb_a336_0242ac1c0002row4_col3\" class=\"data row4 col3\" >MSFT</td>\n",
              "            </tr>\n",
              "            <tr>\n",
              "                                <td id=\"T_451e81aa_b14f_11eb_a336_0242ac1c0002row5_col0\" class=\"data row5 col0\" >10/04/16</td>\n",
              "                        <td id=\"T_451e81aa_b14f_11eb_a336_0242ac1c0002row5_col1\" class=\"data row5 col1\" >$31.35</td>\n",
              "                        <td id=\"T_451e81aa_b14f_11eb_a336_0242ac1c0002row5_col2\" class=\"data row5 col2\" >18,460,400</td>\n",
              "                        <td id=\"T_451e81aa_b14f_11eb_a336_0242ac1c0002row5_col3\" class=\"data row5 col3\" >CSCO</td>\n",
              "            </tr>\n",
              "            <tr>\n",
              "                                <td id=\"T_451e81aa_b14f_11eb_a336_0242ac1c0002row6_col0\" class=\"data row6 col0\" >10/05/16</td>\n",
              "                        <td id=\"T_451e81aa_b14f_11eb_a336_0242ac1c0002row6_col1\" class=\"data row6 col1\" >$57.64</td>\n",
              "                        <td id=\"T_451e81aa_b14f_11eb_a336_0242ac1c0002row6_col2\" class=\"data row6 col2\" >16,726,400</td>\n",
              "                        <td id=\"T_451e81aa_b14f_11eb_a336_0242ac1c0002row6_col3\" class=\"data row6 col3\" >MSFT</td>\n",
              "            </tr>\n",
              "            <tr>\n",
              "                                <td id=\"T_451e81aa_b14f_11eb_a336_0242ac1c0002row7_col0\" class=\"data row7 col0\" >10/05/16</td>\n",
              "                        <td id=\"T_451e81aa_b14f_11eb_a336_0242ac1c0002row7_col1\" class=\"data row7 col1\" >$31.59</td>\n",
              "                        <td id=\"T_451e81aa_b14f_11eb_a336_0242ac1c0002row7_col2\" class=\"data row7 col2\" >11,808,600</td>\n",
              "                        <td id=\"T_451e81aa_b14f_11eb_a336_0242ac1c0002row7_col3\" class=\"data row7 col3\" >CSCO</td>\n",
              "            </tr>\n",
              "            <tr>\n",
              "                                <td id=\"T_451e81aa_b14f_11eb_a336_0242ac1c0002row8_col0\" class=\"data row8 col0\" >10/05/16</td>\n",
              "                        <td id=\"T_451e81aa_b14f_11eb_a336_0242ac1c0002row8_col1\" class=\"data row8 col1\" >$113.05</td>\n",
              "                        <td id=\"T_451e81aa_b14f_11eb_a336_0242ac1c0002row8_col2\" class=\"data row8 col2\" >21,453,100</td>\n",
              "                        <td id=\"T_451e81aa_b14f_11eb_a336_0242ac1c0002row8_col3\" class=\"data row8 col3\" >AAPL</td>\n",
              "            </tr>\n",
              "    </tbody></table>"
            ],
            "text/plain": [
              "<pandas.io.formats.style.Styler at 0x7f5abf2fee90>"
            ]
          },
          "metadata": {
            "tags": []
          },
          "execution_count": 67
        }
      ]
    },
    {
      "cell_type": "markdown",
      "metadata": {
        "id": "v6a6NfESuNFl"
      },
      "source": [
        "### Bonums : Profile a DataFrame (데이터프레임 보고서 만들기)"
      ]
    },
    {
      "cell_type": "code",
      "metadata": {
        "id": "0zaZHu9JuSaS"
      },
      "source": [
        "!pip install profiling\n",
        "import pandas_profiling"
      ],
      "execution_count": null,
      "outputs": []
    },
    {
      "cell_type": "code",
      "metadata": {
        "colab": {
          "base_uri": "https://localhost:8080/",
          "height": 340
        },
        "id": "Dvl_LeRVuSQ9",
        "outputId": "d877ffe3-bce7-44a3-9039-1e489c4ea63b"
      },
      "source": [
        "pandas_profiling.ProfileReport(titanic)\n"
      ],
      "execution_count": 72,
      "outputs": [
        {
          "output_type": "error",
          "ename": "TypeError",
          "evalue": "ignored",
          "traceback": [
            "\u001b[0;31m---------------------------------------------------------------------------\u001b[0m",
            "\u001b[0;31mTypeError\u001b[0m                                 Traceback (most recent call last)",
            "\u001b[0;32m<ipython-input-72-3919cecfe89e>\u001b[0m in \u001b[0;36m<module>\u001b[0;34m()\u001b[0m\n\u001b[0;32m----> 1\u001b[0;31m \u001b[0mpandas_profiling\u001b[0m\u001b[0;34m.\u001b[0m\u001b[0mProfileReport\u001b[0m\u001b[0;34m(\u001b[0m\u001b[0mtitanic\u001b[0m\u001b[0;34m)\u001b[0m\u001b[0;34m\u001b[0m\u001b[0;34m\u001b[0m\u001b[0m\n\u001b[0m",
            "\u001b[0;32m/usr/local/lib/python3.7/dist-packages/pandas_profiling/__init__.py\u001b[0m in \u001b[0;36m__init__\u001b[0;34m(self, df, **kwargs)\u001b[0m\n\u001b[1;32m     64\u001b[0m         \u001b[0msample\u001b[0m \u001b[0;34m=\u001b[0m \u001b[0mkwargs\u001b[0m\u001b[0;34m.\u001b[0m\u001b[0mget\u001b[0m\u001b[0;34m(\u001b[0m\u001b[0;34m'sample'\u001b[0m\u001b[0;34m,\u001b[0m \u001b[0mdf\u001b[0m\u001b[0;34m.\u001b[0m\u001b[0mhead\u001b[0m\u001b[0;34m(\u001b[0m\u001b[0;34m)\u001b[0m\u001b[0;34m)\u001b[0m\u001b[0;34m\u001b[0m\u001b[0;34m\u001b[0m\u001b[0m\n\u001b[1;32m     65\u001b[0m \u001b[0;34m\u001b[0m\u001b[0m\n\u001b[0;32m---> 66\u001b[0;31m         \u001b[0mdescription_set\u001b[0m \u001b[0;34m=\u001b[0m \u001b[0mdescribe\u001b[0m\u001b[0;34m(\u001b[0m\u001b[0mdf\u001b[0m\u001b[0;34m,\u001b[0m \u001b[0;34m**\u001b[0m\u001b[0mkwargs\u001b[0m\u001b[0;34m)\u001b[0m\u001b[0;34m\u001b[0m\u001b[0;34m\u001b[0m\u001b[0m\n\u001b[0m\u001b[1;32m     67\u001b[0m \u001b[0;34m\u001b[0m\u001b[0m\n\u001b[1;32m     68\u001b[0m         self.html = to_html(sample,\n",
            "\u001b[0;32m/usr/local/lib/python3.7/dist-packages/pandas_profiling/describe.py\u001b[0m in \u001b[0;36mdescribe\u001b[0;34m(df, bins, check_correlation, correlation_threshold, correlation_overrides, check_recoded, pool_size, **kwargs)\u001b[0m\n\u001b[1;32m    390\u001b[0m             \u001b[0;32mif\u001b[0m \u001b[0mname\u001b[0m \u001b[0;32mnot\u001b[0m \u001b[0;32min\u001b[0m \u001b[0mnames\u001b[0m\u001b[0;34m:\u001b[0m\u001b[0;34m\u001b[0m\u001b[0;34m\u001b[0m\u001b[0m\n\u001b[1;32m    391\u001b[0m                 \u001b[0mnames\u001b[0m\u001b[0;34m.\u001b[0m\u001b[0mappend\u001b[0m\u001b[0;34m(\u001b[0m\u001b[0mname\u001b[0m\u001b[0;34m)\u001b[0m\u001b[0;34m\u001b[0m\u001b[0;34m\u001b[0m\u001b[0m\n\u001b[0;32m--> 392\u001b[0;31m     \u001b[0mvariable_stats\u001b[0m \u001b[0;34m=\u001b[0m \u001b[0mpd\u001b[0m\u001b[0;34m.\u001b[0m\u001b[0mconcat\u001b[0m\u001b[0;34m(\u001b[0m\u001b[0mldesc\u001b[0m\u001b[0;34m,\u001b[0m \u001b[0mjoin_axes\u001b[0m\u001b[0;34m=\u001b[0m\u001b[0mpd\u001b[0m\u001b[0;34m.\u001b[0m\u001b[0mIndex\u001b[0m\u001b[0;34m(\u001b[0m\u001b[0;34m[\u001b[0m\u001b[0mnames\u001b[0m\u001b[0;34m]\u001b[0m\u001b[0;34m)\u001b[0m\u001b[0;34m,\u001b[0m \u001b[0maxis\u001b[0m\u001b[0;34m=\u001b[0m\u001b[0;36m1\u001b[0m\u001b[0;34m)\u001b[0m\u001b[0;34m\u001b[0m\u001b[0;34m\u001b[0m\u001b[0m\n\u001b[0m\u001b[1;32m    393\u001b[0m     \u001b[0mvariable_stats\u001b[0m\u001b[0;34m.\u001b[0m\u001b[0mcolumns\u001b[0m\u001b[0;34m.\u001b[0m\u001b[0mnames\u001b[0m \u001b[0;34m=\u001b[0m \u001b[0mdf\u001b[0m\u001b[0;34m.\u001b[0m\u001b[0mcolumns\u001b[0m\u001b[0;34m.\u001b[0m\u001b[0mnames\u001b[0m\u001b[0;34m\u001b[0m\u001b[0;34m\u001b[0m\u001b[0m\n\u001b[1;32m    394\u001b[0m \u001b[0;34m\u001b[0m\u001b[0m\n",
            "\u001b[0;31mTypeError\u001b[0m: concat() got an unexpected keyword argument 'join_axes'"
          ]
        }
      ]
    },
    {
      "cell_type": "code",
      "metadata": {
        "id": "yVkrjcpuuUe5"
      },
      "source": [
        ""
      ],
      "execution_count": null,
      "outputs": []
    },
    {
      "cell_type": "markdown",
      "metadata": {
        "id": "UQqT5ie4vdDS"
      },
      "source": [
        "<img src='https://user-images.githubusercontent.com/6457691/90080969-0f758d00-dd47-11ea-8191-fa12fd2054a7.png' width = '200' align = 'right'>\n",
        "\n",
        "# *DATA SCIENCE / SECTION 1 / SPRINT 1 / NOTE 3*\n",
        "\n",
        "---\n",
        "\n",
        "# Data Manipulation\n",
        "\n",
        "## 🏆 학습 목표 \n",
        "\n",
        "- pandas를 통해 데이터를 `concat` / `merge` 할 수 있다.\n",
        "- tidy 데이터 에 대한 개념을 이해한다\n",
        "- `melt`와 `pivot` / `pivot_table` 함수를 사용하여 wide와 tidy 형태의 데이터를 서로 변환 할 수 있다.\n",
        "\n",
        "---"
      ]
    },
    {
      "cell_type": "code",
      "metadata": {
        "id": "XVmy312z0DTb"
      },
      "source": [
        ""
      ],
      "execution_count": null,
      "outputs": []
    },
    {
      "cell_type": "markdown",
      "metadata": {
        "id": "b_gXHprXvqVx"
      },
      "source": [
        "# pandas 로 데이터 합치기"
      ]
    },
    {
      "cell_type": "markdown",
      "metadata": {
        "id": "mPVHZevR04pV"
      },
      "source": [
        "## 개요\n",
        "\n",
        "상당히 많은 경우, 데이터는 여러개의 파일들을 통해 구성되어 있습니다.\n",
        "\n",
        "<img src='https://i.imgur.com/aD1rHaj.png' width = 600>\n",
        "\n",
        "위의 그림처럼, 주가 데이터를 예로 들면, 종목별 데이터와 어떤 데이터가 어떤 종목을 의미하는지 설명하는 description 데이터로 나누어 질 수 있을 것입니다.\n",
        "\n",
        "우리가 효과적인 데이터 분석을 하기 위해서는 여러개의 파일을 하나로 합치는 것이 필요하겠죠.\n",
        "\n",
        "pandas를 통해서 더하는 방법에는 여러가지가 있지만, 그중에 2가지를 배워보겠습니다.\n"
      ]
    },
    {
      "cell_type": "markdown",
      "metadata": {
        "id": "J6ej2dp8OwTd"
      },
      "source": [
        "## Concat (Concatenate)\n",
        "\n",
        "`concat`은 '더한다' 혹은 '붙인다'라는 의미로 생각하면 이해가 편합니다. \n",
        "\n",
        "예를 들어, 2개의 문자열을 `+` 연산자를 이용해 \"붙일\" 수 있습니다."
      ]
    },
    {
      "cell_type": "code",
      "metadata": {
        "id": "NeAeYKwN08q3",
        "colab": {
          "base_uri": "https://localhost:8080/",
          "height": 35
        },
        "outputId": "41283863-ebf3-44f1-c805-450b3f617f77"
      },
      "source": [
        "'\"+\" 연산자를 ' + '사용하여 ' +  '문자열을 ' + '더할 수 ' + '있습니다.'"
      ],
      "execution_count": null,
      "outputs": [
        {
          "output_type": "execute_result",
          "data": {
            "application/vnd.google.colaboratory.intrinsic+json": {
              "type": "string"
            },
            "text/plain": [
              "'\"+\" 연산자를 사용하여 문자열을 더할 수 있습니다.'"
            ]
          },
          "metadata": {
            "tags": []
          },
          "execution_count": 1
        }
      ]
    },
    {
      "cell_type": "markdown",
      "metadata": {
        "id": "1CdRaWn7PGoK"
      },
      "source": [
        "### 🔥 string + \n",
        "\n",
        "다른 방법으로 문자열을 **더할** 수 있습니다. \n",
        "- tostring\n",
        "- join\n",
        " \n",
        "한편 문자열을 **나누는** 방법도 있습니다.\n",
        " - split"
      ]
    },
    {
      "cell_type": "markdown",
      "metadata": {
        "id": "QIgxXomn7iHC"
      },
      "source": [
        "### data.frame\n",
        "\n",
        "data.frame도 마찬가지로, 열이나 행을 기준으로 **더할** 수 있습니다.\n",
        "간단한 예시를 통해 알아봅시다"
      ]
    },
    {
      "cell_type": "markdown",
      "metadata": {
        "id": "NwYIXqGHbMph"
      },
      "source": [
        "<img src='https://i.imgur.com/NKlbzcN.png' width = 400>\n",
        "<br>\n",
        "<img src='https://i.imgur.com/771YsZY.png' width = 200>\n",
        "<br>\n",
        "<img src='https://i.imgur.com/RL15ljt.png' width = 300>\n",
        "\n",
        "---\n"
      ]
    },
    {
      "cell_type": "markdown",
      "metadata": {
        "id": "s4HJtFKBcFlk"
      },
      "source": [
        "### Index 가 다른 경우\n",
        "\n",
        "<img src='https://i.imgur.com/SBnLzgV.png' width = 400>\n",
        "<br>\n",
        "<img src='https://i.imgur.com/ZlyY7H7.png' width = 200>\n",
        "<br>\n",
        "<img src='https://i.imgur.com/0dEtj8O.png' width = 200>"
      ]
    },
    {
      "cell_type": "markdown",
      "metadata": {
        "id": "AdIvZpXPWqR1"
      },
      "source": [
        "### using python"
      ]
    },
    {
      "cell_type": "code",
      "metadata": {
        "id": "O6MbummV9kgH"
      },
      "source": [
        "import pandas as pd"
      ],
      "execution_count": null,
      "outputs": []
    },
    {
      "cell_type": "code",
      "metadata": {
        "id": "QCw6DJxR8m6T"
      },
      "source": [
        "x = pd.DataFrame([['AX','AY'],['BX','BY']], index = ['A','B'], columns = ['X','Y'])\n",
        "y = pd.DataFrame([['AX','AZ'],['CX','CZ']], index = ['A','C'], columns = ['X','Z'])"
      ],
      "execution_count": null,
      "outputs": []
    },
    {
      "cell_type": "code",
      "metadata": {
        "colab": {
          "base_uri": "https://localhost:8080/",
          "height": 111
        },
        "id": "FppZXjnWU5wp",
        "outputId": "c175bfa8-66c7-4bda-8efa-26e182653863"
      },
      "source": [
        "x"
      ],
      "execution_count": null,
      "outputs": [
        {
          "output_type": "execute_result",
          "data": {
            "text/html": [
              "<div>\n",
              "<style scoped>\n",
              "    .dataframe tbody tr th:only-of-type {\n",
              "        vertical-align: middle;\n",
              "    }\n",
              "\n",
              "    .dataframe tbody tr th {\n",
              "        vertical-align: top;\n",
              "    }\n",
              "\n",
              "    .dataframe thead th {\n",
              "        text-align: right;\n",
              "    }\n",
              "</style>\n",
              "<table border=\"1\" class=\"dataframe\">\n",
              "  <thead>\n",
              "    <tr style=\"text-align: right;\">\n",
              "      <th></th>\n",
              "      <th>X</th>\n",
              "      <th>Y</th>\n",
              "    </tr>\n",
              "  </thead>\n",
              "  <tbody>\n",
              "    <tr>\n",
              "      <th>A</th>\n",
              "      <td>AX</td>\n",
              "      <td>AY</td>\n",
              "    </tr>\n",
              "    <tr>\n",
              "      <th>B</th>\n",
              "      <td>BX</td>\n",
              "      <td>BY</td>\n",
              "    </tr>\n",
              "  </tbody>\n",
              "</table>\n",
              "</div>"
            ],
            "text/plain": [
              "    X   Y\n",
              "A  AX  AY\n",
              "B  BX  BY"
            ]
          },
          "metadata": {
            "tags": []
          },
          "execution_count": 4
        }
      ]
    },
    {
      "cell_type": "code",
      "metadata": {
        "colab": {
          "base_uri": "https://localhost:8080/",
          "height": 111
        },
        "id": "OEfXSX3FU6D9",
        "outputId": "cba19525-6004-4308-f43d-e395f6ee59cb"
      },
      "source": [
        "y"
      ],
      "execution_count": null,
      "outputs": [
        {
          "output_type": "execute_result",
          "data": {
            "text/html": [
              "<div>\n",
              "<style scoped>\n",
              "    .dataframe tbody tr th:only-of-type {\n",
              "        vertical-align: middle;\n",
              "    }\n",
              "\n",
              "    .dataframe tbody tr th {\n",
              "        vertical-align: top;\n",
              "    }\n",
              "\n",
              "    .dataframe thead th {\n",
              "        text-align: right;\n",
              "    }\n",
              "</style>\n",
              "<table border=\"1\" class=\"dataframe\">\n",
              "  <thead>\n",
              "    <tr style=\"text-align: right;\">\n",
              "      <th></th>\n",
              "      <th>X</th>\n",
              "      <th>Z</th>\n",
              "    </tr>\n",
              "  </thead>\n",
              "  <tbody>\n",
              "    <tr>\n",
              "      <th>A</th>\n",
              "      <td>AX</td>\n",
              "      <td>AZ</td>\n",
              "    </tr>\n",
              "    <tr>\n",
              "      <th>C</th>\n",
              "      <td>CX</td>\n",
              "      <td>CZ</td>\n",
              "    </tr>\n",
              "  </tbody>\n",
              "</table>\n",
              "</div>"
            ],
            "text/plain": [
              "    X   Z\n",
              "A  AX  AZ\n",
              "C  CX  CZ"
            ]
          },
          "metadata": {
            "tags": []
          },
          "execution_count": 5
        }
      ]
    },
    {
      "cell_type": "code",
      "metadata": {
        "colab": {
          "base_uri": "https://localhost:8080/",
          "height": 173
        },
        "id": "l4betSZMU23U",
        "outputId": "0c196bc4-8fe0-4668-b771-2f764ab37adb"
      },
      "source": [
        "pd.concat([x, y]) ## concate_by_row "
      ],
      "execution_count": null,
      "outputs": [
        {
          "output_type": "execute_result",
          "data": {
            "text/html": [
              "<div>\n",
              "<style scoped>\n",
              "    .dataframe tbody tr th:only-of-type {\n",
              "        vertical-align: middle;\n",
              "    }\n",
              "\n",
              "    .dataframe tbody tr th {\n",
              "        vertical-align: top;\n",
              "    }\n",
              "\n",
              "    .dataframe thead th {\n",
              "        text-align: right;\n",
              "    }\n",
              "</style>\n",
              "<table border=\"1\" class=\"dataframe\">\n",
              "  <thead>\n",
              "    <tr style=\"text-align: right;\">\n",
              "      <th></th>\n",
              "      <th>X</th>\n",
              "      <th>Y</th>\n",
              "      <th>Z</th>\n",
              "    </tr>\n",
              "  </thead>\n",
              "  <tbody>\n",
              "    <tr>\n",
              "      <th>A</th>\n",
              "      <td>AX</td>\n",
              "      <td>AY</td>\n",
              "      <td>NaN</td>\n",
              "    </tr>\n",
              "    <tr>\n",
              "      <th>B</th>\n",
              "      <td>BX</td>\n",
              "      <td>BY</td>\n",
              "      <td>NaN</td>\n",
              "    </tr>\n",
              "    <tr>\n",
              "      <th>A</th>\n",
              "      <td>AX</td>\n",
              "      <td>NaN</td>\n",
              "      <td>AZ</td>\n",
              "    </tr>\n",
              "    <tr>\n",
              "      <th>C</th>\n",
              "      <td>CX</td>\n",
              "      <td>NaN</td>\n",
              "      <td>CZ</td>\n",
              "    </tr>\n",
              "  </tbody>\n",
              "</table>\n",
              "</div>"
            ],
            "text/plain": [
              "    X    Y    Z\n",
              "A  AX   AY  NaN\n",
              "B  BX   BY  NaN\n",
              "A  AX  NaN   AZ\n",
              "C  CX  NaN   CZ"
            ]
          },
          "metadata": {
            "tags": []
          },
          "execution_count": 6
        }
      ]
    },
    {
      "cell_type": "code",
      "metadata": {
        "colab": {
          "base_uri": "https://localhost:8080/",
          "height": 142
        },
        "id": "wI_jAoHxUyfH",
        "outputId": "6877241b-a319-4648-acf6-a1bd999ee8bf"
      },
      "source": [
        "pd.concat([x, y], axis = 1) ## concate_by_column"
      ],
      "execution_count": null,
      "outputs": [
        {
          "output_type": "execute_result",
          "data": {
            "text/html": [
              "<div>\n",
              "<style scoped>\n",
              "    .dataframe tbody tr th:only-of-type {\n",
              "        vertical-align: middle;\n",
              "    }\n",
              "\n",
              "    .dataframe tbody tr th {\n",
              "        vertical-align: top;\n",
              "    }\n",
              "\n",
              "    .dataframe thead th {\n",
              "        text-align: right;\n",
              "    }\n",
              "</style>\n",
              "<table border=\"1\" class=\"dataframe\">\n",
              "  <thead>\n",
              "    <tr style=\"text-align: right;\">\n",
              "      <th></th>\n",
              "      <th>X</th>\n",
              "      <th>Y</th>\n",
              "      <th>X</th>\n",
              "      <th>Z</th>\n",
              "    </tr>\n",
              "  </thead>\n",
              "  <tbody>\n",
              "    <tr>\n",
              "      <th>A</th>\n",
              "      <td>AX</td>\n",
              "      <td>AY</td>\n",
              "      <td>AX</td>\n",
              "      <td>AZ</td>\n",
              "    </tr>\n",
              "    <tr>\n",
              "      <th>B</th>\n",
              "      <td>BX</td>\n",
              "      <td>BY</td>\n",
              "      <td>NaN</td>\n",
              "      <td>NaN</td>\n",
              "    </tr>\n",
              "    <tr>\n",
              "      <th>C</th>\n",
              "      <td>NaN</td>\n",
              "      <td>NaN</td>\n",
              "      <td>CX</td>\n",
              "      <td>CZ</td>\n",
              "    </tr>\n",
              "  </tbody>\n",
              "</table>\n",
              "</div>"
            ],
            "text/plain": [
              "     X    Y    X    Z\n",
              "A   AX   AY   AX   AZ\n",
              "B   BX   BY  NaN  NaN\n",
              "C  NaN  NaN   CX   CZ"
            ]
          },
          "metadata": {
            "tags": []
          },
          "execution_count": 7
        }
      ]
    },
    {
      "cell_type": "markdown",
      "metadata": {
        "id": "2-NxpMCr9WOS"
      },
      "source": [
        "데이터프레임을 더할 때, 일반적으로는 더해지는 행, 열의 이름이나 인덱스 값이 일치해야 합니다.\n",
        "\n",
        "만약 그렇지 않은 경우, 비어있는 부분에 대해서는 (결측치를 의미하는) `NaN` 값으로 채워지겠죠."
      ]
    },
    {
      "cell_type": "markdown",
      "metadata": {
        "id": "k8YGJ8Wm1AG3"
      },
      "source": [
        "## Stocks"
      ]
    },
    {
      "cell_type": "markdown",
      "metadata": {
        "id": "hbH8CcozBcyI"
      },
      "source": [
        "이번에는 제가 **치맥 주식**이라 이름 붙인 실제 데이터를 기반으로 concat을 연습해보겠습니다.\n",
        "\n",
        "- `000080.csv`\n",
        "- `000890.csv`\n",
        "- `005300.csv`\n",
        "- `027740.csv`\n",
        "- `035810.csv`\n",
        "- `136480.csv`\n",
        "\n",
        "여러개의 파일로 구성되어 있기 때문에, 각각 잘 로드되었는지 확인하는 것 뿐만 아니라 데이터프레임을 하나로 합치는 것 또한 필요합니다.\n",
        "\n",
        "이번 연습의 목표 중 하나는 아래 그림처럼 **최근 분기에 해당하는 데이터**와 `종목코드`, `종목명` ,`테마`와 같은 **추가 정보 (Feature)**를 더해, 하나의 데이터프레임으로 합치는 것입니다.\n",
        "\n",
        "|종목코드|종목명|테마|매출|영업이익|...|현금배당성향(%)|발행주식수(보통주)|\n",
        "|:-:|:-:|:-:|:-:|:-:|:-:|:-:|:-:|\n",
        "|000080|하이트진로|주류|6,243|644|...|0|70,133,611|\n",
        "||||||...||\n",
        "|136480|하림|육계|2,613|1|...|0|106,209,702|\n"
      ]
    },
    {
      "cell_type": "markdown",
      "metadata": {
        "id": "1SuPP5b0D2u1"
      },
      "source": [
        "### 데이터 준비\n",
        "\n",
        "url은 `https://ds-lecture-data.s3.ap-northeast-2.amazonaws.com/stocks/`에 위의 파일명들을 붙여서 접근 할 수 있습니다.\n",
        "\n"
      ]
    },
    {
      "cell_type": "code",
      "metadata": {
        "id": "dkxqMNGrDJrM",
        "colab": {
          "base_uri": "https://localhost:8080/",
          "height": 204
        },
        "outputId": "d003dedc-d3af-4107-d9c2-022d908ae14e"
      },
      "source": [
        "import pandas as pd\n",
        "\n",
        "urlhead = 'https://ds-lecture-data.s3.ap-northeast-2.amazonaws.com/stocks/'\n",
        "df1 = pd.read_csv(urlhead + '000080.csv')\n",
        "df1.head()"
      ],
      "execution_count": null,
      "outputs": [
        {
          "output_type": "execute_result",
          "data": {
            "text/html": [
              "<div>\n",
              "<style scoped>\n",
              "    .dataframe tbody tr th:only-of-type {\n",
              "        vertical-align: middle;\n",
              "    }\n",
              "\n",
              "    .dataframe tbody tr th {\n",
              "        vertical-align: top;\n",
              "    }\n",
              "\n",
              "    .dataframe thead th {\n",
              "        text-align: right;\n",
              "    }\n",
              "</style>\n",
              "<table border=\"1\" class=\"dataframe\">\n",
              "  <thead>\n",
              "    <tr style=\"text-align: right;\">\n",
              "      <th></th>\n",
              "      <th>Unnamed: 0</th>\n",
              "      <th>2019/09\\n(IFRS연결)</th>\n",
              "      <th>2019/12\\n(IFRS연결)</th>\n",
              "      <th>2020/03\\n(IFRS연결)</th>\n",
              "      <th>2020/06\\n(IFRS연결)</th>\n",
              "      <th>2020/09\\n(IFRS연결)</th>\n",
              "    </tr>\n",
              "  </thead>\n",
              "  <tbody>\n",
              "    <tr>\n",
              "      <th>0</th>\n",
              "      <td>매출액</td>\n",
              "      <td>5,291</td>\n",
              "      <td>5,586</td>\n",
              "      <td>5,339</td>\n",
              "      <td>5,816</td>\n",
              "      <td>6,243</td>\n",
              "    </tr>\n",
              "    <tr>\n",
              "      <th>1</th>\n",
              "      <td>영업이익</td>\n",
              "      <td>492</td>\n",
              "      <td>327</td>\n",
              "      <td>561</td>\n",
              "      <td>541</td>\n",
              "      <td>644</td>\n",
              "    </tr>\n",
              "    <tr>\n",
              "      <th>2</th>\n",
              "      <td>영업이익(발표기준)</td>\n",
              "      <td>492</td>\n",
              "      <td>327</td>\n",
              "      <td>561</td>\n",
              "      <td>541</td>\n",
              "      <td>644</td>\n",
              "    </tr>\n",
              "    <tr>\n",
              "      <th>3</th>\n",
              "      <td>세전계속사업이익</td>\n",
              "      <td>348</td>\n",
              "      <td>39</td>\n",
              "      <td>450</td>\n",
              "      <td>487</td>\n",
              "      <td>465</td>\n",
              "    </tr>\n",
              "    <tr>\n",
              "      <th>4</th>\n",
              "      <td>당기순이익</td>\n",
              "      <td>258</td>\n",
              "      <td>-252</td>\n",
              "      <td>334</td>\n",
              "      <td>349</td>\n",
              "      <td>322</td>\n",
              "    </tr>\n",
              "  </tbody>\n",
              "</table>\n",
              "</div>"
            ],
            "text/plain": [
              "   Unnamed: 0 2019/09\\n(IFRS연결)  ... 2020/06\\n(IFRS연결) 2020/09\\n(IFRS연결)\n",
              "0         매출액             5,291  ...             5,816             6,243\n",
              "1        영업이익               492  ...               541               644\n",
              "2  영업이익(발표기준)               492  ...               541               644\n",
              "3    세전계속사업이익               348  ...               487               465\n",
              "4       당기순이익               258  ...               349               322\n",
              "\n",
              "[5 rows x 6 columns]"
            ]
          },
          "metadata": {
            "tags": []
          },
          "execution_count": 8
        }
      ]
    },
    {
      "cell_type": "code",
      "metadata": {
        "id": "UYI9LE6xENon",
        "colab": {
          "base_uri": "https://localhost:8080/",
          "height": 411
        },
        "outputId": "15e461cc-4862-4ac1-aaa8-8b75dca13759"
      },
      "source": [
        "df1 = pd.read_csv(urlhead + '000080.csv').transpose()\n",
        "df1.head()"
      ],
      "execution_count": null,
      "outputs": [
        {
          "output_type": "execute_result",
          "data": {
            "text/html": [
              "<div>\n",
              "<style scoped>\n",
              "    .dataframe tbody tr th:only-of-type {\n",
              "        vertical-align: middle;\n",
              "    }\n",
              "\n",
              "    .dataframe tbody tr th {\n",
              "        vertical-align: top;\n",
              "    }\n",
              "\n",
              "    .dataframe thead th {\n",
              "        text-align: right;\n",
              "    }\n",
              "</style>\n",
              "<table border=\"1\" class=\"dataframe\">\n",
              "  <thead>\n",
              "    <tr style=\"text-align: right;\">\n",
              "      <th></th>\n",
              "      <th>0</th>\n",
              "      <th>1</th>\n",
              "      <th>2</th>\n",
              "      <th>3</th>\n",
              "      <th>4</th>\n",
              "      <th>5</th>\n",
              "      <th>6</th>\n",
              "      <th>7</th>\n",
              "      <th>8</th>\n",
              "      <th>9</th>\n",
              "      <th>10</th>\n",
              "      <th>11</th>\n",
              "      <th>12</th>\n",
              "      <th>13</th>\n",
              "      <th>14</th>\n",
              "      <th>15</th>\n",
              "      <th>16</th>\n",
              "      <th>17</th>\n",
              "      <th>18</th>\n",
              "      <th>19</th>\n",
              "      <th>20</th>\n",
              "      <th>21</th>\n",
              "      <th>22</th>\n",
              "      <th>23</th>\n",
              "      <th>24</th>\n",
              "      <th>25</th>\n",
              "      <th>26</th>\n",
              "      <th>27</th>\n",
              "      <th>28</th>\n",
              "      <th>29</th>\n",
              "      <th>30</th>\n",
              "      <th>31</th>\n",
              "      <th>32</th>\n",
              "    </tr>\n",
              "  </thead>\n",
              "  <tbody>\n",
              "    <tr>\n",
              "      <th>Unnamed: 0</th>\n",
              "      <td>매출액</td>\n",
              "      <td>영업이익</td>\n",
              "      <td>영업이익(발표기준)</td>\n",
              "      <td>세전계속사업이익</td>\n",
              "      <td>당기순이익</td>\n",
              "      <td>당기순이익(지배)</td>\n",
              "      <td>당기순이익(비지배)</td>\n",
              "      <td>자산총계</td>\n",
              "      <td>부채총계</td>\n",
              "      <td>자본총계</td>\n",
              "      <td>자본총계(지배)</td>\n",
              "      <td>자본총계(비지배)</td>\n",
              "      <td>자본금</td>\n",
              "      <td>영업활동현금흐름</td>\n",
              "      <td>투자활동현금흐름</td>\n",
              "      <td>재무활동현금흐름</td>\n",
              "      <td>CAPEX</td>\n",
              "      <td>FCF</td>\n",
              "      <td>이자발생부채</td>\n",
              "      <td>영업이익률</td>\n",
              "      <td>순이익률</td>\n",
              "      <td>ROE(%)</td>\n",
              "      <td>ROA(%)</td>\n",
              "      <td>부채비율</td>\n",
              "      <td>자본유보율</td>\n",
              "      <td>EPS(원)</td>\n",
              "      <td>PER(배)</td>\n",
              "      <td>BPS(원)</td>\n",
              "      <td>PBR(배)</td>\n",
              "      <td>현금DPS(원)</td>\n",
              "      <td>현금배당수익률</td>\n",
              "      <td>현금배당성향(%)</td>\n",
              "      <td>발행주식수(보통주)</td>\n",
              "    </tr>\n",
              "    <tr>\n",
              "      <th>2019/09\\n(IFRS연결)</th>\n",
              "      <td>5,291</td>\n",
              "      <td>492</td>\n",
              "      <td>492</td>\n",
              "      <td>348</td>\n",
              "      <td>258</td>\n",
              "      <td>259</td>\n",
              "      <td>0</td>\n",
              "      <td>34,061</td>\n",
              "      <td>23,056</td>\n",
              "      <td>11,005</td>\n",
              "      <td>10,998</td>\n",
              "      <td>NaN</td>\n",
              "      <td>3,688</td>\n",
              "      <td>2,079</td>\n",
              "      <td>-347</td>\n",
              "      <td>-395</td>\n",
              "      <td>483</td>\n",
              "      <td>1,597</td>\n",
              "      <td>12,615</td>\n",
              "      <td>9.29</td>\n",
              "      <td>4.88</td>\n",
              "      <td>-1.46</td>\n",
              "      <td>-0.50</td>\n",
              "      <td>209.50</td>\n",
              "      <td>220.33</td>\n",
              "      <td>363</td>\n",
              "      <td>NaN</td>\n",
              "      <td>15,761</td>\n",
              "      <td>1.73</td>\n",
              "      <td>0</td>\n",
              "      <td>NaN</td>\n",
              "      <td>0.00</td>\n",
              "      <td>70,133,611</td>\n",
              "    </tr>\n",
              "    <tr>\n",
              "      <th>2019/12\\n(IFRS연결)</th>\n",
              "      <td>5,586</td>\n",
              "      <td>327</td>\n",
              "      <td>327</td>\n",
              "      <td>39</td>\n",
              "      <td>-252</td>\n",
              "      <td>-251</td>\n",
              "      <td>0</td>\n",
              "      <td>32,709</td>\n",
              "      <td>22,377</td>\n",
              "      <td>10,332</td>\n",
              "      <td>10,325</td>\n",
              "      <td>NaN</td>\n",
              "      <td>3,688</td>\n",
              "      <td>601</td>\n",
              "      <td>-475</td>\n",
              "      <td>-910</td>\n",
              "      <td>462</td>\n",
              "      <td>139</td>\n",
              "      <td>11,715</td>\n",
              "      <td>5.85</td>\n",
              "      <td>-4.50</td>\n",
              "      <td>-3.86</td>\n",
              "      <td>-1.27</td>\n",
              "      <td>216.58</td>\n",
              "      <td>202.85</td>\n",
              "      <td>-353</td>\n",
              "      <td>NaN</td>\n",
              "      <td>14,796</td>\n",
              "      <td>1.96</td>\n",
              "      <td>700</td>\n",
              "      <td>NaN</td>\n",
              "      <td>-194.53</td>\n",
              "      <td>70,133,611</td>\n",
              "    </tr>\n",
              "    <tr>\n",
              "      <th>2020/03\\n(IFRS연결)</th>\n",
              "      <td>5,339</td>\n",
              "      <td>561</td>\n",
              "      <td>561</td>\n",
              "      <td>450</td>\n",
              "      <td>334</td>\n",
              "      <td>334</td>\n",
              "      <td>0</td>\n",
              "      <td>36,368</td>\n",
              "      <td>26,164</td>\n",
              "      <td>10,204</td>\n",
              "      <td>10,198</td>\n",
              "      <td>5</td>\n",
              "      <td>3,688</td>\n",
              "      <td>1,230</td>\n",
              "      <td>-416</td>\n",
              "      <td>2,713</td>\n",
              "      <td>430</td>\n",
              "      <td>800</td>\n",
              "      <td>14,452</td>\n",
              "      <td>10.51</td>\n",
              "      <td>6.25</td>\n",
              "      <td>0.46</td>\n",
              "      <td>0.14</td>\n",
              "      <td>256.41</td>\n",
              "      <td>198.70</td>\n",
              "      <td>469</td>\n",
              "      <td>390.26</td>\n",
              "      <td>14,614</td>\n",
              "      <td>1.84</td>\n",
              "      <td>NaN</td>\n",
              "      <td>NaN</td>\n",
              "      <td>0.00</td>\n",
              "      <td>70,133,611</td>\n",
              "    </tr>\n",
              "    <tr>\n",
              "      <th>2020/06\\n(IFRS연결)</th>\n",
              "      <td>5,816</td>\n",
              "      <td>541</td>\n",
              "      <td>541</td>\n",
              "      <td>487</td>\n",
              "      <td>349</td>\n",
              "      <td>349</td>\n",
              "      <td>0</td>\n",
              "      <td>43,007</td>\n",
              "      <td>32,393</td>\n",
              "      <td>10,613</td>\n",
              "      <td>10,608</td>\n",
              "      <td>6</td>\n",
              "      <td>3,688</td>\n",
              "      <td>5,437</td>\n",
              "      <td>-494</td>\n",
              "      <td>1,617</td>\n",
              "      <td>362</td>\n",
              "      <td>5,075</td>\n",
              "      <td>16,576</td>\n",
              "      <td>9.30</td>\n",
              "      <td>5.99</td>\n",
              "      <td>6.48</td>\n",
              "      <td>1.79</td>\n",
              "      <td>305.21</td>\n",
              "      <td>208.16</td>\n",
              "      <td>489</td>\n",
              "      <td>45.23</td>\n",
              "      <td>15,201</td>\n",
              "      <td>2.88</td>\n",
              "      <td>NaN</td>\n",
              "      <td>NaN</td>\n",
              "      <td>0.00</td>\n",
              "      <td>70,133,611</td>\n",
              "    </tr>\n",
              "  </tbody>\n",
              "</table>\n",
              "</div>"
            ],
            "text/plain": [
              "                      0     1           2   ...       30         31          32\n",
              "Unnamed: 0           매출액  영업이익  영업이익(발표기준)  ...  현금배당수익률  현금배당성향(%)  발행주식수(보통주)\n",
              "2019/09\\n(IFRS연결)  5,291   492         492  ...      NaN       0.00  70,133,611\n",
              "2019/12\\n(IFRS연결)  5,586   327         327  ...      NaN    -194.53  70,133,611\n",
              "2020/03\\n(IFRS연결)  5,339   561         561  ...      NaN       0.00  70,133,611\n",
              "2020/06\\n(IFRS연결)  5,816   541         541  ...      NaN       0.00  70,133,611\n",
              "\n",
              "[5 rows x 33 columns]"
            ]
          },
          "metadata": {
            "tags": []
          },
          "execution_count": 9
        }
      ]
    },
    {
      "cell_type": "markdown",
      "metadata": {
        "id": "sB4zUfWAEfk4"
      },
      "source": [
        "? 위의 것을 해결 하려면 어떻게 해야할까요?\n",
        "\n",
        "> pandas first row header\n",
        "\n",
        "\n",
        "<https://stackoverflow.com/questions/31328861/python-pandas-replacing-header-with-top-row>\n",
        "\n",
        "```python\n",
        "new_header = df.iloc[0] # grab the first row for the header\n",
        "df = df[1:] # take the data less the header row\n",
        "df.columns = new_header # set the header row as the df header\n",
        "```"
      ]
    },
    {
      "cell_type": "code",
      "metadata": {
        "id": "pLmGMr_rCoi-"
      },
      "source": [
        "def mydf(myurl):\n",
        "    df = pd.read_csv(urlhead + myurl).transpose()\n",
        "    new_header = df.iloc[0] \n",
        "    df = df[1:] \n",
        "    df.columns = new_header \n",
        "    return df"
      ],
      "execution_count": null,
      "outputs": []
    },
    {
      "cell_type": "code",
      "metadata": {
        "id": "w3UrU2HzE9II",
        "colab": {
          "base_uri": "https://localhost:8080/",
          "height": 428
        },
        "outputId": "9b86f836-c7cd-4e16-8363-a119b553bf53"
      },
      "source": [
        "df1 = mydf('000080.csv')\n",
        "df1"
      ],
      "execution_count": null,
      "outputs": [
        {
          "output_type": "execute_result",
          "data": {
            "text/html": [
              "<div>\n",
              "<style scoped>\n",
              "    .dataframe tbody tr th:only-of-type {\n",
              "        vertical-align: middle;\n",
              "    }\n",
              "\n",
              "    .dataframe tbody tr th {\n",
              "        vertical-align: top;\n",
              "    }\n",
              "\n",
              "    .dataframe thead th {\n",
              "        text-align: right;\n",
              "    }\n",
              "</style>\n",
              "<table border=\"1\" class=\"dataframe\">\n",
              "  <thead>\n",
              "    <tr style=\"text-align: right;\">\n",
              "      <th>Unnamed: 0</th>\n",
              "      <th>매출액</th>\n",
              "      <th>영업이익</th>\n",
              "      <th>영업이익(발표기준)</th>\n",
              "      <th>세전계속사업이익</th>\n",
              "      <th>당기순이익</th>\n",
              "      <th>당기순이익(지배)</th>\n",
              "      <th>당기순이익(비지배)</th>\n",
              "      <th>자산총계</th>\n",
              "      <th>부채총계</th>\n",
              "      <th>자본총계</th>\n",
              "      <th>자본총계(지배)</th>\n",
              "      <th>자본총계(비지배)</th>\n",
              "      <th>자본금</th>\n",
              "      <th>영업활동현금흐름</th>\n",
              "      <th>투자활동현금흐름</th>\n",
              "      <th>재무활동현금흐름</th>\n",
              "      <th>CAPEX</th>\n",
              "      <th>FCF</th>\n",
              "      <th>이자발생부채</th>\n",
              "      <th>영업이익률</th>\n",
              "      <th>순이익률</th>\n",
              "      <th>ROE(%)</th>\n",
              "      <th>ROA(%)</th>\n",
              "      <th>부채비율</th>\n",
              "      <th>자본유보율</th>\n",
              "      <th>EPS(원)</th>\n",
              "      <th>PER(배)</th>\n",
              "      <th>BPS(원)</th>\n",
              "      <th>PBR(배)</th>\n",
              "      <th>현금DPS(원)</th>\n",
              "      <th>현금배당수익률</th>\n",
              "      <th>현금배당성향(%)</th>\n",
              "      <th>발행주식수(보통주)</th>\n",
              "    </tr>\n",
              "  </thead>\n",
              "  <tbody>\n",
              "    <tr>\n",
              "      <th>2019/09\\n(IFRS연결)</th>\n",
              "      <td>5,291</td>\n",
              "      <td>492</td>\n",
              "      <td>492</td>\n",
              "      <td>348</td>\n",
              "      <td>258</td>\n",
              "      <td>259</td>\n",
              "      <td>0</td>\n",
              "      <td>34,061</td>\n",
              "      <td>23,056</td>\n",
              "      <td>11,005</td>\n",
              "      <td>10,998</td>\n",
              "      <td>NaN</td>\n",
              "      <td>3,688</td>\n",
              "      <td>2,079</td>\n",
              "      <td>-347</td>\n",
              "      <td>-395</td>\n",
              "      <td>483</td>\n",
              "      <td>1,597</td>\n",
              "      <td>12,615</td>\n",
              "      <td>9.29</td>\n",
              "      <td>4.88</td>\n",
              "      <td>-1.46</td>\n",
              "      <td>-0.50</td>\n",
              "      <td>209.50</td>\n",
              "      <td>220.33</td>\n",
              "      <td>363</td>\n",
              "      <td>NaN</td>\n",
              "      <td>15,761</td>\n",
              "      <td>1.73</td>\n",
              "      <td>0</td>\n",
              "      <td>NaN</td>\n",
              "      <td>0.00</td>\n",
              "      <td>70,133,611</td>\n",
              "    </tr>\n",
              "    <tr>\n",
              "      <th>2019/12\\n(IFRS연결)</th>\n",
              "      <td>5,586</td>\n",
              "      <td>327</td>\n",
              "      <td>327</td>\n",
              "      <td>39</td>\n",
              "      <td>-252</td>\n",
              "      <td>-251</td>\n",
              "      <td>0</td>\n",
              "      <td>32,709</td>\n",
              "      <td>22,377</td>\n",
              "      <td>10,332</td>\n",
              "      <td>10,325</td>\n",
              "      <td>NaN</td>\n",
              "      <td>3,688</td>\n",
              "      <td>601</td>\n",
              "      <td>-475</td>\n",
              "      <td>-910</td>\n",
              "      <td>462</td>\n",
              "      <td>139</td>\n",
              "      <td>11,715</td>\n",
              "      <td>5.85</td>\n",
              "      <td>-4.50</td>\n",
              "      <td>-3.86</td>\n",
              "      <td>-1.27</td>\n",
              "      <td>216.58</td>\n",
              "      <td>202.85</td>\n",
              "      <td>-353</td>\n",
              "      <td>NaN</td>\n",
              "      <td>14,796</td>\n",
              "      <td>1.96</td>\n",
              "      <td>700</td>\n",
              "      <td>NaN</td>\n",
              "      <td>-194.53</td>\n",
              "      <td>70,133,611</td>\n",
              "    </tr>\n",
              "    <tr>\n",
              "      <th>2020/03\\n(IFRS연결)</th>\n",
              "      <td>5,339</td>\n",
              "      <td>561</td>\n",
              "      <td>561</td>\n",
              "      <td>450</td>\n",
              "      <td>334</td>\n",
              "      <td>334</td>\n",
              "      <td>0</td>\n",
              "      <td>36,368</td>\n",
              "      <td>26,164</td>\n",
              "      <td>10,204</td>\n",
              "      <td>10,198</td>\n",
              "      <td>5</td>\n",
              "      <td>3,688</td>\n",
              "      <td>1,230</td>\n",
              "      <td>-416</td>\n",
              "      <td>2,713</td>\n",
              "      <td>430</td>\n",
              "      <td>800</td>\n",
              "      <td>14,452</td>\n",
              "      <td>10.51</td>\n",
              "      <td>6.25</td>\n",
              "      <td>0.46</td>\n",
              "      <td>0.14</td>\n",
              "      <td>256.41</td>\n",
              "      <td>198.70</td>\n",
              "      <td>469</td>\n",
              "      <td>390.26</td>\n",
              "      <td>14,614</td>\n",
              "      <td>1.84</td>\n",
              "      <td>NaN</td>\n",
              "      <td>NaN</td>\n",
              "      <td>0.00</td>\n",
              "      <td>70,133,611</td>\n",
              "    </tr>\n",
              "    <tr>\n",
              "      <th>2020/06\\n(IFRS연결)</th>\n",
              "      <td>5,816</td>\n",
              "      <td>541</td>\n",
              "      <td>541</td>\n",
              "      <td>487</td>\n",
              "      <td>349</td>\n",
              "      <td>349</td>\n",
              "      <td>0</td>\n",
              "      <td>43,007</td>\n",
              "      <td>32,393</td>\n",
              "      <td>10,613</td>\n",
              "      <td>10,608</td>\n",
              "      <td>6</td>\n",
              "      <td>3,688</td>\n",
              "      <td>5,437</td>\n",
              "      <td>-494</td>\n",
              "      <td>1,617</td>\n",
              "      <td>362</td>\n",
              "      <td>5,075</td>\n",
              "      <td>16,576</td>\n",
              "      <td>9.30</td>\n",
              "      <td>5.99</td>\n",
              "      <td>6.48</td>\n",
              "      <td>1.79</td>\n",
              "      <td>305.21</td>\n",
              "      <td>208.16</td>\n",
              "      <td>489</td>\n",
              "      <td>45.23</td>\n",
              "      <td>15,201</td>\n",
              "      <td>2.88</td>\n",
              "      <td>NaN</td>\n",
              "      <td>NaN</td>\n",
              "      <td>0.00</td>\n",
              "      <td>70,133,611</td>\n",
              "    </tr>\n",
              "    <tr>\n",
              "      <th>2020/09\\n(IFRS연결)</th>\n",
              "      <td>6,243</td>\n",
              "      <td>644</td>\n",
              "      <td>644</td>\n",
              "      <td>465</td>\n",
              "      <td>322</td>\n",
              "      <td>323</td>\n",
              "      <td>0</td>\n",
              "      <td>39,617</td>\n",
              "      <td>28,720</td>\n",
              "      <td>10,897</td>\n",
              "      <td>10,893</td>\n",
              "      <td>5</td>\n",
              "      <td>3,688</td>\n",
              "      <td>-3,009</td>\n",
              "      <td>-410</td>\n",
              "      <td>-594</td>\n",
              "      <td>382</td>\n",
              "      <td>-3,391</td>\n",
              "      <td>15,995</td>\n",
              "      <td>10.31</td>\n",
              "      <td>5.17</td>\n",
              "      <td>6.89</td>\n",
              "      <td>2.04</td>\n",
              "      <td>263.55</td>\n",
              "      <td>216.77</td>\n",
              "      <td>453</td>\n",
              "      <td>34.26</td>\n",
              "      <td>15,609</td>\n",
              "      <td>2.32</td>\n",
              "      <td>NaN</td>\n",
              "      <td>NaN</td>\n",
              "      <td>NaN</td>\n",
              "      <td>70,133,611</td>\n",
              "    </tr>\n",
              "  </tbody>\n",
              "</table>\n",
              "</div>"
            ],
            "text/plain": [
              "Unnamed: 0           매출액 영업이익 영업이익(발표기준)  ... 현금배당수익률 현금배당성향(%)  발행주식수(보통주)\n",
              "2019/09\\n(IFRS연결)  5,291  492        492  ...     NaN      0.00  70,133,611\n",
              "2019/12\\n(IFRS연결)  5,586  327        327  ...     NaN   -194.53  70,133,611\n",
              "2020/03\\n(IFRS연결)  5,339  561        561  ...     NaN      0.00  70,133,611\n",
              "2020/06\\n(IFRS연결)  5,816  541        541  ...     NaN      0.00  70,133,611\n",
              "2020/09\\n(IFRS연결)  6,243  644        644  ...     NaN       NaN  70,133,611\n",
              "\n",
              "[5 rows x 33 columns]"
            ]
          },
          "metadata": {
            "tags": []
          },
          "execution_count": 11
        }
      ]
    },
    {
      "cell_type": "code",
      "metadata": {
        "id": "9CgMKUV7LycZ"
      },
      "source": [
        "df2 = mydf('000890.csv')\n",
        "df3 = mydf('005300.csv')\n",
        "df4 = mydf('027740.csv')\n",
        "df5 = mydf('035810.csv')\n",
        "df6 = mydf('136480.csv')"
      ],
      "execution_count": null,
      "outputs": []
    },
    {
      "cell_type": "code",
      "metadata": {
        "id": "RLbNPCoLevCQ",
        "colab": {
          "base_uri": "https://localhost:8080/"
        },
        "outputId": "7dbeae41-b606-4275-b2a5-6ae5805bd371"
      },
      "source": [
        "df = pd.concat([df1, df2, df3, df4, df5, df6])\n",
        "df.shape"
      ],
      "execution_count": null,
      "outputs": [
        {
          "output_type": "execute_result",
          "data": {
            "text/plain": [
              "(30, 33)"
            ]
          },
          "metadata": {
            "tags": []
          },
          "execution_count": 13
        }
      ]
    },
    {
      "cell_type": "markdown",
      "metadata": {
        "id": "Qeo28ddqhXV6"
      },
      "source": [
        "우리가 필요한 것은 마지막 분기의 데이터 입니다.\n",
        "\n",
        "이를 위해서 `mydf`를 어떻게 수정해야 할까요??\n",
        "\n",
        "> 이번 연습의 목표 중 하나는 아래 그림처럼 **최근 분기에 해당하는 데이터**와 `종목코드`, `종목명` ,`테마`와 같은 **추가 정보 (Feature)**를 더해, 하나의 데이터프레임으로 합치는 것입니다.\n",
        "\n",
        "|종목코드|종목명|테마|매출|영업이익|...|현금배당성향(%)|발행주식수(보통주)|\n",
        "|:-:|:-:|:-:|:-:|:-:|:-:|:-:|:-:|\n",
        "|000080|하이트진로|주류|6,243|644|...|0|70,133,611|\n",
        "||||||...||\n",
        "|136480|하림|육계|2,613|1|...|0|106,209,702|\n"
      ]
    },
    {
      "cell_type": "code",
      "metadata": {
        "id": "UGWkCZZfp4ei"
      },
      "source": [
        "df3 = mydf('000080.csv')\n"
      ],
      "execution_count": null,
      "outputs": []
    },
    {
      "cell_type": "code",
      "metadata": {
        "colab": {
          "base_uri": "https://localhost:8080/",
          "height": 428
        },
        "id": "chvzYHmwqG44",
        "outputId": "ac936aaa-d917-4d7b-cb0e-e79246c5ab28"
      },
      "source": [
        "df3.drop(df3.columns[0], axis=1)\n"
      ],
      "execution_count": null,
      "outputs": [
        {
          "output_type": "execute_result",
          "data": {
            "text/html": [
              "<div>\n",
              "<style scoped>\n",
              "    .dataframe tbody tr th:only-of-type {\n",
              "        vertical-align: middle;\n",
              "    }\n",
              "\n",
              "    .dataframe tbody tr th {\n",
              "        vertical-align: top;\n",
              "    }\n",
              "\n",
              "    .dataframe thead th {\n",
              "        text-align: right;\n",
              "    }\n",
              "</style>\n",
              "<table border=\"1\" class=\"dataframe\">\n",
              "  <thead>\n",
              "    <tr style=\"text-align: right;\">\n",
              "      <th>Unnamed: 0</th>\n",
              "      <th>영업이익</th>\n",
              "      <th>영업이익(발표기준)</th>\n",
              "      <th>세전계속사업이익</th>\n",
              "      <th>당기순이익</th>\n",
              "      <th>당기순이익(지배)</th>\n",
              "      <th>당기순이익(비지배)</th>\n",
              "      <th>자산총계</th>\n",
              "      <th>부채총계</th>\n",
              "      <th>자본총계</th>\n",
              "      <th>자본총계(지배)</th>\n",
              "      <th>자본총계(비지배)</th>\n",
              "      <th>자본금</th>\n",
              "      <th>영업활동현금흐름</th>\n",
              "      <th>투자활동현금흐름</th>\n",
              "      <th>재무활동현금흐름</th>\n",
              "      <th>CAPEX</th>\n",
              "      <th>FCF</th>\n",
              "      <th>이자발생부채</th>\n",
              "      <th>영업이익률</th>\n",
              "      <th>순이익률</th>\n",
              "      <th>ROE(%)</th>\n",
              "      <th>ROA(%)</th>\n",
              "      <th>부채비율</th>\n",
              "      <th>자본유보율</th>\n",
              "      <th>EPS(원)</th>\n",
              "      <th>PER(배)</th>\n",
              "      <th>BPS(원)</th>\n",
              "      <th>PBR(배)</th>\n",
              "      <th>현금DPS(원)</th>\n",
              "      <th>현금배당수익률</th>\n",
              "      <th>현금배당성향(%)</th>\n",
              "      <th>발행주식수(보통주)</th>\n",
              "    </tr>\n",
              "  </thead>\n",
              "  <tbody>\n",
              "    <tr>\n",
              "      <th>2019/09\\n(IFRS연결)</th>\n",
              "      <td>492</td>\n",
              "      <td>492</td>\n",
              "      <td>348</td>\n",
              "      <td>258</td>\n",
              "      <td>259</td>\n",
              "      <td>0</td>\n",
              "      <td>34,061</td>\n",
              "      <td>23,056</td>\n",
              "      <td>11,005</td>\n",
              "      <td>10,998</td>\n",
              "      <td>NaN</td>\n",
              "      <td>3,688</td>\n",
              "      <td>2,079</td>\n",
              "      <td>-347</td>\n",
              "      <td>-395</td>\n",
              "      <td>483</td>\n",
              "      <td>1,597</td>\n",
              "      <td>12,615</td>\n",
              "      <td>9.29</td>\n",
              "      <td>4.88</td>\n",
              "      <td>-1.46</td>\n",
              "      <td>-0.50</td>\n",
              "      <td>209.50</td>\n",
              "      <td>220.33</td>\n",
              "      <td>363</td>\n",
              "      <td>NaN</td>\n",
              "      <td>15,761</td>\n",
              "      <td>1.73</td>\n",
              "      <td>0</td>\n",
              "      <td>NaN</td>\n",
              "      <td>0.00</td>\n",
              "      <td>70,133,611</td>\n",
              "    </tr>\n",
              "    <tr>\n",
              "      <th>2019/12\\n(IFRS연결)</th>\n",
              "      <td>327</td>\n",
              "      <td>327</td>\n",
              "      <td>39</td>\n",
              "      <td>-252</td>\n",
              "      <td>-251</td>\n",
              "      <td>0</td>\n",
              "      <td>32,709</td>\n",
              "      <td>22,377</td>\n",
              "      <td>10,332</td>\n",
              "      <td>10,325</td>\n",
              "      <td>NaN</td>\n",
              "      <td>3,688</td>\n",
              "      <td>601</td>\n",
              "      <td>-475</td>\n",
              "      <td>-910</td>\n",
              "      <td>462</td>\n",
              "      <td>139</td>\n",
              "      <td>11,715</td>\n",
              "      <td>5.85</td>\n",
              "      <td>-4.50</td>\n",
              "      <td>-3.86</td>\n",
              "      <td>-1.27</td>\n",
              "      <td>216.58</td>\n",
              "      <td>202.85</td>\n",
              "      <td>-353</td>\n",
              "      <td>NaN</td>\n",
              "      <td>14,796</td>\n",
              "      <td>1.96</td>\n",
              "      <td>700</td>\n",
              "      <td>NaN</td>\n",
              "      <td>-194.53</td>\n",
              "      <td>70,133,611</td>\n",
              "    </tr>\n",
              "    <tr>\n",
              "      <th>2020/03\\n(IFRS연결)</th>\n",
              "      <td>561</td>\n",
              "      <td>561</td>\n",
              "      <td>450</td>\n",
              "      <td>334</td>\n",
              "      <td>334</td>\n",
              "      <td>0</td>\n",
              "      <td>36,368</td>\n",
              "      <td>26,164</td>\n",
              "      <td>10,204</td>\n",
              "      <td>10,198</td>\n",
              "      <td>5</td>\n",
              "      <td>3,688</td>\n",
              "      <td>1,230</td>\n",
              "      <td>-416</td>\n",
              "      <td>2,713</td>\n",
              "      <td>430</td>\n",
              "      <td>800</td>\n",
              "      <td>14,452</td>\n",
              "      <td>10.51</td>\n",
              "      <td>6.25</td>\n",
              "      <td>0.46</td>\n",
              "      <td>0.14</td>\n",
              "      <td>256.41</td>\n",
              "      <td>198.70</td>\n",
              "      <td>469</td>\n",
              "      <td>390.26</td>\n",
              "      <td>14,614</td>\n",
              "      <td>1.84</td>\n",
              "      <td>NaN</td>\n",
              "      <td>NaN</td>\n",
              "      <td>0.00</td>\n",
              "      <td>70,133,611</td>\n",
              "    </tr>\n",
              "    <tr>\n",
              "      <th>2020/06\\n(IFRS연결)</th>\n",
              "      <td>541</td>\n",
              "      <td>541</td>\n",
              "      <td>487</td>\n",
              "      <td>349</td>\n",
              "      <td>349</td>\n",
              "      <td>0</td>\n",
              "      <td>43,007</td>\n",
              "      <td>32,393</td>\n",
              "      <td>10,613</td>\n",
              "      <td>10,608</td>\n",
              "      <td>6</td>\n",
              "      <td>3,688</td>\n",
              "      <td>5,437</td>\n",
              "      <td>-494</td>\n",
              "      <td>1,617</td>\n",
              "      <td>362</td>\n",
              "      <td>5,075</td>\n",
              "      <td>16,576</td>\n",
              "      <td>9.30</td>\n",
              "      <td>5.99</td>\n",
              "      <td>6.48</td>\n",
              "      <td>1.79</td>\n",
              "      <td>305.21</td>\n",
              "      <td>208.16</td>\n",
              "      <td>489</td>\n",
              "      <td>45.23</td>\n",
              "      <td>15,201</td>\n",
              "      <td>2.88</td>\n",
              "      <td>NaN</td>\n",
              "      <td>NaN</td>\n",
              "      <td>0.00</td>\n",
              "      <td>70,133,611</td>\n",
              "    </tr>\n",
              "    <tr>\n",
              "      <th>2020/09\\n(IFRS연결)</th>\n",
              "      <td>644</td>\n",
              "      <td>644</td>\n",
              "      <td>465</td>\n",
              "      <td>322</td>\n",
              "      <td>323</td>\n",
              "      <td>0</td>\n",
              "      <td>39,617</td>\n",
              "      <td>28,720</td>\n",
              "      <td>10,897</td>\n",
              "      <td>10,893</td>\n",
              "      <td>5</td>\n",
              "      <td>3,688</td>\n",
              "      <td>-3,009</td>\n",
              "      <td>-410</td>\n",
              "      <td>-594</td>\n",
              "      <td>382</td>\n",
              "      <td>-3,391</td>\n",
              "      <td>15,995</td>\n",
              "      <td>10.31</td>\n",
              "      <td>5.17</td>\n",
              "      <td>6.89</td>\n",
              "      <td>2.04</td>\n",
              "      <td>263.55</td>\n",
              "      <td>216.77</td>\n",
              "      <td>453</td>\n",
              "      <td>34.26</td>\n",
              "      <td>15,609</td>\n",
              "      <td>2.32</td>\n",
              "      <td>NaN</td>\n",
              "      <td>NaN</td>\n",
              "      <td>NaN</td>\n",
              "      <td>70,133,611</td>\n",
              "    </tr>\n",
              "  </tbody>\n",
              "</table>\n",
              "</div>"
            ],
            "text/plain": [
              "Unnamed: 0        영업이익 영업이익(발표기준) 세전계속사업이익  ... 현금배당수익률 현금배당성향(%)  발행주식수(보통주)\n",
              "2019/09\\n(IFRS연결)  492        492      348  ...     NaN      0.00  70,133,611\n",
              "2019/12\\n(IFRS연결)  327        327       39  ...     NaN   -194.53  70,133,611\n",
              "2020/03\\n(IFRS연결)  561        561      450  ...     NaN      0.00  70,133,611\n",
              "2020/06\\n(IFRS연결)  541        541      487  ...     NaN      0.00  70,133,611\n",
              "2020/09\\n(IFRS연결)  644        644      465  ...     NaN       NaN  70,133,611\n",
              "\n",
              "[5 rows x 32 columns]"
            ]
          },
          "metadata": {
            "tags": []
          },
          "execution_count": 15
        }
      ]
    },
    {
      "cell_type": "code",
      "metadata": {
        "id": "qUu0s5XIyRu1",
        "colab": {
          "base_uri": "https://localhost:8080/",
          "height": 374
        },
        "outputId": "72b405a5-4348-49cd-9789-d2740f6aa7ce"
      },
      "source": [
        "def mydf(myurl):\n",
        "    df = pd.read_csv(urlhead + myurl).transpose()\n",
        "    new_header = df.iloc[0] \n",
        "    df = df[1:] \n",
        "    df.columns = new_header \n",
        "    return df[-1:]\n",
        "\n",
        "df = pd.concat([mydf('000080.csv'), mydf('000890.csv'), mydf('005300.csv'), mydf('027740.csv'), mydf('035810.csv'), mydf('136480.csv')])\n",
        "df = df.reset_index()\n",
        "df = df.drop(df.columns[0], axis=1)\n",
        "    \n",
        "df"
      ],
      "execution_count": null,
      "outputs": [
        {
          "output_type": "execute_result",
          "data": {
            "text/html": [
              "<div>\n",
              "<style scoped>\n",
              "    .dataframe tbody tr th:only-of-type {\n",
              "        vertical-align: middle;\n",
              "    }\n",
              "\n",
              "    .dataframe tbody tr th {\n",
              "        vertical-align: top;\n",
              "    }\n",
              "\n",
              "    .dataframe thead th {\n",
              "        text-align: right;\n",
              "    }\n",
              "</style>\n",
              "<table border=\"1\" class=\"dataframe\">\n",
              "  <thead>\n",
              "    <tr style=\"text-align: right;\">\n",
              "      <th>Unnamed: 0</th>\n",
              "      <th>매출액</th>\n",
              "      <th>영업이익</th>\n",
              "      <th>영업이익(발표기준)</th>\n",
              "      <th>세전계속사업이익</th>\n",
              "      <th>당기순이익</th>\n",
              "      <th>당기순이익(지배)</th>\n",
              "      <th>당기순이익(비지배)</th>\n",
              "      <th>자산총계</th>\n",
              "      <th>부채총계</th>\n",
              "      <th>자본총계</th>\n",
              "      <th>자본총계(지배)</th>\n",
              "      <th>자본총계(비지배)</th>\n",
              "      <th>자본금</th>\n",
              "      <th>영업활동현금흐름</th>\n",
              "      <th>투자활동현금흐름</th>\n",
              "      <th>재무활동현금흐름</th>\n",
              "      <th>CAPEX</th>\n",
              "      <th>FCF</th>\n",
              "      <th>이자발생부채</th>\n",
              "      <th>영업이익률</th>\n",
              "      <th>순이익률</th>\n",
              "      <th>ROE(%)</th>\n",
              "      <th>ROA(%)</th>\n",
              "      <th>부채비율</th>\n",
              "      <th>자본유보율</th>\n",
              "      <th>EPS(원)</th>\n",
              "      <th>PER(배)</th>\n",
              "      <th>BPS(원)</th>\n",
              "      <th>PBR(배)</th>\n",
              "      <th>현금DPS(원)</th>\n",
              "      <th>현금배당수익률</th>\n",
              "      <th>현금배당성향(%)</th>\n",
              "      <th>발행주식수(보통주)</th>\n",
              "    </tr>\n",
              "  </thead>\n",
              "  <tbody>\n",
              "    <tr>\n",
              "      <th>0</th>\n",
              "      <td>6,243</td>\n",
              "      <td>644</td>\n",
              "      <td>644</td>\n",
              "      <td>465</td>\n",
              "      <td>322</td>\n",
              "      <td>323</td>\n",
              "      <td>0</td>\n",
              "      <td>39,617</td>\n",
              "      <td>28,720</td>\n",
              "      <td>10,897</td>\n",
              "      <td>10,893</td>\n",
              "      <td>5</td>\n",
              "      <td>3,688</td>\n",
              "      <td>-3,009</td>\n",
              "      <td>-410</td>\n",
              "      <td>-594</td>\n",
              "      <td>382</td>\n",
              "      <td>-3,391</td>\n",
              "      <td>15,995</td>\n",
              "      <td>10.31</td>\n",
              "      <td>5.17</td>\n",
              "      <td>6.89</td>\n",
              "      <td>2.04</td>\n",
              "      <td>263.55</td>\n",
              "      <td>216.77</td>\n",
              "      <td>453</td>\n",
              "      <td>34.26</td>\n",
              "      <td>15,609</td>\n",
              "      <td>2.32</td>\n",
              "      <td>NaN</td>\n",
              "      <td>NaN</td>\n",
              "      <td>NaN</td>\n",
              "      <td>70,133,611</td>\n",
              "    </tr>\n",
              "    <tr>\n",
              "      <th>1</th>\n",
              "      <td>205</td>\n",
              "      <td>6</td>\n",
              "      <td>6</td>\n",
              "      <td>5</td>\n",
              "      <td>4</td>\n",
              "      <td>4</td>\n",
              "      <td>NaN</td>\n",
              "      <td>1,555</td>\n",
              "      <td>739</td>\n",
              "      <td>816</td>\n",
              "      <td>816</td>\n",
              "      <td>NaN</td>\n",
              "      <td>637</td>\n",
              "      <td>-42</td>\n",
              "      <td>-10</td>\n",
              "      <td>-34</td>\n",
              "      <td>18</td>\n",
              "      <td>-60</td>\n",
              "      <td>465</td>\n",
              "      <td>2.92</td>\n",
              "      <td>2.15</td>\n",
              "      <td>-17.61</td>\n",
              "      <td>-8.99</td>\n",
              "      <td>90.59</td>\n",
              "      <td>27.50</td>\n",
              "      <td>3</td>\n",
              "      <td>NaN</td>\n",
              "      <td>640</td>\n",
              "      <td>1.41</td>\n",
              "      <td>NaN</td>\n",
              "      <td>NaN</td>\n",
              "      <td>NaN</td>\n",
              "      <td>127,449,373</td>\n",
              "    </tr>\n",
              "    <tr>\n",
              "      <th>2</th>\n",
              "      <td>5,980</td>\n",
              "      <td>293</td>\n",
              "      <td>293</td>\n",
              "      <td>194</td>\n",
              "      <td>155</td>\n",
              "      <td>147</td>\n",
              "      <td>7</td>\n",
              "      <td>34,066</td>\n",
              "      <td>21,970</td>\n",
              "      <td>12,096</td>\n",
              "      <td>11,942</td>\n",
              "      <td>154</td>\n",
              "      <td>44</td>\n",
              "      <td>1,284</td>\n",
              "      <td>-958</td>\n",
              "      <td>1,009</td>\n",
              "      <td>315</td>\n",
              "      <td>969</td>\n",
              "      <td>15,489</td>\n",
              "      <td>4.90</td>\n",
              "      <td>2.59</td>\n",
              "      <td>-7.07</td>\n",
              "      <td>-2.50</td>\n",
              "      <td>181.63</td>\n",
              "      <td>43,300.25</td>\n",
              "      <td>1,682</td>\n",
              "      <td>NaN</td>\n",
              "      <td>145,448</td>\n",
              "      <td>0.70</td>\n",
              "      <td>0</td>\n",
              "      <td>NaN</td>\n",
              "      <td>0.00</td>\n",
              "      <td>7,993,460</td>\n",
              "    </tr>\n",
              "    <tr>\n",
              "      <th>3</th>\n",
              "      <td>521</td>\n",
              "      <td>-89</td>\n",
              "      <td>-89</td>\n",
              "      <td>-104</td>\n",
              "      <td>-104</td>\n",
              "      <td>-104</td>\n",
              "      <td>0</td>\n",
              "      <td>1,897</td>\n",
              "      <td>1,273</td>\n",
              "      <td>624</td>\n",
              "      <td>622</td>\n",
              "      <td>2</td>\n",
              "      <td>792</td>\n",
              "      <td>39</td>\n",
              "      <td>39</td>\n",
              "      <td>-85</td>\n",
              "      <td>3</td>\n",
              "      <td>36</td>\n",
              "      <td>839</td>\n",
              "      <td>-17.17</td>\n",
              "      <td>-19.95</td>\n",
              "      <td>-50.65</td>\n",
              "      <td>-21.41</td>\n",
              "      <td>204.06</td>\n",
              "      <td>-33.01</td>\n",
              "      <td>-61</td>\n",
              "      <td>NaN</td>\n",
              "      <td>368</td>\n",
              "      <td>2.37</td>\n",
              "      <td>0</td>\n",
              "      <td>NaN</td>\n",
              "      <td>0.00</td>\n",
              "      <td>168,807,631</td>\n",
              "    </tr>\n",
              "    <tr>\n",
              "      <th>4</th>\n",
              "      <td>4,108</td>\n",
              "      <td>246</td>\n",
              "      <td>246</td>\n",
              "      <td>816</td>\n",
              "      <td>657</td>\n",
              "      <td>659</td>\n",
              "      <td>-1</td>\n",
              "      <td>18,966</td>\n",
              "      <td>11,432</td>\n",
              "      <td>7,534</td>\n",
              "      <td>4,351</td>\n",
              "      <td>3,183</td>\n",
              "      <td>282</td>\n",
              "      <td>-33</td>\n",
              "      <td>-103</td>\n",
              "      <td>1,051</td>\n",
              "      <td>82</td>\n",
              "      <td>-115</td>\n",
              "      <td>8,639</td>\n",
              "      <td>5.98</td>\n",
              "      <td>16.00</td>\n",
              "      <td>17.65</td>\n",
              "      <td>2.18</td>\n",
              "      <td>151.74</td>\n",
              "      <td>1,538.72</td>\n",
              "      <td>1,168</td>\n",
              "      <td>3.98</td>\n",
              "      <td>7,821</td>\n",
              "      <td>0.64</td>\n",
              "      <td>NaN</td>\n",
              "      <td>NaN</td>\n",
              "      <td>0.00</td>\n",
              "      <td>55,640,623</td>\n",
              "    </tr>\n",
              "    <tr>\n",
              "      <th>5</th>\n",
              "      <td>2,613</td>\n",
              "      <td>1</td>\n",
              "      <td>1</td>\n",
              "      <td>17</td>\n",
              "      <td>66</td>\n",
              "      <td>66</td>\n",
              "      <td>0</td>\n",
              "      <td>8,550</td>\n",
              "      <td>5,855</td>\n",
              "      <td>2,695</td>\n",
              "      <td>2,689</td>\n",
              "      <td>6</td>\n",
              "      <td>531</td>\n",
              "      <td>150</td>\n",
              "      <td>-233</td>\n",
              "      <td>-257</td>\n",
              "      <td>127</td>\n",
              "      <td>23</td>\n",
              "      <td>5,016</td>\n",
              "      <td>0.06</td>\n",
              "      <td>2.51</td>\n",
              "      <td>0.69</td>\n",
              "      <td>0.20</td>\n",
              "      <td>217.22</td>\n",
              "      <td>473.10</td>\n",
              "      <td>62</td>\n",
              "      <td>141.13</td>\n",
              "      <td>2,532</td>\n",
              "      <td>1.01</td>\n",
              "      <td>NaN</td>\n",
              "      <td>NaN</td>\n",
              "      <td>NaN</td>\n",
              "      <td>106,209,702</td>\n",
              "    </tr>\n",
              "  </tbody>\n",
              "</table>\n",
              "</div>"
            ],
            "text/plain": [
              "Unnamed: 0    매출액 영업이익 영업이익(발표기준)  ... 현금배당수익률 현금배당성향(%)   발행주식수(보통주)\n",
              "0           6,243  644        644  ...     NaN       NaN   70,133,611\n",
              "1             205    6          6  ...     NaN       NaN  127,449,373\n",
              "2           5,980  293        293  ...     NaN      0.00    7,993,460\n",
              "3             521  -89        -89  ...     NaN      0.00  168,807,631\n",
              "4           4,108  246        246  ...     NaN      0.00   55,640,623\n",
              "5           2,613    1          1  ...     NaN       NaN  106,209,702\n",
              "\n",
              "[6 rows x 33 columns]"
            ]
          },
          "metadata": {
            "tags": []
          },
          "execution_count": 16
        }
      ]
    },
    {
      "cell_type": "markdown",
      "metadata": {
        "id": "p88-4BrWyqUZ"
      },
      "source": [
        "이제 `테마`라는 추가 정보를 더해보도록 하겠습니다. \n",
        "\n",
        "추가하고자 하는 정보는 다음 테이블과 같습니다. 7개인 것에 유의하세요.\n",
        "\n",
        "|종목|테마|\n",
        "|:-:|:-:|\n",
        "|000080|주류|\n",
        "|000890|주류|\n",
        "|005300|주류|\n",
        "|027740|육계|\n",
        "|035810|육계|\n",
        "|136480|육계|\n",
        "|136490|돼지고기|\n"
      ]
    },
    {
      "cell_type": "code",
      "metadata": {
        "id": "so1hhD2BzE57",
        "colab": {
          "base_uri": "https://localhost:8080/",
          "height": 266
        },
        "outputId": "b06787c8-03ec-41a9-cbed-cbb0b0dbfcc2"
      },
      "source": [
        "df2 = pd.DataFrame(\n",
        "    {'종목' : ['000080', '000890', '005300', '027740', '035810', '136480', '136490'],\n",
        "     '종목명': ['하이트진로', '보해양조', '롯데칠성', '마니커', '이지홀딩스', '하림', '선진'], \n",
        "     '테마' : ['주류', '주류', '주류', '육계', '육계', '육계', '돼지고기']}\n",
        ")\n",
        "df2"
      ],
      "execution_count": null,
      "outputs": [
        {
          "output_type": "execute_result",
          "data": {
            "text/html": [
              "<div>\n",
              "<style scoped>\n",
              "    .dataframe tbody tr th:only-of-type {\n",
              "        vertical-align: middle;\n",
              "    }\n",
              "\n",
              "    .dataframe tbody tr th {\n",
              "        vertical-align: top;\n",
              "    }\n",
              "\n",
              "    .dataframe thead th {\n",
              "        text-align: right;\n",
              "    }\n",
              "</style>\n",
              "<table border=\"1\" class=\"dataframe\">\n",
              "  <thead>\n",
              "    <tr style=\"text-align: right;\">\n",
              "      <th></th>\n",
              "      <th>종목</th>\n",
              "      <th>종목명</th>\n",
              "      <th>테마</th>\n",
              "    </tr>\n",
              "  </thead>\n",
              "  <tbody>\n",
              "    <tr>\n",
              "      <th>0</th>\n",
              "      <td>000080</td>\n",
              "      <td>하이트진로</td>\n",
              "      <td>주류</td>\n",
              "    </tr>\n",
              "    <tr>\n",
              "      <th>1</th>\n",
              "      <td>000890</td>\n",
              "      <td>보해양조</td>\n",
              "      <td>주류</td>\n",
              "    </tr>\n",
              "    <tr>\n",
              "      <th>2</th>\n",
              "      <td>005300</td>\n",
              "      <td>롯데칠성</td>\n",
              "      <td>주류</td>\n",
              "    </tr>\n",
              "    <tr>\n",
              "      <th>3</th>\n",
              "      <td>027740</td>\n",
              "      <td>마니커</td>\n",
              "      <td>육계</td>\n",
              "    </tr>\n",
              "    <tr>\n",
              "      <th>4</th>\n",
              "      <td>035810</td>\n",
              "      <td>이지홀딩스</td>\n",
              "      <td>육계</td>\n",
              "    </tr>\n",
              "    <tr>\n",
              "      <th>5</th>\n",
              "      <td>136480</td>\n",
              "      <td>하림</td>\n",
              "      <td>육계</td>\n",
              "    </tr>\n",
              "    <tr>\n",
              "      <th>6</th>\n",
              "      <td>136490</td>\n",
              "      <td>선진</td>\n",
              "      <td>돼지고기</td>\n",
              "    </tr>\n",
              "  </tbody>\n",
              "</table>\n",
              "</div>"
            ],
            "text/plain": [
              "       종목    종목명    테마\n",
              "0  000080  하이트진로    주류\n",
              "1  000890   보해양조    주류\n",
              "2  005300   롯데칠성    주류\n",
              "3  027740    마니커    육계\n",
              "4  035810  이지홀딩스    육계\n",
              "5  136480     하림    육계\n",
              "6  136490     선진  돼지고기"
            ]
          },
          "metadata": {
            "tags": []
          },
          "execution_count": 17
        }
      ]
    },
    {
      "cell_type": "code",
      "metadata": {
        "colab": {
          "base_uri": "https://localhost:8080/",
          "height": 711
        },
        "id": "0hdJ0rKHmpEF",
        "outputId": "ffb95050-a7a0-4a4b-c677-7904d4334a4e"
      },
      "source": [
        "pd.concat([df2, df], axis = 1)"
      ],
      "execution_count": null,
      "outputs": [
        {
          "output_type": "execute_result",
          "data": {
            "text/html": [
              "<div>\n",
              "<style scoped>\n",
              "    .dataframe tbody tr th:only-of-type {\n",
              "        vertical-align: middle;\n",
              "    }\n",
              "\n",
              "    .dataframe tbody tr th {\n",
              "        vertical-align: top;\n",
              "    }\n",
              "\n",
              "    .dataframe thead th {\n",
              "        text-align: right;\n",
              "    }\n",
              "</style>\n",
              "<table border=\"1\" class=\"dataframe\">\n",
              "  <thead>\n",
              "    <tr style=\"text-align: right;\">\n",
              "      <th></th>\n",
              "      <th>종목</th>\n",
              "      <th>종목명</th>\n",
              "      <th>테마</th>\n",
              "      <th>매출액</th>\n",
              "      <th>영업이익</th>\n",
              "      <th>영업이익(발표기준)</th>\n",
              "      <th>세전계속사업이익</th>\n",
              "      <th>당기순이익</th>\n",
              "      <th>당기순이익(지배)</th>\n",
              "      <th>당기순이익(비지배)</th>\n",
              "      <th>자산총계</th>\n",
              "      <th>부채총계</th>\n",
              "      <th>자본총계</th>\n",
              "      <th>자본총계(지배)</th>\n",
              "      <th>자본총계(비지배)</th>\n",
              "      <th>자본금</th>\n",
              "      <th>영업활동현금흐름</th>\n",
              "      <th>투자활동현금흐름</th>\n",
              "      <th>재무활동현금흐름</th>\n",
              "      <th>CAPEX</th>\n",
              "      <th>FCF</th>\n",
              "      <th>이자발생부채</th>\n",
              "      <th>영업이익률</th>\n",
              "      <th>순이익률</th>\n",
              "      <th>ROE(%)</th>\n",
              "      <th>ROA(%)</th>\n",
              "      <th>부채비율</th>\n",
              "      <th>자본유보율</th>\n",
              "      <th>EPS(원)</th>\n",
              "      <th>PER(배)</th>\n",
              "      <th>BPS(원)</th>\n",
              "      <th>PBR(배)</th>\n",
              "      <th>현금DPS(원)</th>\n",
              "      <th>현금배당수익률</th>\n",
              "      <th>현금배당성향(%)</th>\n",
              "      <th>발행주식수(보통주)</th>\n",
              "    </tr>\n",
              "  </thead>\n",
              "  <tbody>\n",
              "    <tr>\n",
              "      <th>0</th>\n",
              "      <td>000080</td>\n",
              "      <td>하이트진로</td>\n",
              "      <td>주류</td>\n",
              "      <td>6,243</td>\n",
              "      <td>644</td>\n",
              "      <td>644</td>\n",
              "      <td>465</td>\n",
              "      <td>322</td>\n",
              "      <td>323</td>\n",
              "      <td>0</td>\n",
              "      <td>39,617</td>\n",
              "      <td>28,720</td>\n",
              "      <td>10,897</td>\n",
              "      <td>10,893</td>\n",
              "      <td>5</td>\n",
              "      <td>3,688</td>\n",
              "      <td>-3,009</td>\n",
              "      <td>-410</td>\n",
              "      <td>-594</td>\n",
              "      <td>382</td>\n",
              "      <td>-3,391</td>\n",
              "      <td>15,995</td>\n",
              "      <td>10.31</td>\n",
              "      <td>5.17</td>\n",
              "      <td>6.89</td>\n",
              "      <td>2.04</td>\n",
              "      <td>263.55</td>\n",
              "      <td>216.77</td>\n",
              "      <td>453</td>\n",
              "      <td>34.26</td>\n",
              "      <td>15,609</td>\n",
              "      <td>2.32</td>\n",
              "      <td>NaN</td>\n",
              "      <td>NaN</td>\n",
              "      <td>NaN</td>\n",
              "      <td>70,133,611</td>\n",
              "    </tr>\n",
              "    <tr>\n",
              "      <th>1</th>\n",
              "      <td>000890</td>\n",
              "      <td>보해양조</td>\n",
              "      <td>주류</td>\n",
              "      <td>205</td>\n",
              "      <td>6</td>\n",
              "      <td>6</td>\n",
              "      <td>5</td>\n",
              "      <td>4</td>\n",
              "      <td>4</td>\n",
              "      <td>NaN</td>\n",
              "      <td>1,555</td>\n",
              "      <td>739</td>\n",
              "      <td>816</td>\n",
              "      <td>816</td>\n",
              "      <td>NaN</td>\n",
              "      <td>637</td>\n",
              "      <td>-42</td>\n",
              "      <td>-10</td>\n",
              "      <td>-34</td>\n",
              "      <td>18</td>\n",
              "      <td>-60</td>\n",
              "      <td>465</td>\n",
              "      <td>2.92</td>\n",
              "      <td>2.15</td>\n",
              "      <td>-17.61</td>\n",
              "      <td>-8.99</td>\n",
              "      <td>90.59</td>\n",
              "      <td>27.50</td>\n",
              "      <td>3</td>\n",
              "      <td>NaN</td>\n",
              "      <td>640</td>\n",
              "      <td>1.41</td>\n",
              "      <td>NaN</td>\n",
              "      <td>NaN</td>\n",
              "      <td>NaN</td>\n",
              "      <td>127,449,373</td>\n",
              "    </tr>\n",
              "    <tr>\n",
              "      <th>2</th>\n",
              "      <td>005300</td>\n",
              "      <td>롯데칠성</td>\n",
              "      <td>주류</td>\n",
              "      <td>5,980</td>\n",
              "      <td>293</td>\n",
              "      <td>293</td>\n",
              "      <td>194</td>\n",
              "      <td>155</td>\n",
              "      <td>147</td>\n",
              "      <td>7</td>\n",
              "      <td>34,066</td>\n",
              "      <td>21,970</td>\n",
              "      <td>12,096</td>\n",
              "      <td>11,942</td>\n",
              "      <td>154</td>\n",
              "      <td>44</td>\n",
              "      <td>1,284</td>\n",
              "      <td>-958</td>\n",
              "      <td>1,009</td>\n",
              "      <td>315</td>\n",
              "      <td>969</td>\n",
              "      <td>15,489</td>\n",
              "      <td>4.90</td>\n",
              "      <td>2.59</td>\n",
              "      <td>-7.07</td>\n",
              "      <td>-2.50</td>\n",
              "      <td>181.63</td>\n",
              "      <td>43,300.25</td>\n",
              "      <td>1,682</td>\n",
              "      <td>NaN</td>\n",
              "      <td>145,448</td>\n",
              "      <td>0.70</td>\n",
              "      <td>0</td>\n",
              "      <td>NaN</td>\n",
              "      <td>0.00</td>\n",
              "      <td>7,993,460</td>\n",
              "    </tr>\n",
              "    <tr>\n",
              "      <th>3</th>\n",
              "      <td>027740</td>\n",
              "      <td>마니커</td>\n",
              "      <td>육계</td>\n",
              "      <td>521</td>\n",
              "      <td>-89</td>\n",
              "      <td>-89</td>\n",
              "      <td>-104</td>\n",
              "      <td>-104</td>\n",
              "      <td>-104</td>\n",
              "      <td>0</td>\n",
              "      <td>1,897</td>\n",
              "      <td>1,273</td>\n",
              "      <td>624</td>\n",
              "      <td>622</td>\n",
              "      <td>2</td>\n",
              "      <td>792</td>\n",
              "      <td>39</td>\n",
              "      <td>39</td>\n",
              "      <td>-85</td>\n",
              "      <td>3</td>\n",
              "      <td>36</td>\n",
              "      <td>839</td>\n",
              "      <td>-17.17</td>\n",
              "      <td>-19.95</td>\n",
              "      <td>-50.65</td>\n",
              "      <td>-21.41</td>\n",
              "      <td>204.06</td>\n",
              "      <td>-33.01</td>\n",
              "      <td>-61</td>\n",
              "      <td>NaN</td>\n",
              "      <td>368</td>\n",
              "      <td>2.37</td>\n",
              "      <td>0</td>\n",
              "      <td>NaN</td>\n",
              "      <td>0.00</td>\n",
              "      <td>168,807,631</td>\n",
              "    </tr>\n",
              "    <tr>\n",
              "      <th>4</th>\n",
              "      <td>035810</td>\n",
              "      <td>이지홀딩스</td>\n",
              "      <td>육계</td>\n",
              "      <td>4,108</td>\n",
              "      <td>246</td>\n",
              "      <td>246</td>\n",
              "      <td>816</td>\n",
              "      <td>657</td>\n",
              "      <td>659</td>\n",
              "      <td>-1</td>\n",
              "      <td>18,966</td>\n",
              "      <td>11,432</td>\n",
              "      <td>7,534</td>\n",
              "      <td>4,351</td>\n",
              "      <td>3,183</td>\n",
              "      <td>282</td>\n",
              "      <td>-33</td>\n",
              "      <td>-103</td>\n",
              "      <td>1,051</td>\n",
              "      <td>82</td>\n",
              "      <td>-115</td>\n",
              "      <td>8,639</td>\n",
              "      <td>5.98</td>\n",
              "      <td>16.00</td>\n",
              "      <td>17.65</td>\n",
              "      <td>2.18</td>\n",
              "      <td>151.74</td>\n",
              "      <td>1,538.72</td>\n",
              "      <td>1,168</td>\n",
              "      <td>3.98</td>\n",
              "      <td>7,821</td>\n",
              "      <td>0.64</td>\n",
              "      <td>NaN</td>\n",
              "      <td>NaN</td>\n",
              "      <td>0.00</td>\n",
              "      <td>55,640,623</td>\n",
              "    </tr>\n",
              "    <tr>\n",
              "      <th>5</th>\n",
              "      <td>136480</td>\n",
              "      <td>하림</td>\n",
              "      <td>육계</td>\n",
              "      <td>2,613</td>\n",
              "      <td>1</td>\n",
              "      <td>1</td>\n",
              "      <td>17</td>\n",
              "      <td>66</td>\n",
              "      <td>66</td>\n",
              "      <td>0</td>\n",
              "      <td>8,550</td>\n",
              "      <td>5,855</td>\n",
              "      <td>2,695</td>\n",
              "      <td>2,689</td>\n",
              "      <td>6</td>\n",
              "      <td>531</td>\n",
              "      <td>150</td>\n",
              "      <td>-233</td>\n",
              "      <td>-257</td>\n",
              "      <td>127</td>\n",
              "      <td>23</td>\n",
              "      <td>5,016</td>\n",
              "      <td>0.06</td>\n",
              "      <td>2.51</td>\n",
              "      <td>0.69</td>\n",
              "      <td>0.20</td>\n",
              "      <td>217.22</td>\n",
              "      <td>473.10</td>\n",
              "      <td>62</td>\n",
              "      <td>141.13</td>\n",
              "      <td>2,532</td>\n",
              "      <td>1.01</td>\n",
              "      <td>NaN</td>\n",
              "      <td>NaN</td>\n",
              "      <td>NaN</td>\n",
              "      <td>106,209,702</td>\n",
              "    </tr>\n",
              "    <tr>\n",
              "      <th>6</th>\n",
              "      <td>136490</td>\n",
              "      <td>선진</td>\n",
              "      <td>돼지고기</td>\n",
              "      <td>NaN</td>\n",
              "      <td>NaN</td>\n",
              "      <td>NaN</td>\n",
              "      <td>NaN</td>\n",
              "      <td>NaN</td>\n",
              "      <td>NaN</td>\n",
              "      <td>NaN</td>\n",
              "      <td>NaN</td>\n",
              "      <td>NaN</td>\n",
              "      <td>NaN</td>\n",
              "      <td>NaN</td>\n",
              "      <td>NaN</td>\n",
              "      <td>NaN</td>\n",
              "      <td>NaN</td>\n",
              "      <td>NaN</td>\n",
              "      <td>NaN</td>\n",
              "      <td>NaN</td>\n",
              "      <td>NaN</td>\n",
              "      <td>NaN</td>\n",
              "      <td>NaN</td>\n",
              "      <td>NaN</td>\n",
              "      <td>NaN</td>\n",
              "      <td>NaN</td>\n",
              "      <td>NaN</td>\n",
              "      <td>NaN</td>\n",
              "      <td>NaN</td>\n",
              "      <td>NaN</td>\n",
              "      <td>NaN</td>\n",
              "      <td>NaN</td>\n",
              "      <td>NaN</td>\n",
              "      <td>NaN</td>\n",
              "      <td>NaN</td>\n",
              "      <td>NaN</td>\n",
              "    </tr>\n",
              "  </tbody>\n",
              "</table>\n",
              "</div>"
            ],
            "text/plain": [
              "       종목    종목명    테마    매출액  ... 현금DPS(원) 현금배당수익률 현금배당성향(%)   발행주식수(보통주)\n",
              "0  000080  하이트진로    주류  6,243  ...      NaN     NaN       NaN   70,133,611\n",
              "1  000890   보해양조    주류    205  ...      NaN     NaN       NaN  127,449,373\n",
              "2  005300   롯데칠성    주류  5,980  ...        0     NaN      0.00    7,993,460\n",
              "3  027740    마니커    육계    521  ...        0     NaN      0.00  168,807,631\n",
              "4  035810  이지홀딩스    육계  4,108  ...      NaN     NaN      0.00   55,640,623\n",
              "5  136480     하림    육계  2,613  ...      NaN     NaN       NaN  106,209,702\n",
              "6  136490     선진  돼지고기    NaN  ...      NaN     NaN       NaN          NaN\n",
              "\n",
              "[7 rows x 36 columns]"
            ]
          },
          "metadata": {
            "tags": []
          },
          "execution_count": 18
        }
      ]
    },
    {
      "cell_type": "code",
      "metadata": {
        "id": "Bi-Pka14-gJb",
        "colab": {
          "base_uri": "https://localhost:8080/",
          "height": 235
        },
        "outputId": "2f3967e7-1e2b-40ae-bc4d-3e38e0f95dda"
      },
      "source": [
        "df2 = df2.drop(6)\n",
        "df2"
      ],
      "execution_count": null,
      "outputs": [
        {
          "output_type": "execute_result",
          "data": {
            "text/html": [
              "<div>\n",
              "<style scoped>\n",
              "    .dataframe tbody tr th:only-of-type {\n",
              "        vertical-align: middle;\n",
              "    }\n",
              "\n",
              "    .dataframe tbody tr th {\n",
              "        vertical-align: top;\n",
              "    }\n",
              "\n",
              "    .dataframe thead th {\n",
              "        text-align: right;\n",
              "    }\n",
              "</style>\n",
              "<table border=\"1\" class=\"dataframe\">\n",
              "  <thead>\n",
              "    <tr style=\"text-align: right;\">\n",
              "      <th></th>\n",
              "      <th>종목</th>\n",
              "      <th>종목명</th>\n",
              "      <th>테마</th>\n",
              "    </tr>\n",
              "  </thead>\n",
              "  <tbody>\n",
              "    <tr>\n",
              "      <th>0</th>\n",
              "      <td>000080</td>\n",
              "      <td>하이트진로</td>\n",
              "      <td>주류</td>\n",
              "    </tr>\n",
              "    <tr>\n",
              "      <th>1</th>\n",
              "      <td>000890</td>\n",
              "      <td>보해양조</td>\n",
              "      <td>주류</td>\n",
              "    </tr>\n",
              "    <tr>\n",
              "      <th>2</th>\n",
              "      <td>005300</td>\n",
              "      <td>롯데칠성</td>\n",
              "      <td>주류</td>\n",
              "    </tr>\n",
              "    <tr>\n",
              "      <th>3</th>\n",
              "      <td>027740</td>\n",
              "      <td>마니커</td>\n",
              "      <td>육계</td>\n",
              "    </tr>\n",
              "    <tr>\n",
              "      <th>4</th>\n",
              "      <td>035810</td>\n",
              "      <td>이지홀딩스</td>\n",
              "      <td>육계</td>\n",
              "    </tr>\n",
              "    <tr>\n",
              "      <th>5</th>\n",
              "      <td>136480</td>\n",
              "      <td>하림</td>\n",
              "      <td>육계</td>\n",
              "    </tr>\n",
              "  </tbody>\n",
              "</table>\n",
              "</div>"
            ],
            "text/plain": [
              "       종목    종목명  테마\n",
              "0  000080  하이트진로  주류\n",
              "1  000890   보해양조  주류\n",
              "2  005300   롯데칠성  주류\n",
              "3  027740    마니커  육계\n",
              "4  035810  이지홀딩스  육계\n",
              "5  136480     하림  육계"
            ]
          },
          "metadata": {
            "tags": []
          },
          "execution_count": 19
        }
      ]
    },
    {
      "cell_type": "code",
      "metadata": {
        "colab": {
          "base_uri": "https://localhost:8080/",
          "height": 663
        },
        "id": "FUFQLpHwnCD5",
        "outputId": "39905e02-3ce0-417b-f9e0-c12add815d68"
      },
      "source": [
        "df = pd.concat([df2, df], axis = 1)\n",
        "df"
      ],
      "execution_count": null,
      "outputs": [
        {
          "output_type": "execute_result",
          "data": {
            "text/html": [
              "<div>\n",
              "<style scoped>\n",
              "    .dataframe tbody tr th:only-of-type {\n",
              "        vertical-align: middle;\n",
              "    }\n",
              "\n",
              "    .dataframe tbody tr th {\n",
              "        vertical-align: top;\n",
              "    }\n",
              "\n",
              "    .dataframe thead th {\n",
              "        text-align: right;\n",
              "    }\n",
              "</style>\n",
              "<table border=\"1\" class=\"dataframe\">\n",
              "  <thead>\n",
              "    <tr style=\"text-align: right;\">\n",
              "      <th></th>\n",
              "      <th>종목</th>\n",
              "      <th>종목명</th>\n",
              "      <th>테마</th>\n",
              "      <th>매출액</th>\n",
              "      <th>영업이익</th>\n",
              "      <th>영업이익(발표기준)</th>\n",
              "      <th>세전계속사업이익</th>\n",
              "      <th>당기순이익</th>\n",
              "      <th>당기순이익(지배)</th>\n",
              "      <th>당기순이익(비지배)</th>\n",
              "      <th>자산총계</th>\n",
              "      <th>부채총계</th>\n",
              "      <th>자본총계</th>\n",
              "      <th>자본총계(지배)</th>\n",
              "      <th>자본총계(비지배)</th>\n",
              "      <th>자본금</th>\n",
              "      <th>영업활동현금흐름</th>\n",
              "      <th>투자활동현금흐름</th>\n",
              "      <th>재무활동현금흐름</th>\n",
              "      <th>CAPEX</th>\n",
              "      <th>FCF</th>\n",
              "      <th>이자발생부채</th>\n",
              "      <th>영업이익률</th>\n",
              "      <th>순이익률</th>\n",
              "      <th>ROE(%)</th>\n",
              "      <th>ROA(%)</th>\n",
              "      <th>부채비율</th>\n",
              "      <th>자본유보율</th>\n",
              "      <th>EPS(원)</th>\n",
              "      <th>PER(배)</th>\n",
              "      <th>BPS(원)</th>\n",
              "      <th>PBR(배)</th>\n",
              "      <th>현금DPS(원)</th>\n",
              "      <th>현금배당수익률</th>\n",
              "      <th>현금배당성향(%)</th>\n",
              "      <th>발행주식수(보통주)</th>\n",
              "    </tr>\n",
              "  </thead>\n",
              "  <tbody>\n",
              "    <tr>\n",
              "      <th>0</th>\n",
              "      <td>000080</td>\n",
              "      <td>하이트진로</td>\n",
              "      <td>주류</td>\n",
              "      <td>6,243</td>\n",
              "      <td>644</td>\n",
              "      <td>644</td>\n",
              "      <td>465</td>\n",
              "      <td>322</td>\n",
              "      <td>323</td>\n",
              "      <td>0</td>\n",
              "      <td>39,617</td>\n",
              "      <td>28,720</td>\n",
              "      <td>10,897</td>\n",
              "      <td>10,893</td>\n",
              "      <td>5</td>\n",
              "      <td>3,688</td>\n",
              "      <td>-3,009</td>\n",
              "      <td>-410</td>\n",
              "      <td>-594</td>\n",
              "      <td>382</td>\n",
              "      <td>-3,391</td>\n",
              "      <td>15,995</td>\n",
              "      <td>10.31</td>\n",
              "      <td>5.17</td>\n",
              "      <td>6.89</td>\n",
              "      <td>2.04</td>\n",
              "      <td>263.55</td>\n",
              "      <td>216.77</td>\n",
              "      <td>453</td>\n",
              "      <td>34.26</td>\n",
              "      <td>15,609</td>\n",
              "      <td>2.32</td>\n",
              "      <td>NaN</td>\n",
              "      <td>NaN</td>\n",
              "      <td>NaN</td>\n",
              "      <td>70,133,611</td>\n",
              "    </tr>\n",
              "    <tr>\n",
              "      <th>1</th>\n",
              "      <td>000890</td>\n",
              "      <td>보해양조</td>\n",
              "      <td>주류</td>\n",
              "      <td>205</td>\n",
              "      <td>6</td>\n",
              "      <td>6</td>\n",
              "      <td>5</td>\n",
              "      <td>4</td>\n",
              "      <td>4</td>\n",
              "      <td>NaN</td>\n",
              "      <td>1,555</td>\n",
              "      <td>739</td>\n",
              "      <td>816</td>\n",
              "      <td>816</td>\n",
              "      <td>NaN</td>\n",
              "      <td>637</td>\n",
              "      <td>-42</td>\n",
              "      <td>-10</td>\n",
              "      <td>-34</td>\n",
              "      <td>18</td>\n",
              "      <td>-60</td>\n",
              "      <td>465</td>\n",
              "      <td>2.92</td>\n",
              "      <td>2.15</td>\n",
              "      <td>-17.61</td>\n",
              "      <td>-8.99</td>\n",
              "      <td>90.59</td>\n",
              "      <td>27.50</td>\n",
              "      <td>3</td>\n",
              "      <td>NaN</td>\n",
              "      <td>640</td>\n",
              "      <td>1.41</td>\n",
              "      <td>NaN</td>\n",
              "      <td>NaN</td>\n",
              "      <td>NaN</td>\n",
              "      <td>127,449,373</td>\n",
              "    </tr>\n",
              "    <tr>\n",
              "      <th>2</th>\n",
              "      <td>005300</td>\n",
              "      <td>롯데칠성</td>\n",
              "      <td>주류</td>\n",
              "      <td>5,980</td>\n",
              "      <td>293</td>\n",
              "      <td>293</td>\n",
              "      <td>194</td>\n",
              "      <td>155</td>\n",
              "      <td>147</td>\n",
              "      <td>7</td>\n",
              "      <td>34,066</td>\n",
              "      <td>21,970</td>\n",
              "      <td>12,096</td>\n",
              "      <td>11,942</td>\n",
              "      <td>154</td>\n",
              "      <td>44</td>\n",
              "      <td>1,284</td>\n",
              "      <td>-958</td>\n",
              "      <td>1,009</td>\n",
              "      <td>315</td>\n",
              "      <td>969</td>\n",
              "      <td>15,489</td>\n",
              "      <td>4.90</td>\n",
              "      <td>2.59</td>\n",
              "      <td>-7.07</td>\n",
              "      <td>-2.50</td>\n",
              "      <td>181.63</td>\n",
              "      <td>43,300.25</td>\n",
              "      <td>1,682</td>\n",
              "      <td>NaN</td>\n",
              "      <td>145,448</td>\n",
              "      <td>0.70</td>\n",
              "      <td>0</td>\n",
              "      <td>NaN</td>\n",
              "      <td>0.00</td>\n",
              "      <td>7,993,460</td>\n",
              "    </tr>\n",
              "    <tr>\n",
              "      <th>3</th>\n",
              "      <td>027740</td>\n",
              "      <td>마니커</td>\n",
              "      <td>육계</td>\n",
              "      <td>521</td>\n",
              "      <td>-89</td>\n",
              "      <td>-89</td>\n",
              "      <td>-104</td>\n",
              "      <td>-104</td>\n",
              "      <td>-104</td>\n",
              "      <td>0</td>\n",
              "      <td>1,897</td>\n",
              "      <td>1,273</td>\n",
              "      <td>624</td>\n",
              "      <td>622</td>\n",
              "      <td>2</td>\n",
              "      <td>792</td>\n",
              "      <td>39</td>\n",
              "      <td>39</td>\n",
              "      <td>-85</td>\n",
              "      <td>3</td>\n",
              "      <td>36</td>\n",
              "      <td>839</td>\n",
              "      <td>-17.17</td>\n",
              "      <td>-19.95</td>\n",
              "      <td>-50.65</td>\n",
              "      <td>-21.41</td>\n",
              "      <td>204.06</td>\n",
              "      <td>-33.01</td>\n",
              "      <td>-61</td>\n",
              "      <td>NaN</td>\n",
              "      <td>368</td>\n",
              "      <td>2.37</td>\n",
              "      <td>0</td>\n",
              "      <td>NaN</td>\n",
              "      <td>0.00</td>\n",
              "      <td>168,807,631</td>\n",
              "    </tr>\n",
              "    <tr>\n",
              "      <th>4</th>\n",
              "      <td>035810</td>\n",
              "      <td>이지홀딩스</td>\n",
              "      <td>육계</td>\n",
              "      <td>4,108</td>\n",
              "      <td>246</td>\n",
              "      <td>246</td>\n",
              "      <td>816</td>\n",
              "      <td>657</td>\n",
              "      <td>659</td>\n",
              "      <td>-1</td>\n",
              "      <td>18,966</td>\n",
              "      <td>11,432</td>\n",
              "      <td>7,534</td>\n",
              "      <td>4,351</td>\n",
              "      <td>3,183</td>\n",
              "      <td>282</td>\n",
              "      <td>-33</td>\n",
              "      <td>-103</td>\n",
              "      <td>1,051</td>\n",
              "      <td>82</td>\n",
              "      <td>-115</td>\n",
              "      <td>8,639</td>\n",
              "      <td>5.98</td>\n",
              "      <td>16.00</td>\n",
              "      <td>17.65</td>\n",
              "      <td>2.18</td>\n",
              "      <td>151.74</td>\n",
              "      <td>1,538.72</td>\n",
              "      <td>1,168</td>\n",
              "      <td>3.98</td>\n",
              "      <td>7,821</td>\n",
              "      <td>0.64</td>\n",
              "      <td>NaN</td>\n",
              "      <td>NaN</td>\n",
              "      <td>0.00</td>\n",
              "      <td>55,640,623</td>\n",
              "    </tr>\n",
              "    <tr>\n",
              "      <th>5</th>\n",
              "      <td>136480</td>\n",
              "      <td>하림</td>\n",
              "      <td>육계</td>\n",
              "      <td>2,613</td>\n",
              "      <td>1</td>\n",
              "      <td>1</td>\n",
              "      <td>17</td>\n",
              "      <td>66</td>\n",
              "      <td>66</td>\n",
              "      <td>0</td>\n",
              "      <td>8,550</td>\n",
              "      <td>5,855</td>\n",
              "      <td>2,695</td>\n",
              "      <td>2,689</td>\n",
              "      <td>6</td>\n",
              "      <td>531</td>\n",
              "      <td>150</td>\n",
              "      <td>-233</td>\n",
              "      <td>-257</td>\n",
              "      <td>127</td>\n",
              "      <td>23</td>\n",
              "      <td>5,016</td>\n",
              "      <td>0.06</td>\n",
              "      <td>2.51</td>\n",
              "      <td>0.69</td>\n",
              "      <td>0.20</td>\n",
              "      <td>217.22</td>\n",
              "      <td>473.10</td>\n",
              "      <td>62</td>\n",
              "      <td>141.13</td>\n",
              "      <td>2,532</td>\n",
              "      <td>1.01</td>\n",
              "      <td>NaN</td>\n",
              "      <td>NaN</td>\n",
              "      <td>NaN</td>\n",
              "      <td>106,209,702</td>\n",
              "    </tr>\n",
              "  </tbody>\n",
              "</table>\n",
              "</div>"
            ],
            "text/plain": [
              "       종목    종목명  테마    매출액 영업이익  ... PBR(배) 현금DPS(원) 현금배당수익률 현금배당성향(%)   발행주식수(보통주)\n",
              "0  000080  하이트진로  주류  6,243  644  ...   2.32      NaN     NaN       NaN   70,133,611\n",
              "1  000890   보해양조  주류    205    6  ...   1.41      NaN     NaN       NaN  127,449,373\n",
              "2  005300   롯데칠성  주류  5,980  293  ...   0.70        0     NaN      0.00    7,993,460\n",
              "3  027740    마니커  육계    521  -89  ...   2.37        0     NaN      0.00  168,807,631\n",
              "4  035810  이지홀딩스  육계  4,108  246  ...   0.64      NaN     NaN      0.00   55,640,623\n",
              "5  136480     하림  육계  2,613    1  ...   1.01      NaN     NaN       NaN  106,209,702\n",
              "\n",
              "[6 rows x 36 columns]"
            ]
          },
          "metadata": {
            "tags": []
          },
          "execution_count": 20
        }
      ]
    },
    {
      "cell_type": "markdown",
      "metadata": {
        "id": "1yDm6cbFr9OV"
      },
      "source": [
        "|종목코드|종목명|테마|매출|영업이익|...|현금배당성향(%)|발행주식수(보통주)|\n",
        "|:-:|:-:|:-:|:-:|:-:|:-:|:-:|:-:|\n",
        "|000080|하이트진로|주류|6,243|644|...|0|70,133,611|\n",
        "||||||...||\n",
        "|136480|하림|육계|2,613|1|...|0|106,209,702|\n"
      ]
    },
    {
      "cell_type": "markdown",
      "metadata": {
        "id": "jiLtwCdiByUN"
      },
      "source": [
        "reset_index 이후 작업, column order 잔처리등을 위해 데이터의 부분만을 선택 하겠습니다."
      ]
    },
    {
      "cell_type": "code",
      "metadata": {
        "id": "Me-tH29bB8M0",
        "colab": {
          "base_uri": "https://localhost:8080/",
          "height": 235
        },
        "outputId": "2948d062-dbb3-4acd-bfa5-6c419ec4d223"
      },
      "source": [
        "df[['종목', '매출액', '순이익률']]"
      ],
      "execution_count": null,
      "outputs": [
        {
          "output_type": "execute_result",
          "data": {
            "text/html": [
              "<div>\n",
              "<style scoped>\n",
              "    .dataframe tbody tr th:only-of-type {\n",
              "        vertical-align: middle;\n",
              "    }\n",
              "\n",
              "    .dataframe tbody tr th {\n",
              "        vertical-align: top;\n",
              "    }\n",
              "\n",
              "    .dataframe thead th {\n",
              "        text-align: right;\n",
              "    }\n",
              "</style>\n",
              "<table border=\"1\" class=\"dataframe\">\n",
              "  <thead>\n",
              "    <tr style=\"text-align: right;\">\n",
              "      <th></th>\n",
              "      <th>종목</th>\n",
              "      <th>매출액</th>\n",
              "      <th>순이익률</th>\n",
              "    </tr>\n",
              "  </thead>\n",
              "  <tbody>\n",
              "    <tr>\n",
              "      <th>0</th>\n",
              "      <td>000080</td>\n",
              "      <td>6,243</td>\n",
              "      <td>5.17</td>\n",
              "    </tr>\n",
              "    <tr>\n",
              "      <th>1</th>\n",
              "      <td>000890</td>\n",
              "      <td>205</td>\n",
              "      <td>2.15</td>\n",
              "    </tr>\n",
              "    <tr>\n",
              "      <th>2</th>\n",
              "      <td>005300</td>\n",
              "      <td>5,980</td>\n",
              "      <td>2.59</td>\n",
              "    </tr>\n",
              "    <tr>\n",
              "      <th>3</th>\n",
              "      <td>027740</td>\n",
              "      <td>521</td>\n",
              "      <td>-19.95</td>\n",
              "    </tr>\n",
              "    <tr>\n",
              "      <th>4</th>\n",
              "      <td>035810</td>\n",
              "      <td>4,108</td>\n",
              "      <td>16.00</td>\n",
              "    </tr>\n",
              "    <tr>\n",
              "      <th>5</th>\n",
              "      <td>136480</td>\n",
              "      <td>2,613</td>\n",
              "      <td>2.51</td>\n",
              "    </tr>\n",
              "  </tbody>\n",
              "</table>\n",
              "</div>"
            ],
            "text/plain": [
              "       종목    매출액    순이익률\n",
              "0  000080  6,243    5.17\n",
              "1  000890    205    2.15\n",
              "2  005300  5,980    2.59\n",
              "3  027740    521  -19.95\n",
              "4  035810  4,108   16.00\n",
              "5  136480  2,613    2.51"
            ]
          },
          "metadata": {
            "tags": []
          },
          "execution_count": 21
        }
      ]
    },
    {
      "cell_type": "code",
      "metadata": {
        "id": "Zk9_Cb6wBwlT",
        "colab": {
          "base_uri": "https://localhost:8080/",
          "height": 235
        },
        "outputId": "1a916e2f-2a52-4d93-8dba-638df8ec296c"
      },
      "source": [
        "df = df[['종목', '매출액', '순이익률']]\n",
        "df"
      ],
      "execution_count": null,
      "outputs": [
        {
          "output_type": "execute_result",
          "data": {
            "text/html": [
              "<div>\n",
              "<style scoped>\n",
              "    .dataframe tbody tr th:only-of-type {\n",
              "        vertical-align: middle;\n",
              "    }\n",
              "\n",
              "    .dataframe tbody tr th {\n",
              "        vertical-align: top;\n",
              "    }\n",
              "\n",
              "    .dataframe thead th {\n",
              "        text-align: right;\n",
              "    }\n",
              "</style>\n",
              "<table border=\"1\" class=\"dataframe\">\n",
              "  <thead>\n",
              "    <tr style=\"text-align: right;\">\n",
              "      <th></th>\n",
              "      <th>종목</th>\n",
              "      <th>매출액</th>\n",
              "      <th>순이익률</th>\n",
              "    </tr>\n",
              "  </thead>\n",
              "  <tbody>\n",
              "    <tr>\n",
              "      <th>0</th>\n",
              "      <td>000080</td>\n",
              "      <td>6,243</td>\n",
              "      <td>5.17</td>\n",
              "    </tr>\n",
              "    <tr>\n",
              "      <th>1</th>\n",
              "      <td>000890</td>\n",
              "      <td>205</td>\n",
              "      <td>2.15</td>\n",
              "    </tr>\n",
              "    <tr>\n",
              "      <th>2</th>\n",
              "      <td>005300</td>\n",
              "      <td>5,980</td>\n",
              "      <td>2.59</td>\n",
              "    </tr>\n",
              "    <tr>\n",
              "      <th>3</th>\n",
              "      <td>027740</td>\n",
              "      <td>521</td>\n",
              "      <td>-19.95</td>\n",
              "    </tr>\n",
              "    <tr>\n",
              "      <th>4</th>\n",
              "      <td>035810</td>\n",
              "      <td>4,108</td>\n",
              "      <td>16.00</td>\n",
              "    </tr>\n",
              "    <tr>\n",
              "      <th>5</th>\n",
              "      <td>136480</td>\n",
              "      <td>2,613</td>\n",
              "      <td>2.51</td>\n",
              "    </tr>\n",
              "  </tbody>\n",
              "</table>\n",
              "</div>"
            ],
            "text/plain": [
              "       종목    매출액    순이익률\n",
              "0  000080  6,243    5.17\n",
              "1  000890    205    2.15\n",
              "2  005300  5,980    2.59\n",
              "3  027740    521  -19.95\n",
              "4  035810  4,108   16.00\n",
              "5  136480  2,613    2.51"
            ]
          },
          "metadata": {
            "tags": []
          },
          "execution_count": 22
        }
      ]
    },
    {
      "cell_type": "markdown",
      "metadata": {
        "id": "17PV3bEtz449"
      },
      "source": [
        "## Merge\n",
        "\n",
        "<img src='https://i.imgur.com/4ZAy4Yf.png' width = 600>\n",
        "\n",
        "merge는 concat과 다르게 **공통된 부분을 기반으로** 합치기가 주요 용도입니다.\n",
        "\n",
        "이번 세션에서는 `inner-join`에 대해서만 다룰 예정이며, 다른 option들에 대해서도 스스로 찾아서 공부해야합니다.\n",
        "\n",
        "\n"
      ]
    },
    {
      "cell_type": "markdown",
      "metadata": {
        "id": "p1o6R29VLwwu"
      },
      "source": [
        "|종목|매출액|순이익률|종목명|테마|\n",
        "|:-:|:-:|:-:|:-:|:-:|\n",
        "|000080|6,243|5.17|하이트진로|주류|\n",
        "|||...|||\n",
        "|136480|2,613|2.51|하림|육계|\n",
        "\n",
        "계속 진행하기 이전에, 위 목표 데이터를 위해 어느 데이터의 부분들이 필요한지 먼저 확인하는 작업이 필요합니다.\n",
        "\n",
        "새롭게 만들려고 하는 과정을 자세히 보면, **종목(종목코드)** 를 기준으로 합친다는 것을 알 수 있습니다. \n",
        "\n",
        "만약 그냥 `concat`을 하면 어떻게 될까요?"
      ]
    },
    {
      "cell_type": "code",
      "metadata": {
        "colab": {
          "base_uri": "https://localhost:8080/",
          "height": 266
        },
        "id": "EaHWs9PeuBvz",
        "outputId": "dccba0c9-4349-42aa-a01c-ed2f49bdaef5"
      },
      "source": [
        "df2 = pd.DataFrame(\n",
        "    {'종목' : ['000080', '000890', '005300', '027740', '035810', '136480', '136490'],\n",
        "     '종목명': ['하이트진로', '보해양조', '롯데칠성', '마니커', '이지홀딩스', '하림', '선진'], \n",
        "     '테마' : ['주류', '주류', '주류', '육계', '육계', '육계', '돼지고기']}\n",
        ")\n",
        "df2"
      ],
      "execution_count": null,
      "outputs": [
        {
          "output_type": "execute_result",
          "data": {
            "text/html": [
              "<div>\n",
              "<style scoped>\n",
              "    .dataframe tbody tr th:only-of-type {\n",
              "        vertical-align: middle;\n",
              "    }\n",
              "\n",
              "    .dataframe tbody tr th {\n",
              "        vertical-align: top;\n",
              "    }\n",
              "\n",
              "    .dataframe thead th {\n",
              "        text-align: right;\n",
              "    }\n",
              "</style>\n",
              "<table border=\"1\" class=\"dataframe\">\n",
              "  <thead>\n",
              "    <tr style=\"text-align: right;\">\n",
              "      <th></th>\n",
              "      <th>종목</th>\n",
              "      <th>종목명</th>\n",
              "      <th>테마</th>\n",
              "    </tr>\n",
              "  </thead>\n",
              "  <tbody>\n",
              "    <tr>\n",
              "      <th>0</th>\n",
              "      <td>000080</td>\n",
              "      <td>하이트진로</td>\n",
              "      <td>주류</td>\n",
              "    </tr>\n",
              "    <tr>\n",
              "      <th>1</th>\n",
              "      <td>000890</td>\n",
              "      <td>보해양조</td>\n",
              "      <td>주류</td>\n",
              "    </tr>\n",
              "    <tr>\n",
              "      <th>2</th>\n",
              "      <td>005300</td>\n",
              "      <td>롯데칠성</td>\n",
              "      <td>주류</td>\n",
              "    </tr>\n",
              "    <tr>\n",
              "      <th>3</th>\n",
              "      <td>027740</td>\n",
              "      <td>마니커</td>\n",
              "      <td>육계</td>\n",
              "    </tr>\n",
              "    <tr>\n",
              "      <th>4</th>\n",
              "      <td>035810</td>\n",
              "      <td>이지홀딩스</td>\n",
              "      <td>육계</td>\n",
              "    </tr>\n",
              "    <tr>\n",
              "      <th>5</th>\n",
              "      <td>136480</td>\n",
              "      <td>하림</td>\n",
              "      <td>육계</td>\n",
              "    </tr>\n",
              "    <tr>\n",
              "      <th>6</th>\n",
              "      <td>136490</td>\n",
              "      <td>선진</td>\n",
              "      <td>돼지고기</td>\n",
              "    </tr>\n",
              "  </tbody>\n",
              "</table>\n",
              "</div>"
            ],
            "text/plain": [
              "       종목    종목명    테마\n",
              "0  000080  하이트진로    주류\n",
              "1  000890   보해양조    주류\n",
              "2  005300   롯데칠성    주류\n",
              "3  027740    마니커    육계\n",
              "4  035810  이지홀딩스    육계\n",
              "5  136480     하림    육계\n",
              "6  136490     선진  돼지고기"
            ]
          },
          "metadata": {
            "tags": []
          },
          "execution_count": 23
        }
      ]
    },
    {
      "cell_type": "code",
      "metadata": {
        "id": "37EC0omF__uL",
        "colab": {
          "base_uri": "https://localhost:8080/",
          "height": 266
        },
        "outputId": "3eccddef-f609-4806-97d6-b38ff7494f6a"
      },
      "source": [
        "pd.concat([df, df2], axis = 1)"
      ],
      "execution_count": null,
      "outputs": [
        {
          "output_type": "execute_result",
          "data": {
            "text/html": [
              "<div>\n",
              "<style scoped>\n",
              "    .dataframe tbody tr th:only-of-type {\n",
              "        vertical-align: middle;\n",
              "    }\n",
              "\n",
              "    .dataframe tbody tr th {\n",
              "        vertical-align: top;\n",
              "    }\n",
              "\n",
              "    .dataframe thead th {\n",
              "        text-align: right;\n",
              "    }\n",
              "</style>\n",
              "<table border=\"1\" class=\"dataframe\">\n",
              "  <thead>\n",
              "    <tr style=\"text-align: right;\">\n",
              "      <th></th>\n",
              "      <th>종목</th>\n",
              "      <th>매출액</th>\n",
              "      <th>순이익률</th>\n",
              "      <th>종목</th>\n",
              "      <th>종목명</th>\n",
              "      <th>테마</th>\n",
              "    </tr>\n",
              "  </thead>\n",
              "  <tbody>\n",
              "    <tr>\n",
              "      <th>0</th>\n",
              "      <td>000080</td>\n",
              "      <td>6,243</td>\n",
              "      <td>5.17</td>\n",
              "      <td>000080</td>\n",
              "      <td>하이트진로</td>\n",
              "      <td>주류</td>\n",
              "    </tr>\n",
              "    <tr>\n",
              "      <th>1</th>\n",
              "      <td>000890</td>\n",
              "      <td>205</td>\n",
              "      <td>2.15</td>\n",
              "      <td>000890</td>\n",
              "      <td>보해양조</td>\n",
              "      <td>주류</td>\n",
              "    </tr>\n",
              "    <tr>\n",
              "      <th>2</th>\n",
              "      <td>005300</td>\n",
              "      <td>5,980</td>\n",
              "      <td>2.59</td>\n",
              "      <td>005300</td>\n",
              "      <td>롯데칠성</td>\n",
              "      <td>주류</td>\n",
              "    </tr>\n",
              "    <tr>\n",
              "      <th>3</th>\n",
              "      <td>027740</td>\n",
              "      <td>521</td>\n",
              "      <td>-19.95</td>\n",
              "      <td>027740</td>\n",
              "      <td>마니커</td>\n",
              "      <td>육계</td>\n",
              "    </tr>\n",
              "    <tr>\n",
              "      <th>4</th>\n",
              "      <td>035810</td>\n",
              "      <td>4,108</td>\n",
              "      <td>16.00</td>\n",
              "      <td>035810</td>\n",
              "      <td>이지홀딩스</td>\n",
              "      <td>육계</td>\n",
              "    </tr>\n",
              "    <tr>\n",
              "      <th>5</th>\n",
              "      <td>136480</td>\n",
              "      <td>2,613</td>\n",
              "      <td>2.51</td>\n",
              "      <td>136480</td>\n",
              "      <td>하림</td>\n",
              "      <td>육계</td>\n",
              "    </tr>\n",
              "    <tr>\n",
              "      <th>6</th>\n",
              "      <td>NaN</td>\n",
              "      <td>NaN</td>\n",
              "      <td>NaN</td>\n",
              "      <td>136490</td>\n",
              "      <td>선진</td>\n",
              "      <td>돼지고기</td>\n",
              "    </tr>\n",
              "  </tbody>\n",
              "</table>\n",
              "</div>"
            ],
            "text/plain": [
              "       종목    매출액    순이익률      종목    종목명    테마\n",
              "0  000080  6,243    5.17  000080  하이트진로    주류\n",
              "1  000890    205    2.15  000890   보해양조    주류\n",
              "2  005300  5,980    2.59  005300   롯데칠성    주류\n",
              "3  027740    521  -19.95  027740    마니커    육계\n",
              "4  035810  4,108   16.00  035810  이지홀딩스    육계\n",
              "5  136480  2,613    2.51  136480     하림    육계\n",
              "6     NaN    NaN     NaN  136490     선진  돼지고기"
            ]
          },
          "metadata": {
            "tags": []
          },
          "execution_count": 24
        }
      ]
    },
    {
      "cell_type": "markdown",
      "metadata": {
        "id": "l8ABeYHeevoe"
      },
      "source": [
        "종목이라는 column은 중복되어 처리가 되어 있으며, 데이터가 비어있는 부분 (**선진**)도 있습니다.\n",
        "\n",
        "물론 잘라내고 붙이는 방법도 있겠지만 조금 더 간편한 방법인 Merge를 시도해 볼 수 있을 것 입니다. \n",
        "\n",
        "<https://pandas.pydata.org/pandas-docs/stable/reference/api/pandas.DataFrame.merge.html> 를 참조하세요\n",
        "\n",
        "```python\n",
        "df.merge(\"붙일 내용\", how = \"(방법)\", on =\"(기준 feature)\")\n",
        "```"
      ]
    },
    {
      "cell_type": "code",
      "metadata": {
        "id": "3bA0a9PeCdBX",
        "colab": {
          "base_uri": "https://localhost:8080/",
          "height": 235
        },
        "outputId": "e41f2298-02f0-4340-92b0-11d4a53eb382"
      },
      "source": [
        "df = df.merge(df2, how = 'inner', on = '종목')\n",
        "df"
      ],
      "execution_count": null,
      "outputs": [
        {
          "output_type": "execute_result",
          "data": {
            "text/html": [
              "<div>\n",
              "<style scoped>\n",
              "    .dataframe tbody tr th:only-of-type {\n",
              "        vertical-align: middle;\n",
              "    }\n",
              "\n",
              "    .dataframe tbody tr th {\n",
              "        vertical-align: top;\n",
              "    }\n",
              "\n",
              "    .dataframe thead th {\n",
              "        text-align: right;\n",
              "    }\n",
              "</style>\n",
              "<table border=\"1\" class=\"dataframe\">\n",
              "  <thead>\n",
              "    <tr style=\"text-align: right;\">\n",
              "      <th></th>\n",
              "      <th>종목</th>\n",
              "      <th>매출액</th>\n",
              "      <th>순이익률</th>\n",
              "      <th>종목명</th>\n",
              "      <th>테마</th>\n",
              "    </tr>\n",
              "  </thead>\n",
              "  <tbody>\n",
              "    <tr>\n",
              "      <th>0</th>\n",
              "      <td>000080</td>\n",
              "      <td>6,243</td>\n",
              "      <td>5.17</td>\n",
              "      <td>하이트진로</td>\n",
              "      <td>주류</td>\n",
              "    </tr>\n",
              "    <tr>\n",
              "      <th>1</th>\n",
              "      <td>000890</td>\n",
              "      <td>205</td>\n",
              "      <td>2.15</td>\n",
              "      <td>보해양조</td>\n",
              "      <td>주류</td>\n",
              "    </tr>\n",
              "    <tr>\n",
              "      <th>2</th>\n",
              "      <td>005300</td>\n",
              "      <td>5,980</td>\n",
              "      <td>2.59</td>\n",
              "      <td>롯데칠성</td>\n",
              "      <td>주류</td>\n",
              "    </tr>\n",
              "    <tr>\n",
              "      <th>3</th>\n",
              "      <td>027740</td>\n",
              "      <td>521</td>\n",
              "      <td>-19.95</td>\n",
              "      <td>마니커</td>\n",
              "      <td>육계</td>\n",
              "    </tr>\n",
              "    <tr>\n",
              "      <th>4</th>\n",
              "      <td>035810</td>\n",
              "      <td>4,108</td>\n",
              "      <td>16.00</td>\n",
              "      <td>이지홀딩스</td>\n",
              "      <td>육계</td>\n",
              "    </tr>\n",
              "    <tr>\n",
              "      <th>5</th>\n",
              "      <td>136480</td>\n",
              "      <td>2,613</td>\n",
              "      <td>2.51</td>\n",
              "      <td>하림</td>\n",
              "      <td>육계</td>\n",
              "    </tr>\n",
              "  </tbody>\n",
              "</table>\n",
              "</div>"
            ],
            "text/plain": [
              "       종목    매출액    순이익률    종목명  테마\n",
              "0  000080  6,243    5.17  하이트진로  주류\n",
              "1  000890    205    2.15   보해양조  주류\n",
              "2  005300  5,980    2.59   롯데칠성  주류\n",
              "3  027740    521  -19.95    마니커  육계\n",
              "4  035810  4,108   16.00  이지홀딩스  육계\n",
              "5  136480  2,613    2.51     하림  육계"
            ]
          },
          "metadata": {
            "tags": []
          },
          "execution_count": 25
        }
      ]
    },
    {
      "cell_type": "markdown",
      "metadata": {
        "id": "259BJMJ43Ka5"
      },
      "source": [
        "## Conditioning\n",
        "\n",
        "\n",
        "\n"
      ]
    },
    {
      "cell_type": "markdown",
      "metadata": {
        "id": "_txzKDIWEUoN"
      },
      "source": [
        "### 개요\n",
        "\n",
        "이제, 우리는 다음으로 이런 질문에 대한 답을 찾고 싶어졌습니다.\n",
        "\n",
        "1. 주식 종목들의 평균 순이익률은 얼마일까\n",
        "2. 단, 순이익률이 `-`인 종목은 제외하고 계산\n",
        "3. 추가로 **테마별로**\n",
        "\n",
        "이를 위해서 제일 먼저 해야할 일은 순이익률이 -인 부분을 제외 (혹은 +인 부분을 선택) 일 것입니다.\n",
        "\n",
        "이를 위해서 어떠한 방법으로 `df` 데이터프레임의 부분을 \"선택\"해야할까요? \n",
        "\n",
        "(pandas filter는 더 복잡한 주제입니다)\n",
        "\n",
        "`순이익률 > 0` 에 해당하는 부분을 선택해야 할 겁니다.\n",
        "\n"
      ]
    },
    {
      "cell_type": "code",
      "metadata": {
        "id": "I6r8i8tN1H1S",
        "colab": {
          "base_uri": "https://localhost:8080/",
          "height": 204
        },
        "outputId": "f33a713e-f3aa-437d-ff16-475bc80b49db"
      },
      "source": [
        "# 데이터프레임 필터링 예시\n",
        "\n",
        "# type cast\n",
        "df['순이익률'] = pd.to_numeric(df['순이익률'])\n",
        "\n",
        "# 필터링 조건 (Condition) 설정\n",
        "condition = (df['순이익률'] > 0) # Type Cast\n",
        "# () 로 씌우는것에 주의\n",
        "\n",
        "## condition 의 값을 출력을 통해 확인해보세요. \n",
        "\n",
        "# [ ] 안에 컨디션을 설정하는 것으로, 컨디션의 값이 *TRUE*로 해당하는 부분의 데이터만 선택 할 수 있습니다.\n",
        "df_subset = df[condition]\n",
        "\n",
        "# 결과물을 확인\n",
        "df_subset"
      ],
      "execution_count": null,
      "outputs": [
        {
          "output_type": "execute_result",
          "data": {
            "text/html": [
              "<div>\n",
              "<style scoped>\n",
              "    .dataframe tbody tr th:only-of-type {\n",
              "        vertical-align: middle;\n",
              "    }\n",
              "\n",
              "    .dataframe tbody tr th {\n",
              "        vertical-align: top;\n",
              "    }\n",
              "\n",
              "    .dataframe thead th {\n",
              "        text-align: right;\n",
              "    }\n",
              "</style>\n",
              "<table border=\"1\" class=\"dataframe\">\n",
              "  <thead>\n",
              "    <tr style=\"text-align: right;\">\n",
              "      <th></th>\n",
              "      <th>종목</th>\n",
              "      <th>매출액</th>\n",
              "      <th>순이익률</th>\n",
              "      <th>종목명</th>\n",
              "      <th>테마</th>\n",
              "    </tr>\n",
              "  </thead>\n",
              "  <tbody>\n",
              "    <tr>\n",
              "      <th>0</th>\n",
              "      <td>000080</td>\n",
              "      <td>6,243</td>\n",
              "      <td>5.17</td>\n",
              "      <td>하이트진로</td>\n",
              "      <td>주류</td>\n",
              "    </tr>\n",
              "    <tr>\n",
              "      <th>1</th>\n",
              "      <td>000890</td>\n",
              "      <td>205</td>\n",
              "      <td>2.15</td>\n",
              "      <td>보해양조</td>\n",
              "      <td>주류</td>\n",
              "    </tr>\n",
              "    <tr>\n",
              "      <th>2</th>\n",
              "      <td>005300</td>\n",
              "      <td>5,980</td>\n",
              "      <td>2.59</td>\n",
              "      <td>롯데칠성</td>\n",
              "      <td>주류</td>\n",
              "    </tr>\n",
              "    <tr>\n",
              "      <th>4</th>\n",
              "      <td>035810</td>\n",
              "      <td>4,108</td>\n",
              "      <td>16.00</td>\n",
              "      <td>이지홀딩스</td>\n",
              "      <td>육계</td>\n",
              "    </tr>\n",
              "    <tr>\n",
              "      <th>5</th>\n",
              "      <td>136480</td>\n",
              "      <td>2,613</td>\n",
              "      <td>2.51</td>\n",
              "      <td>하림</td>\n",
              "      <td>육계</td>\n",
              "    </tr>\n",
              "  </tbody>\n",
              "</table>\n",
              "</div>"
            ],
            "text/plain": [
              "       종목    매출액   순이익률    종목명  테마\n",
              "0  000080  6,243   5.17  하이트진로  주류\n",
              "1  000890    205   2.15   보해양조  주류\n",
              "2  005300  5,980   2.59   롯데칠성  주류\n",
              "4  035810  4,108  16.00  이지홀딩스  육계\n",
              "5  136480  2,613   2.51     하림  육계"
            ]
          },
          "metadata": {
            "tags": []
          },
          "execution_count": 26
        }
      ]
    },
    {
      "cell_type": "markdown",
      "metadata": {
        "id": "Ao6YvxMJGPC8"
      },
      "source": [
        "`&(and)` 와 `|(or)`를 사용하여 여러개의 condition을 동시에 조절 할 수 있습니다."
      ]
    },
    {
      "cell_type": "code",
      "metadata": {
        "id": "J6X4OQNG5L_4",
        "colab": {
          "base_uri": "https://localhost:8080/",
          "height": 173
        },
        "outputId": "e1edcbd2-788e-4299-a630-79a9cc2d3017"
      },
      "source": [
        "condition = ( (df['순이익률'] > 0) & (df['순이익률'] < 10))\n",
        "df_subset2 = df[condition]\n",
        "\n",
        "df_subset2"
      ],
      "execution_count": null,
      "outputs": [
        {
          "output_type": "execute_result",
          "data": {
            "text/html": [
              "<div>\n",
              "<style scoped>\n",
              "    .dataframe tbody tr th:only-of-type {\n",
              "        vertical-align: middle;\n",
              "    }\n",
              "\n",
              "    .dataframe tbody tr th {\n",
              "        vertical-align: top;\n",
              "    }\n",
              "\n",
              "    .dataframe thead th {\n",
              "        text-align: right;\n",
              "    }\n",
              "</style>\n",
              "<table border=\"1\" class=\"dataframe\">\n",
              "  <thead>\n",
              "    <tr style=\"text-align: right;\">\n",
              "      <th></th>\n",
              "      <th>종목</th>\n",
              "      <th>매출액</th>\n",
              "      <th>순이익률</th>\n",
              "      <th>종목명</th>\n",
              "      <th>테마</th>\n",
              "    </tr>\n",
              "  </thead>\n",
              "  <tbody>\n",
              "    <tr>\n",
              "      <th>0</th>\n",
              "      <td>000080</td>\n",
              "      <td>6,243</td>\n",
              "      <td>5.17</td>\n",
              "      <td>하이트진로</td>\n",
              "      <td>주류</td>\n",
              "    </tr>\n",
              "    <tr>\n",
              "      <th>1</th>\n",
              "      <td>000890</td>\n",
              "      <td>205</td>\n",
              "      <td>2.15</td>\n",
              "      <td>보해양조</td>\n",
              "      <td>주류</td>\n",
              "    </tr>\n",
              "    <tr>\n",
              "      <th>2</th>\n",
              "      <td>005300</td>\n",
              "      <td>5,980</td>\n",
              "      <td>2.59</td>\n",
              "      <td>롯데칠성</td>\n",
              "      <td>주류</td>\n",
              "    </tr>\n",
              "    <tr>\n",
              "      <th>5</th>\n",
              "      <td>136480</td>\n",
              "      <td>2,613</td>\n",
              "      <td>2.51</td>\n",
              "      <td>하림</td>\n",
              "      <td>육계</td>\n",
              "    </tr>\n",
              "  </tbody>\n",
              "</table>\n",
              "</div>"
            ],
            "text/plain": [
              "       종목    매출액  순이익률    종목명  테마\n",
              "0  000080  6,243  5.17  하이트진로  주류\n",
              "1  000890    205  2.15   보해양조  주류\n",
              "2  005300  5,980  2.59   롯데칠성  주류\n",
              "5  136480  2,613  2.51     하림  육계"
            ]
          },
          "metadata": {
            "tags": []
          },
          "execution_count": 27
        }
      ]
    },
    {
      "cell_type": "markdown",
      "metadata": {
        "id": "rnvDMTNiGmBo"
      },
      "source": [
        "추가로, 매번 컨디션을 \"condition\"이라는 변수에 매번 설정할 필요는 없으며,\n",
        "바로 사용 하는 것도 가능합니다.\n",
        "\n",
        "```python\n",
        "df_subset2 = df[( (df['순이익률'] > 0) & (df['순이익률'] < 10))]\n",
        "```"
      ]
    },
    {
      "cell_type": "markdown",
      "metadata": {
        "id": "1Bs_N9QnjBhz"
      },
      "source": [
        "### isin\n",
        "\n",
        "이번엔 조금 tricky한 condition을 설정해보겠습니다.\n",
        "\n",
        "순이익률 처럼 숫자형(numerical) 값을 기준으로 사용하는 것이 아닌, \n",
        "\n",
        "범주형 (categorical) 데이터를 기준으로 conditioning을 하려는 경우는 어떻게 해야할까요??\n",
        "\n",
        "<https://pandas.pydata.org/pandas-docs/stable/reference/api/pandas.DataFrame.isin.html>\n",
        "\n",
        "🔥 종목코드에 8이 들어간과 같은 conditioning은 어떻게 해야할까요?"
      ]
    },
    {
      "cell_type": "code",
      "metadata": {
        "id": "Xqqkvhs4Io1-",
        "colab": {
          "base_uri": "https://localhost:8080/",
          "height": 142
        },
        "outputId": "aac4c59f-9b0b-464a-8c3b-f3daf317f206"
      },
      "source": [
        "df_subset[df_subset['테마'].isin(['주류'])] "
      ],
      "execution_count": null,
      "outputs": [
        {
          "output_type": "execute_result",
          "data": {
            "text/html": [
              "<div>\n",
              "<style scoped>\n",
              "    .dataframe tbody tr th:only-of-type {\n",
              "        vertical-align: middle;\n",
              "    }\n",
              "\n",
              "    .dataframe tbody tr th {\n",
              "        vertical-align: top;\n",
              "    }\n",
              "\n",
              "    .dataframe thead th {\n",
              "        text-align: right;\n",
              "    }\n",
              "</style>\n",
              "<table border=\"1\" class=\"dataframe\">\n",
              "  <thead>\n",
              "    <tr style=\"text-align: right;\">\n",
              "      <th></th>\n",
              "      <th>종목</th>\n",
              "      <th>매출액</th>\n",
              "      <th>순이익률</th>\n",
              "      <th>종목명</th>\n",
              "      <th>테마</th>\n",
              "    </tr>\n",
              "  </thead>\n",
              "  <tbody>\n",
              "    <tr>\n",
              "      <th>0</th>\n",
              "      <td>000080</td>\n",
              "      <td>6,243</td>\n",
              "      <td>5.17</td>\n",
              "      <td>하이트진로</td>\n",
              "      <td>주류</td>\n",
              "    </tr>\n",
              "    <tr>\n",
              "      <th>1</th>\n",
              "      <td>000890</td>\n",
              "      <td>205</td>\n",
              "      <td>2.15</td>\n",
              "      <td>보해양조</td>\n",
              "      <td>주류</td>\n",
              "    </tr>\n",
              "    <tr>\n",
              "      <th>2</th>\n",
              "      <td>005300</td>\n",
              "      <td>5,980</td>\n",
              "      <td>2.59</td>\n",
              "      <td>롯데칠성</td>\n",
              "      <td>주류</td>\n",
              "    </tr>\n",
              "  </tbody>\n",
              "</table>\n",
              "</div>"
            ],
            "text/plain": [
              "       종목    매출액  순이익률    종목명  테마\n",
              "0  000080  6,243  5.17  하이트진로  주류\n",
              "1  000890    205  2.15   보해양조  주류\n",
              "2  005300  5,980  2.59   롯데칠성  주류"
            ]
          },
          "metadata": {
            "tags": []
          },
          "execution_count": 28
        }
      ]
    },
    {
      "cell_type": "code",
      "metadata": {
        "colab": {
          "base_uri": "https://localhost:8080/",
          "height": 142
        },
        "id": "4DBMr3Hc0M3I",
        "outputId": "b33c37ef-b7f1-4908-c5b2-be8ae8d20f23"
      },
      "source": [
        "df[(df['테마'] == '주류')]"
      ],
      "execution_count": null,
      "outputs": [
        {
          "output_type": "execute_result",
          "data": {
            "text/html": [
              "<div>\n",
              "<style scoped>\n",
              "    .dataframe tbody tr th:only-of-type {\n",
              "        vertical-align: middle;\n",
              "    }\n",
              "\n",
              "    .dataframe tbody tr th {\n",
              "        vertical-align: top;\n",
              "    }\n",
              "\n",
              "    .dataframe thead th {\n",
              "        text-align: right;\n",
              "    }\n",
              "</style>\n",
              "<table border=\"1\" class=\"dataframe\">\n",
              "  <thead>\n",
              "    <tr style=\"text-align: right;\">\n",
              "      <th></th>\n",
              "      <th>종목</th>\n",
              "      <th>매출액</th>\n",
              "      <th>순이익률</th>\n",
              "      <th>종목명</th>\n",
              "      <th>테마</th>\n",
              "    </tr>\n",
              "  </thead>\n",
              "  <tbody>\n",
              "    <tr>\n",
              "      <th>0</th>\n",
              "      <td>000080</td>\n",
              "      <td>6,243</td>\n",
              "      <td>5.17</td>\n",
              "      <td>하이트진로</td>\n",
              "      <td>주류</td>\n",
              "    </tr>\n",
              "    <tr>\n",
              "      <th>1</th>\n",
              "      <td>000890</td>\n",
              "      <td>205</td>\n",
              "      <td>2.15</td>\n",
              "      <td>보해양조</td>\n",
              "      <td>주류</td>\n",
              "    </tr>\n",
              "    <tr>\n",
              "      <th>2</th>\n",
              "      <td>005300</td>\n",
              "      <td>5,980</td>\n",
              "      <td>2.59</td>\n",
              "      <td>롯데칠성</td>\n",
              "      <td>주류</td>\n",
              "    </tr>\n",
              "  </tbody>\n",
              "</table>\n",
              "</div>"
            ],
            "text/plain": [
              "       종목    매출액  순이익률    종목명  테마\n",
              "0  000080  6,243  5.17  하이트진로  주류\n",
              "1  000890    205  2.15   보해양조  주류\n",
              "2  005300  5,980  2.59   롯데칠성  주류"
            ]
          },
          "metadata": {
            "tags": []
          },
          "execution_count": 29
        }
      ]
    },
    {
      "cell_type": "markdown",
      "metadata": {
        "id": "UchPLXt8G_tp"
      },
      "source": [
        "## Groupby"
      ]
    },
    {
      "cell_type": "markdown",
      "metadata": {
        "id": "gLDN1ueb8_pY"
      },
      "source": [
        "> 1. 주식 종목들의 평균 순이익률은 얼마일까\n",
        "> 2. 단, 순이익률이 `-`인 종목은 제외하고 계산\n",
        "> 3. 추가로 **테마별로**\n",
        "\n",
        "원했던 결과에 거의 도달하였습니다, 이제 테마에 따라서 평균을 구할 시간입니다.\n",
        "\n",
        "<https://pandas.pydata.org/pandas-docs/stable/reference/api/pandas.DataFrame.groupby.html>를 참조하세요"
      ]
    },
    {
      "cell_type": "code",
      "metadata": {
        "id": "Hy0fJFKn8--C",
        "colab": {
          "base_uri": "https://localhost:8080/"
        },
        "outputId": "62feb52f-1ec3-41e7-f94a-3f66e94ccd82"
      },
      "source": [
        "df_subset.groupby('테마').순이익률.mean()"
      ],
      "execution_count": null,
      "outputs": [
        {
          "output_type": "execute_result",
          "data": {
            "text/plain": [
              "테마\n",
              "육계    9.255000\n",
              "주류    3.303333\n",
              "Name: 순이익률, dtype: float64"
            ]
          },
          "metadata": {
            "tags": []
          },
          "execution_count": 30
        }
      ]
    },
    {
      "cell_type": "markdown",
      "metadata": {
        "id": "Pv0PQWlyH66-"
      },
      "source": [
        "**?? `df_subset.groupby('테마').mean()`은 어떤 결과를 내며 그 이유는 무엇인가요?**"
      ]
    },
    {
      "cell_type": "code",
      "metadata": {
        "colab": {
          "base_uri": "https://localhost:8080/",
          "height": 142
        },
        "id": "0jWodb9e2pZB",
        "outputId": "dc736d40-a41f-41e8-9668-e5ef3de935f7"
      },
      "source": [
        "df_subset.groupby('테마').mean()"
      ],
      "execution_count": null,
      "outputs": [
        {
          "output_type": "execute_result",
          "data": {
            "text/html": [
              "<div>\n",
              "<style scoped>\n",
              "    .dataframe tbody tr th:only-of-type {\n",
              "        vertical-align: middle;\n",
              "    }\n",
              "\n",
              "    .dataframe tbody tr th {\n",
              "        vertical-align: top;\n",
              "    }\n",
              "\n",
              "    .dataframe thead th {\n",
              "        text-align: right;\n",
              "    }\n",
              "</style>\n",
              "<table border=\"1\" class=\"dataframe\">\n",
              "  <thead>\n",
              "    <tr style=\"text-align: right;\">\n",
              "      <th></th>\n",
              "      <th>순이익률</th>\n",
              "    </tr>\n",
              "    <tr>\n",
              "      <th>테마</th>\n",
              "      <th></th>\n",
              "    </tr>\n",
              "  </thead>\n",
              "  <tbody>\n",
              "    <tr>\n",
              "      <th>육계</th>\n",
              "      <td>9.255000</td>\n",
              "    </tr>\n",
              "    <tr>\n",
              "      <th>주류</th>\n",
              "      <td>3.303333</td>\n",
              "    </tr>\n",
              "  </tbody>\n",
              "</table>\n",
              "</div>"
            ],
            "text/plain": [
              "        순이익률\n",
              "테마          \n",
              "육계  9.255000\n",
              "주류  3.303333"
            ]
          },
          "metadata": {
            "tags": []
          },
          "execution_count": 31
        }
      ]
    },
    {
      "cell_type": "code",
      "metadata": {
        "colab": {
          "base_uri": "https://localhost:8080/",
          "height": 306
        },
        "id": "ILWw-byZ2XnO",
        "outputId": "632020ad-3abb-4a56-ce99-eb74960bf8c8"
      },
      "source": [
        "def toInt(string):\n",
        "    return int(string.replace(',',''))\n",
        "\n",
        "df_subset['매출액'] = df_subset['매출액'].apply(toInt)\n",
        "df_subset"
      ],
      "execution_count": null,
      "outputs": [
        {
          "output_type": "stream",
          "text": [
            "/usr/local/lib/python3.6/dist-packages/ipykernel_launcher.py:4: SettingWithCopyWarning: \n",
            "A value is trying to be set on a copy of a slice from a DataFrame.\n",
            "Try using .loc[row_indexer,col_indexer] = value instead\n",
            "\n",
            "See the caveats in the documentation: https://pandas.pydata.org/pandas-docs/stable/user_guide/indexing.html#returning-a-view-versus-a-copy\n",
            "  after removing the cwd from sys.path.\n"
          ],
          "name": "stderr"
        },
        {
          "output_type": "execute_result",
          "data": {
            "text/html": [
              "<div>\n",
              "<style scoped>\n",
              "    .dataframe tbody tr th:only-of-type {\n",
              "        vertical-align: middle;\n",
              "    }\n",
              "\n",
              "    .dataframe tbody tr th {\n",
              "        vertical-align: top;\n",
              "    }\n",
              "\n",
              "    .dataframe thead th {\n",
              "        text-align: right;\n",
              "    }\n",
              "</style>\n",
              "<table border=\"1\" class=\"dataframe\">\n",
              "  <thead>\n",
              "    <tr style=\"text-align: right;\">\n",
              "      <th></th>\n",
              "      <th>종목</th>\n",
              "      <th>매출액</th>\n",
              "      <th>순이익률</th>\n",
              "      <th>종목명</th>\n",
              "      <th>테마</th>\n",
              "    </tr>\n",
              "  </thead>\n",
              "  <tbody>\n",
              "    <tr>\n",
              "      <th>0</th>\n",
              "      <td>000080</td>\n",
              "      <td>6243</td>\n",
              "      <td>5.17</td>\n",
              "      <td>하이트진로</td>\n",
              "      <td>주류</td>\n",
              "    </tr>\n",
              "    <tr>\n",
              "      <th>1</th>\n",
              "      <td>000890</td>\n",
              "      <td>205</td>\n",
              "      <td>2.15</td>\n",
              "      <td>보해양조</td>\n",
              "      <td>주류</td>\n",
              "    </tr>\n",
              "    <tr>\n",
              "      <th>2</th>\n",
              "      <td>005300</td>\n",
              "      <td>5980</td>\n",
              "      <td>2.59</td>\n",
              "      <td>롯데칠성</td>\n",
              "      <td>주류</td>\n",
              "    </tr>\n",
              "    <tr>\n",
              "      <th>4</th>\n",
              "      <td>035810</td>\n",
              "      <td>4108</td>\n",
              "      <td>16.00</td>\n",
              "      <td>이지홀딩스</td>\n",
              "      <td>육계</td>\n",
              "    </tr>\n",
              "    <tr>\n",
              "      <th>5</th>\n",
              "      <td>136480</td>\n",
              "      <td>2613</td>\n",
              "      <td>2.51</td>\n",
              "      <td>하림</td>\n",
              "      <td>육계</td>\n",
              "    </tr>\n",
              "  </tbody>\n",
              "</table>\n",
              "</div>"
            ],
            "text/plain": [
              "       종목   매출액   순이익률    종목명  테마\n",
              "0  000080  6243   5.17  하이트진로  주류\n",
              "1  000890   205   2.15   보해양조  주류\n",
              "2  005300  5980   2.59   롯데칠성  주류\n",
              "4  035810  4108  16.00  이지홀딩스  육계\n",
              "5  136480  2613   2.51     하림  육계"
            ]
          },
          "metadata": {
            "tags": []
          },
          "execution_count": 32
        }
      ]
    },
    {
      "cell_type": "code",
      "metadata": {
        "colab": {
          "base_uri": "https://localhost:8080/",
          "height": 142
        },
        "id": "mIFClMM91ZYr",
        "outputId": "ceb5b9ad-d424-4b80-cb5f-c15ce8c44f15"
      },
      "source": [
        "df_subset.groupby('테마').mean()"
      ],
      "execution_count": null,
      "outputs": [
        {
          "output_type": "execute_result",
          "data": {
            "text/html": [
              "<div>\n",
              "<style scoped>\n",
              "    .dataframe tbody tr th:only-of-type {\n",
              "        vertical-align: middle;\n",
              "    }\n",
              "\n",
              "    .dataframe tbody tr th {\n",
              "        vertical-align: top;\n",
              "    }\n",
              "\n",
              "    .dataframe thead th {\n",
              "        text-align: right;\n",
              "    }\n",
              "</style>\n",
              "<table border=\"1\" class=\"dataframe\">\n",
              "  <thead>\n",
              "    <tr style=\"text-align: right;\">\n",
              "      <th></th>\n",
              "      <th>매출액</th>\n",
              "      <th>순이익률</th>\n",
              "    </tr>\n",
              "    <tr>\n",
              "      <th>테마</th>\n",
              "      <th></th>\n",
              "      <th></th>\n",
              "    </tr>\n",
              "  </thead>\n",
              "  <tbody>\n",
              "    <tr>\n",
              "      <th>육계</th>\n",
              "      <td>3360.500000</td>\n",
              "      <td>9.255000</td>\n",
              "    </tr>\n",
              "    <tr>\n",
              "      <th>주류</th>\n",
              "      <td>4142.666667</td>\n",
              "      <td>3.303333</td>\n",
              "    </tr>\n",
              "  </tbody>\n",
              "</table>\n",
              "</div>"
            ],
            "text/plain": [
              "            매출액      순이익률\n",
              "테마                       \n",
              "육계  3360.500000  9.255000\n",
              "주류  4142.666667  3.303333"
            ]
          },
          "metadata": {
            "tags": []
          },
          "execution_count": 33
        }
      ]
    },
    {
      "cell_type": "markdown",
      "metadata": {
        "id": "_2C7qFHrJ7DH"
      },
      "source": [
        "## pandas styling\n",
        "\n",
        "같은 데이터라면 보기 좋은 그림이 더 설득하기엔 좋겠죠?!\n",
        "\n",
        "아래와 같은 **잡기술** 은 몰라도 손해는 없지만, 알아두면 좋습니다.\n",
        "\n",
        "(참고) 다음은 github 에서는 작동하지 않습니다.\n",
        "\n",
        "구체적인 원리는 `html/css`에 대한 이해가 많이 필요하지만, 일단은 이런 방법도 있다 정도를 알아두시면 됩니다.\n"
      ]
    },
    {
      "cell_type": "code",
      "metadata": {
        "id": "P2hFrFLrKIPc",
        "colab": {
          "base_uri": "https://localhost:8080/",
          "height": 166
        },
        "outputId": "3e8987e2-a05c-4c5f-9e10-be72a76a973e"
      },
      "source": [
        "def coloring_text(val):\n",
        "  if val > 0:\n",
        "    color = '#1e3799'\n",
        "  else:\n",
        "    color = '#eb2f06'\n",
        "  return 'color: %s' % color\n",
        "\n",
        "df[['순이익률']].style.applymap(coloring_text)"
      ],
      "execution_count": null,
      "outputs": [
        {
          "output_type": "execute_result",
          "data": {
            "text/html": [
              "<style  type=\"text/css\" >\n",
              "#T_5d2ab630_6053_11eb_9a71_0242ac1c0002row0_col0,#T_5d2ab630_6053_11eb_9a71_0242ac1c0002row1_col0,#T_5d2ab630_6053_11eb_9a71_0242ac1c0002row2_col0,#T_5d2ab630_6053_11eb_9a71_0242ac1c0002row4_col0,#T_5d2ab630_6053_11eb_9a71_0242ac1c0002row5_col0{\n",
              "            color:  #1e3799;\n",
              "        }#T_5d2ab630_6053_11eb_9a71_0242ac1c0002row3_col0{\n",
              "            color:  #eb2f06;\n",
              "        }</style><table id=\"T_5d2ab630_6053_11eb_9a71_0242ac1c0002\" ><thead>    <tr>        <th class=\"blank level0\" ></th>        <th class=\"col_heading level0 col0\" >순이익률</th>    </tr></thead><tbody>\n",
              "                <tr>\n",
              "                        <th id=\"T_5d2ab630_6053_11eb_9a71_0242ac1c0002level0_row0\" class=\"row_heading level0 row0\" >0</th>\n",
              "                        <td id=\"T_5d2ab630_6053_11eb_9a71_0242ac1c0002row0_col0\" class=\"data row0 col0\" >5.170000</td>\n",
              "            </tr>\n",
              "            <tr>\n",
              "                        <th id=\"T_5d2ab630_6053_11eb_9a71_0242ac1c0002level0_row1\" class=\"row_heading level0 row1\" >1</th>\n",
              "                        <td id=\"T_5d2ab630_6053_11eb_9a71_0242ac1c0002row1_col0\" class=\"data row1 col0\" >2.150000</td>\n",
              "            </tr>\n",
              "            <tr>\n",
              "                        <th id=\"T_5d2ab630_6053_11eb_9a71_0242ac1c0002level0_row2\" class=\"row_heading level0 row2\" >2</th>\n",
              "                        <td id=\"T_5d2ab630_6053_11eb_9a71_0242ac1c0002row2_col0\" class=\"data row2 col0\" >2.590000</td>\n",
              "            </tr>\n",
              "            <tr>\n",
              "                        <th id=\"T_5d2ab630_6053_11eb_9a71_0242ac1c0002level0_row3\" class=\"row_heading level0 row3\" >3</th>\n",
              "                        <td id=\"T_5d2ab630_6053_11eb_9a71_0242ac1c0002row3_col0\" class=\"data row3 col0\" >-19.950000</td>\n",
              "            </tr>\n",
              "            <tr>\n",
              "                        <th id=\"T_5d2ab630_6053_11eb_9a71_0242ac1c0002level0_row4\" class=\"row_heading level0 row4\" >4</th>\n",
              "                        <td id=\"T_5d2ab630_6053_11eb_9a71_0242ac1c0002row4_col0\" class=\"data row4 col0\" >16.000000</td>\n",
              "            </tr>\n",
              "            <tr>\n",
              "                        <th id=\"T_5d2ab630_6053_11eb_9a71_0242ac1c0002level0_row5\" class=\"row_heading level0 row5\" >5</th>\n",
              "                        <td id=\"T_5d2ab630_6053_11eb_9a71_0242ac1c0002row5_col0\" class=\"data row5 col0\" >2.510000</td>\n",
              "            </tr>\n",
              "    </tbody></table>"
            ],
            "text/plain": [
              "<pandas.io.formats.style.Styler at 0x7fb203ceea90>"
            ]
          },
          "metadata": {
            "tags": []
          },
          "execution_count": 34
        }
      ]
    },
    {
      "cell_type": "code",
      "metadata": {
        "id": "HuX2ej8MKtFQ",
        "colab": {
          "base_uri": "https://localhost:8080/",
          "height": 166
        },
        "outputId": "4240ba06-7a78-4cb3-ef9f-b4b4224c2919"
      },
      "source": [
        "df.style.set_table_styles(\n",
        "    [\n",
        "     {'selector': 'th','props': [('background', '#4000c7'), ('color', '#FFFFFF') ]},\n",
        "     {'selector': 'tr:nth-of-type(odd)', 'props': [('background', '#ededed')]}, \n",
        "     {'selector': 'tr:nth-of-type(even)','props': [('background', '#FFFFFF')]},\n",
        "     {'selector': 'tr:hover', 'props': [('background-color', '#00da75')]}\n",
        "     ]\n",
        ")"
      ],
      "execution_count": null,
      "outputs": [
        {
          "output_type": "execute_result",
          "data": {
            "text/html": [
              "<style  type=\"text/css\" >\n",
              "    #T_5d2ca6f2_6053_11eb_9a71_0242ac1c0002 th {\n",
              "          background: #4000c7;\n",
              "          color: #FFFFFF;\n",
              "    }    #T_5d2ca6f2_6053_11eb_9a71_0242ac1c0002 tr:nth-of-type(odd) {\n",
              "          background: #ededed;\n",
              "    }    #T_5d2ca6f2_6053_11eb_9a71_0242ac1c0002 tr:nth-of-type(even) {\n",
              "          background: #FFFFFF;\n",
              "    }    #T_5d2ca6f2_6053_11eb_9a71_0242ac1c0002 tr:hover {\n",
              "          background-color: #00da75;\n",
              "    }</style><table id=\"T_5d2ca6f2_6053_11eb_9a71_0242ac1c0002\" ><thead>    <tr>        <th class=\"blank level0\" ></th>        <th class=\"col_heading level0 col0\" >종목</th>        <th class=\"col_heading level0 col1\" >매출액</th>        <th class=\"col_heading level0 col2\" >순이익률</th>        <th class=\"col_heading level0 col3\" >종목명</th>        <th class=\"col_heading level0 col4\" >테마</th>    </tr></thead><tbody>\n",
              "                <tr>\n",
              "                        <th id=\"T_5d2ca6f2_6053_11eb_9a71_0242ac1c0002level0_row0\" class=\"row_heading level0 row0\" >0</th>\n",
              "                        <td id=\"T_5d2ca6f2_6053_11eb_9a71_0242ac1c0002row0_col0\" class=\"data row0 col0\" >000080</td>\n",
              "                        <td id=\"T_5d2ca6f2_6053_11eb_9a71_0242ac1c0002row0_col1\" class=\"data row0 col1\" >6,243</td>\n",
              "                        <td id=\"T_5d2ca6f2_6053_11eb_9a71_0242ac1c0002row0_col2\" class=\"data row0 col2\" >5.170000</td>\n",
              "                        <td id=\"T_5d2ca6f2_6053_11eb_9a71_0242ac1c0002row0_col3\" class=\"data row0 col3\" >하이트진로</td>\n",
              "                        <td id=\"T_5d2ca6f2_6053_11eb_9a71_0242ac1c0002row0_col4\" class=\"data row0 col4\" >주류</td>\n",
              "            </tr>\n",
              "            <tr>\n",
              "                        <th id=\"T_5d2ca6f2_6053_11eb_9a71_0242ac1c0002level0_row1\" class=\"row_heading level0 row1\" >1</th>\n",
              "                        <td id=\"T_5d2ca6f2_6053_11eb_9a71_0242ac1c0002row1_col0\" class=\"data row1 col0\" >000890</td>\n",
              "                        <td id=\"T_5d2ca6f2_6053_11eb_9a71_0242ac1c0002row1_col1\" class=\"data row1 col1\" >205</td>\n",
              "                        <td id=\"T_5d2ca6f2_6053_11eb_9a71_0242ac1c0002row1_col2\" class=\"data row1 col2\" >2.150000</td>\n",
              "                        <td id=\"T_5d2ca6f2_6053_11eb_9a71_0242ac1c0002row1_col3\" class=\"data row1 col3\" >보해양조</td>\n",
              "                        <td id=\"T_5d2ca6f2_6053_11eb_9a71_0242ac1c0002row1_col4\" class=\"data row1 col4\" >주류</td>\n",
              "            </tr>\n",
              "            <tr>\n",
              "                        <th id=\"T_5d2ca6f2_6053_11eb_9a71_0242ac1c0002level0_row2\" class=\"row_heading level0 row2\" >2</th>\n",
              "                        <td id=\"T_5d2ca6f2_6053_11eb_9a71_0242ac1c0002row2_col0\" class=\"data row2 col0\" >005300</td>\n",
              "                        <td id=\"T_5d2ca6f2_6053_11eb_9a71_0242ac1c0002row2_col1\" class=\"data row2 col1\" >5,980</td>\n",
              "                        <td id=\"T_5d2ca6f2_6053_11eb_9a71_0242ac1c0002row2_col2\" class=\"data row2 col2\" >2.590000</td>\n",
              "                        <td id=\"T_5d2ca6f2_6053_11eb_9a71_0242ac1c0002row2_col3\" class=\"data row2 col3\" >롯데칠성</td>\n",
              "                        <td id=\"T_5d2ca6f2_6053_11eb_9a71_0242ac1c0002row2_col4\" class=\"data row2 col4\" >주류</td>\n",
              "            </tr>\n",
              "            <tr>\n",
              "                        <th id=\"T_5d2ca6f2_6053_11eb_9a71_0242ac1c0002level0_row3\" class=\"row_heading level0 row3\" >3</th>\n",
              "                        <td id=\"T_5d2ca6f2_6053_11eb_9a71_0242ac1c0002row3_col0\" class=\"data row3 col0\" >027740</td>\n",
              "                        <td id=\"T_5d2ca6f2_6053_11eb_9a71_0242ac1c0002row3_col1\" class=\"data row3 col1\" >521</td>\n",
              "                        <td id=\"T_5d2ca6f2_6053_11eb_9a71_0242ac1c0002row3_col2\" class=\"data row3 col2\" >-19.950000</td>\n",
              "                        <td id=\"T_5d2ca6f2_6053_11eb_9a71_0242ac1c0002row3_col3\" class=\"data row3 col3\" >마니커</td>\n",
              "                        <td id=\"T_5d2ca6f2_6053_11eb_9a71_0242ac1c0002row3_col4\" class=\"data row3 col4\" >육계</td>\n",
              "            </tr>\n",
              "            <tr>\n",
              "                        <th id=\"T_5d2ca6f2_6053_11eb_9a71_0242ac1c0002level0_row4\" class=\"row_heading level0 row4\" >4</th>\n",
              "                        <td id=\"T_5d2ca6f2_6053_11eb_9a71_0242ac1c0002row4_col0\" class=\"data row4 col0\" >035810</td>\n",
              "                        <td id=\"T_5d2ca6f2_6053_11eb_9a71_0242ac1c0002row4_col1\" class=\"data row4 col1\" >4,108</td>\n",
              "                        <td id=\"T_5d2ca6f2_6053_11eb_9a71_0242ac1c0002row4_col2\" class=\"data row4 col2\" >16.000000</td>\n",
              "                        <td id=\"T_5d2ca6f2_6053_11eb_9a71_0242ac1c0002row4_col3\" class=\"data row4 col3\" >이지홀딩스</td>\n",
              "                        <td id=\"T_5d2ca6f2_6053_11eb_9a71_0242ac1c0002row4_col4\" class=\"data row4 col4\" >육계</td>\n",
              "            </tr>\n",
              "            <tr>\n",
              "                        <th id=\"T_5d2ca6f2_6053_11eb_9a71_0242ac1c0002level0_row5\" class=\"row_heading level0 row5\" >5</th>\n",
              "                        <td id=\"T_5d2ca6f2_6053_11eb_9a71_0242ac1c0002row5_col0\" class=\"data row5 col0\" >136480</td>\n",
              "                        <td id=\"T_5d2ca6f2_6053_11eb_9a71_0242ac1c0002row5_col1\" class=\"data row5 col1\" >2,613</td>\n",
              "                        <td id=\"T_5d2ca6f2_6053_11eb_9a71_0242ac1c0002row5_col2\" class=\"data row5 col2\" >2.510000</td>\n",
              "                        <td id=\"T_5d2ca6f2_6053_11eb_9a71_0242ac1c0002row5_col3\" class=\"data row5 col3\" >하림</td>\n",
              "                        <td id=\"T_5d2ca6f2_6053_11eb_9a71_0242ac1c0002row5_col4\" class=\"data row5 col4\" >육계</td>\n",
              "            </tr>\n",
              "    </tbody></table>"
            ],
            "text/plain": [
              "<pandas.io.formats.style.Styler at 0x7fb202718358>"
            ]
          },
          "metadata": {
            "tags": []
          },
          "execution_count": 35
        }
      ]
    },
    {
      "cell_type": "markdown",
      "metadata": {
        "id": "xTz5WPngz5BA"
      },
      "source": [
        "# Tidy 데이터"
      ]
    },
    {
      "cell_type": "markdown",
      "metadata": {
        "id": "rUL61OCE06Dd"
      },
      "source": [
        "## 개요\n",
        "\n",
        "데이터 형태 변환의 필요성\n",
        "\n",
        "라이브러리에 따라서 다른 형태의 데이터를 필요로 합니다.\n",
        "\n",
        "예를 들어, 데이터시각화에 쓰이는 Seaborn 라이브러리는 \"Tidy\"한 데이터를 필요로 합니다 (항상 그런 것은 아닙니다).\n"
      ]
    },
    {
      "cell_type": "markdown",
      "metadata": {
        "id": "QcT6AXXIN6Dl"
      },
      "source": [
        "\n",
        "## Tidy Data 란?\n",
        "\n",
        "> X 와 Y, Z에게 A, B라는 약을 투여해서 반응을 알아본다\n",
        "\n",
        "라는 상황을 가정해보겠습니다.\n",
        "\n",
        "<img src='https://i.imgur.com/qCPbHIl.png' width = 600>\n",
        "\n",
        "> 행에는 관측, 열에는 관측에서 표현되는 feature\n",
        "\n",
        "이러한 데이터를 기반으로 실제로 구현, 변환을 해보겠습니다."
      ]
    },
    {
      "cell_type": "code",
      "metadata": {
        "id": "S_b6SOZz091T",
        "colab": {
          "base_uri": "https://localhost:8080/",
          "height": 142
        },
        "outputId": "a106cd6e-aa5d-4db0-cc3e-68002522e9ea"
      },
      "source": [
        "%matplotlib inline\n",
        "import pandas as pd\n",
        "import numpy as np\n",
        "import seaborn as sns\n",
        "\n",
        "table1 = pd.DataFrame(\n",
        "    [[np.nan, 2],\n",
        "     [16,    11], \n",
        "     [3,      1]],\n",
        "    index=['X', 'Y', 'Z'], \n",
        "    columns=['A', 'B'])\n",
        "\n",
        "table1"
      ],
      "execution_count": null,
      "outputs": [
        {
          "output_type": "execute_result",
          "data": {
            "text/html": [
              "<div>\n",
              "<style scoped>\n",
              "    .dataframe tbody tr th:only-of-type {\n",
              "        vertical-align: middle;\n",
              "    }\n",
              "\n",
              "    .dataframe tbody tr th {\n",
              "        vertical-align: top;\n",
              "    }\n",
              "\n",
              "    .dataframe thead th {\n",
              "        text-align: right;\n",
              "    }\n",
              "</style>\n",
              "<table border=\"1\" class=\"dataframe\">\n",
              "  <thead>\n",
              "    <tr style=\"text-align: right;\">\n",
              "      <th></th>\n",
              "      <th>A</th>\n",
              "      <th>B</th>\n",
              "    </tr>\n",
              "  </thead>\n",
              "  <tbody>\n",
              "    <tr>\n",
              "      <th>X</th>\n",
              "      <td>NaN</td>\n",
              "      <td>2</td>\n",
              "    </tr>\n",
              "    <tr>\n",
              "      <th>Y</th>\n",
              "      <td>16.0</td>\n",
              "      <td>11</td>\n",
              "    </tr>\n",
              "    <tr>\n",
              "      <th>Z</th>\n",
              "      <td>3.0</td>\n",
              "      <td>1</td>\n",
              "    </tr>\n",
              "  </tbody>\n",
              "</table>\n",
              "</div>"
            ],
            "text/plain": [
              "      A   B\n",
              "X   NaN   2\n",
              "Y  16.0  11\n",
              "Z   3.0   1"
            ]
          },
          "metadata": {
            "tags": []
          },
          "execution_count": 36
        }
      ]
    },
    {
      "cell_type": "markdown",
      "metadata": {
        "id": "gjEInTFNA54j"
      },
      "source": [
        "table1 은 가상의 실험에 대한 데이터를 **야생에서** 볼 수 있는 `Wide` 한 형태로 제공합니다.\n",
        "\n",
        "이는 `long-form`으로 불리기도 합니다.\n",
        "\n",
        "테이블은 2개의 열과 3개의 행으로 구성되어 있으며 각각 라벨링 되어 있습니다.\n",
        "\n",
        "동일한 데이터를 표현하는 방법으로 많은 방법 들이 있습니다. \n",
        "\n",
        "가령, table2는 table1과 동일한 결과를 보여주지만, 행과 열이 `전치` (transpose) 되어 있어 보이는 레이아웃이 다릅니다."
      ]
    },
    {
      "cell_type": "code",
      "metadata": {
        "id": "kQTFbHJWA_X2",
        "colab": {
          "base_uri": "https://localhost:8080/",
          "height": 111
        },
        "outputId": "80680069-39ac-412a-d360-6b42a48c0779"
      },
      "source": [
        "table2 = table1.T # transpose\n",
        "table2"
      ],
      "execution_count": null,
      "outputs": [
        {
          "output_type": "execute_result",
          "data": {
            "text/html": [
              "<div>\n",
              "<style scoped>\n",
              "    .dataframe tbody tr th:only-of-type {\n",
              "        vertical-align: middle;\n",
              "    }\n",
              "\n",
              "    .dataframe tbody tr th {\n",
              "        vertical-align: top;\n",
              "    }\n",
              "\n",
              "    .dataframe thead th {\n",
              "        text-align: right;\n",
              "    }\n",
              "</style>\n",
              "<table border=\"1\" class=\"dataframe\">\n",
              "  <thead>\n",
              "    <tr style=\"text-align: right;\">\n",
              "      <th></th>\n",
              "      <th>X</th>\n",
              "      <th>Y</th>\n",
              "      <th>Z</th>\n",
              "    </tr>\n",
              "  </thead>\n",
              "  <tbody>\n",
              "    <tr>\n",
              "      <th>A</th>\n",
              "      <td>NaN</td>\n",
              "      <td>16.0</td>\n",
              "      <td>3.0</td>\n",
              "    </tr>\n",
              "    <tr>\n",
              "      <th>B</th>\n",
              "      <td>2.0</td>\n",
              "      <td>11.0</td>\n",
              "      <td>1.0</td>\n",
              "    </tr>\n",
              "  </tbody>\n",
              "</table>\n",
              "</div>"
            ],
            "text/plain": [
              "     X     Y    Z\n",
              "A  NaN  16.0  3.0\n",
              "B  2.0  11.0  1.0"
            ]
          },
          "metadata": {
            "tags": []
          },
          "execution_count": 37
        }
      ]
    },
    {
      "cell_type": "markdown",
      "metadata": {
        "id": "OfCVyRL3BI5h"
      },
      "source": [
        "table3 은 table1을 값과 변수 그리고 관측을 더 명확하게 하기 위해서 다른 방식으로 재정리하였습니다.\n",
        "\n",
        "( 예전에 배웠던 *데이터프레임*을 기억하면 좋습니다. )\n",
        "\n",
        "table3 은 table1의 **tidy** 버전입니다. \n",
        "\n",
        "각 행은 하나의 관측을 의미하며, 한 사람에 대해서 작업물 (column)과 그 결과 값이 포함되어있습니다.\n",
        "\n",
        "| row | column | value |\n",
        "| :-: | :-: | :-: |\n",
        "| X | A | - |\n",
        "| Y | A | 16 |\n",
        "| Z | A | 3 |\n",
        "| X | B | 2 |\n",
        "| Y | B | 11 |\n",
        "| Z | B | 1 |"
      ]
    },
    {
      "cell_type": "markdown",
      "metadata": {
        "id": "9H9XAmbTz5D6"
      },
      "source": [
        "# `.melt()`와 `.pivot_table()`를 사용하여 tidy - wide 형태를 변환하기."
      ]
    },
    {
      "cell_type": "markdown",
      "metadata": {
        "id": "9s42XuCqBN86"
      },
      "source": [
        "## wide --> tidy\n",
        "\n",
        "pandas 의 `melt` 함수를 사용하여 table1을 tidy 형태로 바꿀 수 있습니다."
      ]
    },
    {
      "cell_type": "code",
      "metadata": {
        "id": "91Pw2zgkBHlg",
        "colab": {
          "base_uri": "https://localhost:8080/",
          "height": 142
        },
        "outputId": "a88f7ed2-1a36-464d-d821-cc7f20679d9b"
      },
      "source": [
        "### 행의 인덱스를 선택하고, 이를 행으로 새로 추가합니다.\n",
        "tidy1 = table1.reset_index() # rownames를 새로 설정 \n",
        "tidy1"
      ],
      "execution_count": null,
      "outputs": [
        {
          "output_type": "execute_result",
          "data": {
            "text/html": [
              "<div>\n",
              "<style scoped>\n",
              "    .dataframe tbody tr th:only-of-type {\n",
              "        vertical-align: middle;\n",
              "    }\n",
              "\n",
              "    .dataframe tbody tr th {\n",
              "        vertical-align: top;\n",
              "    }\n",
              "\n",
              "    .dataframe thead th {\n",
              "        text-align: right;\n",
              "    }\n",
              "</style>\n",
              "<table border=\"1\" class=\"dataframe\">\n",
              "  <thead>\n",
              "    <tr style=\"text-align: right;\">\n",
              "      <th></th>\n",
              "      <th>index</th>\n",
              "      <th>A</th>\n",
              "      <th>B</th>\n",
              "    </tr>\n",
              "  </thead>\n",
              "  <tbody>\n",
              "    <tr>\n",
              "      <th>0</th>\n",
              "      <td>X</td>\n",
              "      <td>NaN</td>\n",
              "      <td>2</td>\n",
              "    </tr>\n",
              "    <tr>\n",
              "      <th>1</th>\n",
              "      <td>Y</td>\n",
              "      <td>16.0</td>\n",
              "      <td>11</td>\n",
              "    </tr>\n",
              "    <tr>\n",
              "      <th>2</th>\n",
              "      <td>Z</td>\n",
              "      <td>3.0</td>\n",
              "      <td>1</td>\n",
              "    </tr>\n",
              "  </tbody>\n",
              "</table>\n",
              "</div>"
            ],
            "text/plain": [
              "  index     A   B\n",
              "0     X   NaN   2\n",
              "1     Y  16.0  11\n",
              "2     Z   3.0   1"
            ]
          },
          "metadata": {
            "tags": []
          },
          "execution_count": 38
        }
      ]
    },
    {
      "cell_type": "markdown",
      "metadata": {
        "id": "i7JPpAAR6gpy"
      },
      "source": [
        "<img src='https://pandas.pydata.org/pandas-docs/stable/_images/reshaping_melt.png' width = 600>"
      ]
    },
    {
      "cell_type": "markdown",
      "metadata": {
        "id": "5r-IWqQy6zQh"
      },
      "source": [
        "- tidy 는 **한 행에, 한 observation**\n",
        "- 한 observation에는 어떤 값들이 있어야 할까요? \n",
        "- 누가(`id`), 어떤 feature 값을 가지는지(`value`) **Column**을 지정해주면 됨\n",
        "- 이를 `melt`에 표현"
      ]
    },
    {
      "cell_type": "code",
      "metadata": {
        "id": "UOlvjeBwBTNo",
        "colab": {
          "base_uri": "https://localhost:8080/",
          "height": 235
        },
        "outputId": "2bb52431-0905-4ad2-d9bd-e40d16c95eec"
      },
      "source": [
        "### 각 행에 대해서 (unique identifier)를 확인합니다.\n",
        "### 한개의 \"tidy\" 한 열에 대해서 포함되어야 할 (기준이 되는) 데이터를 선택합니다.\n",
        "tidy1 = tidy1.melt(id_vars = 'index', value_vars = ['A', 'B'])\n",
        "tidy1"
      ],
      "execution_count": null,
      "outputs": [
        {
          "output_type": "execute_result",
          "data": {
            "text/html": [
              "<div>\n",
              "<style scoped>\n",
              "    .dataframe tbody tr th:only-of-type {\n",
              "        vertical-align: middle;\n",
              "    }\n",
              "\n",
              "    .dataframe tbody tr th {\n",
              "        vertical-align: top;\n",
              "    }\n",
              "\n",
              "    .dataframe thead th {\n",
              "        text-align: right;\n",
              "    }\n",
              "</style>\n",
              "<table border=\"1\" class=\"dataframe\">\n",
              "  <thead>\n",
              "    <tr style=\"text-align: right;\">\n",
              "      <th></th>\n",
              "      <th>index</th>\n",
              "      <th>variable</th>\n",
              "      <th>value</th>\n",
              "    </tr>\n",
              "  </thead>\n",
              "  <tbody>\n",
              "    <tr>\n",
              "      <th>0</th>\n",
              "      <td>X</td>\n",
              "      <td>A</td>\n",
              "      <td>NaN</td>\n",
              "    </tr>\n",
              "    <tr>\n",
              "      <th>1</th>\n",
              "      <td>Y</td>\n",
              "      <td>A</td>\n",
              "      <td>16.0</td>\n",
              "    </tr>\n",
              "    <tr>\n",
              "      <th>2</th>\n",
              "      <td>Z</td>\n",
              "      <td>A</td>\n",
              "      <td>3.0</td>\n",
              "    </tr>\n",
              "    <tr>\n",
              "      <th>3</th>\n",
              "      <td>X</td>\n",
              "      <td>B</td>\n",
              "      <td>2.0</td>\n",
              "    </tr>\n",
              "    <tr>\n",
              "      <th>4</th>\n",
              "      <td>Y</td>\n",
              "      <td>B</td>\n",
              "      <td>11.0</td>\n",
              "    </tr>\n",
              "    <tr>\n",
              "      <th>5</th>\n",
              "      <td>Z</td>\n",
              "      <td>B</td>\n",
              "      <td>1.0</td>\n",
              "    </tr>\n",
              "  </tbody>\n",
              "</table>\n",
              "</div>"
            ],
            "text/plain": [
              "  index variable  value\n",
              "0     X        A    NaN\n",
              "1     Y        A   16.0\n",
              "2     Z        A    3.0\n",
              "3     X        B    2.0\n",
              "4     Y        B   11.0\n",
              "5     Z        B    1.0"
            ]
          },
          "metadata": {
            "tags": []
          },
          "execution_count": 39
        }
      ]
    },
    {
      "cell_type": "markdown",
      "metadata": {
        "id": "QOOhSf1w8dmL"
      },
      "source": [
        "\n",
        "| row | column | value |\n",
        "| :-: | :-: | :-: |\n",
        "| X | A | - |\n",
        "| Y | A | 16 |\n",
        "| Z | A | 3 |\n",
        "| X | B | 2 |\n",
        "| Y | B | 11 |\n",
        "| Z | B | 1 |"
      ]
    },
    {
      "cell_type": "code",
      "metadata": {
        "id": "hkXdIKDjBZC4",
        "colab": {
          "base_uri": "https://localhost:8080/",
          "height": 235
        },
        "outputId": "80245413-3be9-4b43-e969-971e06966df5"
      },
      "source": [
        "# 열의 이름을 수정합니다.\n",
        "tidy1 = tidy1.rename(\n",
        "    columns = {\n",
        "        'index': 'row', \n",
        "        'variable': 'column', \n",
        "        'value': 'value'\n",
        "        }\n",
        ")\n",
        "tidy1"
      ],
      "execution_count": null,
      "outputs": [
        {
          "output_type": "execute_result",
          "data": {
            "text/html": [
              "<div>\n",
              "<style scoped>\n",
              "    .dataframe tbody tr th:only-of-type {\n",
              "        vertical-align: middle;\n",
              "    }\n",
              "\n",
              "    .dataframe tbody tr th {\n",
              "        vertical-align: top;\n",
              "    }\n",
              "\n",
              "    .dataframe thead th {\n",
              "        text-align: right;\n",
              "    }\n",
              "</style>\n",
              "<table border=\"1\" class=\"dataframe\">\n",
              "  <thead>\n",
              "    <tr style=\"text-align: right;\">\n",
              "      <th></th>\n",
              "      <th>row</th>\n",
              "      <th>column</th>\n",
              "      <th>value</th>\n",
              "    </tr>\n",
              "  </thead>\n",
              "  <tbody>\n",
              "    <tr>\n",
              "      <th>0</th>\n",
              "      <td>X</td>\n",
              "      <td>A</td>\n",
              "      <td>NaN</td>\n",
              "    </tr>\n",
              "    <tr>\n",
              "      <th>1</th>\n",
              "      <td>Y</td>\n",
              "      <td>A</td>\n",
              "      <td>16.0</td>\n",
              "    </tr>\n",
              "    <tr>\n",
              "      <th>2</th>\n",
              "      <td>Z</td>\n",
              "      <td>A</td>\n",
              "      <td>3.0</td>\n",
              "    </tr>\n",
              "    <tr>\n",
              "      <th>3</th>\n",
              "      <td>X</td>\n",
              "      <td>B</td>\n",
              "      <td>2.0</td>\n",
              "    </tr>\n",
              "    <tr>\n",
              "      <th>4</th>\n",
              "      <td>Y</td>\n",
              "      <td>B</td>\n",
              "      <td>11.0</td>\n",
              "    </tr>\n",
              "    <tr>\n",
              "      <th>5</th>\n",
              "      <td>Z</td>\n",
              "      <td>B</td>\n",
              "      <td>1.0</td>\n",
              "    </tr>\n",
              "  </tbody>\n",
              "</table>\n",
              "</div>"
            ],
            "text/plain": [
              "  row column  value\n",
              "0   X      A    NaN\n",
              "1   Y      A   16.0\n",
              "2   Z      A    3.0\n",
              "3   X      B    2.0\n",
              "4   Y      B   11.0\n",
              "5   Z      B    1.0"
            ]
          },
          "metadata": {
            "tags": []
          },
          "execution_count": 40
        }
      ]
    },
    {
      "cell_type": "markdown",
      "metadata": {
        "id": "UuFviZYbBebc"
      },
      "source": [
        "## tidy --> wide\n",
        "\n",
        "`pivot_table` 함수는 `melt`의 반대 역할을 하는 함수입니다."
      ]
    },
    {
      "cell_type": "code",
      "metadata": {
        "id": "LdfbFRI5Bgnh",
        "colab": {
          "base_uri": "https://localhost:8080/",
          "height": 173
        },
        "outputId": "713a9487-dbac-4e53-a0bc-387a7b3a2a8e"
      },
      "source": [
        "# 파라미터에 대한 설명\n",
        "# index: unique identifier\n",
        "# columns: \"wide\" 데이터에서 column별로 다르게 하고자 하는 값.\n",
        "# values: 결과값이 들어가는 곳 (wide 데이터프레임의 내용에 들어갈 값)\n",
        "wide = tidy1.pivot_table(index = 'row', columns = 'column', values = 'value')\n",
        "wide"
      ],
      "execution_count": null,
      "outputs": [
        {
          "output_type": "execute_result",
          "data": {
            "text/html": [
              "<div>\n",
              "<style scoped>\n",
              "    .dataframe tbody tr th:only-of-type {\n",
              "        vertical-align: middle;\n",
              "    }\n",
              "\n",
              "    .dataframe tbody tr th {\n",
              "        vertical-align: top;\n",
              "    }\n",
              "\n",
              "    .dataframe thead th {\n",
              "        text-align: right;\n",
              "    }\n",
              "</style>\n",
              "<table border=\"1\" class=\"dataframe\">\n",
              "  <thead>\n",
              "    <tr style=\"text-align: right;\">\n",
              "      <th>column</th>\n",
              "      <th>A</th>\n",
              "      <th>B</th>\n",
              "    </tr>\n",
              "    <tr>\n",
              "      <th>row</th>\n",
              "      <th></th>\n",
              "      <th></th>\n",
              "    </tr>\n",
              "  </thead>\n",
              "  <tbody>\n",
              "    <tr>\n",
              "      <th>X</th>\n",
              "      <td>NaN</td>\n",
              "      <td>2.0</td>\n",
              "    </tr>\n",
              "    <tr>\n",
              "      <th>Y</th>\n",
              "      <td>16.0</td>\n",
              "      <td>11.0</td>\n",
              "    </tr>\n",
              "    <tr>\n",
              "      <th>Z</th>\n",
              "      <td>3.0</td>\n",
              "      <td>1.0</td>\n",
              "    </tr>\n",
              "  </tbody>\n",
              "</table>\n",
              "</div>"
            ],
            "text/plain": [
              "column     A     B\n",
              "row               \n",
              "X        NaN   2.0\n",
              "Y       16.0  11.0\n",
              "Z        3.0   1.0"
            ]
          },
          "metadata": {
            "tags": []
          },
          "execution_count": 41
        }
      ]
    },
    {
      "cell_type": "markdown",
      "metadata": {
        "id": "346ZYlh7vsbx"
      },
      "source": [
        "## tidy 데이터의 목적\n",
        "\n",
        "tidy 데이터는 `Seaborn`과 같은 시각화 라이브러리에서 유용하게 쓰일수 있습니다. \n",
        "\n"
      ]
    },
    {
      "cell_type": "code",
      "metadata": {
        "id": "oc3h1LK6ulP-",
        "colab": {
          "base_uri": "https://localhost:8080/",
          "height": 167
        },
        "outputId": "4f48e728-e9f4-4aa6-abc8-918c5e4fc7d1"
      },
      "source": [
        "### Seaborn의 기능 중 한가지 예시입니다.\n",
        "import seaborn as sns\n",
        "sns.catplot(x = 'row', y = 'value', col = 'column', kind = 'bar', data = tidy1, height = 2);"
      ],
      "execution_count": null,
      "outputs": [
        {
          "output_type": "display_data",
          "data": {
            "image/png": "[encoded data removed]",
            "text/plain": [
              "<Figure size 288x144 with 2 Axes>"
            ]
          },
          "metadata": {
            "tags": [],
            "needs_background": "light"
          }
        }
      ]
    }
  ]
}