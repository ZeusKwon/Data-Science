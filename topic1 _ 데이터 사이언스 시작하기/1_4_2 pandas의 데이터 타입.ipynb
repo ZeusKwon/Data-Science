{
 "cells": [
  {
   "cell_type": "markdown",
   "metadata": {},
   "source": [
    "# pandas의 데이터 타입\n",
    "\n",
    "pandas DataFrame에는 다양한 종류의 데이터를 담을 수 있습니다. dtypes를 사용해서 각 column이 어떤 데이터 타입을 보관하는지 확인할 수 있는데요."
   ]
  },
  {
   "cell_type": "code",
   "execution_count": 1,
   "metadata": {},
   "outputs": [
    {
     "name": "stdout",
     "output_type": "stream",
     "text": [
      "name             object\n",
      "english_score     int64\n",
      "math_score        int64\n",
      "dtype: object\n"
     ]
    }
   ],
   "source": [
    "import pandas as pd\n",
    "\n",
    "two_dimensional_list = [['dongwook', 50, 86], ['sineui', 89, 31], ['ikjoong', 68, 91], ['yoonsoo', 88, 75]]\n",
    "\n",
    "my_df = pd.DataFrame(two_dimensional_list, columns=['name', 'english_score', 'math_score'], index=['a', 'b', 'c', 'd'])\n",
    "\n",
    "print(my_df.dtypes)"
   ]
  },
  {
   "cell_type": "markdown",
   "metadata": {},
   "source": [
    "위 경우 'name' column은 object라는 데이터 타입을 보관하고, 'english_score'와 'math_score' column은 int64라는 데이터 타입을 보관하는 거죠.\n",
    "\n",
    "보시다시피 한 column 내에서는 모든 값이 동일한 데이터 타입입니다.\n",
    "\n",
    "\n",
    "## pandas의 dtype들\n",
    "pandas에 담을 수 있는 dtype(데이터 타입) 몇 가지를 살펴봅시다.\n",
    "\n",
    "|dtype\t|설명|\n",
    "|-------|-------|\n",
    "|int64\t|정수|\n",
    "|float64\t|소수|\n",
    "|object\t|텍스트|\n",
    "|bool\t|불린(참과 거짓)|\n",
    "|datetime64\t|날짜와 시간|\n",
    "|category\t|카테고리|\n"
   ]
  },
  {
   "cell_type": "markdown",
   "metadata": {},
   "source": []
  }
 ],
 "metadata": {
  "kernelspec": {
   "display_name": "Python 3",
   "language": "python",
   "name": "python3"
  },
  "language_info": {
   "codemirror_mode": {
    "name": "ipython",
    "version": 3
   },
   "file_extension": ".py",
   "mimetype": "text/x-python",
   "name": "python",
   "nbconvert_exporter": "python",
   "pygments_lexer": "ipython3",
   "version": "3.8.5"
  }
 },
 "nbformat": 4,
 "nbformat_minor": 4
}
