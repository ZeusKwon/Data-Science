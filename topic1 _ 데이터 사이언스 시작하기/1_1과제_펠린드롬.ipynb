{
 "cells": [
  {
   "cell_type": "markdown",
   "metadata": {},
   "source": [
    "# 실습과제\n",
    "“데이터 사이언스 입문” 수업을 듣기 위해서는 기본적인 파이썬 문법과 컴퓨터적 사고력을 갖추고 계셔야 합니다. 혹시 이 문제를 풀지 못한다면 프로그래밍 기초 수업을 먼저 수강해 주세요!\n",
    "\n",
    "## 팔린드롬 문제 설명\n",
    "\n",
    "\"토마토\"나 \"기러기\"처럼 거꾸로 읽어도 똑같은 단어를 팔린드롬(palindrome)이라고 부릅니다. 문자열 word가 팔린드롬인지 확인하는 함수 is_palindrome를 쓰세요. is_palindrome은 word가 팔린드롬이면 True를, 팔린드롬이 아니면 False를 리턴합니다.\n",
    "\n",
    "def is_palindrome(word):  \n",
    "    # 코드를 입력하세요.\n",
    "\n",
    "\n",
    "\n",
    "## 테스트\n",
    "\n",
    "print(is_palindrome(\"racecar\"))  \n",
    "print(is_palindrome(\"stars\"))  \n",
    "print(is_palindrome(\"토마토\"))  \n",
    "print(is_palindrome(\"kayak\"))  \n",
    "print(is_palindrome(\"hello\"))  \n",
    "\n",
    "\n",
    "True  \n",
    "False  \n",
    "True  \n",
    "True  \n",
    "False  \n",
    "\n",
    "\n",
    "\"racecar\"과 \"토마토\"는 거꾸로 읽어도 똑같기 때문에 True가 출력되어야 하고, \"hello\"는 거꾸로 읽으면 \"olleh\"가 되기 때문에 False가 나와야합니다.\n",
    "\n",
    "반드시 for문을 사용하셔야 합니다.\n",
    "append, insert 메소드와 del 함수를 사용하면 안됩니다.\n",
    "자동 채점 과제이기 때문에, 문제의 조건에 정확히 따라주시기 바랍니다. 띄어쓰기도 일치해야 합니다."
   ]
  },
  {
   "cell_type": "markdown",
   "metadata": {},
   "source": [
    "## 펠린드롬 코드"
   ]
  },
  {
   "cell_type": "code",
   "execution_count": 1,
   "metadata": {
    "scrolled": true
   },
   "outputs": [
    {
     "name": "stdout",
     "output_type": "stream",
     "text": [
      "True\n",
      "False\n",
      "True\n",
      "True\n",
      "False\n"
     ]
    }
   ],
   "source": [
    "def is_palindrome(word):\n",
    "    list_word = list(word)\n",
    "    a = 1\n",
    "    for i in list_word:\n",
    "        if i != list_word[-a]:\n",
    "            return False\n",
    "        a += 1\n",
    "    return True\n",
    "    \n",
    "\n",
    "# 테스트\n",
    "print(is_palindrome(\"racecar\"))\n",
    "print(is_palindrome(\"stars\"))\n",
    "print(is_palindrome(\"토마토\"))\n",
    "print(is_palindrome(\"kayak\"))\n",
    "print(is_palindrome(\"hello\"))"
   ]
  }
 ],
 "metadata": {
  "kernelspec": {
   "display_name": "Python 3",
   "language": "python",
   "name": "python3"
  },
  "language_info": {
   "codemirror_mode": {
    "name": "ipython",
    "version": 3
   },
   "file_extension": ".py",
   "mimetype": "text/x-python",
   "name": "python",
   "nbconvert_exporter": "python",
   "pygments_lexer": "ipython3",
   "version": "3.8.5"
  }
 },
 "nbformat": 4,
 "nbformat_minor": 4
}
