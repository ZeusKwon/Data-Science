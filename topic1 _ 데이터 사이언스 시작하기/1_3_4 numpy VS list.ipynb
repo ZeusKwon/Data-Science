{
 "cells": [
  {
   "cell_type": "markdown",
   "metadata": {},
   "source": [
    "# numpy VS list\n",
    "\n",
    "## 공통점\n",
    "- 여러값은 저장할 수 있다.\n",
    "\n",
    "## numpy와 list의 차이점\n",
    "\n",
    "----------\n",
    "\n",
    "|제목|numpy array|python list|\n",
    "|------|---|---|\n",
    "|문법 차이|[10,5,3,7,1,5]|[10,5,3,7,1,5]|\n",
    "|        +|[10,5,3,7,1,5]|[10,5,3,7,1,5]|\n",
    "|        =|[20,10,6,14,2,10]|[10,5,3,,,1,5]|\n",
    "|뺄셈, 곱셈, 나눗셈, |O|오류|\n",
    "|더하기|[10,5,3,7,1,5]|[10,5,3,7,1,5]|\n",
    "|        +|5|5|\n",
    "|        =|[15,10,8,12,6,10]|오류|\n",
    "|곱하기|[10,5,3,7,1,5]|[10,5,3,7,1,5]|\n",
    "|      |3|3|\n",
    "|        =|[30,15,9,21,3,15]|[10,5,3,,,1,5]|\n",
    "\n",
    "------------\n",
    "\n",
    "- numpy는 같은 자료형의 자료만 저장가능하지만 python은 여러자료형을 섞어서 저장가능\n",
    "\n",
    "- 수치계산보다는 값을 추가하고 제거하는일에는 python list를 사용\n",
    "- 수치계산이 많고 복잡할 때와 행렬같은 다차원 배열의 경우 numpy array를 사용"
   ]
  },
  {
   "cell_type": "code",
   "execution_count": null,
   "metadata": {},
   "outputs": [],
   "source": []
  }
 ],
 "metadata": {
  "kernelspec": {
   "display_name": "Python 3",
   "language": "python",
   "name": "python3"
  },
  "language_info": {
   "codemirror_mode": {
    "name": "ipython",
    "version": 3
   },
   "file_extension": ".py",
   "mimetype": "text/x-python",
   "name": "python",
   "nbconvert_exporter": "python",
   "pygments_lexer": "ipython3",
   "version": "3.8.5"
  }
 },
 "nbformat": 4,
 "nbformat_minor": 4
}
