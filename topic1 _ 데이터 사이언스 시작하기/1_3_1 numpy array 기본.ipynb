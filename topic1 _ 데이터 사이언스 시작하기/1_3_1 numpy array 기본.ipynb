{
 "cells": [
  {
   "cell_type": "markdown",
   "metadata": {},
   "source": [
    "# **파이썬 리스트를 통해 생성**\n",
    "\n",
    "**`numpy`** 모듈의 **`array`** 메소드에 파라미터로 파이썬 리스트를 넘겨주면 numpy array가 리턴됩니다.\n",
    "\n",
    "```\n",
    "array1 = numpy.array([2, 3, 5, 7, 11, 13, 17, 19, 23, 29, 31])\n",
    "\n",
    "print(array1)\n",
    "\n",
    "```\n",
    "\n",
    "```\n",
    "[ 2  3  5  7 11 13 17 19 23 29 31]\n",
    "\n",
    "```\n",
    "\n",
    "# **균일한 값으로 생성**\n",
    "\n",
    "**`numpy`** 모듈의 **`full`** 메소드를 사용하면, 모든 값이 같은 numpy array를 생성할 수 있습니다.\n",
    "\n",
    "```\n",
    "array1 = numpy.full(6, 7)\n",
    "\n",
    "print(array1)\n",
    "\n",
    "```\n",
    "\n",
    "```\n",
    "[7 7 7 7 7 7]\n",
    "\n",
    "```\n",
    "\n",
    "## **모든 값이 0인 numpy array 생성**\n",
    "\n",
    "모든 값이 **`0`**인 numpy array를 생성하기 위해서는 **`full`** 메소드를 사용하면 되겠죠. 하지만 사실은 더 간편한 방법이 있습니다.\n",
    "\n",
    "```\n",
    "array1 = numpy.full(6, 0)\n",
    "array2 = numpy.zeros(6, dtype=int)\n",
    "\n",
    "print(array1)\n",
    "print()\n",
    "print(array2)\n",
    "\n",
    "```\n",
    "\n",
    "```\n",
    "[0 0 0 0 0 0]\n",
    "\n",
    "[0 0 0 0 0 0]\n",
    "\n",
    "```\n",
    "\n",
    "## **모든 값이 1인 numpy array 생성**\n",
    "\n",
    "모든 값이 **`1`**인 numpy array를 생성하는 것도 비슷합니다. **`zeros`** 메소드 대신 **`ones`**를 사용하면 됩니다.\n",
    "\n",
    "```\n",
    "array1 = numpy.full(6, 1)\n",
    "array2 = numpy.ones(6, dtype=int)\n",
    "\n",
    "print(array1)\n",
    "print()\n",
    "print(array2)\n",
    "\n",
    "```\n",
    "\n",
    "```\n",
    "[1 1 1 1 1 1]\n",
    "\n",
    "[1 1 1 1 1 1]\n",
    "\n",
    "```\n",
    "\n",
    "# **랜덤한 값들로 생성**\n",
    "\n",
    "어쩔 때는 임의의 값들로 배열을 생성시키고 싶습니다. 그럴 때는 **`numpy`**의 **`random`** 모듈의 **`random`** 함수를 사용하면 됩니다.\n",
    "\n",
    "**`numpy`** 모듈 안에 **`random`**이라는 모듈이 있고, 그 안에 또 **`random`**이라는 함수가 있는 겁니다!\n",
    "\n",
    "```\n",
    "array1 = numpy.random.random(6)\n",
    "array2 = numpy.random.random(6)\n",
    "\n",
    "print(array1)\n",
    "print()\n",
    "print(array2)\n",
    "\n",
    "```\n",
    "\n",
    "```\n",
    "[0.42214929 0.45275673 0.57978413 0.61417065 0.39448558 0.03347601]\n",
    "\n",
    "[0.42521953 0.65091589 0.94045742 0.18138103 0.27150749 0.8450694 ]\n",
    "\n",
    "```\n",
    "\n",
    "# **연속된 값들이 담긴 numpy array 생성**\n",
    "\n",
    "**`numpy`** 모듈의 **`arange`** 함수를 사용하면 연속된 값들이 담겨 있는 numpy array를 생성할 수 있습니다.\n",
    "\n",
    "**`arange`** 함수는 파이썬의 기본 함수인 **`range`**와 굉장히 비슷한 원리로 동작하는데요. 파라미터가 1개인 경우, 2개인 경우, 3개인 경우 모두 살펴봅시다.\n",
    "\n",
    "## **파라미터 1개**\n",
    "\n",
    "**`arange(m)`**을 하면 **`0`**부터 **`m-1`**까지의 값들이 담긴 numpy array가 리턴됩니다.\n",
    "\n",
    "```\n",
    "array1 = numpy.arange(6)\n",
    "print(array1)\n",
    "\n",
    "```\n",
    "\n",
    "```\n",
    "[0 1 2 3 4 5]\n",
    "\n",
    "```\n",
    "\n",
    "## **파라미터 2개**\n",
    "\n",
    "**`arange(n, m)`**을 하면 **`n`**부터 **`m-1`**까지의 값들이 담긴 numpy array가 리턴됩니다.\n",
    "\n",
    "```\n",
    "array1 = numpy.arange(2, 7)\n",
    "print(array1)\n",
    "\n",
    "```\n",
    "\n",
    "```\n",
    "[2 3 4 5 6]\n",
    "\n",
    "```\n",
    "\n",
    "## **파라미터 3개**\n",
    "\n",
    "**`arange(n, m, s)`**를 하면 **`n`**부터 **`m-1`**까지의 값들 중 간격이 **`s`**인 값들이 담긴 numpy array가 리턴됩니다.\n",
    "\n",
    "```\n",
    "array1 = numpy.arange(3, 17, 3)\n",
    "print(array1)\n",
    "\n",
    "```\n",
    "\n",
    "```\n",
    "[ 3  6  9 12 15]\n",
    "```"
   ]
  },
  {
   "cell_type": "markdown",
   "metadata": {},
   "source": [
    "## numpy 생성 연습 1\n",
    "\n",
    "### 실습과제\n",
    "1부터 100까지(1과 100 포함) 담겨 있는 numpy array를 생성하고 출력해 주세요.\n",
    "\n",
    "주의:정답 출력 코드는 print(arr)이 아닌 arr로 작성해 주세요."
   ]
  },
  {
   "cell_type": "code",
   "execution_count": 2,
   "metadata": {},
   "outputs": [
    {
     "data": {
      "text/plain": [
       "array([  1,   2,   3,   4,   5,   6,   7,   8,   9,  10,  11,  12,  13,\n",
       "        14,  15,  16,  17,  18,  19,  20,  21,  22,  23,  24,  25,  26,\n",
       "        27,  28,  29,  30,  31,  32,  33,  34,  35,  36,  37,  38,  39,\n",
       "        40,  41,  42,  43,  44,  45,  46,  47,  48,  49,  50,  51,  52,\n",
       "        53,  54,  55,  56,  57,  58,  59,  60,  61,  62,  63,  64,  65,\n",
       "        66,  67,  68,  69,  70,  71,  72,  73,  74,  75,  76,  77,  78,\n",
       "        79,  80,  81,  82,  83,  84,  85,  86,  87,  88,  89,  90,  91,\n",
       "        92,  93,  94,  95,  96,  97,  98,  99, 100])"
      ]
     },
     "execution_count": 2,
     "metadata": {},
     "output_type": "execute_result"
    }
   ],
   "source": [
    "import numpy as np\n",
    "arr = np.arange(1, 101)\n",
    "# 코드를 작성하세요.\n",
    "\n",
    "# 정답 출력\n",
    "arr"
   ]
  },
  {
   "cell_type": "markdown",
   "metadata": {},
   "source": [
    "## numpy 생성 연습 2\n",
    "\n",
    "### 실습과제\n",
    "1부터 100까지(1과 100 포함) 중 3의 배수만 담겨 있는 numpy array를 생성하고 출력해 주세요.\n",
    "\n",
    "주의: 정답 출력 코드는 print(arr)이 아닌 arr로 작성해 주세요."
   ]
  },
  {
   "cell_type": "code",
   "execution_count": 3,
   "metadata": {},
   "outputs": [
    {
     "data": {
      "text/plain": [
       "array([ 3,  6,  9, 12, 15, 18, 21, 24, 27, 30, 33, 36, 39, 42, 45, 48, 51,\n",
       "       54, 57, 60, 63, 66, 69, 72, 75, 78, 81, 84, 87, 90, 93, 96, 99])"
      ]
     },
     "execution_count": 3,
     "metadata": {},
     "output_type": "execute_result"
    }
   ],
   "source": [
    "import numpy as np\n",
    "arr = np.arange(3, 101, 3)\n",
    "# 코드를 작성하세요.\n",
    "\n",
    "# 정답 출력\n",
    "arr"
   ]
  },
  {
   "cell_type": "markdown",
   "metadata": {},
   "source": [
    "## numpy 기본 연산\n",
    "numpy는 수치계산을 위한 파이썬 도구이다.\n",
    "\n"
   ]
  },
  {
   "cell_type": "code",
   "execution_count": 5,
   "metadata": {},
   "outputs": [],
   "source": [
    "import numpy as np \n",
    "array1 = np.arange(10)\n",
    "array2 = np.arange(10, 20)"
   ]
  },
  {
   "cell_type": "code",
   "execution_count": 6,
   "metadata": {},
   "outputs": [
    {
     "data": {
      "text/plain": [
       "array([0, 1, 2, 3, 4, 5, 6, 7, 8, 9])"
      ]
     },
     "execution_count": 6,
     "metadata": {},
     "output_type": "execute_result"
    }
   ],
   "source": [
    "array1"
   ]
  },
  {
   "cell_type": "code",
   "execution_count": 7,
   "metadata": {},
   "outputs": [
    {
     "data": {
      "text/plain": [
       "array([10, 11, 12, 13, 14, 15, 16, 17, 18, 19])"
      ]
     },
     "execution_count": 7,
     "metadata": {},
     "output_type": "execute_result"
    }
   ],
   "source": [
    "array2"
   ]
  },
  {
   "cell_type": "code",
   "execution_count": 10,
   "metadata": {},
   "outputs": [
    {
     "data": {
      "text/plain": [
       "array([ 0,  1,  4,  9, 16, 25, 36, 49, 64, 81], dtype=int32)"
      ]
     },
     "execution_count": 10,
     "metadata": {},
     "output_type": "execute_result"
    }
   ],
   "source": [
    "# 곱하기, 나누기, 더하기, 제곱\n",
    "array1 * 2\n",
    "array1 / 2\n",
    "array1 + 2\n",
    "array1 ** 2"
   ]
  },
  {
   "cell_type": "code",
   "execution_count": 12,
   "metadata": {},
   "outputs": [
    {
     "data": {
      "text/plain": [
       "array([ 0,  4,  8, 12, 16, 20, 24, 28, 32, 36])"
      ]
     },
     "execution_count": 12,
     "metadata": {},
     "output_type": "execute_result"
    }
   ],
   "source": [
    "# array값이 변하게 하고 싶으면 변수에 다시 저장\n",
    "array1 = array1 * 2\n",
    "array1"
   ]
  },
  {
   "cell_type": "code",
   "execution_count": 13,
   "metadata": {},
   "outputs": [],
   "source": [
    "array1 = np.arange(10)\n",
    "array2 = np.arange(10, 20)"
   ]
  },
  {
   "cell_type": "code",
   "execution_count": 14,
   "metadata": {},
   "outputs": [
    {
     "data": {
      "text/plain": [
       "array([0, 1, 2, 3, 4, 5, 6, 7, 8, 9])"
      ]
     },
     "execution_count": 14,
     "metadata": {},
     "output_type": "execute_result"
    }
   ],
   "source": [
    "array1"
   ]
  },
  {
   "cell_type": "code",
   "execution_count": 15,
   "metadata": {},
   "outputs": [
    {
     "data": {
      "text/plain": [
       "array([10, 11, 12, 13, 14, 15, 16, 17, 18, 19])"
      ]
     },
     "execution_count": 15,
     "metadata": {},
     "output_type": "execute_result"
    }
   ],
   "source": [
    "array2"
   ]
  },
  {
   "cell_type": "code",
   "execution_count": 16,
   "metadata": {},
   "outputs": [
    {
     "data": {
      "text/plain": [
       "array([10, 12, 14, 16, 18, 20, 22, 24, 26, 28])"
      ]
     },
     "execution_count": 16,
     "metadata": {},
     "output_type": "execute_result"
    }
   ],
   "source": [
    "# array끼리 연산 가능\n",
    "array1 + array2"
   ]
  }
 ],
 "metadata": {
  "kernelspec": {
   "display_name": "Python 3",
   "language": "python",
   "name": "python3"
  },
  "language_info": {
   "codemirror_mode": {
    "name": "ipython",
    "version": 3
   },
   "file_extension": ".py",
   "mimetype": "text/x-python",
   "name": "python",
   "nbconvert_exporter": "python",
   "pygments_lexer": "ipython3",
   "version": "3.8.5"
  }
 },
 "nbformat": 4,
 "nbformat_minor": 4
}
